{
  "nbformat": 4,
  "nbformat_minor": 0,
  "metadata": {
    "colab": {
      "name": "11.2 Time Series Basics.ipynb",
      "provenance": [],
      "collapsed_sections": [],
      "authorship_tag": "ABX9TyMA9We84UMDEOp6S3pnMhP9",
      "include_colab_link": true
    },
    "kernelspec": {
      "name": "python3",
      "display_name": "Python 3"
    }
  },
  "cells": [
    {
      "cell_type": "markdown",
      "metadata": {
        "id": "view-in-github",
        "colab_type": "text"
      },
      "source": [
        "<a href=\"https://colab.research.google.com/github/XingxinHE/Python-for-Data-Analysis-Notes/blob/master/11_2_Time_Series_Basics.ipynb\" target=\"_parent\"><img src=\"https://colab.research.google.com/assets/colab-badge.svg\" alt=\"Open In Colab\"/></a>"
      ]
    },
    {
      "cell_type": "code",
      "metadata": {
        "id": "0LoN4J3y1Nvo",
        "colab_type": "code",
        "colab": {}
      },
      "source": [
        "import pandas as pd\n",
        "import numpy as np\n",
        "from datetime import datetime"
      ],
      "execution_count": 4,
      "outputs": []
    },
    {
      "cell_type": "markdown",
      "metadata": {
        "id": "m6TnGSbx1ajF",
        "colab_type": "text"
      },
      "source": [
        "常见的是把timeseries当作 index"
      ]
    },
    {
      "cell_type": "code",
      "metadata": {
        "id": "MHUHLhjE1TWl",
        "colab_type": "code",
        "colab": {}
      },
      "source": [
        "dates = [datetime(2011, 1, 2), datetime(2011, 1, 5),\n",
        "     datetime(2011, 1, 7), datetime(2011, 1, 8),\n",
        "     datetime(2011, 1, 10), datetime(2011, 1, 12)]\n",
        "     \n",
        "ts = pd.Series(np.random.randn(6), index=dates)"
      ],
      "execution_count": 5,
      "outputs": []
    },
    {
      "cell_type": "code",
      "metadata": {
        "id": "QCSjWAH61rGm",
        "colab_type": "code",
        "colab": {
          "base_uri": "https://localhost:8080/",
          "height": 134
        },
        "outputId": "f82623cb-7f4e-4bed-ae43-d9bbaa3f5706"
      },
      "source": [
        "ts"
      ],
      "execution_count": 6,
      "outputs": [
        {
          "output_type": "execute_result",
          "data": {
            "text/plain": [
              "2011-01-02    0.075835\n",
              "2011-01-05   -0.876767\n",
              "2011-01-07    0.173009\n",
              "2011-01-08   -1.291451\n",
              "2011-01-10    0.855533\n",
              "2011-01-12   -0.291491\n",
              "dtype: float64"
            ]
          },
          "metadata": {
            "tags": []
          },
          "execution_count": 6
        }
      ]
    },
    {
      "cell_type": "code",
      "metadata": {
        "id": "2ylBMPii1wPF",
        "colab_type": "code",
        "colab": {
          "base_uri": "https://localhost:8080/",
          "height": 67
        },
        "outputId": "58564ab3-a416-4e91-96e9-6837f8a29496"
      },
      "source": [
        "#这个index的dtype是datetime\n",
        "ts.index"
      ],
      "execution_count": 7,
      "outputs": [
        {
          "output_type": "execute_result",
          "data": {
            "text/plain": [
              "DatetimeIndex(['2011-01-02', '2011-01-05', '2011-01-07', '2011-01-08',\n",
              "               '2011-01-10', '2011-01-12'],\n",
              "              dtype='datetime64[ns]', freq=None)"
            ]
          },
          "metadata": {
            "tags": []
          },
          "execution_count": 7
        }
      ]
    },
    {
      "cell_type": "markdown",
      "metadata": {
        "id": "XrsebG0b2YeA",
        "colab_type": "text"
      },
      "source": [
        "## Indexing, Selection, Subsetting"
      ]
    },
    {
      "cell_type": "code",
      "metadata": {
        "id": "uDRMnIP712pB",
        "colab_type": "code",
        "colab": {
          "base_uri": "https://localhost:8080/",
          "height": 34
        },
        "outputId": "636967db-d0ce-4eec-94ff-23a23964fca7"
      },
      "source": [
        "#indexing\n",
        "\n",
        "stamp = ts.index[2]\n",
        "ts[stamp]"
      ],
      "execution_count": 8,
      "outputs": [
        {
          "output_type": "execute_result",
          "data": {
            "text/plain": [
              "0.1730089086710095"
            ]
          },
          "metadata": {
            "tags": []
          },
          "execution_count": 8
        }
      ]
    },
    {
      "cell_type": "code",
      "metadata": {
        "id": "-b-NtEye2lUx",
        "colab_type": "code",
        "colab": {
          "base_uri": "https://localhost:8080/",
          "height": 34
        },
        "outputId": "da7881fd-fc56-4c0c-b07a-ce89c83cf31f"
      },
      "source": [
        "#也可以hard code时间index\n",
        "ts['1/10/2011']"
      ],
      "execution_count": 9,
      "outputs": [
        {
          "output_type": "execute_result",
          "data": {
            "text/plain": [
              "0.8555327040272394"
            ]
          },
          "metadata": {
            "tags": []
          },
          "execution_count": 9
        }
      ]
    },
    {
      "cell_type": "code",
      "metadata": {
        "id": "bEiv_uNo2xL6",
        "colab_type": "code",
        "colab": {
          "base_uri": "https://localhost:8080/",
          "height": 34
        },
        "outputId": "a79c6546-b676-48ce-e566-81e833c5bade"
      },
      "source": [
        "ts['20110110']"
      ],
      "execution_count": 10,
      "outputs": [
        {
          "output_type": "execute_result",
          "data": {
            "text/plain": [
              "0.8555327040272394"
            ]
          },
          "metadata": {
            "tags": []
          },
          "execution_count": 10
        }
      ]
    },
    {
      "cell_type": "code",
      "metadata": {
        "id": "2Xki7g5R2zNS",
        "colab_type": "code",
        "colab": {}
      },
      "source": [
        "#如果时间过长无法hard code，可以像grasshopper那样设置steps\n",
        "\n",
        "longer_ts = pd.Series(np.random.randn(1000), index=pd.date_range('1/1/2000', periods=1000))"
      ],
      "execution_count": 11,
      "outputs": []
    },
    {
      "cell_type": "code",
      "metadata": {
        "id": "K6nCbX-V3PAm",
        "colab_type": "code",
        "colab": {
          "base_uri": "https://localhost:8080/",
          "height": 218
        },
        "outputId": "933371ae-a31a-432a-bb82-15e343167c09"
      },
      "source": [
        "#返回一个以2000年1月1日，长度为（1000日）的series\n",
        "longer_ts"
      ],
      "execution_count": 12,
      "outputs": [
        {
          "output_type": "execute_result",
          "data": {
            "text/plain": [
              "2000-01-01   -0.465618\n",
              "2000-01-02   -1.131569\n",
              "2000-01-03   -1.030114\n",
              "2000-01-04    0.712728\n",
              "2000-01-05    1.569663\n",
              "                ...   \n",
              "2002-09-22    0.348356\n",
              "2002-09-23   -1.197852\n",
              "2002-09-24    0.684746\n",
              "2002-09-25    0.660586\n",
              "2002-09-26    0.130771\n",
              "Freq: D, Length: 1000, dtype: float64"
            ]
          },
          "metadata": {
            "tags": []
          },
          "execution_count": 12
        }
      ]
    },
    {
      "cell_type": "code",
      "metadata": {
        "id": "DhIOftqc3XHJ",
        "colab_type": "code",
        "colab": {
          "base_uri": "https://localhost:8080/",
          "height": 218
        },
        "outputId": "7329c95f-4943-49c7-a794-92f011cf73ed"
      },
      "source": [
        "#只选择年份\n",
        "longer_ts['2001']"
      ],
      "execution_count": 13,
      "outputs": [
        {
          "output_type": "execute_result",
          "data": {
            "text/plain": [
              "2001-01-01   -0.223121\n",
              "2001-01-02    1.065874\n",
              "2001-01-03   -1.754046\n",
              "2001-01-04   -0.453799\n",
              "2001-01-05    0.315648\n",
              "                ...   \n",
              "2001-12-27   -1.043290\n",
              "2001-12-28    1.452359\n",
              "2001-12-29    1.704222\n",
              "2001-12-30   -0.795035\n",
              "2001-12-31    0.121978\n",
              "Freq: D, Length: 365, dtype: float64"
            ]
          },
          "metadata": {
            "tags": []
          },
          "execution_count": 13
        }
      ]
    },
    {
      "cell_type": "code",
      "metadata": {
        "id": "juILnU063jkw",
        "colab_type": "code",
        "colab": {
          "base_uri": "https://localhost:8080/",
          "height": 554
        },
        "outputId": "6124fdef-7eda-44d4-fb63-cc9bef7131e9"
      },
      "source": [
        "#只选择年和月\n",
        "longer_ts['2000-10']"
      ],
      "execution_count": 14,
      "outputs": [
        {
          "output_type": "execute_result",
          "data": {
            "text/plain": [
              "2000-10-01   -0.818203\n",
              "2000-10-02    1.129853\n",
              "2000-10-03   -1.306277\n",
              "2000-10-04    0.403421\n",
              "2000-10-05    1.149676\n",
              "2000-10-06    0.127554\n",
              "2000-10-07    0.243105\n",
              "2000-10-08    0.114320\n",
              "2000-10-09   -0.782293\n",
              "2000-10-10   -0.735885\n",
              "2000-10-11   -0.337925\n",
              "2000-10-12   -0.612564\n",
              "2000-10-13   -1.566753\n",
              "2000-10-14    0.913830\n",
              "2000-10-15   -0.764734\n",
              "2000-10-16    0.890383\n",
              "2000-10-17   -0.056788\n",
              "2000-10-18   -0.319132\n",
              "2000-10-19   -1.313733\n",
              "2000-10-20   -0.504805\n",
              "2000-10-21   -1.600279\n",
              "2000-10-22    0.183345\n",
              "2000-10-23    0.244260\n",
              "2000-10-24   -0.989368\n",
              "2000-10-25    0.643513\n",
              "2000-10-26    1.271935\n",
              "2000-10-27    0.428691\n",
              "2000-10-28   -1.795836\n",
              "2000-10-29   -0.445179\n",
              "2000-10-30    1.303866\n",
              "2000-10-31    0.275191\n",
              "Freq: D, dtype: float64"
            ]
          },
          "metadata": {
            "tags": []
          },
          "execution_count": 14
        }
      ]
    },
    {
      "cell_type": "code",
      "metadata": {
        "id": "KKFTbs8y3pe8",
        "colab_type": "code",
        "colab": {
          "base_uri": "https://localhost:8080/",
          "height": 151
        },
        "outputId": "c5c4be42-5843-4de9-ab34-957c66bccc27"
      },
      "source": [
        "#用datetime object 来 slicing!!!\n",
        "longer_ts[datetime(2002, 9, 20) :]  #注意这里的冒号,以及月份这里是integer，所以一定要是9，不可以是09"
      ],
      "execution_count": 18,
      "outputs": [
        {
          "output_type": "execute_result",
          "data": {
            "text/plain": [
              "2002-09-20   -1.738744\n",
              "2002-09-21    1.909664\n",
              "2002-09-22    0.348356\n",
              "2002-09-23   -1.197852\n",
              "2002-09-24    0.684746\n",
              "2002-09-25    0.660586\n",
              "2002-09-26    0.130771\n",
              "Freq: D, dtype: float64"
            ]
          },
          "metadata": {
            "tags": []
          },
          "execution_count": 18
        }
      ]
    },
    {
      "cell_type": "code",
      "metadata": {
        "id": "Ep0rt8EB4O43",
        "colab_type": "code",
        "colab": {
          "base_uri": "https://localhost:8080/",
          "height": 101
        },
        "outputId": "1465aaf6-614e-4084-bda3-41c13a88f321"
      },
      "source": [
        "#因为timeseries data一般都是按照时间顺序组织的（chronological）\n",
        "#所以，不加datetime也可以slice\n",
        "longer_ts['10/25/2001' : '10/28/2001']"
      ],
      "execution_count": 19,
      "outputs": [
        {
          "output_type": "execute_result",
          "data": {
            "text/plain": [
              "2001-10-25   -0.210363\n",
              "2001-10-26    1.146507\n",
              "2001-10-27    0.113975\n",
              "2001-10-28    0.702380\n",
              "Freq: D, dtype: float64"
            ]
          },
          "metadata": {
            "tags": []
          },
          "execution_count": 19
        }
      ]
    },
    {
      "cell_type": "markdown",
      "metadata": {
        "id": "az72k2Op5ijB",
        "colab_type": "text"
      },
      "source": [
        ".truncate()"
      ]
    },
    {
      "cell_type": "code",
      "metadata": {
        "id": "b88C7fp-5GRl",
        "colab_type": "code",
        "colab": {
          "base_uri": "https://localhost:8080/",
          "height": 101
        },
        "outputId": "c4007415-8a1c-468f-a152-75cfe81bb5c2"
      },
      "source": [
        "ts.truncate(after='1/9/2011')\n",
        "#这个after感觉用得不好，为何？因为这里是slicing冒号的后面，所以after在这里的意思是在这个东西前面，\n",
        "#而after在英文是在这个之后，很容易搞混"
      ],
      "execution_count": 22,
      "outputs": [
        {
          "output_type": "execute_result",
          "data": {
            "text/plain": [
              "2011-01-02    0.075835\n",
              "2011-01-05   -0.876767\n",
              "2011-01-07    0.173009\n",
              "2011-01-08   -1.291451\n",
              "dtype: float64"
            ]
          },
          "metadata": {
            "tags": []
          },
          "execution_count": 22
        }
      ]
    },
    {
      "cell_type": "code",
      "metadata": {
        "id": "SuCdbdaS5pJa",
        "colab_type": "code",
        "colab": {
          "base_uri": "https://localhost:8080/",
          "height": 67
        },
        "outputId": "a6dc4a99-d24e-4ecf-ce72-919da7452f39"
      },
      "source": [
        "ts.truncate(before='1/9/2011') #有点不好"
      ],
      "execution_count": 23,
      "outputs": [
        {
          "output_type": "execute_result",
          "data": {
            "text/plain": [
              "2011-01-10    0.855533\n",
              "2011-01-12   -0.291491\n",
              "dtype: float64"
            ]
          },
          "metadata": {
            "tags": []
          },
          "execution_count": 23
        }
      ]
    },
    {
      "cell_type": "markdown",
      "metadata": {
        "id": "XeO6FEgO6Zpd",
        "colab_type": "text"
      },
      "source": [
        "Time stamp同样也适用于DF"
      ]
    },
    {
      "cell_type": "code",
      "metadata": {
        "id": "OXj2MMxg6dqG",
        "colab_type": "code",
        "colab": {
          "base_uri": "https://localhost:8080/",
          "height": 402
        },
        "outputId": "d803ecd8-e464-4c72-8d85-20a17fc66346"
      },
      "source": [
        "dates = pd.date_range('1/1/2000', periods=100, freq='W-WED') #这个frequency相当于GH的series里面的step\n",
        "long_df = pd.DataFrame(np.random.randn(100, 4),\n",
        "            index=dates,\n",
        "            columns=['Colorado', 'Texas', 'New York', 'Ohio'])\n",
        "\n",
        "long_df"
      ],
      "execution_count": 24,
      "outputs": [
        {
          "output_type": "execute_result",
          "data": {
            "text/html": [
              "<div>\n",
              "<style scoped>\n",
              "    .dataframe tbody tr th:only-of-type {\n",
              "        vertical-align: middle;\n",
              "    }\n",
              "\n",
              "    .dataframe tbody tr th {\n",
              "        vertical-align: top;\n",
              "    }\n",
              "\n",
              "    .dataframe thead th {\n",
              "        text-align: right;\n",
              "    }\n",
              "</style>\n",
              "<table border=\"1\" class=\"dataframe\">\n",
              "  <thead>\n",
              "    <tr style=\"text-align: right;\">\n",
              "      <th></th>\n",
              "      <th>Colorado</th>\n",
              "      <th>Texas</th>\n",
              "      <th>New York</th>\n",
              "      <th>Ohio</th>\n",
              "    </tr>\n",
              "  </thead>\n",
              "  <tbody>\n",
              "    <tr>\n",
              "      <th>2000-01-05</th>\n",
              "      <td>-1.167895</td>\n",
              "      <td>-0.640728</td>\n",
              "      <td>-0.302781</td>\n",
              "      <td>-0.913278</td>\n",
              "    </tr>\n",
              "    <tr>\n",
              "      <th>2000-01-12</th>\n",
              "      <td>1.476228</td>\n",
              "      <td>-1.179703</td>\n",
              "      <td>0.862276</td>\n",
              "      <td>-0.388609</td>\n",
              "    </tr>\n",
              "    <tr>\n",
              "      <th>2000-01-19</th>\n",
              "      <td>0.170639</td>\n",
              "      <td>-1.706497</td>\n",
              "      <td>1.375343</td>\n",
              "      <td>-0.860450</td>\n",
              "    </tr>\n",
              "    <tr>\n",
              "      <th>2000-01-26</th>\n",
              "      <td>1.382994</td>\n",
              "      <td>1.021596</td>\n",
              "      <td>0.698121</td>\n",
              "      <td>1.594299</td>\n",
              "    </tr>\n",
              "    <tr>\n",
              "      <th>2000-02-02</th>\n",
              "      <td>0.580349</td>\n",
              "      <td>1.355137</td>\n",
              "      <td>1.997048</td>\n",
              "      <td>0.864194</td>\n",
              "    </tr>\n",
              "    <tr>\n",
              "      <th>...</th>\n",
              "      <td>...</td>\n",
              "      <td>...</td>\n",
              "      <td>...</td>\n",
              "      <td>...</td>\n",
              "    </tr>\n",
              "    <tr>\n",
              "      <th>2001-10-31</th>\n",
              "      <td>-0.166565</td>\n",
              "      <td>-0.913227</td>\n",
              "      <td>-1.862734</td>\n",
              "      <td>-0.822464</td>\n",
              "    </tr>\n",
              "    <tr>\n",
              "      <th>2001-11-07</th>\n",
              "      <td>0.950012</td>\n",
              "      <td>0.504757</td>\n",
              "      <td>0.114057</td>\n",
              "      <td>-0.812003</td>\n",
              "    </tr>\n",
              "    <tr>\n",
              "      <th>2001-11-14</th>\n",
              "      <td>-1.145045</td>\n",
              "      <td>0.258283</td>\n",
              "      <td>0.512367</td>\n",
              "      <td>-0.379550</td>\n",
              "    </tr>\n",
              "    <tr>\n",
              "      <th>2001-11-21</th>\n",
              "      <td>0.802852</td>\n",
              "      <td>0.134070</td>\n",
              "      <td>-0.638005</td>\n",
              "      <td>-0.531726</td>\n",
              "    </tr>\n",
              "    <tr>\n",
              "      <th>2001-11-28</th>\n",
              "      <td>0.266227</td>\n",
              "      <td>-0.461968</td>\n",
              "      <td>0.547785</td>\n",
              "      <td>-0.639577</td>\n",
              "    </tr>\n",
              "  </tbody>\n",
              "</table>\n",
              "<p>100 rows × 4 columns</p>\n",
              "</div>"
            ],
            "text/plain": [
              "            Colorado     Texas  New York      Ohio\n",
              "2000-01-05 -1.167895 -0.640728 -0.302781 -0.913278\n",
              "2000-01-12  1.476228 -1.179703  0.862276 -0.388609\n",
              "2000-01-19  0.170639 -1.706497  1.375343 -0.860450\n",
              "2000-01-26  1.382994  1.021596  0.698121  1.594299\n",
              "2000-02-02  0.580349  1.355137  1.997048  0.864194\n",
              "...              ...       ...       ...       ...\n",
              "2001-10-31 -0.166565 -0.913227 -1.862734 -0.822464\n",
              "2001-11-07  0.950012  0.504757  0.114057 -0.812003\n",
              "2001-11-14 -1.145045  0.258283  0.512367 -0.379550\n",
              "2001-11-21  0.802852  0.134070 -0.638005 -0.531726\n",
              "2001-11-28  0.266227 -0.461968  0.547785 -0.639577\n",
              "\n",
              "[100 rows x 4 columns]"
            ]
          },
          "metadata": {
            "tags": []
          },
          "execution_count": 24
        }
      ]
    },
    {
      "cell_type": "code",
      "metadata": {
        "id": "S3FN-fYb64IX",
        "colab_type": "code",
        "colab": {
          "base_uri": "https://localhost:8080/",
          "height": 166
        },
        "outputId": "8cf60711-752e-4219-b71d-f80b0cc83352"
      },
      "source": [
        "#截取2000年10月份\n",
        "long_df.loc['2000-10']"
      ],
      "execution_count": 27,
      "outputs": [
        {
          "output_type": "execute_result",
          "data": {
            "text/html": [
              "<div>\n",
              "<style scoped>\n",
              "    .dataframe tbody tr th:only-of-type {\n",
              "        vertical-align: middle;\n",
              "    }\n",
              "\n",
              "    .dataframe tbody tr th {\n",
              "        vertical-align: top;\n",
              "    }\n",
              "\n",
              "    .dataframe thead th {\n",
              "        text-align: right;\n",
              "    }\n",
              "</style>\n",
              "<table border=\"1\" class=\"dataframe\">\n",
              "  <thead>\n",
              "    <tr style=\"text-align: right;\">\n",
              "      <th></th>\n",
              "      <th>Colorado</th>\n",
              "      <th>Texas</th>\n",
              "      <th>New York</th>\n",
              "      <th>Ohio</th>\n",
              "    </tr>\n",
              "  </thead>\n",
              "  <tbody>\n",
              "    <tr>\n",
              "      <th>2000-10-04</th>\n",
              "      <td>-0.432810</td>\n",
              "      <td>-0.359698</td>\n",
              "      <td>1.199161</td>\n",
              "      <td>0.229404</td>\n",
              "    </tr>\n",
              "    <tr>\n",
              "      <th>2000-10-11</th>\n",
              "      <td>0.823652</td>\n",
              "      <td>0.044491</td>\n",
              "      <td>0.689854</td>\n",
              "      <td>0.619074</td>\n",
              "    </tr>\n",
              "    <tr>\n",
              "      <th>2000-10-18</th>\n",
              "      <td>0.300646</td>\n",
              "      <td>0.905181</td>\n",
              "      <td>1.585293</td>\n",
              "      <td>-0.813026</td>\n",
              "    </tr>\n",
              "    <tr>\n",
              "      <th>2000-10-25</th>\n",
              "      <td>-0.508728</td>\n",
              "      <td>-0.008098</td>\n",
              "      <td>-0.864829</td>\n",
              "      <td>2.064775</td>\n",
              "    </tr>\n",
              "  </tbody>\n",
              "</table>\n",
              "</div>"
            ],
            "text/plain": [
              "            Colorado     Texas  New York      Ohio\n",
              "2000-10-04 -0.432810 -0.359698  1.199161  0.229404\n",
              "2000-10-11  0.823652  0.044491  0.689854  0.619074\n",
              "2000-10-18  0.300646  0.905181  1.585293 -0.813026\n",
              "2000-10-25 -0.508728 -0.008098 -0.864829  2.064775"
            ]
          },
          "metadata": {
            "tags": []
          },
          "execution_count": 27
        }
      ]
    },
    {
      "cell_type": "markdown",
      "metadata": {
        "id": "BRtUiiiU6RtW",
        "colab_type": "text"
      },
      "source": [
        "## Time Series with Duplicate Indices"
      ]
    },
    {
      "cell_type": "markdown",
      "metadata": {
        "id": "gMJHT--67412",
        "colab_type": "text"
      },
      "source": [
        "时间序列也可以有duplicate的index"
      ]
    },
    {
      "cell_type": "code",
      "metadata": {
        "id": "KiBMgLfB6EOW",
        "colab_type": "code",
        "colab": {
          "base_uri": "https://localhost:8080/",
          "height": 118
        },
        "outputId": "217f664e-57e2-4801-d3bf-6a77e68b0d71"
      },
      "source": [
        "dates = pd.DatetimeIndex(['1/1/2000', '1/2/2000', '1/2/2000', '1/2/2000', '1/3/2000'])\n",
        "dup_ts = pd.Series(np.arange(5), index=dates)\n",
        "dup_ts"
      ],
      "execution_count": 28,
      "outputs": [
        {
          "output_type": "execute_result",
          "data": {
            "text/plain": [
              "2000-01-01    0\n",
              "2000-01-02    1\n",
              "2000-01-02    2\n",
              "2000-01-02    3\n",
              "2000-01-03    4\n",
              "dtype: int64"
            ]
          },
          "metadata": {
            "tags": []
          },
          "execution_count": 28
        }
      ]
    },
    {
      "cell_type": "code",
      "metadata": {
        "id": "z4LputMQ8SHu",
        "colab_type": "code",
        "colab": {
          "base_uri": "https://localhost:8080/",
          "height": 34
        },
        "outputId": "6240ed1b-6f8e-4de7-8bfe-818f00b35390"
      },
      "source": [
        "#查看time index是不是unique的\n",
        "dup_ts.index.is_unique"
      ],
      "execution_count": 29,
      "outputs": [
        {
          "output_type": "execute_result",
          "data": {
            "text/plain": [
              "False"
            ]
          },
          "metadata": {
            "tags": []
          },
          "execution_count": 29
        }
      ]
    },
    {
      "cell_type": "code",
      "metadata": {
        "id": "v8A8zir78fGG",
        "colab_type": "code",
        "colab": {
          "base_uri": "https://localhost:8080/",
          "height": 34
        },
        "outputId": "55b80f6e-d7a6-48db-ee3a-6258167f097a"
      },
      "source": [
        "dup_ts['2000/1/3'] #unique的，所以返回一个数值"
      ],
      "execution_count": 30,
      "outputs": [
        {
          "output_type": "execute_result",
          "data": {
            "text/plain": [
              "4"
            ]
          },
          "metadata": {
            "tags": []
          },
          "execution_count": 30
        }
      ]
    },
    {
      "cell_type": "code",
      "metadata": {
        "id": "v7oyZzGG8mR2",
        "colab_type": "code",
        "colab": {
          "base_uri": "https://localhost:8080/",
          "height": 84
        },
        "outputId": "630aaa86-8f82-400c-fbe4-7bf1cdeed313"
      },
      "source": [
        "dup_ts['2000/1/2'] #duplicate的，返回仨"
      ],
      "execution_count": 31,
      "outputs": [
        {
          "output_type": "execute_result",
          "data": {
            "text/plain": [
              "2000-01-02    1\n",
              "2000-01-02    2\n",
              "2000-01-02    3\n",
              "dtype: int64"
            ]
          },
          "metadata": {
            "tags": []
          },
          "execution_count": 31
        }
      ]
    },
    {
      "cell_type": "code",
      "metadata": {
        "id": "v3NMTPhX8vDk",
        "colab_type": "code",
        "colab": {}
      },
      "source": [
        "#因为index有duplicate，那么可以用它来group\n",
        "grouped = dup_ts.groupby(level=0)"
      ],
      "execution_count": 32,
      "outputs": []
    },
    {
      "cell_type": "code",
      "metadata": {
        "id": "iLk0cnbl88xP",
        "colab_type": "code",
        "colab": {
          "base_uri": "https://localhost:8080/",
          "height": 84
        },
        "outputId": "440075c0-b68e-4cba-f646-4748f2996f27"
      },
      "source": [
        "#看mean\n",
        "grouped.mean()"
      ],
      "execution_count": 33,
      "outputs": [
        {
          "output_type": "execute_result",
          "data": {
            "text/plain": [
              "2000-01-01    0\n",
              "2000-01-02    2\n",
              "2000-01-03    4\n",
              "dtype: int64"
            ]
          },
          "metadata": {
            "tags": []
          },
          "execution_count": 33
        }
      ]
    },
    {
      "cell_type": "code",
      "metadata": {
        "id": "B-kNZBBx8_Ew",
        "colab_type": "code",
        "colab": {
          "base_uri": "https://localhost:8080/",
          "height": 84
        },
        "outputId": "9dea2d36-6bbb-4110-f107-effd983a6bfd"
      },
      "source": [
        "#看个数\n",
        "grouped.count()"
      ],
      "execution_count": 34,
      "outputs": [
        {
          "output_type": "execute_result",
          "data": {
            "text/plain": [
              "2000-01-01    1\n",
              "2000-01-02    3\n",
              "2000-01-03    1\n",
              "dtype: int64"
            ]
          },
          "metadata": {
            "tags": []
          },
          "execution_count": 34
        }
      ]
    }
  ]
}