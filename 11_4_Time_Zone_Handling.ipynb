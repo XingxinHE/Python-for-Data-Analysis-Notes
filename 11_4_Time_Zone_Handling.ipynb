{
  "nbformat": 4,
  "nbformat_minor": 0,
  "metadata": {
    "colab": {
      "name": "11.4 Time Zone Handling",
      "provenance": [],
      "collapsed_sections": [],
      "authorship_tag": "ABX9TyPK/nC4G6xA0fF2/NQ/+pnv",
      "include_colab_link": true
    },
    "kernelspec": {
      "name": "python3",
      "display_name": "Python 3"
    }
  },
  "cells": [
    {
      "cell_type": "markdown",
      "metadata": {
        "id": "view-in-github",
        "colab_type": "text"
      },
      "source": [
        "<a href=\"https://colab.research.google.com/github/XingxinHE/Python-for-Data-Analysis-Notes/blob/master/11_4_Time_Zone_Handling.ipynb\" target=\"_parent\"><img src=\"https://colab.research.google.com/assets/colab-badge.svg\" alt=\"Open In Colab\"/></a>"
      ]
    },
    {
      "cell_type": "code",
      "metadata": {
        "id": "gxWf8vtpB9m2",
        "colab_type": "code",
        "colab": {}
      },
      "source": [
        "import pandas as pd\n",
        "import numpy as np"
      ],
      "execution_count": 2,
      "outputs": []
    },
    {
      "cell_type": "markdown",
      "metadata": {
        "id": "dQrMNKccBVhm",
        "colab_type": "text"
      },
      "source": [
        "## Time Zone Localization and Conversion"
      ]
    },
    {
      "cell_type": "code",
      "metadata": {
        "id": "vALkaz1I0T1h",
        "colab_type": "code",
        "colab": {
          "base_uri": "https://localhost:8080/",
          "height": 134
        },
        "outputId": "3f73c305-ff6e-4ebe-939f-627b4693af8a"
      },
      "source": [
        "rng = pd.date_range('3/9/2012 9:30', periods=6, freq='D')\n",
        "ts = pd.Series(np.random.randn(len(rng)), index=rng)\n",
        "ts"
      ],
      "execution_count": 3,
      "outputs": [
        {
          "output_type": "execute_result",
          "data": {
            "text/plain": [
              "2012-03-09 09:30:00   -0.950872\n",
              "2012-03-10 09:30:00   -1.623463\n",
              "2012-03-11 09:30:00    2.082527\n",
              "2012-03-12 09:30:00    0.845698\n",
              "2012-03-13 09:30:00    0.456238\n",
              "2012-03-14 09:30:00    1.195737\n",
              "Freq: D, dtype: float64"
            ]
          },
          "metadata": {
            "tags": []
          },
          "execution_count": 3
        }
      ]
    },
    {
      "cell_type": "markdown",
      "metadata": {
        "id": "Yb-uZf4DChOV",
        "colab_type": "text"
      },
      "source": [
        "Timezone 可以用以下两种方法去定义"
      ]
    },
    {
      "cell_type": "code",
      "metadata": {
        "id": "J2w2Uv90B6a7",
        "colab_type": "code",
        "colab": {
          "base_uri": "https://localhost:8080/",
          "height": 118
        },
        "outputId": "7673fb2b-fbfd-49bb-a7eb-f2c286071d79"
      },
      "source": [
        "#1 在创建time stamp的时候就specify\n",
        "pd.date_range('3/9/2012 9:30', periods=10, freq='D', tz='UTC')"
      ],
      "execution_count": 4,
      "outputs": [
        {
          "output_type": "execute_result",
          "data": {
            "text/plain": [
              "DatetimeIndex(['2012-03-09 09:30:00+00:00', '2012-03-10 09:30:00+00:00',\n",
              "               '2012-03-11 09:30:00+00:00', '2012-03-12 09:30:00+00:00',\n",
              "               '2012-03-13 09:30:00+00:00', '2012-03-14 09:30:00+00:00',\n",
              "               '2012-03-15 09:30:00+00:00', '2012-03-16 09:30:00+00:00',\n",
              "               '2012-03-17 09:30:00+00:00', '2012-03-18 09:30:00+00:00'],\n",
              "              dtype='datetime64[ns, UTC]', freq='D')"
            ]
          },
          "metadata": {
            "tags": []
          },
          "execution_count": 4
        }
      ]
    },
    {
      "cell_type": "code",
      "metadata": {
        "id": "trapD_MeC-M_",
        "colab_type": "code",
        "colab": {
          "base_uri": "https://localhost:8080/",
          "height": 134
        },
        "outputId": "6d4e9c9f-34b6-4a2b-cde7-7bc7afebb6be"
      },
      "source": [
        "#2 将创建好的time stamp 定义为某个时区\n",
        "ts_utc = ts.tz_localize('UTC')\n",
        "ts_utc"
      ],
      "execution_count": 6,
      "outputs": [
        {
          "output_type": "execute_result",
          "data": {
            "text/plain": [
              "2012-03-09 09:30:00+00:00   -0.950872\n",
              "2012-03-10 09:30:00+00:00   -1.623463\n",
              "2012-03-11 09:30:00+00:00    2.082527\n",
              "2012-03-12 09:30:00+00:00    0.845698\n",
              "2012-03-13 09:30:00+00:00    0.456238\n",
              "2012-03-14 09:30:00+00:00    1.195737\n",
              "Freq: D, dtype: float64"
            ]
          },
          "metadata": {
            "tags": []
          },
          "execution_count": 6
        }
      ]
    },
    {
      "cell_type": "code",
      "metadata": {
        "id": "sg_lJijyDLCp",
        "colab_type": "code",
        "colab": {
          "base_uri": "https://localhost:8080/",
          "height": 84
        },
        "outputId": "32674fc5-1521-4b48-df30-71a4be073c05"
      },
      "source": [
        "ts_utc.index"
      ],
      "execution_count": 7,
      "outputs": [
        {
          "output_type": "execute_result",
          "data": {
            "text/plain": [
              "DatetimeIndex(['2012-03-09 09:30:00+00:00', '2012-03-10 09:30:00+00:00',\n",
              "               '2012-03-11 09:30:00+00:00', '2012-03-12 09:30:00+00:00',\n",
              "               '2012-03-13 09:30:00+00:00', '2012-03-14 09:30:00+00:00'],\n",
              "              dtype='datetime64[ns, UTC]', freq='D')"
            ]
          },
          "metadata": {
            "tags": []
          },
          "execution_count": 7
        }
      ]
    },
    {
      "cell_type": "markdown",
      "metadata": {
        "id": "kK79k5QYDSKm",
        "colab_type": "text"
      },
      "source": [
        "Timezone conversion只能对已经有timezone定义的timestamp进行操作"
      ]
    },
    {
      "cell_type": "code",
      "metadata": {
        "id": "FfqE86obDPMB",
        "colab_type": "code",
        "colab": {
          "base_uri": "https://localhost:8080/",
          "height": 134
        },
        "outputId": "4b02594a-a1d8-4f96-ee90-ffea372e5f09"
      },
      "source": [
        "#timezone的转换syntax就是 timezone->目标timezone\n",
        "ts_utc.tz_convert('America/New_York')"
      ],
      "execution_count": 8,
      "outputs": [
        {
          "output_type": "execute_result",
          "data": {
            "text/plain": [
              "2012-03-09 04:30:00-05:00   -0.950872\n",
              "2012-03-10 04:30:00-05:00   -1.623463\n",
              "2012-03-11 05:30:00-04:00    2.082527\n",
              "2012-03-12 05:30:00-04:00    0.845698\n",
              "2012-03-13 05:30:00-04:00    0.456238\n",
              "2012-03-14 05:30:00-04:00    1.195737\n",
              "Freq: D, dtype: float64"
            ]
          },
          "metadata": {
            "tags": []
          },
          "execution_count": 8
        }
      ]
    },
    {
      "cell_type": "code",
      "metadata": {
        "id": "1aVL52v1Dd5-",
        "colab_type": "code",
        "colab": {
          "base_uri": "https://localhost:8080/",
          "height": 84
        },
        "outputId": "61c46917-cfb8-4b1f-e08a-a85089caae95"
      },
      "source": [
        "#index也可以直接被定义为哪个时区\n",
        "ts.index.tz_localize('Asia/Shanghai')"
      ],
      "execution_count": 9,
      "outputs": [
        {
          "output_type": "execute_result",
          "data": {
            "text/plain": [
              "DatetimeIndex(['2012-03-09 09:30:00+08:00', '2012-03-10 09:30:00+08:00',\n",
              "               '2012-03-11 09:30:00+08:00', '2012-03-12 09:30:00+08:00',\n",
              "               '2012-03-13 09:30:00+08:00', '2012-03-14 09:30:00+08:00'],\n",
              "              dtype='datetime64[ns, Asia/Shanghai]', freq='D')"
            ]
          },
          "metadata": {
            "tags": []
          },
          "execution_count": 9
        }
      ]
    },
    {
      "cell_type": "markdown",
      "metadata": {
        "id": "6HTEvG7KETfo",
        "colab_type": "text"
      },
      "source": [
        "## Operation between Different Time Zones"
      ]
    },
    {
      "cell_type": "markdown",
      "metadata": {
        "id": "wLG2mzZBGcLb",
        "colab_type": "text"
      },
      "source": [
        "若两个不同的timezone的timeseries相加，结果是统一的UTC标准时间"
      ]
    },
    {
      "cell_type": "code",
      "metadata": {
        "id": "i-hPQkV4ENak",
        "colab_type": "code",
        "colab": {
          "base_uri": "https://localhost:8080/",
          "height": 202
        },
        "outputId": "7c3ed44e-378f-458c-c39c-efbf60924d8a"
      },
      "source": [
        "rng = pd.date_range('3/7/2012 9:30', periods=10, freq='B')\n",
        "ts = pd.Series(np.random.randn(len(rng)), index=rng)\n",
        "ts"
      ],
      "execution_count": 11,
      "outputs": [
        {
          "output_type": "execute_result",
          "data": {
            "text/plain": [
              "2012-03-07 09:30:00    0.007383\n",
              "2012-03-08 09:30:00    1.619984\n",
              "2012-03-09 09:30:00   -0.890268\n",
              "2012-03-12 09:30:00   -0.392914\n",
              "2012-03-13 09:30:00    1.766925\n",
              "2012-03-14 09:30:00   -0.318536\n",
              "2012-03-15 09:30:00    2.298162\n",
              "2012-03-16 09:30:00   -0.454526\n",
              "2012-03-19 09:30:00   -0.181887\n",
              "2012-03-20 09:30:00    0.318175\n",
              "Freq: B, dtype: float64"
            ]
          },
          "metadata": {
            "tags": []
          },
          "execution_count": 11
        }
      ]
    },
    {
      "cell_type": "code",
      "metadata": {
        "id": "FPEZM_k3Gx19",
        "colab_type": "code",
        "colab": {}
      },
      "source": [
        "#前半部分设置为伦敦时间\n",
        "ts1 = ts[7:].tz_localize('Europe/London')\n",
        "#后半部分为莫斯科时间\n",
        "ts2 = ts[:2].tz_localize('Europe/Moscow')"
      ],
      "execution_count": 13,
      "outputs": []
    },
    {
      "cell_type": "code",
      "metadata": {
        "id": "eetEKeMaHkgn",
        "colab_type": "code",
        "colab": {}
      },
      "source": [
        "result = ts1 + ts2"
      ],
      "execution_count": 14,
      "outputs": []
    },
    {
      "cell_type": "code",
      "metadata": {
        "id": "Yn7A8gZ-HsOS",
        "colab_type": "code",
        "colab": {
          "base_uri": "https://localhost:8080/",
          "height": 84
        },
        "outputId": "0026a24e-7200-45dd-eac7-db56624ab600"
      },
      "source": [
        "result.index"
      ],
      "execution_count": 15,
      "outputs": [
        {
          "output_type": "execute_result",
          "data": {
            "text/plain": [
              "DatetimeIndex(['2012-03-07 05:30:00+00:00', '2012-03-08 05:30:00+00:00',\n",
              "               '2012-03-16 09:30:00+00:00', '2012-03-19 09:30:00+00:00',\n",
              "               '2012-03-20 09:30:00+00:00'],\n",
              "              dtype='datetime64[ns, UTC]', freq=None)"
            ]
          },
          "metadata": {
            "tags": []
          },
          "execution_count": 15
        }
      ]
    }
  ]
}