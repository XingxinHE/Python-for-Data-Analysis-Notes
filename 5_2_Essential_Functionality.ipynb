{
  "nbformat": 4,
  "nbformat_minor": 0,
  "metadata": {
    "colab": {
      "name": "5.2 Essential Functionality",
      "provenance": [],
      "collapsed_sections": [
        "8Pu6RjeNunl-",
        "IWU6xIr41L1y",
        "8gzAKp-p26gY"
      ]
    },
    "kernelspec": {
      "name": "python3",
      "display_name": "Python 3"
    }
  },
  "cells": [
    {
      "cell_type": "code",
      "metadata": {
        "id": "cfJA97bhsL_F",
        "colab_type": "code",
        "colab": {}
      },
      "source": [
        "import pandas as pd\n",
        "import numpy as np"
      ],
      "execution_count": 1,
      "outputs": []
    },
    {
      "cell_type": "markdown",
      "metadata": {
        "id": "8Pu6RjeNunl-",
        "colab_type": "text"
      },
      "source": [
        "## Reindexing"
      ]
    },
    {
      "cell_type": "markdown",
      "metadata": {
        "id": "DoSV0I-7uwx8",
        "colab_type": "text"
      },
      "source": [
        "用一个叫reindex的function"
      ]
    },
    {
      "cell_type": "code",
      "metadata": {
        "id": "DuJBh6QBuvsd",
        "colab_type": "code",
        "colab": {
          "base_uri": "https://localhost:8080/",
          "height": 101
        },
        "outputId": "69efa46d-8bbb-4105-9bde-318c428641bd"
      },
      "source": [
        "#先创建一个series\n",
        "obj = pd.Series([4.5, 7.2, -5.3, 3.6], index=['d', 'b', 'a', 'c'])\n",
        "obj"
      ],
      "execution_count": 2,
      "outputs": [
        {
          "output_type": "execute_result",
          "data": {
            "text/plain": [
              "d    4.5\n",
              "b    7.2\n",
              "a   -5.3\n",
              "c    3.6\n",
              "dtype: float64"
            ]
          },
          "metadata": {
            "tags": []
          },
          "execution_count": 2
        }
      ]
    },
    {
      "cell_type": "code",
      "metadata": {
        "id": "m3jGuHHjvHbT",
        "colab_type": "code",
        "colab": {
          "base_uri": "https://localhost:8080/",
          "height": 118
        },
        "outputId": "2e8ca02a-2473-474b-8b61-4d8b4d26e04b"
      },
      "source": [
        "obj2 = obj.reindex(list('abcde')) #改index\n",
        "obj2"
      ],
      "execution_count": 3,
      "outputs": [
        {
          "output_type": "execute_result",
          "data": {
            "text/plain": [
              "a   -5.3\n",
              "b    7.2\n",
              "c    3.6\n",
              "d    4.5\n",
              "e    NaN\n",
              "dtype: float64"
            ]
          },
          "metadata": {
            "tags": []
          },
          "execution_count": 3
        }
      ]
    },
    {
      "cell_type": "markdown",
      "metadata": {
        "id": "87j0w_FzvhCE",
        "colab_type": "text"
      },
      "source": [
        "问题来了，像上面这种缺了一个咋办"
      ]
    },
    {
      "cell_type": "code",
      "metadata": {
        "id": "P0-4RfK7vRLP",
        "colab_type": "code",
        "colab": {
          "base_uri": "https://localhost:8080/",
          "height": 356
        },
        "outputId": "70159fb0-0c8a-453c-9a0b-288d4ab78293"
      },
      "source": [
        "obj2 = obj.reindex(list('abcde'), method='ffill') \n",
        "#这个ffill=forward fill就是把后面空的东西补上了\n",
        "obj2"
      ],
      "execution_count": 5,
      "outputs": [
        {
          "output_type": "error",
          "ename": "ValueError",
          "evalue": "ignored",
          "traceback": [
            "\u001b[0;31m---------------------------------------------------------------------------\u001b[0m",
            "\u001b[0;31mValueError\u001b[0m                                Traceback (most recent call last)",
            "\u001b[0;32m<ipython-input-5-f007c331ff81>\u001b[0m in \u001b[0;36m<module>\u001b[0;34m()\u001b[0m\n\u001b[0;32m----> 1\u001b[0;31m \u001b[0mobj2\u001b[0m \u001b[0;34m=\u001b[0m \u001b[0mobj\u001b[0m\u001b[0;34m.\u001b[0m\u001b[0mreindex\u001b[0m\u001b[0;34m(\u001b[0m\u001b[0mlist\u001b[0m\u001b[0;34m(\u001b[0m\u001b[0;34m'abcde'\u001b[0m\u001b[0;34m)\u001b[0m\u001b[0;34m,\u001b[0m \u001b[0mmethod\u001b[0m\u001b[0;34m=\u001b[0m\u001b[0;34m'ffill'\u001b[0m\u001b[0;34m)\u001b[0m\u001b[0;34m\u001b[0m\u001b[0;34m\u001b[0m\u001b[0m\n\u001b[0m\u001b[1;32m      2\u001b[0m \u001b[0;31m#这个ffill=forward fill就是把后面空的东西补上了\u001b[0m\u001b[0;34m\u001b[0m\u001b[0;34m\u001b[0m\u001b[0;34m\u001b[0m\u001b[0m\n\u001b[1;32m      3\u001b[0m \u001b[0mobj2\u001b[0m\u001b[0;34m\u001b[0m\u001b[0;34m\u001b[0m\u001b[0m\n",
            "\u001b[0;32m/usr/local/lib/python3.6/dist-packages/pandas/core/series.py\u001b[0m in \u001b[0;36mreindex\u001b[0;34m(self, index, **kwargs)\u001b[0m\n\u001b[1;32m   4028\u001b[0m     \u001b[0;34m@\u001b[0m\u001b[0mAppender\u001b[0m\u001b[0;34m(\u001b[0m\u001b[0mgeneric\u001b[0m\u001b[0;34m.\u001b[0m\u001b[0mNDFrame\u001b[0m\u001b[0;34m.\u001b[0m\u001b[0mreindex\u001b[0m\u001b[0;34m.\u001b[0m\u001b[0m__doc__\u001b[0m\u001b[0;34m)\u001b[0m\u001b[0;34m\u001b[0m\u001b[0;34m\u001b[0m\u001b[0m\n\u001b[1;32m   4029\u001b[0m     \u001b[0;32mdef\u001b[0m \u001b[0mreindex\u001b[0m\u001b[0;34m(\u001b[0m\u001b[0mself\u001b[0m\u001b[0;34m,\u001b[0m \u001b[0mindex\u001b[0m\u001b[0;34m=\u001b[0m\u001b[0;32mNone\u001b[0m\u001b[0;34m,\u001b[0m \u001b[0;34m**\u001b[0m\u001b[0mkwargs\u001b[0m\u001b[0;34m)\u001b[0m\u001b[0;34m:\u001b[0m\u001b[0;34m\u001b[0m\u001b[0;34m\u001b[0m\u001b[0m\n\u001b[0;32m-> 4030\u001b[0;31m         \u001b[0;32mreturn\u001b[0m \u001b[0msuper\u001b[0m\u001b[0;34m(\u001b[0m\u001b[0;34m)\u001b[0m\u001b[0;34m.\u001b[0m\u001b[0mreindex\u001b[0m\u001b[0;34m(\u001b[0m\u001b[0mindex\u001b[0m\u001b[0;34m=\u001b[0m\u001b[0mindex\u001b[0m\u001b[0;34m,\u001b[0m \u001b[0;34m**\u001b[0m\u001b[0mkwargs\u001b[0m\u001b[0;34m)\u001b[0m\u001b[0;34m\u001b[0m\u001b[0;34m\u001b[0m\u001b[0m\n\u001b[0m\u001b[1;32m   4031\u001b[0m \u001b[0;34m\u001b[0m\u001b[0m\n\u001b[1;32m   4032\u001b[0m     def drop(\n",
            "\u001b[0;32m/usr/local/lib/python3.6/dist-packages/pandas/core/generic.py\u001b[0m in \u001b[0;36mreindex\u001b[0;34m(self, *args, **kwargs)\u001b[0m\n\u001b[1;32m   4542\u001b[0m         \u001b[0;31m# perform the reindex on the axes\u001b[0m\u001b[0;34m\u001b[0m\u001b[0;34m\u001b[0m\u001b[0;34m\u001b[0m\u001b[0m\n\u001b[1;32m   4543\u001b[0m         return self._reindex_axes(\n\u001b[0;32m-> 4544\u001b[0;31m             \u001b[0maxes\u001b[0m\u001b[0;34m,\u001b[0m \u001b[0mlevel\u001b[0m\u001b[0;34m,\u001b[0m \u001b[0mlimit\u001b[0m\u001b[0;34m,\u001b[0m \u001b[0mtolerance\u001b[0m\u001b[0;34m,\u001b[0m \u001b[0mmethod\u001b[0m\u001b[0;34m,\u001b[0m \u001b[0mfill_value\u001b[0m\u001b[0;34m,\u001b[0m \u001b[0mcopy\u001b[0m\u001b[0;34m\u001b[0m\u001b[0;34m\u001b[0m\u001b[0m\n\u001b[0m\u001b[1;32m   4545\u001b[0m         ).__finalize__(self)\n\u001b[1;32m   4546\u001b[0m \u001b[0;34m\u001b[0m\u001b[0m\n",
            "\u001b[0;32m/usr/local/lib/python3.6/dist-packages/pandas/core/generic.py\u001b[0m in \u001b[0;36m_reindex_axes\u001b[0;34m(self, axes, level, limit, tolerance, method, fill_value, copy)\u001b[0m\n\u001b[1;32m   4557\u001b[0m             \u001b[0max\u001b[0m \u001b[0;34m=\u001b[0m \u001b[0mself\u001b[0m\u001b[0;34m.\u001b[0m\u001b[0m_get_axis\u001b[0m\u001b[0;34m(\u001b[0m\u001b[0ma\u001b[0m\u001b[0;34m)\u001b[0m\u001b[0;34m\u001b[0m\u001b[0;34m\u001b[0m\u001b[0m\n\u001b[1;32m   4558\u001b[0m             new_index, indexer = ax.reindex(\n\u001b[0;32m-> 4559\u001b[0;31m                 \u001b[0mlabels\u001b[0m\u001b[0;34m,\u001b[0m \u001b[0mlevel\u001b[0m\u001b[0;34m=\u001b[0m\u001b[0mlevel\u001b[0m\u001b[0;34m,\u001b[0m \u001b[0mlimit\u001b[0m\u001b[0;34m=\u001b[0m\u001b[0mlimit\u001b[0m\u001b[0;34m,\u001b[0m \u001b[0mtolerance\u001b[0m\u001b[0;34m=\u001b[0m\u001b[0mtolerance\u001b[0m\u001b[0;34m,\u001b[0m \u001b[0mmethod\u001b[0m\u001b[0;34m=\u001b[0m\u001b[0mmethod\u001b[0m\u001b[0;34m\u001b[0m\u001b[0;34m\u001b[0m\u001b[0m\n\u001b[0m\u001b[1;32m   4560\u001b[0m             )\n\u001b[1;32m   4561\u001b[0m \u001b[0;34m\u001b[0m\u001b[0m\n",
            "\u001b[0;32m/usr/local/lib/python3.6/dist-packages/pandas/core/indexes/base.py\u001b[0m in \u001b[0;36mreindex\u001b[0;34m(self, target, method, level, limit, tolerance)\u001b[0m\n\u001b[1;32m   3143\u001b[0m                 \u001b[0;32mif\u001b[0m \u001b[0mself\u001b[0m\u001b[0;34m.\u001b[0m\u001b[0mis_unique\u001b[0m \u001b[0;32mand\u001b[0m \u001b[0;32mnot\u001b[0m \u001b[0mgetattr\u001b[0m\u001b[0;34m(\u001b[0m\u001b[0mself\u001b[0m\u001b[0;34m,\u001b[0m \u001b[0;34m\"is_overlapping\"\u001b[0m\u001b[0;34m,\u001b[0m \u001b[0;32mFalse\u001b[0m\u001b[0;34m)\u001b[0m\u001b[0;34m:\u001b[0m\u001b[0;34m\u001b[0m\u001b[0;34m\u001b[0m\u001b[0m\n\u001b[1;32m   3144\u001b[0m                     indexer = self.get_indexer(\n\u001b[0;32m-> 3145\u001b[0;31m                         \u001b[0mtarget\u001b[0m\u001b[0;34m,\u001b[0m \u001b[0mmethod\u001b[0m\u001b[0;34m=\u001b[0m\u001b[0mmethod\u001b[0m\u001b[0;34m,\u001b[0m \u001b[0mlimit\u001b[0m\u001b[0;34m=\u001b[0m\u001b[0mlimit\u001b[0m\u001b[0;34m,\u001b[0m \u001b[0mtolerance\u001b[0m\u001b[0;34m=\u001b[0m\u001b[0mtolerance\u001b[0m\u001b[0;34m\u001b[0m\u001b[0;34m\u001b[0m\u001b[0m\n\u001b[0m\u001b[1;32m   3146\u001b[0m                     )\n\u001b[1;32m   3147\u001b[0m                 \u001b[0;32melse\u001b[0m\u001b[0;34m:\u001b[0m\u001b[0;34m\u001b[0m\u001b[0;34m\u001b[0m\u001b[0m\n",
            "\u001b[0;32m/usr/local/lib/python3.6/dist-packages/pandas/core/indexes/base.py\u001b[0m in \u001b[0;36mget_indexer\u001b[0;34m(self, target, method, limit, tolerance)\u001b[0m\n\u001b[1;32m   2736\u001b[0m \u001b[0;34m\u001b[0m\u001b[0m\n\u001b[1;32m   2737\u001b[0m         \u001b[0;32mif\u001b[0m \u001b[0mmethod\u001b[0m \u001b[0;34m==\u001b[0m \u001b[0;34m\"pad\"\u001b[0m \u001b[0;32mor\u001b[0m \u001b[0mmethod\u001b[0m \u001b[0;34m==\u001b[0m \u001b[0;34m\"backfill\"\u001b[0m\u001b[0;34m:\u001b[0m\u001b[0;34m\u001b[0m\u001b[0;34m\u001b[0m\u001b[0m\n\u001b[0;32m-> 2738\u001b[0;31m             \u001b[0mindexer\u001b[0m \u001b[0;34m=\u001b[0m \u001b[0mself\u001b[0m\u001b[0;34m.\u001b[0m\u001b[0m_get_fill_indexer\u001b[0m\u001b[0;34m(\u001b[0m\u001b[0mtarget\u001b[0m\u001b[0;34m,\u001b[0m \u001b[0mmethod\u001b[0m\u001b[0;34m,\u001b[0m \u001b[0mlimit\u001b[0m\u001b[0;34m,\u001b[0m \u001b[0mtolerance\u001b[0m\u001b[0;34m)\u001b[0m\u001b[0;34m\u001b[0m\u001b[0;34m\u001b[0m\u001b[0m\n\u001b[0m\u001b[1;32m   2739\u001b[0m         \u001b[0;32melif\u001b[0m \u001b[0mmethod\u001b[0m \u001b[0;34m==\u001b[0m \u001b[0;34m\"nearest\"\u001b[0m\u001b[0;34m:\u001b[0m\u001b[0;34m\u001b[0m\u001b[0;34m\u001b[0m\u001b[0m\n\u001b[1;32m   2740\u001b[0m             \u001b[0mindexer\u001b[0m \u001b[0;34m=\u001b[0m \u001b[0mself\u001b[0m\u001b[0;34m.\u001b[0m\u001b[0m_get_nearest_indexer\u001b[0m\u001b[0;34m(\u001b[0m\u001b[0mtarget\u001b[0m\u001b[0;34m,\u001b[0m \u001b[0mlimit\u001b[0m\u001b[0;34m,\u001b[0m \u001b[0mtolerance\u001b[0m\u001b[0;34m)\u001b[0m\u001b[0;34m\u001b[0m\u001b[0;34m\u001b[0m\u001b[0m\n",
            "\u001b[0;32m/usr/local/lib/python3.6/dist-packages/pandas/core/indexes/base.py\u001b[0m in \u001b[0;36m_get_fill_indexer\u001b[0;34m(self, target, method, limit, tolerance)\u001b[0m\n\u001b[1;32m   2771\u001b[0m             \u001b[0mindexer\u001b[0m \u001b[0;34m=\u001b[0m \u001b[0mmethod\u001b[0m\u001b[0;34m(\u001b[0m\u001b[0mtarget\u001b[0m\u001b[0;34m.\u001b[0m\u001b[0m_ndarray_values\u001b[0m\u001b[0;34m,\u001b[0m \u001b[0mlimit\u001b[0m\u001b[0;34m)\u001b[0m\u001b[0;34m\u001b[0m\u001b[0;34m\u001b[0m\u001b[0m\n\u001b[1;32m   2772\u001b[0m         \u001b[0;32melse\u001b[0m\u001b[0;34m:\u001b[0m\u001b[0;34m\u001b[0m\u001b[0;34m\u001b[0m\u001b[0m\n\u001b[0;32m-> 2773\u001b[0;31m             \u001b[0mindexer\u001b[0m \u001b[0;34m=\u001b[0m \u001b[0mself\u001b[0m\u001b[0;34m.\u001b[0m\u001b[0m_get_fill_indexer_searchsorted\u001b[0m\u001b[0;34m(\u001b[0m\u001b[0mtarget\u001b[0m\u001b[0;34m,\u001b[0m \u001b[0mmethod\u001b[0m\u001b[0;34m,\u001b[0m \u001b[0mlimit\u001b[0m\u001b[0;34m)\u001b[0m\u001b[0;34m\u001b[0m\u001b[0;34m\u001b[0m\u001b[0m\n\u001b[0m\u001b[1;32m   2774\u001b[0m         \u001b[0;32mif\u001b[0m \u001b[0mtolerance\u001b[0m \u001b[0;32mis\u001b[0m \u001b[0;32mnot\u001b[0m \u001b[0;32mNone\u001b[0m\u001b[0;34m:\u001b[0m\u001b[0;34m\u001b[0m\u001b[0;34m\u001b[0m\u001b[0m\n\u001b[1;32m   2775\u001b[0m             indexer = self._filter_indexer_tolerance(\n",
            "\u001b[0;32m/usr/local/lib/python3.6/dist-packages/pandas/core/indexes/base.py\u001b[0m in \u001b[0;36m_get_fill_indexer_searchsorted\u001b[0;34m(self, target, method, limit)\u001b[0m\n\u001b[1;32m   2794\u001b[0m         \u001b[0mindexer\u001b[0m \u001b[0;34m=\u001b[0m \u001b[0mself\u001b[0m\u001b[0;34m.\u001b[0m\u001b[0mget_indexer\u001b[0m\u001b[0;34m(\u001b[0m\u001b[0mtarget\u001b[0m\u001b[0;34m)\u001b[0m\u001b[0;34m\u001b[0m\u001b[0;34m\u001b[0m\u001b[0m\n\u001b[1;32m   2795\u001b[0m         \u001b[0mnonexact\u001b[0m \u001b[0;34m=\u001b[0m \u001b[0mindexer\u001b[0m \u001b[0;34m==\u001b[0m \u001b[0;34m-\u001b[0m\u001b[0;36m1\u001b[0m\u001b[0;34m\u001b[0m\u001b[0;34m\u001b[0m\u001b[0m\n\u001b[0;32m-> 2796\u001b[0;31m         \u001b[0mindexer\u001b[0m\u001b[0;34m[\u001b[0m\u001b[0mnonexact\u001b[0m\u001b[0;34m]\u001b[0m \u001b[0;34m=\u001b[0m \u001b[0mself\u001b[0m\u001b[0;34m.\u001b[0m\u001b[0m_searchsorted_monotonic\u001b[0m\u001b[0;34m(\u001b[0m\u001b[0mtarget\u001b[0m\u001b[0;34m[\u001b[0m\u001b[0mnonexact\u001b[0m\u001b[0;34m]\u001b[0m\u001b[0;34m,\u001b[0m \u001b[0mside\u001b[0m\u001b[0;34m)\u001b[0m\u001b[0;34m\u001b[0m\u001b[0;34m\u001b[0m\u001b[0m\n\u001b[0m\u001b[1;32m   2797\u001b[0m         \u001b[0;32mif\u001b[0m \u001b[0mside\u001b[0m \u001b[0;34m==\u001b[0m \u001b[0;34m\"left\"\u001b[0m\u001b[0;34m:\u001b[0m\u001b[0;34m\u001b[0m\u001b[0;34m\u001b[0m\u001b[0m\n\u001b[1;32m   2798\u001b[0m             \u001b[0;31m# searchsorted returns \"indices into a sorted array such that,\u001b[0m\u001b[0;34m\u001b[0m\u001b[0;34m\u001b[0m\u001b[0;34m\u001b[0m\u001b[0m\n",
            "\u001b[0;32m/usr/local/lib/python3.6/dist-packages/pandas/core/indexes/base.py\u001b[0m in \u001b[0;36m_searchsorted_monotonic\u001b[0;34m(self, label, side)\u001b[0m\n\u001b[1;32m   4804\u001b[0m             \u001b[0;32mreturn\u001b[0m \u001b[0mlen\u001b[0m\u001b[0;34m(\u001b[0m\u001b[0mself\u001b[0m\u001b[0;34m)\u001b[0m \u001b[0;34m-\u001b[0m \u001b[0mpos\u001b[0m\u001b[0;34m\u001b[0m\u001b[0;34m\u001b[0m\u001b[0m\n\u001b[1;32m   4805\u001b[0m \u001b[0;34m\u001b[0m\u001b[0m\n\u001b[0;32m-> 4806\u001b[0;31m         \u001b[0;32mraise\u001b[0m \u001b[0mValueError\u001b[0m\u001b[0;34m(\u001b[0m\u001b[0;34m\"index must be monotonic increasing or decreasing\"\u001b[0m\u001b[0;34m)\u001b[0m\u001b[0;34m\u001b[0m\u001b[0;34m\u001b[0m\u001b[0m\n\u001b[0m\u001b[1;32m   4807\u001b[0m \u001b[0;34m\u001b[0m\u001b[0m\n\u001b[1;32m   4808\u001b[0m     \u001b[0;32mdef\u001b[0m \u001b[0mget_slice_bound\u001b[0m\u001b[0;34m(\u001b[0m\u001b[0mself\u001b[0m\u001b[0;34m,\u001b[0m \u001b[0mlabel\u001b[0m\u001b[0;34m,\u001b[0m \u001b[0mside\u001b[0m\u001b[0;34m,\u001b[0m \u001b[0mkind\u001b[0m\u001b[0;34m)\u001b[0m\u001b[0;34m:\u001b[0m\u001b[0;34m\u001b[0m\u001b[0;34m\u001b[0m\u001b[0m\n",
            "\u001b[0;31mValueError\u001b[0m: index must be monotonic increasing or decreasing"
          ]
        }
      ]
    },
    {
      "cell_type": "markdown",
      "metadata": {
        "id": "YU_LzXHVwEDM",
        "colab_type": "text"
      },
      "source": [
        "上面这种是经典的错误，index必须是数字才可以用method ffill"
      ]
    },
    {
      "cell_type": "code",
      "metadata": {
        "id": "WAjsbuFjwL-4",
        "colab_type": "code",
        "colab": {
          "base_uri": "https://localhost:8080/",
          "height": 84
        },
        "outputId": "0460db86-9938-41ef-a0e6-1d0ea75bca2f"
      },
      "source": [
        "#创建个series\n",
        "obj3 = pd.Series(['blue', 'purple', 'yellow'], index=[0, 2, 4])\n",
        "obj3"
      ],
      "execution_count": 8,
      "outputs": [
        {
          "output_type": "execute_result",
          "data": {
            "text/plain": [
              "0      blue\n",
              "2    purple\n",
              "4    yellow\n",
              "dtype: object"
            ]
          },
          "metadata": {
            "tags": []
          },
          "execution_count": 8
        }
      ]
    },
    {
      "cell_type": "code",
      "metadata": {
        "id": "EvVhYhSHwdQ_",
        "colab_type": "code",
        "colab": {
          "base_uri": "https://localhost:8080/",
          "height": 135
        },
        "outputId": "51595674-dac8-4a96-b51b-64968a069c15"
      },
      "source": [
        "obj3.reindex(range(6), method='ffill')#可以看到补充的index forward了前面的value"
      ],
      "execution_count": 10,
      "outputs": [
        {
          "output_type": "execute_result",
          "data": {
            "text/plain": [
              "0      blue\n",
              "1      blue\n",
              "2    purple\n",
              "3    purple\n",
              "4    yellow\n",
              "5    yellow\n",
              "dtype: object"
            ]
          },
          "metadata": {
            "tags": []
          },
          "execution_count": 10
        }
      ]
    },
    {
      "cell_type": "markdown",
      "metadata": {
        "id": "Mm_BOegMxFs_",
        "colab_type": "text"
      },
      "source": [
        "dataframe的reindex也是类似的，只不过你可以specify是index还是columns"
      ]
    },
    {
      "cell_type": "code",
      "metadata": {
        "id": "Co5EY2dhwkOo",
        "colab_type": "code",
        "colab": {
          "base_uri": "https://localhost:8080/",
          "height": 135
        },
        "outputId": "954e6545-5ff7-42cf-acbc-cd7c3b2e7b24"
      },
      "source": [
        "#创建个\n",
        "frame = pd.DataFrame(np.arange(9).reshape((3, 3)),\n",
        "     index=['a', 'c', 'd'],\n",
        "     columns=['Ohio', 'Texas', 'California'])\n",
        "frame"
      ],
      "execution_count": 11,
      "outputs": [
        {
          "output_type": "execute_result",
          "data": {
            "text/html": [
              "<div>\n",
              "<style scoped>\n",
              "    .dataframe tbody tr th:only-of-type {\n",
              "        vertical-align: middle;\n",
              "    }\n",
              "\n",
              "    .dataframe tbody tr th {\n",
              "        vertical-align: top;\n",
              "    }\n",
              "\n",
              "    .dataframe thead th {\n",
              "        text-align: right;\n",
              "    }\n",
              "</style>\n",
              "<table border=\"1\" class=\"dataframe\">\n",
              "  <thead>\n",
              "    <tr style=\"text-align: right;\">\n",
              "      <th></th>\n",
              "      <th>Ohio</th>\n",
              "      <th>Texas</th>\n",
              "      <th>California</th>\n",
              "    </tr>\n",
              "  </thead>\n",
              "  <tbody>\n",
              "    <tr>\n",
              "      <th>a</th>\n",
              "      <td>0</td>\n",
              "      <td>1</td>\n",
              "      <td>2</td>\n",
              "    </tr>\n",
              "    <tr>\n",
              "      <th>c</th>\n",
              "      <td>3</td>\n",
              "      <td>4</td>\n",
              "      <td>5</td>\n",
              "    </tr>\n",
              "    <tr>\n",
              "      <th>d</th>\n",
              "      <td>6</td>\n",
              "      <td>7</td>\n",
              "      <td>8</td>\n",
              "    </tr>\n",
              "  </tbody>\n",
              "</table>\n",
              "</div>"
            ],
            "text/plain": [
              "   Ohio  Texas  California\n",
              "a     0      1           2\n",
              "c     3      4           5\n",
              "d     6      7           8"
            ]
          },
          "metadata": {
            "tags": []
          },
          "execution_count": 11
        }
      ]
    },
    {
      "cell_type": "code",
      "metadata": {
        "id": "Ke3ZXhPDxUVV",
        "colab_type": "code",
        "colab": {
          "base_uri": "https://localhost:8080/",
          "height": 194
        },
        "outputId": "84b39cdc-90e5-42ff-dea7-11b335f5ce6d"
      },
      "source": [
        "frame2 = frame.reindex(list('abcde'))\n",
        "frame2\n",
        "#可以看到如果不specify的话，reindex是默认为re index的（axis=0)"
      ],
      "execution_count": 12,
      "outputs": [
        {
          "output_type": "execute_result",
          "data": {
            "text/html": [
              "<div>\n",
              "<style scoped>\n",
              "    .dataframe tbody tr th:only-of-type {\n",
              "        vertical-align: middle;\n",
              "    }\n",
              "\n",
              "    .dataframe tbody tr th {\n",
              "        vertical-align: top;\n",
              "    }\n",
              "\n",
              "    .dataframe thead th {\n",
              "        text-align: right;\n",
              "    }\n",
              "</style>\n",
              "<table border=\"1\" class=\"dataframe\">\n",
              "  <thead>\n",
              "    <tr style=\"text-align: right;\">\n",
              "      <th></th>\n",
              "      <th>Ohio</th>\n",
              "      <th>Texas</th>\n",
              "      <th>California</th>\n",
              "    </tr>\n",
              "  </thead>\n",
              "  <tbody>\n",
              "    <tr>\n",
              "      <th>a</th>\n",
              "      <td>0.0</td>\n",
              "      <td>1.0</td>\n",
              "      <td>2.0</td>\n",
              "    </tr>\n",
              "    <tr>\n",
              "      <th>b</th>\n",
              "      <td>NaN</td>\n",
              "      <td>NaN</td>\n",
              "      <td>NaN</td>\n",
              "    </tr>\n",
              "    <tr>\n",
              "      <th>c</th>\n",
              "      <td>3.0</td>\n",
              "      <td>4.0</td>\n",
              "      <td>5.0</td>\n",
              "    </tr>\n",
              "    <tr>\n",
              "      <th>d</th>\n",
              "      <td>6.0</td>\n",
              "      <td>7.0</td>\n",
              "      <td>8.0</td>\n",
              "    </tr>\n",
              "    <tr>\n",
              "      <th>e</th>\n",
              "      <td>NaN</td>\n",
              "      <td>NaN</td>\n",
              "      <td>NaN</td>\n",
              "    </tr>\n",
              "  </tbody>\n",
              "</table>\n",
              "</div>"
            ],
            "text/plain": [
              "   Ohio  Texas  California\n",
              "a   0.0    1.0         2.0\n",
              "b   NaN    NaN         NaN\n",
              "c   3.0    4.0         5.0\n",
              "d   6.0    7.0         8.0\n",
              "e   NaN    NaN         NaN"
            ]
          },
          "metadata": {
            "tags": []
          },
          "execution_count": 12
        }
      ]
    },
    {
      "cell_type": "code",
      "metadata": {
        "id": "JJ_OHc3QxekE",
        "colab_type": "code",
        "colab": {
          "base_uri": "https://localhost:8080/",
          "height": 135
        },
        "outputId": "5f04147b-8341-41b9-eee0-cb193efcec99"
      },
      "source": [
        "states = ['Texas', 'Utah', 'California']\n",
        "frame.reindex(columns=states)"
      ],
      "execution_count": 14,
      "outputs": [
        {
          "output_type": "execute_result",
          "data": {
            "text/html": [
              "<div>\n",
              "<style scoped>\n",
              "    .dataframe tbody tr th:only-of-type {\n",
              "        vertical-align: middle;\n",
              "    }\n",
              "\n",
              "    .dataframe tbody tr th {\n",
              "        vertical-align: top;\n",
              "    }\n",
              "\n",
              "    .dataframe thead th {\n",
              "        text-align: right;\n",
              "    }\n",
              "</style>\n",
              "<table border=\"1\" class=\"dataframe\">\n",
              "  <thead>\n",
              "    <tr style=\"text-align: right;\">\n",
              "      <th></th>\n",
              "      <th>Texas</th>\n",
              "      <th>Utah</th>\n",
              "      <th>California</th>\n",
              "    </tr>\n",
              "  </thead>\n",
              "  <tbody>\n",
              "    <tr>\n",
              "      <th>a</th>\n",
              "      <td>1</td>\n",
              "      <td>NaN</td>\n",
              "      <td>2</td>\n",
              "    </tr>\n",
              "    <tr>\n",
              "      <th>c</th>\n",
              "      <td>4</td>\n",
              "      <td>NaN</td>\n",
              "      <td>5</td>\n",
              "    </tr>\n",
              "    <tr>\n",
              "      <th>d</th>\n",
              "      <td>7</td>\n",
              "      <td>NaN</td>\n",
              "      <td>8</td>\n",
              "    </tr>\n",
              "  </tbody>\n",
              "</table>\n",
              "</div>"
            ],
            "text/plain": [
              "   Texas  Utah  California\n",
              "a      1   NaN           2\n",
              "c      4   NaN           5\n",
              "d      7   NaN           8"
            ]
          },
          "metadata": {
            "tags": []
          },
          "execution_count": 14
        }
      ]
    },
    {
      "cell_type": "markdown",
      "metadata": {
        "id": "bmmV2Nvkx8Lu",
        "colab_type": "text"
      },
      "source": [
        "![image.png](data:image/png;base64,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)"
      ]
    },
    {
      "cell_type": "markdown",
      "metadata": {
        "id": "IWU6xIr41L1y",
        "colab_type": "text"
      },
      "source": [
        "## Dropping Entries from an Axis"
      ]
    },
    {
      "cell_type": "code",
      "metadata": {
        "id": "xML-PiWDxxcs",
        "colab_type": "code",
        "colab": {
          "base_uri": "https://localhost:8080/",
          "height": 118
        },
        "outputId": "2fad926a-da57-45cc-85fb-eed75991d43e"
      },
      "source": [
        "obj = pd.Series(np.arange(5.), index=['a', 'b', 'c', 'd', 'e'])\n",
        "obj"
      ],
      "execution_count": 15,
      "outputs": [
        {
          "output_type": "execute_result",
          "data": {
            "text/plain": [
              "a    0.0\n",
              "b    1.0\n",
              "c    2.0\n",
              "d    3.0\n",
              "e    4.0\n",
              "dtype: float64"
            ]
          },
          "metadata": {
            "tags": []
          },
          "execution_count": 15
        }
      ]
    },
    {
      "cell_type": "code",
      "metadata": {
        "id": "nXtAl-U11U4S",
        "colab_type": "code",
        "colab": {
          "base_uri": "https://localhost:8080/",
          "height": 84
        },
        "outputId": "a5fde8de-0a25-403b-da48-883ae43da433"
      },
      "source": [
        "obj = obj.drop(['a', 'e']) #用drop function去掉\n",
        "obj"
      ],
      "execution_count": 18,
      "outputs": [
        {
          "output_type": "execute_result",
          "data": {
            "text/plain": [
              "b    1.0\n",
              "c    2.0\n",
              "d    3.0\n",
              "dtype: float64"
            ]
          },
          "metadata": {
            "tags": []
          },
          "execution_count": 18
        }
      ]
    },
    {
      "cell_type": "code",
      "metadata": {
        "id": "Q630NyWr1bJ5",
        "colab_type": "code",
        "colab": {
          "base_uri": "https://localhost:8080/",
          "height": 164
        },
        "outputId": "fe0c1bd0-68c4-4136-c961-e12f2cf3005a"
      },
      "source": [
        "data = pd.DataFrame(np.arange(16).reshape((4, 4)),\n",
        "    index=['Ohio', 'Colorado', 'Utah', 'New York'],\n",
        "    columns=['one', 'two', 'three', 'four'])\n",
        "data"
      ],
      "execution_count": 19,
      "outputs": [
        {
          "output_type": "execute_result",
          "data": {
            "text/html": [
              "<div>\n",
              "<style scoped>\n",
              "    .dataframe tbody tr th:only-of-type {\n",
              "        vertical-align: middle;\n",
              "    }\n",
              "\n",
              "    .dataframe tbody tr th {\n",
              "        vertical-align: top;\n",
              "    }\n",
              "\n",
              "    .dataframe thead th {\n",
              "        text-align: right;\n",
              "    }\n",
              "</style>\n",
              "<table border=\"1\" class=\"dataframe\">\n",
              "  <thead>\n",
              "    <tr style=\"text-align: right;\">\n",
              "      <th></th>\n",
              "      <th>one</th>\n",
              "      <th>two</th>\n",
              "      <th>three</th>\n",
              "      <th>four</th>\n",
              "    </tr>\n",
              "  </thead>\n",
              "  <tbody>\n",
              "    <tr>\n",
              "      <th>Ohio</th>\n",
              "      <td>0</td>\n",
              "      <td>1</td>\n",
              "      <td>2</td>\n",
              "      <td>3</td>\n",
              "    </tr>\n",
              "    <tr>\n",
              "      <th>Colorado</th>\n",
              "      <td>4</td>\n",
              "      <td>5</td>\n",
              "      <td>6</td>\n",
              "      <td>7</td>\n",
              "    </tr>\n",
              "    <tr>\n",
              "      <th>Utah</th>\n",
              "      <td>8</td>\n",
              "      <td>9</td>\n",
              "      <td>10</td>\n",
              "      <td>11</td>\n",
              "    </tr>\n",
              "    <tr>\n",
              "      <th>New York</th>\n",
              "      <td>12</td>\n",
              "      <td>13</td>\n",
              "      <td>14</td>\n",
              "      <td>15</td>\n",
              "    </tr>\n",
              "  </tbody>\n",
              "</table>\n",
              "</div>"
            ],
            "text/plain": [
              "          one  two  three  four\n",
              "Ohio        0    1      2     3\n",
              "Colorado    4    5      6     7\n",
              "Utah        8    9     10    11\n",
              "New York   12   13     14    15"
            ]
          },
          "metadata": {
            "tags": []
          },
          "execution_count": 19
        }
      ]
    },
    {
      "cell_type": "code",
      "metadata": {
        "id": "qbvj9ON02Hv-",
        "colab_type": "code",
        "colab": {
          "base_uri": "https://localhost:8080/",
          "height": 106
        },
        "outputId": "c1dcaff7-07bf-47be-888b-34e18521c9fd"
      },
      "source": [
        "#同样的，drop如果没有specify，是drop row的\n",
        "data.drop(['Ohio', 'Colorado'])"
      ],
      "execution_count": 20,
      "outputs": [
        {
          "output_type": "execute_result",
          "data": {
            "text/html": [
              "<div>\n",
              "<style scoped>\n",
              "    .dataframe tbody tr th:only-of-type {\n",
              "        vertical-align: middle;\n",
              "    }\n",
              "\n",
              "    .dataframe tbody tr th {\n",
              "        vertical-align: top;\n",
              "    }\n",
              "\n",
              "    .dataframe thead th {\n",
              "        text-align: right;\n",
              "    }\n",
              "</style>\n",
              "<table border=\"1\" class=\"dataframe\">\n",
              "  <thead>\n",
              "    <tr style=\"text-align: right;\">\n",
              "      <th></th>\n",
              "      <th>one</th>\n",
              "      <th>two</th>\n",
              "      <th>three</th>\n",
              "      <th>four</th>\n",
              "    </tr>\n",
              "  </thead>\n",
              "  <tbody>\n",
              "    <tr>\n",
              "      <th>Utah</th>\n",
              "      <td>8</td>\n",
              "      <td>9</td>\n",
              "      <td>10</td>\n",
              "      <td>11</td>\n",
              "    </tr>\n",
              "    <tr>\n",
              "      <th>New York</th>\n",
              "      <td>12</td>\n",
              "      <td>13</td>\n",
              "      <td>14</td>\n",
              "      <td>15</td>\n",
              "    </tr>\n",
              "  </tbody>\n",
              "</table>\n",
              "</div>"
            ],
            "text/plain": [
              "          one  two  three  four\n",
              "Utah        8    9     10    11\n",
              "New York   12   13     14    15"
            ]
          },
          "metadata": {
            "tags": []
          },
          "execution_count": 20
        }
      ]
    },
    {
      "cell_type": "code",
      "metadata": {
        "id": "HFocaaun2aLj",
        "colab_type": "code",
        "colab": {
          "base_uri": "https://localhost:8080/",
          "height": 164
        },
        "outputId": "8a897141-118a-4d4c-f7d5-2c8dfb3a0ecc"
      },
      "source": [
        "data.drop(['one','three'], axis=1) #或者axis='columns'"
      ],
      "execution_count": 21,
      "outputs": [
        {
          "output_type": "execute_result",
          "data": {
            "text/html": [
              "<div>\n",
              "<style scoped>\n",
              "    .dataframe tbody tr th:only-of-type {\n",
              "        vertical-align: middle;\n",
              "    }\n",
              "\n",
              "    .dataframe tbody tr th {\n",
              "        vertical-align: top;\n",
              "    }\n",
              "\n",
              "    .dataframe thead th {\n",
              "        text-align: right;\n",
              "    }\n",
              "</style>\n",
              "<table border=\"1\" class=\"dataframe\">\n",
              "  <thead>\n",
              "    <tr style=\"text-align: right;\">\n",
              "      <th></th>\n",
              "      <th>two</th>\n",
              "      <th>four</th>\n",
              "    </tr>\n",
              "  </thead>\n",
              "  <tbody>\n",
              "    <tr>\n",
              "      <th>Ohio</th>\n",
              "      <td>1</td>\n",
              "      <td>3</td>\n",
              "    </tr>\n",
              "    <tr>\n",
              "      <th>Colorado</th>\n",
              "      <td>5</td>\n",
              "      <td>7</td>\n",
              "    </tr>\n",
              "    <tr>\n",
              "      <th>Utah</th>\n",
              "      <td>9</td>\n",
              "      <td>11</td>\n",
              "    </tr>\n",
              "    <tr>\n",
              "      <th>New York</th>\n",
              "      <td>13</td>\n",
              "      <td>15</td>\n",
              "    </tr>\n",
              "  </tbody>\n",
              "</table>\n",
              "</div>"
            ],
            "text/plain": [
              "          two  four\n",
              "Ohio        1     3\n",
              "Colorado    5     7\n",
              "Utah        9    11\n",
              "New York   13    15"
            ]
          },
          "metadata": {
            "tags": []
          },
          "execution_count": 21
        }
      ]
    },
    {
      "cell_type": "code",
      "metadata": {
        "id": "lx2PI1IO2kNq",
        "colab_type": "code",
        "colab": {
          "base_uri": "https://localhost:8080/",
          "height": 135
        },
        "outputId": "817b593f-c875-4ed7-f590-c6bde38b89e7"
      },
      "source": [
        "data.drop('Utah', inplace=True) #很多时候modify df不会直接影响到df，但是这个Inplace=True的时候就会了\n",
        "data"
      ],
      "execution_count": 22,
      "outputs": [
        {
          "output_type": "execute_result",
          "data": {
            "text/html": [
              "<div>\n",
              "<style scoped>\n",
              "    .dataframe tbody tr th:only-of-type {\n",
              "        vertical-align: middle;\n",
              "    }\n",
              "\n",
              "    .dataframe tbody tr th {\n",
              "        vertical-align: top;\n",
              "    }\n",
              "\n",
              "    .dataframe thead th {\n",
              "        text-align: right;\n",
              "    }\n",
              "</style>\n",
              "<table border=\"1\" class=\"dataframe\">\n",
              "  <thead>\n",
              "    <tr style=\"text-align: right;\">\n",
              "      <th></th>\n",
              "      <th>one</th>\n",
              "      <th>two</th>\n",
              "      <th>three</th>\n",
              "      <th>four</th>\n",
              "    </tr>\n",
              "  </thead>\n",
              "  <tbody>\n",
              "    <tr>\n",
              "      <th>Ohio</th>\n",
              "      <td>0</td>\n",
              "      <td>1</td>\n",
              "      <td>2</td>\n",
              "      <td>3</td>\n",
              "    </tr>\n",
              "    <tr>\n",
              "      <th>Colorado</th>\n",
              "      <td>4</td>\n",
              "      <td>5</td>\n",
              "      <td>6</td>\n",
              "      <td>7</td>\n",
              "    </tr>\n",
              "    <tr>\n",
              "      <th>New York</th>\n",
              "      <td>12</td>\n",
              "      <td>13</td>\n",
              "      <td>14</td>\n",
              "      <td>15</td>\n",
              "    </tr>\n",
              "  </tbody>\n",
              "</table>\n",
              "</div>"
            ],
            "text/plain": [
              "          one  two  three  four\n",
              "Ohio        0    1      2     3\n",
              "Colorado    4    5      6     7\n",
              "New York   12   13     14    15"
            ]
          },
          "metadata": {
            "tags": []
          },
          "execution_count": 22
        }
      ]
    },
    {
      "cell_type": "markdown",
      "metadata": {
        "id": "8gzAKp-p26gY",
        "colab_type": "text"
      },
      "source": [
        "## Indexing, Seletion, and Filtering"
      ]
    },
    {
      "cell_type": "markdown",
      "metadata": {
        "id": "TQdyjX473-RG",
        "colab_type": "text"
      },
      "source": [
        "pandas的indexing和numpy的非常相似，但是有一点不一样的是，**the end point is inclusive!!**\n",
        "比如[2:5]在np和python里面5是不包含在内的，而pandas则是包含在内"
      ]
    },
    {
      "cell_type": "code",
      "metadata": {
        "id": "8qzBmzfY2xdf",
        "colab_type": "code",
        "colab": {
          "base_uri": "https://localhost:8080/",
          "height": 101
        },
        "outputId": "aee98ab4-74f2-4a83-8559-a5b3271cd099"
      },
      "source": [
        "obj = pd.Series(np.arange(4.), index=list('abcd'))\n",
        "obj"
      ],
      "execution_count": 24,
      "outputs": [
        {
          "output_type": "execute_result",
          "data": {
            "text/plain": [
              "a    0.0\n",
              "b    1.0\n",
              "c    2.0\n",
              "d    3.0\n",
              "dtype: float64"
            ]
          },
          "metadata": {
            "tags": []
          },
          "execution_count": 24
        }
      ]
    },
    {
      "cell_type": "code",
      "metadata": {
        "id": "OgWUfLcv4lmk",
        "colab_type": "code",
        "colab": {
          "base_uri": "https://localhost:8080/",
          "height": 68
        },
        "outputId": "e160f07e-e226-4d26-98fb-efa50201f1f6"
      },
      "source": [
        "obj['b':'c']#可以看到'c'是包含在内的"
      ],
      "execution_count": 25,
      "outputs": [
        {
          "output_type": "execute_result",
          "data": {
            "text/plain": [
              "b    1.0\n",
              "c    2.0\n",
              "dtype: float64"
            ]
          },
          "metadata": {
            "tags": []
          },
          "execution_count": 25
        }
      ]
    },
    {
      "cell_type": "code",
      "metadata": {
        "id": "GMlJJmDy4quC",
        "colab_type": "code",
        "colab": {
          "base_uri": "https://localhost:8080/",
          "height": 164
        },
        "outputId": "ba66a2b2-ff20-4231-dc8a-3777d99d2763"
      },
      "source": [
        "data = pd.DataFrame(np.arange(16).reshape((4, 4)),\n",
        "    index=['Ohio', 'Colorado', 'Utah', 'New York'],\n",
        "    columns=['one', 'two', 'three', 'four'])\n",
        "data"
      ],
      "execution_count": 26,
      "outputs": [
        {
          "output_type": "execute_result",
          "data": {
            "text/html": [
              "<div>\n",
              "<style scoped>\n",
              "    .dataframe tbody tr th:only-of-type {\n",
              "        vertical-align: middle;\n",
              "    }\n",
              "\n",
              "    .dataframe tbody tr th {\n",
              "        vertical-align: top;\n",
              "    }\n",
              "\n",
              "    .dataframe thead th {\n",
              "        text-align: right;\n",
              "    }\n",
              "</style>\n",
              "<table border=\"1\" class=\"dataframe\">\n",
              "  <thead>\n",
              "    <tr style=\"text-align: right;\">\n",
              "      <th></th>\n",
              "      <th>one</th>\n",
              "      <th>two</th>\n",
              "      <th>three</th>\n",
              "      <th>four</th>\n",
              "    </tr>\n",
              "  </thead>\n",
              "  <tbody>\n",
              "    <tr>\n",
              "      <th>Ohio</th>\n",
              "      <td>0</td>\n",
              "      <td>1</td>\n",
              "      <td>2</td>\n",
              "      <td>3</td>\n",
              "    </tr>\n",
              "    <tr>\n",
              "      <th>Colorado</th>\n",
              "      <td>4</td>\n",
              "      <td>5</td>\n",
              "      <td>6</td>\n",
              "      <td>7</td>\n",
              "    </tr>\n",
              "    <tr>\n",
              "      <th>Utah</th>\n",
              "      <td>8</td>\n",
              "      <td>9</td>\n",
              "      <td>10</td>\n",
              "      <td>11</td>\n",
              "    </tr>\n",
              "    <tr>\n",
              "      <th>New York</th>\n",
              "      <td>12</td>\n",
              "      <td>13</td>\n",
              "      <td>14</td>\n",
              "      <td>15</td>\n",
              "    </tr>\n",
              "  </tbody>\n",
              "</table>\n",
              "</div>"
            ],
            "text/plain": [
              "          one  two  three  four\n",
              "Ohio        0    1      2     3\n",
              "Colorado    4    5      6     7\n",
              "Utah        8    9     10    11\n",
              "New York   12   13     14    15"
            ]
          },
          "metadata": {
            "tags": []
          },
          "execution_count": 26
        }
      ]
    },
    {
      "cell_type": "code",
      "metadata": {
        "id": "11382PwW43SG",
        "colab_type": "code",
        "colab": {
          "base_uri": "https://localhost:8080/",
          "height": 135
        },
        "outputId": "333ddb6b-8e11-46f7-d2b0-2db1f69ecf0c"
      },
      "source": [
        "#filtering\n",
        "data[data['three']>5]"
      ],
      "execution_count": 27,
      "outputs": [
        {
          "output_type": "execute_result",
          "data": {
            "text/html": [
              "<div>\n",
              "<style scoped>\n",
              "    .dataframe tbody tr th:only-of-type {\n",
              "        vertical-align: middle;\n",
              "    }\n",
              "\n",
              "    .dataframe tbody tr th {\n",
              "        vertical-align: top;\n",
              "    }\n",
              "\n",
              "    .dataframe thead th {\n",
              "        text-align: right;\n",
              "    }\n",
              "</style>\n",
              "<table border=\"1\" class=\"dataframe\">\n",
              "  <thead>\n",
              "    <tr style=\"text-align: right;\">\n",
              "      <th></th>\n",
              "      <th>one</th>\n",
              "      <th>two</th>\n",
              "      <th>three</th>\n",
              "      <th>four</th>\n",
              "    </tr>\n",
              "  </thead>\n",
              "  <tbody>\n",
              "    <tr>\n",
              "      <th>Colorado</th>\n",
              "      <td>4</td>\n",
              "      <td>5</td>\n",
              "      <td>6</td>\n",
              "      <td>7</td>\n",
              "    </tr>\n",
              "    <tr>\n",
              "      <th>Utah</th>\n",
              "      <td>8</td>\n",
              "      <td>9</td>\n",
              "      <td>10</td>\n",
              "      <td>11</td>\n",
              "    </tr>\n",
              "    <tr>\n",
              "      <th>New York</th>\n",
              "      <td>12</td>\n",
              "      <td>13</td>\n",
              "      <td>14</td>\n",
              "      <td>15</td>\n",
              "    </tr>\n",
              "  </tbody>\n",
              "</table>\n",
              "</div>"
            ],
            "text/plain": [
              "          one  two  three  four\n",
              "Colorado    4    5      6     7\n",
              "Utah        8    9     10    11\n",
              "New York   12   13     14    15"
            ]
          },
          "metadata": {
            "tags": []
          },
          "execution_count": 27
        }
      ]
    },
    {
      "cell_type": "code",
      "metadata": {
        "id": "-0b2rOP_5Ulf",
        "colab_type": "code",
        "colab": {
          "base_uri": "https://localhost:8080/",
          "height": 164
        },
        "outputId": "682cf3a6-e8ac-4061-de80-b0a1577294d0"
      },
      "source": [
        "data<5 #生成bool"
      ],
      "execution_count": 28,
      "outputs": [
        {
          "output_type": "execute_result",
          "data": {
            "text/html": [
              "<div>\n",
              "<style scoped>\n",
              "    .dataframe tbody tr th:only-of-type {\n",
              "        vertical-align: middle;\n",
              "    }\n",
              "\n",
              "    .dataframe tbody tr th {\n",
              "        vertical-align: top;\n",
              "    }\n",
              "\n",
              "    .dataframe thead th {\n",
              "        text-align: right;\n",
              "    }\n",
              "</style>\n",
              "<table border=\"1\" class=\"dataframe\">\n",
              "  <thead>\n",
              "    <tr style=\"text-align: right;\">\n",
              "      <th></th>\n",
              "      <th>one</th>\n",
              "      <th>two</th>\n",
              "      <th>three</th>\n",
              "      <th>four</th>\n",
              "    </tr>\n",
              "  </thead>\n",
              "  <tbody>\n",
              "    <tr>\n",
              "      <th>Ohio</th>\n",
              "      <td>True</td>\n",
              "      <td>True</td>\n",
              "      <td>True</td>\n",
              "      <td>True</td>\n",
              "    </tr>\n",
              "    <tr>\n",
              "      <th>Colorado</th>\n",
              "      <td>True</td>\n",
              "      <td>False</td>\n",
              "      <td>False</td>\n",
              "      <td>False</td>\n",
              "    </tr>\n",
              "    <tr>\n",
              "      <th>Utah</th>\n",
              "      <td>False</td>\n",
              "      <td>False</td>\n",
              "      <td>False</td>\n",
              "      <td>False</td>\n",
              "    </tr>\n",
              "    <tr>\n",
              "      <th>New York</th>\n",
              "      <td>False</td>\n",
              "      <td>False</td>\n",
              "      <td>False</td>\n",
              "      <td>False</td>\n",
              "    </tr>\n",
              "  </tbody>\n",
              "</table>\n",
              "</div>"
            ],
            "text/plain": [
              "            one    two  three   four\n",
              "Ohio       True   True   True   True\n",
              "Colorado   True  False  False  False\n",
              "Utah      False  False  False  False\n",
              "New York  False  False  False  False"
            ]
          },
          "metadata": {
            "tags": []
          },
          "execution_count": 28
        }
      ]
    },
    {
      "cell_type": "code",
      "metadata": {
        "id": "wSWp-BxY5crQ",
        "colab_type": "code",
        "colab": {}
      },
      "source": [
        "data[data<5] = 0 #用bool作selection的mask"
      ],
      "execution_count": 29,
      "outputs": []
    },
    {
      "cell_type": "code",
      "metadata": {
        "id": "xQyaMSfw5xcR",
        "colab_type": "code",
        "colab": {
          "base_uri": "https://localhost:8080/",
          "height": 164
        },
        "outputId": "91eab05a-1c8f-4dfd-b0f5-886a97248002"
      },
      "source": [
        "data"
      ],
      "execution_count": 30,
      "outputs": [
        {
          "output_type": "execute_result",
          "data": {
            "text/html": [
              "<div>\n",
              "<style scoped>\n",
              "    .dataframe tbody tr th:only-of-type {\n",
              "        vertical-align: middle;\n",
              "    }\n",
              "\n",
              "    .dataframe tbody tr th {\n",
              "        vertical-align: top;\n",
              "    }\n",
              "\n",
              "    .dataframe thead th {\n",
              "        text-align: right;\n",
              "    }\n",
              "</style>\n",
              "<table border=\"1\" class=\"dataframe\">\n",
              "  <thead>\n",
              "    <tr style=\"text-align: right;\">\n",
              "      <th></th>\n",
              "      <th>one</th>\n",
              "      <th>two</th>\n",
              "      <th>three</th>\n",
              "      <th>four</th>\n",
              "    </tr>\n",
              "  </thead>\n",
              "  <tbody>\n",
              "    <tr>\n",
              "      <th>Ohio</th>\n",
              "      <td>0</td>\n",
              "      <td>0</td>\n",
              "      <td>0</td>\n",
              "      <td>0</td>\n",
              "    </tr>\n",
              "    <tr>\n",
              "      <th>Colorado</th>\n",
              "      <td>0</td>\n",
              "      <td>5</td>\n",
              "      <td>6</td>\n",
              "      <td>7</td>\n",
              "    </tr>\n",
              "    <tr>\n",
              "      <th>Utah</th>\n",
              "      <td>8</td>\n",
              "      <td>9</td>\n",
              "      <td>10</td>\n",
              "      <td>11</td>\n",
              "    </tr>\n",
              "    <tr>\n",
              "      <th>New York</th>\n",
              "      <td>12</td>\n",
              "      <td>13</td>\n",
              "      <td>14</td>\n",
              "      <td>15</td>\n",
              "    </tr>\n",
              "  </tbody>\n",
              "</table>\n",
              "</div>"
            ],
            "text/plain": [
              "          one  two  three  four\n",
              "Ohio        0    0      0     0\n",
              "Colorado    0    5      6     7\n",
              "Utah        8    9     10    11\n",
              "New York   12   13     14    15"
            ]
          },
          "metadata": {
            "tags": []
          },
          "execution_count": 30
        }
      ]
    },
    {
      "cell_type": "markdown",
      "metadata": {
        "id": "W_-jiPtl56gR",
        "colab_type": "text"
      },
      "source": [
        "### Selection with loc and iloc\n",
        "这里将要提到最重要的.loc和.iloc\n",
        "前者是接受string的selection（label-based），后者则是integer（integer-based indexing)"
      ]
    },
    {
      "cell_type": "code",
      "metadata": {
        "id": "aFz9ZLcw5zgv",
        "colab_type": "code",
        "colab": {
          "base_uri": "https://localhost:8080/",
          "height": 68
        },
        "outputId": "d6a9ace0-3a7d-40a0-8df6-50bb8876f773"
      },
      "source": [
        "#syntax是 df.loc[row, column]\n",
        "data.loc['Colorado', ['two', 'three']]"
      ],
      "execution_count": 31,
      "outputs": [
        {
          "output_type": "execute_result",
          "data": {
            "text/plain": [
              "two      5\n",
              "three    6\n",
              "Name: Colorado, dtype: int64"
            ]
          },
          "metadata": {
            "tags": []
          },
          "execution_count": 31
        }
      ]
    },
    {
      "cell_type": "code",
      "metadata": {
        "id": "OzAuC3zF6ltP",
        "colab_type": "code",
        "colab": {
          "base_uri": "https://localhost:8080/",
          "height": 84
        },
        "outputId": "40d788d3-16c5-4dfc-d87a-cc6b89bf1057"
      },
      "source": [
        "#syntax是 df.iloc[row_int, column_int]\n",
        "data.iloc[2, [3,0,1]]"
      ],
      "execution_count": 32,
      "outputs": [
        {
          "output_type": "execute_result",
          "data": {
            "text/plain": [
              "four    11\n",
              "one      8\n",
              "two      9\n",
              "Name: Utah, dtype: int64"
            ]
          },
          "metadata": {
            "tags": []
          },
          "execution_count": 32
        }
      ]
    },
    {
      "cell_type": "markdown",
      "metadata": {
        "id": "YGPqGABo6z1b",
        "colab_type": "text"
      },
      "source": [
        "上面两个，无论是row还是column都是可以是list形式的"
      ]
    },
    {
      "cell_type": "code",
      "metadata": {
        "id": "2DymEhIE6yqI",
        "colab_type": "code",
        "colab": {
          "base_uri": "https://localhost:8080/",
          "height": 135
        },
        "outputId": "11d47d6f-2e98-426f-e658-e555ecedcfe2"
      },
      "source": [
        "data.iloc[:, :3][data.three > 5]\n",
        "#用这种方式还可以在iloc之后再加一些selection"
      ],
      "execution_count": 33,
      "outputs": [
        {
          "output_type": "execute_result",
          "data": {
            "text/html": [
              "<div>\n",
              "<style scoped>\n",
              "    .dataframe tbody tr th:only-of-type {\n",
              "        vertical-align: middle;\n",
              "    }\n",
              "\n",
              "    .dataframe tbody tr th {\n",
              "        vertical-align: top;\n",
              "    }\n",
              "\n",
              "    .dataframe thead th {\n",
              "        text-align: right;\n",
              "    }\n",
              "</style>\n",
              "<table border=\"1\" class=\"dataframe\">\n",
              "  <thead>\n",
              "    <tr style=\"text-align: right;\">\n",
              "      <th></th>\n",
              "      <th>one</th>\n",
              "      <th>two</th>\n",
              "      <th>three</th>\n",
              "    </tr>\n",
              "  </thead>\n",
              "  <tbody>\n",
              "    <tr>\n",
              "      <th>Colorado</th>\n",
              "      <td>0</td>\n",
              "      <td>5</td>\n",
              "      <td>6</td>\n",
              "    </tr>\n",
              "    <tr>\n",
              "      <th>Utah</th>\n",
              "      <td>8</td>\n",
              "      <td>9</td>\n",
              "      <td>10</td>\n",
              "    </tr>\n",
              "    <tr>\n",
              "      <th>New York</th>\n",
              "      <td>12</td>\n",
              "      <td>13</td>\n",
              "      <td>14</td>\n",
              "    </tr>\n",
              "  </tbody>\n",
              "</table>\n",
              "</div>"
            ],
            "text/plain": [
              "          one  two  three\n",
              "Colorado    0    5      6\n",
              "Utah        8    9     10\n",
              "New York   12   13     14"
            ]
          },
          "metadata": {
            "tags": []
          },
          "execution_count": 33
        }
      ]
    },
    {
      "cell_type": "markdown",
      "metadata": {
        "id": "m8N36Oqo7TxE",
        "colab_type": "text"
      },
      "source": [
        "![image.png](data:image/png;base64,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)"
      ]
    },
    {
      "cell_type": "markdown",
      "metadata": {
        "id": "kQmtXDa67kg_",
        "colab_type": "text"
      },
      "source": [
        "## Arithmetic and Data Alignment"
      ]
    },
    {
      "cell_type": "markdown",
      "metadata": {
        "id": "wcx9_0dk8fr4",
        "colab_type": "text"
      },
      "source": [
        "两个series或者df相加，是会根据label(row & column)相同的原则来相加的，若无alignment，那么则会NaN"
      ]
    },
    {
      "cell_type": "code",
      "metadata": {
        "id": "YZzd5_Ac7NRu",
        "colab_type": "code",
        "colab": {
          "base_uri": "https://localhost:8080/",
          "height": 135
        },
        "outputId": "35f0fc15-d09e-43fd-daf4-70f1e5ba28b4"
      },
      "source": [
        "s1 = pd.Series([7.3, -2.5, 3.4, 1.5], index=['a', 'c', 'd', 'e'])\n",
        "s2 = pd.Series([-2.1, 3.6, -1.5, 4, 3.1], index=['a', 'c', 'e', 'f', 'g'])\n",
        "s1 + s2"
      ],
      "execution_count": 34,
      "outputs": [
        {
          "output_type": "execute_result",
          "data": {
            "text/plain": [
              "a    5.2\n",
              "c    1.1\n",
              "d    NaN\n",
              "e    0.0\n",
              "f    NaN\n",
              "g    NaN\n",
              "dtype: float64"
            ]
          },
          "metadata": {
            "tags": []
          },
          "execution_count": 34
        }
      ]
    },
    {
      "cell_type": "code",
      "metadata": {
        "id": "mAiTSRKE9IBF",
        "colab_type": "code",
        "colab": {}
      },
      "source": [
        "df1 = pd.DataFrame(np.arange(9.).reshape((3, 3)), columns=list('bcd'),\n",
        "                           index=['Ohio', 'Texas', 'Colorado'])\n",
        "df2 = pd.DataFrame(np.arange(12.).reshape((4, 3)), columns=list('bde'),\n",
        "                           index=['Utah', 'Ohio', 'Texas', 'Oregon'])"
      ],
      "execution_count": 41,
      "outputs": []
    },
    {
      "cell_type": "code",
      "metadata": {
        "id": "OBuvQY_d_ghc",
        "colab_type": "code",
        "colab": {
          "base_uri": "https://localhost:8080/",
          "height": 135
        },
        "outputId": "1bec52b2-47ba-443a-bb75-98d0c94ac872"
      },
      "source": [
        "df1"
      ],
      "execution_count": 39,
      "outputs": [
        {
          "output_type": "execute_result",
          "data": {
            "text/html": [
              "<div>\n",
              "<style scoped>\n",
              "    .dataframe tbody tr th:only-of-type {\n",
              "        vertical-align: middle;\n",
              "    }\n",
              "\n",
              "    .dataframe tbody tr th {\n",
              "        vertical-align: top;\n",
              "    }\n",
              "\n",
              "    .dataframe thead th {\n",
              "        text-align: right;\n",
              "    }\n",
              "</style>\n",
              "<table border=\"1\" class=\"dataframe\">\n",
              "  <thead>\n",
              "    <tr style=\"text-align: right;\">\n",
              "      <th></th>\n",
              "      <th>b</th>\n",
              "      <th>c</th>\n",
              "      <th>d</th>\n",
              "    </tr>\n",
              "  </thead>\n",
              "  <tbody>\n",
              "    <tr>\n",
              "      <th>Ohio</th>\n",
              "      <td>0.0</td>\n",
              "      <td>1.0</td>\n",
              "      <td>2.0</td>\n",
              "    </tr>\n",
              "    <tr>\n",
              "      <th>Texas</th>\n",
              "      <td>3.0</td>\n",
              "      <td>4.0</td>\n",
              "      <td>5.0</td>\n",
              "    </tr>\n",
              "    <tr>\n",
              "      <th>Colorado</th>\n",
              "      <td>6.0</td>\n",
              "      <td>7.0</td>\n",
              "      <td>8.0</td>\n",
              "    </tr>\n",
              "  </tbody>\n",
              "</table>\n",
              "</div>"
            ],
            "text/plain": [
              "            b    c    d\n",
              "Ohio      0.0  1.0  2.0\n",
              "Texas     3.0  4.0  5.0\n",
              "Colorado  6.0  7.0  8.0"
            ]
          },
          "metadata": {
            "tags": []
          },
          "execution_count": 39
        }
      ]
    },
    {
      "cell_type": "code",
      "metadata": {
        "id": "qvZ2r72L_h5L",
        "colab_type": "code",
        "colab": {
          "base_uri": "https://localhost:8080/",
          "height": 164
        },
        "outputId": "4af80b9f-639d-4841-8e59-b20156f7da59"
      },
      "source": [
        "df2"
      ],
      "execution_count": 40,
      "outputs": [
        {
          "output_type": "execute_result",
          "data": {
            "text/html": [
              "<div>\n",
              "<style scoped>\n",
              "    .dataframe tbody tr th:only-of-type {\n",
              "        vertical-align: middle;\n",
              "    }\n",
              "\n",
              "    .dataframe tbody tr th {\n",
              "        vertical-align: top;\n",
              "    }\n",
              "\n",
              "    .dataframe thead th {\n",
              "        text-align: right;\n",
              "    }\n",
              "</style>\n",
              "<table border=\"1\" class=\"dataframe\">\n",
              "  <thead>\n",
              "    <tr style=\"text-align: right;\">\n",
              "      <th></th>\n",
              "      <th>b</th>\n",
              "      <th>d</th>\n",
              "      <th>e</th>\n",
              "    </tr>\n",
              "  </thead>\n",
              "  <tbody>\n",
              "    <tr>\n",
              "      <th>Utah</th>\n",
              "      <td>0.0</td>\n",
              "      <td>1.0</td>\n",
              "      <td>2.0</td>\n",
              "    </tr>\n",
              "    <tr>\n",
              "      <th>Ohio</th>\n",
              "      <td>3.0</td>\n",
              "      <td>4.0</td>\n",
              "      <td>5.0</td>\n",
              "    </tr>\n",
              "    <tr>\n",
              "      <th>Texas</th>\n",
              "      <td>6.0</td>\n",
              "      <td>7.0</td>\n",
              "      <td>8.0</td>\n",
              "    </tr>\n",
              "    <tr>\n",
              "      <th>Oregon</th>\n",
              "      <td>9.0</td>\n",
              "      <td>10.0</td>\n",
              "      <td>11.0</td>\n",
              "    </tr>\n",
              "  </tbody>\n",
              "</table>\n",
              "</div>"
            ],
            "text/plain": [
              "          b     d     e\n",
              "Utah    0.0   1.0   2.0\n",
              "Ohio    3.0   4.0   5.0\n",
              "Texas   6.0   7.0   8.0\n",
              "Oregon  9.0  10.0  11.0"
            ]
          },
          "metadata": {
            "tags": []
          },
          "execution_count": 40
        }
      ]
    },
    {
      "cell_type": "code",
      "metadata": {
        "id": "0QpxBXbB_qBD",
        "colab_type": "code",
        "colab": {
          "base_uri": "https://localhost:8080/",
          "height": 194
        },
        "outputId": "f70efc9f-321e-4dbf-c2dc-1cac5ff3cc01"
      },
      "source": [
        "df1 + df2"
      ],
      "execution_count": 42,
      "outputs": [
        {
          "output_type": "execute_result",
          "data": {
            "text/html": [
              "<div>\n",
              "<style scoped>\n",
              "    .dataframe tbody tr th:only-of-type {\n",
              "        vertical-align: middle;\n",
              "    }\n",
              "\n",
              "    .dataframe tbody tr th {\n",
              "        vertical-align: top;\n",
              "    }\n",
              "\n",
              "    .dataframe thead th {\n",
              "        text-align: right;\n",
              "    }\n",
              "</style>\n",
              "<table border=\"1\" class=\"dataframe\">\n",
              "  <thead>\n",
              "    <tr style=\"text-align: right;\">\n",
              "      <th></th>\n",
              "      <th>b</th>\n",
              "      <th>c</th>\n",
              "      <th>d</th>\n",
              "      <th>e</th>\n",
              "    </tr>\n",
              "  </thead>\n",
              "  <tbody>\n",
              "    <tr>\n",
              "      <th>Colorado</th>\n",
              "      <td>NaN</td>\n",
              "      <td>NaN</td>\n",
              "      <td>NaN</td>\n",
              "      <td>NaN</td>\n",
              "    </tr>\n",
              "    <tr>\n",
              "      <th>Ohio</th>\n",
              "      <td>3.0</td>\n",
              "      <td>NaN</td>\n",
              "      <td>6.0</td>\n",
              "      <td>NaN</td>\n",
              "    </tr>\n",
              "    <tr>\n",
              "      <th>Oregon</th>\n",
              "      <td>NaN</td>\n",
              "      <td>NaN</td>\n",
              "      <td>NaN</td>\n",
              "      <td>NaN</td>\n",
              "    </tr>\n",
              "    <tr>\n",
              "      <th>Texas</th>\n",
              "      <td>9.0</td>\n",
              "      <td>NaN</td>\n",
              "      <td>12.0</td>\n",
              "      <td>NaN</td>\n",
              "    </tr>\n",
              "    <tr>\n",
              "      <th>Utah</th>\n",
              "      <td>NaN</td>\n",
              "      <td>NaN</td>\n",
              "      <td>NaN</td>\n",
              "      <td>NaN</td>\n",
              "    </tr>\n",
              "  </tbody>\n",
              "</table>\n",
              "</div>"
            ],
            "text/plain": [
              "            b   c     d   e\n",
              "Colorado  NaN NaN   NaN NaN\n",
              "Ohio      3.0 NaN   6.0 NaN\n",
              "Oregon    NaN NaN   NaN NaN\n",
              "Texas     9.0 NaN  12.0 NaN\n",
              "Utah      NaN NaN   NaN NaN"
            ]
          },
          "metadata": {
            "tags": []
          },
          "execution_count": 42
        }
      ]
    },
    {
      "cell_type": "markdown",
      "metadata": {
        "id": "gqYZj1nm9hNE",
        "colab_type": "text"
      },
      "source": [
        "### Arithmetic methods with fill values"
      ]
    },
    {
      "cell_type": "code",
      "metadata": {
        "id": "_i82SZKq9XkF",
        "colab_type": "code",
        "colab": {
          "base_uri": "https://localhost:8080/",
          "height": 194
        },
        "outputId": "27e8c912-00ca-487c-c08b-5783d11e7ff4"
      },
      "source": [
        "df1.add(df2, fill_value=0)#这个fill_value很厉害，就是把NaN变成0\n",
        "#问题来了，那为啥会有下面这几个依然是NaN?\n",
        "#因为它俩是不同dimension的df，所以有一些值是两者都没有intesection的，就还是NaN"
      ],
      "execution_count": 38,
      "outputs": [
        {
          "output_type": "execute_result",
          "data": {
            "text/html": [
              "<div>\n",
              "<style scoped>\n",
              "    .dataframe tbody tr th:only-of-type {\n",
              "        vertical-align: middle;\n",
              "    }\n",
              "\n",
              "    .dataframe tbody tr th {\n",
              "        vertical-align: top;\n",
              "    }\n",
              "\n",
              "    .dataframe thead th {\n",
              "        text-align: right;\n",
              "    }\n",
              "</style>\n",
              "<table border=\"1\" class=\"dataframe\">\n",
              "  <thead>\n",
              "    <tr style=\"text-align: right;\">\n",
              "      <th></th>\n",
              "      <th>b</th>\n",
              "      <th>c</th>\n",
              "      <th>d</th>\n",
              "      <th>e</th>\n",
              "    </tr>\n",
              "  </thead>\n",
              "  <tbody>\n",
              "    <tr>\n",
              "      <th>Colorado</th>\n",
              "      <td>6.0</td>\n",
              "      <td>7.0</td>\n",
              "      <td>8.0</td>\n",
              "      <td>NaN</td>\n",
              "    </tr>\n",
              "    <tr>\n",
              "      <th>Ohio</th>\n",
              "      <td>3.0</td>\n",
              "      <td>1.0</td>\n",
              "      <td>6.0</td>\n",
              "      <td>5.0</td>\n",
              "    </tr>\n",
              "    <tr>\n",
              "      <th>Oregon</th>\n",
              "      <td>9.0</td>\n",
              "      <td>NaN</td>\n",
              "      <td>10.0</td>\n",
              "      <td>11.0</td>\n",
              "    </tr>\n",
              "    <tr>\n",
              "      <th>Texas</th>\n",
              "      <td>9.0</td>\n",
              "      <td>4.0</td>\n",
              "      <td>12.0</td>\n",
              "      <td>8.0</td>\n",
              "    </tr>\n",
              "    <tr>\n",
              "      <th>Utah</th>\n",
              "      <td>0.0</td>\n",
              "      <td>NaN</td>\n",
              "      <td>1.0</td>\n",
              "      <td>2.0</td>\n",
              "    </tr>\n",
              "  </tbody>\n",
              "</table>\n",
              "</div>"
            ],
            "text/plain": [
              "            b    c     d     e\n",
              "Colorado  6.0  7.0   8.0   NaN\n",
              "Ohio      3.0  1.0   6.0   5.0\n",
              "Oregon    9.0  NaN  10.0  11.0\n",
              "Texas     9.0  4.0  12.0   8.0\n",
              "Utah      0.0  NaN   1.0   2.0"
            ]
          },
          "metadata": {
            "tags": []
          },
          "execution_count": 38
        }
      ]
    },
    {
      "cell_type": "code",
      "metadata": {
        "id": "LtB5ehic93rx",
        "colab_type": "code",
        "colab": {}
      },
      "source": [
        "#下面看一个小dimension，另一个涵盖前者的大dimension就不会出现这情况\n",
        "df1 = pd.DataFrame(np.arange(12.).reshape((3, 4)), columns=list('abcd'))\n",
        "df2 = pd.DataFrame(np.arange(20.).reshape((4, 5)), columns=list('abcde'))"
      ],
      "execution_count": 43,
      "outputs": []
    },
    {
      "cell_type": "code",
      "metadata": {
        "id": "xYBLxUJLBuIy",
        "colab_type": "code",
        "colab": {
          "base_uri": "https://localhost:8080/",
          "height": 135
        },
        "outputId": "8613a7d5-f81b-4edb-d667-55ae628da8f7"
      },
      "source": [
        "df1"
      ],
      "execution_count": 44,
      "outputs": [
        {
          "output_type": "execute_result",
          "data": {
            "text/html": [
              "<div>\n",
              "<style scoped>\n",
              "    .dataframe tbody tr th:only-of-type {\n",
              "        vertical-align: middle;\n",
              "    }\n",
              "\n",
              "    .dataframe tbody tr th {\n",
              "        vertical-align: top;\n",
              "    }\n",
              "\n",
              "    .dataframe thead th {\n",
              "        text-align: right;\n",
              "    }\n",
              "</style>\n",
              "<table border=\"1\" class=\"dataframe\">\n",
              "  <thead>\n",
              "    <tr style=\"text-align: right;\">\n",
              "      <th></th>\n",
              "      <th>a</th>\n",
              "      <th>b</th>\n",
              "      <th>c</th>\n",
              "      <th>d</th>\n",
              "    </tr>\n",
              "  </thead>\n",
              "  <tbody>\n",
              "    <tr>\n",
              "      <th>0</th>\n",
              "      <td>0.0</td>\n",
              "      <td>1.0</td>\n",
              "      <td>2.0</td>\n",
              "      <td>3.0</td>\n",
              "    </tr>\n",
              "    <tr>\n",
              "      <th>1</th>\n",
              "      <td>4.0</td>\n",
              "      <td>5.0</td>\n",
              "      <td>6.0</td>\n",
              "      <td>7.0</td>\n",
              "    </tr>\n",
              "    <tr>\n",
              "      <th>2</th>\n",
              "      <td>8.0</td>\n",
              "      <td>9.0</td>\n",
              "      <td>10.0</td>\n",
              "      <td>11.0</td>\n",
              "    </tr>\n",
              "  </tbody>\n",
              "</table>\n",
              "</div>"
            ],
            "text/plain": [
              "     a    b     c     d\n",
              "0  0.0  1.0   2.0   3.0\n",
              "1  4.0  5.0   6.0   7.0\n",
              "2  8.0  9.0  10.0  11.0"
            ]
          },
          "metadata": {
            "tags": []
          },
          "execution_count": 44
        }
      ]
    },
    {
      "cell_type": "code",
      "metadata": {
        "id": "gwyFQYG4BvAW",
        "colab_type": "code",
        "colab": {
          "base_uri": "https://localhost:8080/",
          "height": 164
        },
        "outputId": "18b47656-3e6d-43dd-ca81-9a4bf1092ae8"
      },
      "source": [
        "df2"
      ],
      "execution_count": 45,
      "outputs": [
        {
          "output_type": "execute_result",
          "data": {
            "text/html": [
              "<div>\n",
              "<style scoped>\n",
              "    .dataframe tbody tr th:only-of-type {\n",
              "        vertical-align: middle;\n",
              "    }\n",
              "\n",
              "    .dataframe tbody tr th {\n",
              "        vertical-align: top;\n",
              "    }\n",
              "\n",
              "    .dataframe thead th {\n",
              "        text-align: right;\n",
              "    }\n",
              "</style>\n",
              "<table border=\"1\" class=\"dataframe\">\n",
              "  <thead>\n",
              "    <tr style=\"text-align: right;\">\n",
              "      <th></th>\n",
              "      <th>a</th>\n",
              "      <th>b</th>\n",
              "      <th>c</th>\n",
              "      <th>d</th>\n",
              "      <th>e</th>\n",
              "    </tr>\n",
              "  </thead>\n",
              "  <tbody>\n",
              "    <tr>\n",
              "      <th>0</th>\n",
              "      <td>0.0</td>\n",
              "      <td>1.0</td>\n",
              "      <td>2.0</td>\n",
              "      <td>3.0</td>\n",
              "      <td>4.0</td>\n",
              "    </tr>\n",
              "    <tr>\n",
              "      <th>1</th>\n",
              "      <td>5.0</td>\n",
              "      <td>6.0</td>\n",
              "      <td>7.0</td>\n",
              "      <td>8.0</td>\n",
              "      <td>9.0</td>\n",
              "    </tr>\n",
              "    <tr>\n",
              "      <th>2</th>\n",
              "      <td>10.0</td>\n",
              "      <td>11.0</td>\n",
              "      <td>12.0</td>\n",
              "      <td>13.0</td>\n",
              "      <td>14.0</td>\n",
              "    </tr>\n",
              "    <tr>\n",
              "      <th>3</th>\n",
              "      <td>15.0</td>\n",
              "      <td>16.0</td>\n",
              "      <td>17.0</td>\n",
              "      <td>18.0</td>\n",
              "      <td>19.0</td>\n",
              "    </tr>\n",
              "  </tbody>\n",
              "</table>\n",
              "</div>"
            ],
            "text/plain": [
              "      a     b     c     d     e\n",
              "0   0.0   1.0   2.0   3.0   4.0\n",
              "1   5.0   6.0   7.0   8.0   9.0\n",
              "2  10.0  11.0  12.0  13.0  14.0\n",
              "3  15.0  16.0  17.0  18.0  19.0"
            ]
          },
          "metadata": {
            "tags": []
          },
          "execution_count": 45
        }
      ]
    },
    {
      "cell_type": "code",
      "metadata": {
        "id": "ZDRsIFxaBv4j",
        "colab_type": "code",
        "colab": {
          "base_uri": "https://localhost:8080/",
          "height": 164
        },
        "outputId": "69cb9a32-61c0-438a-e839-8e3ba50af716"
      },
      "source": [
        "df1+df2 #这种情况因为df1缺少3和e，所以涉及这些row和column的都是NaN"
      ],
      "execution_count": 46,
      "outputs": [
        {
          "output_type": "execute_result",
          "data": {
            "text/html": [
              "<div>\n",
              "<style scoped>\n",
              "    .dataframe tbody tr th:only-of-type {\n",
              "        vertical-align: middle;\n",
              "    }\n",
              "\n",
              "    .dataframe tbody tr th {\n",
              "        vertical-align: top;\n",
              "    }\n",
              "\n",
              "    .dataframe thead th {\n",
              "        text-align: right;\n",
              "    }\n",
              "</style>\n",
              "<table border=\"1\" class=\"dataframe\">\n",
              "  <thead>\n",
              "    <tr style=\"text-align: right;\">\n",
              "      <th></th>\n",
              "      <th>a</th>\n",
              "      <th>b</th>\n",
              "      <th>c</th>\n",
              "      <th>d</th>\n",
              "      <th>e</th>\n",
              "    </tr>\n",
              "  </thead>\n",
              "  <tbody>\n",
              "    <tr>\n",
              "      <th>0</th>\n",
              "      <td>0.0</td>\n",
              "      <td>2.0</td>\n",
              "      <td>4.0</td>\n",
              "      <td>6.0</td>\n",
              "      <td>NaN</td>\n",
              "    </tr>\n",
              "    <tr>\n",
              "      <th>1</th>\n",
              "      <td>9.0</td>\n",
              "      <td>11.0</td>\n",
              "      <td>13.0</td>\n",
              "      <td>15.0</td>\n",
              "      <td>NaN</td>\n",
              "    </tr>\n",
              "    <tr>\n",
              "      <th>2</th>\n",
              "      <td>18.0</td>\n",
              "      <td>20.0</td>\n",
              "      <td>22.0</td>\n",
              "      <td>24.0</td>\n",
              "      <td>NaN</td>\n",
              "    </tr>\n",
              "    <tr>\n",
              "      <th>3</th>\n",
              "      <td>NaN</td>\n",
              "      <td>NaN</td>\n",
              "      <td>NaN</td>\n",
              "      <td>NaN</td>\n",
              "      <td>NaN</td>\n",
              "    </tr>\n",
              "  </tbody>\n",
              "</table>\n",
              "</div>"
            ],
            "text/plain": [
              "      a     b     c     d   e\n",
              "0   0.0   2.0   4.0   6.0 NaN\n",
              "1   9.0  11.0  13.0  15.0 NaN\n",
              "2  18.0  20.0  22.0  24.0 NaN\n",
              "3   NaN   NaN   NaN   NaN NaN"
            ]
          },
          "metadata": {
            "tags": []
          },
          "execution_count": 46
        }
      ]
    },
    {
      "cell_type": "code",
      "metadata": {
        "id": "MYqiSwQqDG5y",
        "colab_type": "code",
        "colab": {
          "base_uri": "https://localhost:8080/",
          "height": 164
        },
        "outputId": "a9e382ae-ec91-46f7-8dc7-0620fe2cbde5"
      },
      "source": [
        "df1.add(df2, fill_value=0) #把缺的NaN都变成0"
      ],
      "execution_count": 47,
      "outputs": [
        {
          "output_type": "execute_result",
          "data": {
            "text/html": [
              "<div>\n",
              "<style scoped>\n",
              "    .dataframe tbody tr th:only-of-type {\n",
              "        vertical-align: middle;\n",
              "    }\n",
              "\n",
              "    .dataframe tbody tr th {\n",
              "        vertical-align: top;\n",
              "    }\n",
              "\n",
              "    .dataframe thead th {\n",
              "        text-align: right;\n",
              "    }\n",
              "</style>\n",
              "<table border=\"1\" class=\"dataframe\">\n",
              "  <thead>\n",
              "    <tr style=\"text-align: right;\">\n",
              "      <th></th>\n",
              "      <th>a</th>\n",
              "      <th>b</th>\n",
              "      <th>c</th>\n",
              "      <th>d</th>\n",
              "      <th>e</th>\n",
              "    </tr>\n",
              "  </thead>\n",
              "  <tbody>\n",
              "    <tr>\n",
              "      <th>0</th>\n",
              "      <td>0.0</td>\n",
              "      <td>2.0</td>\n",
              "      <td>4.0</td>\n",
              "      <td>6.0</td>\n",
              "      <td>4.0</td>\n",
              "    </tr>\n",
              "    <tr>\n",
              "      <th>1</th>\n",
              "      <td>9.0</td>\n",
              "      <td>11.0</td>\n",
              "      <td>13.0</td>\n",
              "      <td>15.0</td>\n",
              "      <td>9.0</td>\n",
              "    </tr>\n",
              "    <tr>\n",
              "      <th>2</th>\n",
              "      <td>18.0</td>\n",
              "      <td>20.0</td>\n",
              "      <td>22.0</td>\n",
              "      <td>24.0</td>\n",
              "      <td>14.0</td>\n",
              "    </tr>\n",
              "    <tr>\n",
              "      <th>3</th>\n",
              "      <td>15.0</td>\n",
              "      <td>16.0</td>\n",
              "      <td>17.0</td>\n",
              "      <td>18.0</td>\n",
              "      <td>19.0</td>\n",
              "    </tr>\n",
              "  </tbody>\n",
              "</table>\n",
              "</div>"
            ],
            "text/plain": [
              "      a     b     c     d     e\n",
              "0   0.0   2.0   4.0   6.0   4.0\n",
              "1   9.0  11.0  13.0  15.0   9.0\n",
              "2  18.0  20.0  22.0  24.0  14.0\n",
              "3  15.0  16.0  17.0  18.0  19.0"
            ]
          },
          "metadata": {
            "tags": []
          },
          "execution_count": 47
        }
      ]
    },
    {
      "cell_type": "code",
      "metadata": {
        "id": "nP_a_5lbFnen",
        "colab_type": "code",
        "colab": {
          "base_uri": "https://localhost:8080/",
          "height": 135
        },
        "outputId": "9be7e81c-42a3-4556-851a-0a95e2f87dfc"
      },
      "source": [
        "#这个fill_value也可以在其它地方使用，例如reindex\n",
        "df1.reindex(columns=df2.columns, fill_value=0)"
      ],
      "execution_count": 49,
      "outputs": [
        {
          "output_type": "execute_result",
          "data": {
            "text/html": [
              "<div>\n",
              "<style scoped>\n",
              "    .dataframe tbody tr th:only-of-type {\n",
              "        vertical-align: middle;\n",
              "    }\n",
              "\n",
              "    .dataframe tbody tr th {\n",
              "        vertical-align: top;\n",
              "    }\n",
              "\n",
              "    .dataframe thead th {\n",
              "        text-align: right;\n",
              "    }\n",
              "</style>\n",
              "<table border=\"1\" class=\"dataframe\">\n",
              "  <thead>\n",
              "    <tr style=\"text-align: right;\">\n",
              "      <th></th>\n",
              "      <th>a</th>\n",
              "      <th>b</th>\n",
              "      <th>c</th>\n",
              "      <th>d</th>\n",
              "      <th>e</th>\n",
              "    </tr>\n",
              "  </thead>\n",
              "  <tbody>\n",
              "    <tr>\n",
              "      <th>0</th>\n",
              "      <td>0.0</td>\n",
              "      <td>1.0</td>\n",
              "      <td>2.0</td>\n",
              "      <td>3.0</td>\n",
              "      <td>0</td>\n",
              "    </tr>\n",
              "    <tr>\n",
              "      <th>1</th>\n",
              "      <td>4.0</td>\n",
              "      <td>5.0</td>\n",
              "      <td>6.0</td>\n",
              "      <td>7.0</td>\n",
              "      <td>0</td>\n",
              "    </tr>\n",
              "    <tr>\n",
              "      <th>2</th>\n",
              "      <td>8.0</td>\n",
              "      <td>9.0</td>\n",
              "      <td>10.0</td>\n",
              "      <td>11.0</td>\n",
              "      <td>0</td>\n",
              "    </tr>\n",
              "  </tbody>\n",
              "</table>\n",
              "</div>"
            ],
            "text/plain": [
              "     a    b     c     d  e\n",
              "0  0.0  1.0   2.0   3.0  0\n",
              "1  4.0  5.0   6.0   7.0  0\n",
              "2  8.0  9.0  10.0  11.0  0"
            ]
          },
          "metadata": {
            "tags": []
          },
          "execution_count": 49
        }
      ]
    },
    {
      "cell_type": "code",
      "metadata": {
        "id": "ojLEKDBnGeDF",
        "colab_type": "code",
        "colab": {
          "base_uri": "https://localhost:8080/",
          "height": 135
        },
        "outputId": "64036e85-a7e5-4035-d23a-bb941880d3d2"
      },
      "source": [
        "#上文提及的add是相加的function，它相较于普通的+，提供了更多的option（因为是function）\n",
        "df1.rdiv(1) #这个rdiv是reverse division的意思"
      ],
      "execution_count": 50,
      "outputs": [
        {
          "output_type": "execute_result",
          "data": {
            "text/html": [
              "<div>\n",
              "<style scoped>\n",
              "    .dataframe tbody tr th:only-of-type {\n",
              "        vertical-align: middle;\n",
              "    }\n",
              "\n",
              "    .dataframe tbody tr th {\n",
              "        vertical-align: top;\n",
              "    }\n",
              "\n",
              "    .dataframe thead th {\n",
              "        text-align: right;\n",
              "    }\n",
              "</style>\n",
              "<table border=\"1\" class=\"dataframe\">\n",
              "  <thead>\n",
              "    <tr style=\"text-align: right;\">\n",
              "      <th></th>\n",
              "      <th>a</th>\n",
              "      <th>b</th>\n",
              "      <th>c</th>\n",
              "      <th>d</th>\n",
              "    </tr>\n",
              "  </thead>\n",
              "  <tbody>\n",
              "    <tr>\n",
              "      <th>0</th>\n",
              "      <td>inf</td>\n",
              "      <td>1.000000</td>\n",
              "      <td>0.500000</td>\n",
              "      <td>0.333333</td>\n",
              "    </tr>\n",
              "    <tr>\n",
              "      <th>1</th>\n",
              "      <td>0.250</td>\n",
              "      <td>0.200000</td>\n",
              "      <td>0.166667</td>\n",
              "      <td>0.142857</td>\n",
              "    </tr>\n",
              "    <tr>\n",
              "      <th>2</th>\n",
              "      <td>0.125</td>\n",
              "      <td>0.111111</td>\n",
              "      <td>0.100000</td>\n",
              "      <td>0.090909</td>\n",
              "    </tr>\n",
              "  </tbody>\n",
              "</table>\n",
              "</div>"
            ],
            "text/plain": [
              "       a         b         c         d\n",
              "0    inf  1.000000  0.500000  0.333333\n",
              "1  0.250  0.200000  0.166667  0.142857\n",
              "2  0.125  0.111111  0.100000  0.090909"
            ]
          },
          "metadata": {
            "tags": []
          },
          "execution_count": 50
        }
      ]
    },
    {
      "cell_type": "markdown",
      "metadata": {
        "id": "OQxDpQi9G-zU",
        "colab_type": "text"
      },
      "source": [
        "a.div(b)等于a/b \n",
        "\n",
        "a.rdiv(b)等于b/a"
      ]
    },
    {
      "cell_type": "markdown",
      "metadata": {
        "id": "vXHspc5SI6dn",
        "colab_type": "text"
      },
      "source": [
        "![image.png](data:image/png;base64,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)"
      ]
    },
    {
      "cell_type": "markdown",
      "metadata": {
        "id": "qzI2VaNtJHXB",
        "colab_type": "text"
      },
      "source": [
        "### Operations between DataFrame and Series"
      ]
    },
    {
      "cell_type": "code",
      "metadata": {
        "id": "_YL47_b4G9zO",
        "colab_type": "code",
        "colab": {
          "base_uri": "https://localhost:8080/",
          "height": 68
        },
        "outputId": "369e2971-799e-4847-b30b-0ab85af51aa7"
      },
      "source": [
        "arr = np.arange(12.).reshape(3,4)\n",
        "arr"
      ],
      "execution_count": 51,
      "outputs": [
        {
          "output_type": "execute_result",
          "data": {
            "text/plain": [
              "array([[ 0.,  1.,  2.,  3.],\n",
              "       [ 4.,  5.,  6.,  7.],\n",
              "       [ 8.,  9., 10., 11.]])"
            ]
          },
          "metadata": {
            "tags": []
          },
          "execution_count": 51
        }
      ]
    },
    {
      "cell_type": "code",
      "metadata": {
        "id": "CfNvcFopQeKg",
        "colab_type": "code",
        "colab": {
          "base_uri": "https://localhost:8080/",
          "height": 68
        },
        "outputId": "ed6fca62-6c06-4532-dc92-9431c558d8cd"
      },
      "source": [
        "arr - arr[0] #每一row都减去第一row, 0，1，2，3"
      ],
      "execution_count": 52,
      "outputs": [
        {
          "output_type": "execute_result",
          "data": {
            "text/plain": [
              "array([[0., 0., 0., 0.],\n",
              "       [4., 4., 4., 4.],\n",
              "       [8., 8., 8., 8.]])"
            ]
          },
          "metadata": {
            "tags": []
          },
          "execution_count": 52
        }
      ]
    },
    {
      "cell_type": "markdown",
      "metadata": {
        "id": "OGO88ABpQlwW",
        "colab_type": "text"
      },
      "source": [
        "同理，DataFrame和Series也可以做这样；\n",
        "arithmetic between DataFrame and Series matches the index of the Series on the DataFrame's columns, boradcasting down the rows\n",
        "如果没有出现那个index，则会自动补上NaN"
      ]
    },
    {
      "cell_type": "code",
      "metadata": {
        "id": "iUCgC1TqQfwz",
        "colab_type": "code",
        "colab": {
          "base_uri": "https://localhost:8080/",
          "height": 164
        },
        "outputId": "7c7ac6a1-f2f5-440e-d732-e014ce92bfb4"
      },
      "source": [
        "frame = pd.DataFrame(np.arange(12.).reshape((4, 3)),\n",
        "        columns=list('bde'),\n",
        "        index=['Utah', 'Ohio', 'Texas', 'Oregon'])\n",
        "frame"
      ],
      "execution_count": 53,
      "outputs": [
        {
          "output_type": "execute_result",
          "data": {
            "text/html": [
              "<div>\n",
              "<style scoped>\n",
              "    .dataframe tbody tr th:only-of-type {\n",
              "        vertical-align: middle;\n",
              "    }\n",
              "\n",
              "    .dataframe tbody tr th {\n",
              "        vertical-align: top;\n",
              "    }\n",
              "\n",
              "    .dataframe thead th {\n",
              "        text-align: right;\n",
              "    }\n",
              "</style>\n",
              "<table border=\"1\" class=\"dataframe\">\n",
              "  <thead>\n",
              "    <tr style=\"text-align: right;\">\n",
              "      <th></th>\n",
              "      <th>b</th>\n",
              "      <th>d</th>\n",
              "      <th>e</th>\n",
              "    </tr>\n",
              "  </thead>\n",
              "  <tbody>\n",
              "    <tr>\n",
              "      <th>Utah</th>\n",
              "      <td>0.0</td>\n",
              "      <td>1.0</td>\n",
              "      <td>2.0</td>\n",
              "    </tr>\n",
              "    <tr>\n",
              "      <th>Ohio</th>\n",
              "      <td>3.0</td>\n",
              "      <td>4.0</td>\n",
              "      <td>5.0</td>\n",
              "    </tr>\n",
              "    <tr>\n",
              "      <th>Texas</th>\n",
              "      <td>6.0</td>\n",
              "      <td>7.0</td>\n",
              "      <td>8.0</td>\n",
              "    </tr>\n",
              "    <tr>\n",
              "      <th>Oregon</th>\n",
              "      <td>9.0</td>\n",
              "      <td>10.0</td>\n",
              "      <td>11.0</td>\n",
              "    </tr>\n",
              "  </tbody>\n",
              "</table>\n",
              "</div>"
            ],
            "text/plain": [
              "          b     d     e\n",
              "Utah    0.0   1.0   2.0\n",
              "Ohio    3.0   4.0   5.0\n",
              "Texas   6.0   7.0   8.0\n",
              "Oregon  9.0  10.0  11.0"
            ]
          },
          "metadata": {
            "tags": []
          },
          "execution_count": 53
        }
      ]
    },
    {
      "cell_type": "code",
      "metadata": {
        "id": "YUD2NCC3VO1A",
        "colab_type": "code",
        "colab": {
          "base_uri": "https://localhost:8080/",
          "height": 84
        },
        "outputId": "0c3af521-634c-4c2a-8dd4-c2e305e01722"
      },
      "source": [
        "series = frame.iloc[0]\n",
        "series"
      ],
      "execution_count": 54,
      "outputs": [
        {
          "output_type": "execute_result",
          "data": {
            "text/plain": [
              "b    0.0\n",
              "d    1.0\n",
              "e    2.0\n",
              "Name: Utah, dtype: float64"
            ]
          },
          "metadata": {
            "tags": []
          },
          "execution_count": 54
        }
      ]
    },
    {
      "cell_type": "code",
      "metadata": {
        "id": "DVhaY0oJVRf-",
        "colab_type": "code",
        "colab": {
          "base_uri": "https://localhost:8080/",
          "height": 164
        },
        "outputId": "3afcfdd2-6c0c-412a-c012-5985ad9841aa"
      },
      "source": [
        "frame - series #一样，和前面的np array一样，minus row by row"
      ],
      "execution_count": 55,
      "outputs": [
        {
          "output_type": "execute_result",
          "data": {
            "text/html": [
              "<div>\n",
              "<style scoped>\n",
              "    .dataframe tbody tr th:only-of-type {\n",
              "        vertical-align: middle;\n",
              "    }\n",
              "\n",
              "    .dataframe tbody tr th {\n",
              "        vertical-align: top;\n",
              "    }\n",
              "\n",
              "    .dataframe thead th {\n",
              "        text-align: right;\n",
              "    }\n",
              "</style>\n",
              "<table border=\"1\" class=\"dataframe\">\n",
              "  <thead>\n",
              "    <tr style=\"text-align: right;\">\n",
              "      <th></th>\n",
              "      <th>b</th>\n",
              "      <th>d</th>\n",
              "      <th>e</th>\n",
              "    </tr>\n",
              "  </thead>\n",
              "  <tbody>\n",
              "    <tr>\n",
              "      <th>Utah</th>\n",
              "      <td>0.0</td>\n",
              "      <td>0.0</td>\n",
              "      <td>0.0</td>\n",
              "    </tr>\n",
              "    <tr>\n",
              "      <th>Ohio</th>\n",
              "      <td>3.0</td>\n",
              "      <td>3.0</td>\n",
              "      <td>3.0</td>\n",
              "    </tr>\n",
              "    <tr>\n",
              "      <th>Texas</th>\n",
              "      <td>6.0</td>\n",
              "      <td>6.0</td>\n",
              "      <td>6.0</td>\n",
              "    </tr>\n",
              "    <tr>\n",
              "      <th>Oregon</th>\n",
              "      <td>9.0</td>\n",
              "      <td>9.0</td>\n",
              "      <td>9.0</td>\n",
              "    </tr>\n",
              "  </tbody>\n",
              "</table>\n",
              "</div>"
            ],
            "text/plain": [
              "          b    d    e\n",
              "Utah    0.0  0.0  0.0\n",
              "Ohio    3.0  3.0  3.0\n",
              "Texas   6.0  6.0  6.0\n",
              "Oregon  9.0  9.0  9.0"
            ]
          },
          "metadata": {
            "tags": []
          },
          "execution_count": 55
        }
      ]
    },
    {
      "cell_type": "code",
      "metadata": {
        "id": "AnaEtyPkVS6E",
        "colab_type": "code",
        "colab": {
          "base_uri": "https://localhost:8080/",
          "height": 84
        },
        "outputId": "7a54081f-9344-461c-b22e-7c67f9867d29"
      },
      "source": [
        "series2 = pd.Series(range(3), index=['b', 'e', 'f'])\n",
        "series2"
      ],
      "execution_count": 56,
      "outputs": [
        {
          "output_type": "execute_result",
          "data": {
            "text/plain": [
              "b    0\n",
              "e    1\n",
              "f    2\n",
              "dtype: int64"
            ]
          },
          "metadata": {
            "tags": []
          },
          "execution_count": 56
        }
      ]
    },
    {
      "cell_type": "code",
      "metadata": {
        "id": "eSd2H6ydVhpq",
        "colab_type": "code",
        "colab": {
          "base_uri": "https://localhost:8080/",
          "height": 164
        },
        "outputId": "8a5e42f6-f507-40a1-ea4b-f5ff5f04f56f"
      },
      "source": [
        "frame + series2 #没有出现的column，那就是有"
      ],
      "execution_count": 57,
      "outputs": [
        {
          "output_type": "execute_result",
          "data": {
            "text/html": [
              "<div>\n",
              "<style scoped>\n",
              "    .dataframe tbody tr th:only-of-type {\n",
              "        vertical-align: middle;\n",
              "    }\n",
              "\n",
              "    .dataframe tbody tr th {\n",
              "        vertical-align: top;\n",
              "    }\n",
              "\n",
              "    .dataframe thead th {\n",
              "        text-align: right;\n",
              "    }\n",
              "</style>\n",
              "<table border=\"1\" class=\"dataframe\">\n",
              "  <thead>\n",
              "    <tr style=\"text-align: right;\">\n",
              "      <th></th>\n",
              "      <th>b</th>\n",
              "      <th>d</th>\n",
              "      <th>e</th>\n",
              "      <th>f</th>\n",
              "    </tr>\n",
              "  </thead>\n",
              "  <tbody>\n",
              "    <tr>\n",
              "      <th>Utah</th>\n",
              "      <td>0.0</td>\n",
              "      <td>NaN</td>\n",
              "      <td>3.0</td>\n",
              "      <td>NaN</td>\n",
              "    </tr>\n",
              "    <tr>\n",
              "      <th>Ohio</th>\n",
              "      <td>3.0</td>\n",
              "      <td>NaN</td>\n",
              "      <td>6.0</td>\n",
              "      <td>NaN</td>\n",
              "    </tr>\n",
              "    <tr>\n",
              "      <th>Texas</th>\n",
              "      <td>6.0</td>\n",
              "      <td>NaN</td>\n",
              "      <td>9.0</td>\n",
              "      <td>NaN</td>\n",
              "    </tr>\n",
              "    <tr>\n",
              "      <th>Oregon</th>\n",
              "      <td>9.0</td>\n",
              "      <td>NaN</td>\n",
              "      <td>12.0</td>\n",
              "      <td>NaN</td>\n",
              "    </tr>\n",
              "  </tbody>\n",
              "</table>\n",
              "</div>"
            ],
            "text/plain": [
              "          b   d     e   f\n",
              "Utah    0.0 NaN   3.0 NaN\n",
              "Ohio    3.0 NaN   6.0 NaN\n",
              "Texas   6.0 NaN   9.0 NaN\n",
              "Oregon  9.0 NaN  12.0 NaN"
            ]
          },
          "metadata": {
            "tags": []
          },
          "execution_count": 57
        }
      ]
    },
    {
      "cell_type": "code",
      "metadata": {
        "id": "XrquMpcsWA1B",
        "colab_type": "code",
        "colab": {
          "base_uri": "https://localhost:8080/",
          "height": 101
        },
        "outputId": "c501b196-0606-4d82-cda6-9232a2926ce1"
      },
      "source": [
        "series3 = frame['d']\n",
        "series3"
      ],
      "execution_count": 63,
      "outputs": [
        {
          "output_type": "execute_result",
          "data": {
            "text/plain": [
              "Utah       1.0\n",
              "Ohio       4.0\n",
              "Texas      7.0\n",
              "Oregon    10.0\n",
              "Name: d, dtype: float64"
            ]
          },
          "metadata": {
            "tags": []
          },
          "execution_count": 63
        }
      ]
    },
    {
      "cell_type": "code",
      "metadata": {
        "id": "uuNDJzt8akby",
        "colab_type": "code",
        "colab": {
          "base_uri": "https://localhost:8080/",
          "height": 164
        },
        "outputId": "e2d1239b-1328-463f-84cc-2fa3ccaa5363"
      },
      "source": [
        "frame.sub(series3, axis='index') #把frame各column都减去d column\n",
        "#为啥咋是每一column的减，axis却是index"
      ],
      "execution_count": 64,
      "outputs": [
        {
          "output_type": "execute_result",
          "data": {
            "text/html": [
              "<div>\n",
              "<style scoped>\n",
              "    .dataframe tbody tr th:only-of-type {\n",
              "        vertical-align: middle;\n",
              "    }\n",
              "\n",
              "    .dataframe tbody tr th {\n",
              "        vertical-align: top;\n",
              "    }\n",
              "\n",
              "    .dataframe thead th {\n",
              "        text-align: right;\n",
              "    }\n",
              "</style>\n",
              "<table border=\"1\" class=\"dataframe\">\n",
              "  <thead>\n",
              "    <tr style=\"text-align: right;\">\n",
              "      <th></th>\n",
              "      <th>b</th>\n",
              "      <th>d</th>\n",
              "      <th>e</th>\n",
              "    </tr>\n",
              "  </thead>\n",
              "  <tbody>\n",
              "    <tr>\n",
              "      <th>Utah</th>\n",
              "      <td>-1.0</td>\n",
              "      <td>0.0</td>\n",
              "      <td>1.0</td>\n",
              "    </tr>\n",
              "    <tr>\n",
              "      <th>Ohio</th>\n",
              "      <td>-1.0</td>\n",
              "      <td>0.0</td>\n",
              "      <td>1.0</td>\n",
              "    </tr>\n",
              "    <tr>\n",
              "      <th>Texas</th>\n",
              "      <td>-1.0</td>\n",
              "      <td>0.0</td>\n",
              "      <td>1.0</td>\n",
              "    </tr>\n",
              "    <tr>\n",
              "      <th>Oregon</th>\n",
              "      <td>-1.0</td>\n",
              "      <td>0.0</td>\n",
              "      <td>1.0</td>\n",
              "    </tr>\n",
              "  </tbody>\n",
              "</table>\n",
              "</div>"
            ],
            "text/plain": [
              "          b    d    e\n",
              "Utah   -1.0  0.0  1.0\n",
              "Ohio   -1.0  0.0  1.0\n",
              "Texas  -1.0  0.0  1.0\n",
              "Oregon -1.0  0.0  1.0"
            ]
          },
          "metadata": {
            "tags": []
          },
          "execution_count": 64
        }
      ]
    },
    {
      "cell_type": "markdown",
      "metadata": {
        "id": "W8UwY8Znb2uG",
        "colab_type": "text"
      },
      "source": [
        "## Function Application and Mapping\n",
        "NumPy ufuncs(element-wise arrary methods) also work with pandas object"
      ]
    },
    {
      "cell_type": "code",
      "metadata": {
        "id": "sPz2E6-Ka7kB",
        "colab_type": "code",
        "colab": {
          "base_uri": "https://localhost:8080/",
          "height": 164
        },
        "outputId": "60ea8e55-fdcb-4f41-90bc-4331cf7b220d"
      },
      "source": [
        "frame = pd.DataFrame(np.random.randn(4, 3), columns=list('bde'),\n",
        "                     index=['Utah', 'Ohio', 'Texas', 'Oregon'])\n",
        "frame"
      ],
      "execution_count": 65,
      "outputs": [
        {
          "output_type": "execute_result",
          "data": {
            "text/html": [
              "<div>\n",
              "<style scoped>\n",
              "    .dataframe tbody tr th:only-of-type {\n",
              "        vertical-align: middle;\n",
              "    }\n",
              "\n",
              "    .dataframe tbody tr th {\n",
              "        vertical-align: top;\n",
              "    }\n",
              "\n",
              "    .dataframe thead th {\n",
              "        text-align: right;\n",
              "    }\n",
              "</style>\n",
              "<table border=\"1\" class=\"dataframe\">\n",
              "  <thead>\n",
              "    <tr style=\"text-align: right;\">\n",
              "      <th></th>\n",
              "      <th>b</th>\n",
              "      <th>d</th>\n",
              "      <th>e</th>\n",
              "    </tr>\n",
              "  </thead>\n",
              "  <tbody>\n",
              "    <tr>\n",
              "      <th>Utah</th>\n",
              "      <td>1.805457</td>\n",
              "      <td>-1.126977</td>\n",
              "      <td>0.130854</td>\n",
              "    </tr>\n",
              "    <tr>\n",
              "      <th>Ohio</th>\n",
              "      <td>-0.138389</td>\n",
              "      <td>-0.288940</td>\n",
              "      <td>0.608480</td>\n",
              "    </tr>\n",
              "    <tr>\n",
              "      <th>Texas</th>\n",
              "      <td>-0.230215</td>\n",
              "      <td>-2.390799</td>\n",
              "      <td>-0.975885</td>\n",
              "    </tr>\n",
              "    <tr>\n",
              "      <th>Oregon</th>\n",
              "      <td>0.991677</td>\n",
              "      <td>0.761958</td>\n",
              "      <td>-0.105457</td>\n",
              "    </tr>\n",
              "  </tbody>\n",
              "</table>\n",
              "</div>"
            ],
            "text/plain": [
              "               b         d         e\n",
              "Utah    1.805457 -1.126977  0.130854\n",
              "Ohio   -0.138389 -0.288940  0.608480\n",
              "Texas  -0.230215 -2.390799 -0.975885\n",
              "Oregon  0.991677  0.761958 -0.105457"
            ]
          },
          "metadata": {
            "tags": []
          },
          "execution_count": 65
        }
      ]
    },
    {
      "cell_type": "code",
      "metadata": {
        "id": "guPDhmN2cT07",
        "colab_type": "code",
        "colab": {
          "base_uri": "https://localhost:8080/",
          "height": 164
        },
        "outputId": "78b9e590-5087-43e0-cbec-9eddb48e9c3e"
      },
      "source": [
        "np.abs(frame) #pandas的df也做element-wise"
      ],
      "execution_count": 66,
      "outputs": [
        {
          "output_type": "execute_result",
          "data": {
            "text/html": [
              "<div>\n",
              "<style scoped>\n",
              "    .dataframe tbody tr th:only-of-type {\n",
              "        vertical-align: middle;\n",
              "    }\n",
              "\n",
              "    .dataframe tbody tr th {\n",
              "        vertical-align: top;\n",
              "    }\n",
              "\n",
              "    .dataframe thead th {\n",
              "        text-align: right;\n",
              "    }\n",
              "</style>\n",
              "<table border=\"1\" class=\"dataframe\">\n",
              "  <thead>\n",
              "    <tr style=\"text-align: right;\">\n",
              "      <th></th>\n",
              "      <th>b</th>\n",
              "      <th>d</th>\n",
              "      <th>e</th>\n",
              "    </tr>\n",
              "  </thead>\n",
              "  <tbody>\n",
              "    <tr>\n",
              "      <th>Utah</th>\n",
              "      <td>1.805457</td>\n",
              "      <td>1.126977</td>\n",
              "      <td>0.130854</td>\n",
              "    </tr>\n",
              "    <tr>\n",
              "      <th>Ohio</th>\n",
              "      <td>0.138389</td>\n",
              "      <td>0.288940</td>\n",
              "      <td>0.608480</td>\n",
              "    </tr>\n",
              "    <tr>\n",
              "      <th>Texas</th>\n",
              "      <td>0.230215</td>\n",
              "      <td>2.390799</td>\n",
              "      <td>0.975885</td>\n",
              "    </tr>\n",
              "    <tr>\n",
              "      <th>Oregon</th>\n",
              "      <td>0.991677</td>\n",
              "      <td>0.761958</td>\n",
              "      <td>0.105457</td>\n",
              "    </tr>\n",
              "  </tbody>\n",
              "</table>\n",
              "</div>"
            ],
            "text/plain": [
              "               b         d         e\n",
              "Utah    1.805457  1.126977  0.130854\n",
              "Ohio    0.138389  0.288940  0.608480\n",
              "Texas   0.230215  2.390799  0.975885\n",
              "Oregon  0.991677  0.761958  0.105457"
            ]
          },
          "metadata": {
            "tags": []
          },
          "execution_count": 66
        }
      ]
    },
    {
      "cell_type": "code",
      "metadata": {
        "id": "rOEptqgzcwsK",
        "colab_type": "code",
        "colab": {}
      },
      "source": [
        "#定义一个lambda function\n",
        "f = lambda x: x.max() - x.min()"
      ],
      "execution_count": 67,
      "outputs": []
    },
    {
      "cell_type": "code",
      "metadata": {
        "id": "bls-6yB5dEvp",
        "colab_type": "code",
        "colab": {
          "base_uri": "https://localhost:8080/",
          "height": 84
        },
        "outputId": "89e30dbb-9c64-4270-8bc6-44ff3252ef37"
      },
      "source": [
        "frame.apply(f) #apply lambda function到df，默认是row"
      ],
      "execution_count": 68,
      "outputs": [
        {
          "output_type": "execute_result",
          "data": {
            "text/plain": [
              "b    2.035671\n",
              "d    3.152757\n",
              "e    1.584365\n",
              "dtype: float64"
            ]
          },
          "metadata": {
            "tags": []
          },
          "execution_count": 68
        }
      ]
    },
    {
      "cell_type": "code",
      "metadata": {
        "id": "2LcGgduLdHlK",
        "colab_type": "code",
        "colab": {
          "base_uri": "https://localhost:8080/",
          "height": 101
        },
        "outputId": "8d10681d-17ad-4de3-ca1f-f0eafa5e6b95"
      },
      "source": [
        "frame.apply(f, axis='columns') #以columns为据"
      ],
      "execution_count": 69,
      "outputs": [
        {
          "output_type": "execute_result",
          "data": {
            "text/plain": [
              "Utah      2.932434\n",
              "Ohio      0.897421\n",
              "Texas     2.160585\n",
              "Oregon    1.097133\n",
              "dtype: float64"
            ]
          },
          "metadata": {
            "tags": []
          },
          "execution_count": 69
        }
      ]
    },
    {
      "cell_type": "markdown",
      "metadata": {
        "id": "uGxuG9wDd4U8",
        "colab_type": "text"
      },
      "source": [
        "**apply**是以row和column为基准的,针对dataframe\n",
        "\n",
        "**applyma**p则是element-wise的，不考虑dataframe的row或者column，而是每个slot都要compute\n",
        "\n",
        "**map**则是 element-wise的，针对series的"
      ]
    },
    {
      "cell_type": "code",
      "metadata": {
        "id": "HuUp36ppdauV",
        "colab_type": "code",
        "colab": {}
      },
      "source": [
        "format = lambda x: '%.2f' % x"
      ],
      "execution_count": 70,
      "outputs": []
    },
    {
      "cell_type": "code",
      "metadata": {
        "id": "iuM9yRH6eXgj",
        "colab_type": "code",
        "colab": {
          "base_uri": "https://localhost:8080/",
          "height": 164
        },
        "outputId": "e30b4f29-5538-4022-e02d-b9479ec4081c"
      },
      "source": [
        "frame.applymap(format)"
      ],
      "execution_count": 71,
      "outputs": [
        {
          "output_type": "execute_result",
          "data": {
            "text/html": [
              "<div>\n",
              "<style scoped>\n",
              "    .dataframe tbody tr th:only-of-type {\n",
              "        vertical-align: middle;\n",
              "    }\n",
              "\n",
              "    .dataframe tbody tr th {\n",
              "        vertical-align: top;\n",
              "    }\n",
              "\n",
              "    .dataframe thead th {\n",
              "        text-align: right;\n",
              "    }\n",
              "</style>\n",
              "<table border=\"1\" class=\"dataframe\">\n",
              "  <thead>\n",
              "    <tr style=\"text-align: right;\">\n",
              "      <th></th>\n",
              "      <th>b</th>\n",
              "      <th>d</th>\n",
              "      <th>e</th>\n",
              "    </tr>\n",
              "  </thead>\n",
              "  <tbody>\n",
              "    <tr>\n",
              "      <th>Utah</th>\n",
              "      <td>1.81</td>\n",
              "      <td>-1.13</td>\n",
              "      <td>0.13</td>\n",
              "    </tr>\n",
              "    <tr>\n",
              "      <th>Ohio</th>\n",
              "      <td>-0.14</td>\n",
              "      <td>-0.29</td>\n",
              "      <td>0.61</td>\n",
              "    </tr>\n",
              "    <tr>\n",
              "      <th>Texas</th>\n",
              "      <td>-0.23</td>\n",
              "      <td>-2.39</td>\n",
              "      <td>-0.98</td>\n",
              "    </tr>\n",
              "    <tr>\n",
              "      <th>Oregon</th>\n",
              "      <td>0.99</td>\n",
              "      <td>0.76</td>\n",
              "      <td>-0.11</td>\n",
              "    </tr>\n",
              "  </tbody>\n",
              "</table>\n",
              "</div>"
            ],
            "text/plain": [
              "            b      d      e\n",
              "Utah     1.81  -1.13   0.13\n",
              "Ohio    -0.14  -0.29   0.61\n",
              "Texas   -0.23  -2.39  -0.98\n",
              "Oregon   0.99   0.76  -0.11"
            ]
          },
          "metadata": {
            "tags": []
          },
          "execution_count": 71
        }
      ]
    },
    {
      "cell_type": "code",
      "metadata": {
        "id": "eSpsYekReaCp",
        "colab_type": "code",
        "colab": {
          "base_uri": "https://localhost:8080/",
          "height": 101
        },
        "outputId": "2dbca495-d2cf-42d8-8c2f-f2816381a1d6"
      },
      "source": [
        "#单独的column也可以被认为是series\n",
        "frame['e'].map(format)"
      ],
      "execution_count": 72,
      "outputs": [
        {
          "output_type": "execute_result",
          "data": {
            "text/plain": [
              "Utah       0.13\n",
              "Ohio       0.61\n",
              "Texas     -0.98\n",
              "Oregon    -0.11\n",
              "Name: e, dtype: object"
            ]
          },
          "metadata": {
            "tags": []
          },
          "execution_count": 72
        }
      ]
    },
    {
      "cell_type": "markdown",
      "metadata": {
        "id": "ocMOjy4He7O0",
        "colab_type": "text"
      },
      "source": [
        "## Sorting and Ranking"
      ]
    },
    {
      "cell_type": "code",
      "metadata": {
        "id": "EO6NDSC4exxj",
        "colab_type": "code",
        "colab": {
          "base_uri": "https://localhost:8080/",
          "height": 106
        },
        "outputId": "9387a856-bf54-4a64-9a78-e9560caa2b6a"
      },
      "source": [
        "frame = pd.DataFrame(np.arange(8).reshape((2, 4)),\n",
        "            index=['three', 'one'],\n",
        "            columns=['d', 'a', 'b', 'c'])\n",
        "frame"
      ],
      "execution_count": 73,
      "outputs": [
        {
          "output_type": "execute_result",
          "data": {
            "text/html": [
              "<div>\n",
              "<style scoped>\n",
              "    .dataframe tbody tr th:only-of-type {\n",
              "        vertical-align: middle;\n",
              "    }\n",
              "\n",
              "    .dataframe tbody tr th {\n",
              "        vertical-align: top;\n",
              "    }\n",
              "\n",
              "    .dataframe thead th {\n",
              "        text-align: right;\n",
              "    }\n",
              "</style>\n",
              "<table border=\"1\" class=\"dataframe\">\n",
              "  <thead>\n",
              "    <tr style=\"text-align: right;\">\n",
              "      <th></th>\n",
              "      <th>d</th>\n",
              "      <th>a</th>\n",
              "      <th>b</th>\n",
              "      <th>c</th>\n",
              "    </tr>\n",
              "  </thead>\n",
              "  <tbody>\n",
              "    <tr>\n",
              "      <th>three</th>\n",
              "      <td>0</td>\n",
              "      <td>1</td>\n",
              "      <td>2</td>\n",
              "      <td>3</td>\n",
              "    </tr>\n",
              "    <tr>\n",
              "      <th>one</th>\n",
              "      <td>4</td>\n",
              "      <td>5</td>\n",
              "      <td>6</td>\n",
              "      <td>7</td>\n",
              "    </tr>\n",
              "  </tbody>\n",
              "</table>\n",
              "</div>"
            ],
            "text/plain": [
              "       d  a  b  c\n",
              "three  0  1  2  3\n",
              "one    4  5  6  7"
            ]
          },
          "metadata": {
            "tags": []
          },
          "execution_count": 73
        }
      ]
    },
    {
      "cell_type": "code",
      "metadata": {
        "id": "-aTw6G6Kf0js",
        "colab_type": "code",
        "colab": {
          "base_uri": "https://localhost:8080/",
          "height": 106
        },
        "outputId": "4f18b340-b03b-4e48-d6ab-7c51e6da8fdd"
      },
      "source": [
        "frame.sort_index()  #默认sort index是sort row"
      ],
      "execution_count": 74,
      "outputs": [
        {
          "output_type": "execute_result",
          "data": {
            "text/html": [
              "<div>\n",
              "<style scoped>\n",
              "    .dataframe tbody tr th:only-of-type {\n",
              "        vertical-align: middle;\n",
              "    }\n",
              "\n",
              "    .dataframe tbody tr th {\n",
              "        vertical-align: top;\n",
              "    }\n",
              "\n",
              "    .dataframe thead th {\n",
              "        text-align: right;\n",
              "    }\n",
              "</style>\n",
              "<table border=\"1\" class=\"dataframe\">\n",
              "  <thead>\n",
              "    <tr style=\"text-align: right;\">\n",
              "      <th></th>\n",
              "      <th>d</th>\n",
              "      <th>a</th>\n",
              "      <th>b</th>\n",
              "      <th>c</th>\n",
              "    </tr>\n",
              "  </thead>\n",
              "  <tbody>\n",
              "    <tr>\n",
              "      <th>one</th>\n",
              "      <td>4</td>\n",
              "      <td>5</td>\n",
              "      <td>6</td>\n",
              "      <td>7</td>\n",
              "    </tr>\n",
              "    <tr>\n",
              "      <th>three</th>\n",
              "      <td>0</td>\n",
              "      <td>1</td>\n",
              "      <td>2</td>\n",
              "      <td>3</td>\n",
              "    </tr>\n",
              "  </tbody>\n",
              "</table>\n",
              "</div>"
            ],
            "text/plain": [
              "       d  a  b  c\n",
              "one    4  5  6  7\n",
              "three  0  1  2  3"
            ]
          },
          "metadata": {
            "tags": []
          },
          "execution_count": 74
        }
      ]
    },
    {
      "cell_type": "code",
      "metadata": {
        "id": "Dx2Ekv_Ff7Mp",
        "colab_type": "code",
        "colab": {
          "base_uri": "https://localhost:8080/",
          "height": 106
        },
        "outputId": "aa244f60-c45f-4bdc-e387-cde3d8e34dc6"
      },
      "source": [
        "frame.sort_index(axis=1) #把column来sort一下"
      ],
      "execution_count": 75,
      "outputs": [
        {
          "output_type": "execute_result",
          "data": {
            "text/html": [
              "<div>\n",
              "<style scoped>\n",
              "    .dataframe tbody tr th:only-of-type {\n",
              "        vertical-align: middle;\n",
              "    }\n",
              "\n",
              "    .dataframe tbody tr th {\n",
              "        vertical-align: top;\n",
              "    }\n",
              "\n",
              "    .dataframe thead th {\n",
              "        text-align: right;\n",
              "    }\n",
              "</style>\n",
              "<table border=\"1\" class=\"dataframe\">\n",
              "  <thead>\n",
              "    <tr style=\"text-align: right;\">\n",
              "      <th></th>\n",
              "      <th>a</th>\n",
              "      <th>b</th>\n",
              "      <th>c</th>\n",
              "      <th>d</th>\n",
              "    </tr>\n",
              "  </thead>\n",
              "  <tbody>\n",
              "    <tr>\n",
              "      <th>three</th>\n",
              "      <td>1</td>\n",
              "      <td>2</td>\n",
              "      <td>3</td>\n",
              "      <td>0</td>\n",
              "    </tr>\n",
              "    <tr>\n",
              "      <th>one</th>\n",
              "      <td>5</td>\n",
              "      <td>6</td>\n",
              "      <td>7</td>\n",
              "      <td>4</td>\n",
              "    </tr>\n",
              "  </tbody>\n",
              "</table>\n",
              "</div>"
            ],
            "text/plain": [
              "       a  b  c  d\n",
              "three  1  2  3  0\n",
              "one    5  6  7  4"
            ]
          },
          "metadata": {
            "tags": []
          },
          "execution_count": 75
        }
      ]
    },
    {
      "cell_type": "code",
      "metadata": {
        "id": "1GiKtldrgB-q",
        "colab_type": "code",
        "colab": {
          "base_uri": "https://localhost:8080/",
          "height": 106
        },
        "outputId": "aeccbe5c-dc34-4c78-cb3a-a80f70982ac7"
      },
      "source": [
        "frame.sort_index(axis=1, ascending=False) #默认是正序，现在可以倒序"
      ],
      "execution_count": 77,
      "outputs": [
        {
          "output_type": "execute_result",
          "data": {
            "text/html": [
              "<div>\n",
              "<style scoped>\n",
              "    .dataframe tbody tr th:only-of-type {\n",
              "        vertical-align: middle;\n",
              "    }\n",
              "\n",
              "    .dataframe tbody tr th {\n",
              "        vertical-align: top;\n",
              "    }\n",
              "\n",
              "    .dataframe thead th {\n",
              "        text-align: right;\n",
              "    }\n",
              "</style>\n",
              "<table border=\"1\" class=\"dataframe\">\n",
              "  <thead>\n",
              "    <tr style=\"text-align: right;\">\n",
              "      <th></th>\n",
              "      <th>d</th>\n",
              "      <th>c</th>\n",
              "      <th>b</th>\n",
              "      <th>a</th>\n",
              "    </tr>\n",
              "  </thead>\n",
              "  <tbody>\n",
              "    <tr>\n",
              "      <th>three</th>\n",
              "      <td>0</td>\n",
              "      <td>3</td>\n",
              "      <td>2</td>\n",
              "      <td>1</td>\n",
              "    </tr>\n",
              "    <tr>\n",
              "      <th>one</th>\n",
              "      <td>4</td>\n",
              "      <td>7</td>\n",
              "      <td>6</td>\n",
              "      <td>5</td>\n",
              "    </tr>\n",
              "  </tbody>\n",
              "</table>\n",
              "</div>"
            ],
            "text/plain": [
              "       d  c  b  a\n",
              "three  0  3  2  1\n",
              "one    4  7  6  5"
            ]
          },
          "metadata": {
            "tags": []
          },
          "execution_count": 77
        }
      ]
    },
    {
      "cell_type": "markdown",
      "metadata": {
        "id": "RwSXO3Nbgbsl",
        "colab_type": "text"
      },
      "source": [
        "sort index用sort_index()， value的话用sort_values\n",
        "\n",
        "如果是sorting的话，NaN会放到最后"
      ]
    },
    {
      "cell_type": "code",
      "metadata": {
        "id": "l2q52UtLgLwr",
        "colab_type": "code",
        "colab": {
          "base_uri": "https://localhost:8080/",
          "height": 135
        },
        "outputId": "cb92e6bf-1652-4280-e84f-a6fb10f59678"
      },
      "source": [
        "obj = pd.Series([4, np.nan, 7, np.nan, -3, 2])\n",
        "obj.sort_values()"
      ],
      "execution_count": 78,
      "outputs": [
        {
          "output_type": "execute_result",
          "data": {
            "text/plain": [
              "4   -3.0\n",
              "5    2.0\n",
              "0    4.0\n",
              "2    7.0\n",
              "1    NaN\n",
              "3    NaN\n",
              "dtype: float64"
            ]
          },
          "metadata": {
            "tags": []
          },
          "execution_count": 78
        }
      ]
    },
    {
      "cell_type": "code",
      "metadata": {
        "id": "Bo7LQtzOgp5e",
        "colab_type": "code",
        "colab": {
          "base_uri": "https://localhost:8080/",
          "height": 164
        },
        "outputId": "bc86da37-8c0d-4de6-b822-8cf0ba6e320b"
      },
      "source": [
        "frame = pd.DataFrame({'b': [4, 7, -3, 2], 'a': [0, 1, 0, 1]})\n",
        "frame"
      ],
      "execution_count": 79,
      "outputs": [
        {
          "output_type": "execute_result",
          "data": {
            "text/html": [
              "<div>\n",
              "<style scoped>\n",
              "    .dataframe tbody tr th:only-of-type {\n",
              "        vertical-align: middle;\n",
              "    }\n",
              "\n",
              "    .dataframe tbody tr th {\n",
              "        vertical-align: top;\n",
              "    }\n",
              "\n",
              "    .dataframe thead th {\n",
              "        text-align: right;\n",
              "    }\n",
              "</style>\n",
              "<table border=\"1\" class=\"dataframe\">\n",
              "  <thead>\n",
              "    <tr style=\"text-align: right;\">\n",
              "      <th></th>\n",
              "      <th>b</th>\n",
              "      <th>a</th>\n",
              "    </tr>\n",
              "  </thead>\n",
              "  <tbody>\n",
              "    <tr>\n",
              "      <th>0</th>\n",
              "      <td>4</td>\n",
              "      <td>0</td>\n",
              "    </tr>\n",
              "    <tr>\n",
              "      <th>1</th>\n",
              "      <td>7</td>\n",
              "      <td>1</td>\n",
              "    </tr>\n",
              "    <tr>\n",
              "      <th>2</th>\n",
              "      <td>-3</td>\n",
              "      <td>0</td>\n",
              "    </tr>\n",
              "    <tr>\n",
              "      <th>3</th>\n",
              "      <td>2</td>\n",
              "      <td>1</td>\n",
              "    </tr>\n",
              "  </tbody>\n",
              "</table>\n",
              "</div>"
            ],
            "text/plain": [
              "   b  a\n",
              "0  4  0\n",
              "1  7  1\n",
              "2 -3  0\n",
              "3  2  1"
            ]
          },
          "metadata": {
            "tags": []
          },
          "execution_count": 79
        }
      ]
    },
    {
      "cell_type": "markdown",
      "metadata": {
        "id": "Emgb2gwUhNSc",
        "colab_type": "text"
      },
      "source": [
        "sort_values()还可以specify是sort哪一column的value"
      ]
    },
    {
      "cell_type": "code",
      "metadata": {
        "id": "xtwQHZpBhMWl",
        "colab_type": "code",
        "colab": {
          "base_uri": "https://localhost:8080/",
          "height": 164
        },
        "outputId": "fa88f9f5-83ad-4603-fcda-01256fb410e1"
      },
      "source": [
        "frame.sort_values(by='b')"
      ],
      "execution_count": 80,
      "outputs": [
        {
          "output_type": "execute_result",
          "data": {
            "text/html": [
              "<div>\n",
              "<style scoped>\n",
              "    .dataframe tbody tr th:only-of-type {\n",
              "        vertical-align: middle;\n",
              "    }\n",
              "\n",
              "    .dataframe tbody tr th {\n",
              "        vertical-align: top;\n",
              "    }\n",
              "\n",
              "    .dataframe thead th {\n",
              "        text-align: right;\n",
              "    }\n",
              "</style>\n",
              "<table border=\"1\" class=\"dataframe\">\n",
              "  <thead>\n",
              "    <tr style=\"text-align: right;\">\n",
              "      <th></th>\n",
              "      <th>b</th>\n",
              "      <th>a</th>\n",
              "    </tr>\n",
              "  </thead>\n",
              "  <tbody>\n",
              "    <tr>\n",
              "      <th>2</th>\n",
              "      <td>-3</td>\n",
              "      <td>0</td>\n",
              "    </tr>\n",
              "    <tr>\n",
              "      <th>3</th>\n",
              "      <td>2</td>\n",
              "      <td>1</td>\n",
              "    </tr>\n",
              "    <tr>\n",
              "      <th>0</th>\n",
              "      <td>4</td>\n",
              "      <td>0</td>\n",
              "    </tr>\n",
              "    <tr>\n",
              "      <th>1</th>\n",
              "      <td>7</td>\n",
              "      <td>1</td>\n",
              "    </tr>\n",
              "  </tbody>\n",
              "</table>\n",
              "</div>"
            ],
            "text/plain": [
              "   b  a\n",
              "2 -3  0\n",
              "3  2  1\n",
              "0  4  0\n",
              "1  7  1"
            ]
          },
          "metadata": {
            "tags": []
          },
          "execution_count": 80
        }
      ]
    },
    {
      "cell_type": "markdown",
      "metadata": {
        "id": "t4lmKfzbhkG7",
        "colab_type": "text"
      },
      "source": [
        "![image.png](data:image/png;base64,iVBORw0KGgoAAAANSUhEUgAABWgAAAGgCAYAAAA3h46OAAAgAElEQVR4Aey97VMc1532P3/AvOGlXqhKVVNUUVuqoiiKSqRS2ZAKin1TQV6ntKwflkX5RUa+dxXkOEbrjSXntlGceLJ2UOKgJOZ2zG3HODGrrLDXrFbYlpQVSjR2wBKWkQQyWBpJSCDJAwYx0NevuqcfTvd093T3NAxIl6vkeeo+53s+5zpnmKu/fU4E/I8ESIAESIAESIAESIAESIAESIAESIAESIAESIAESKAgBCIFqZWVkgAJkAAJkAAJkAAJkAAJkAAJkAAJkAAJkAAJkAAJgAYtRUACJEACJEACJEACJEACJEACJEACJEACJEACJEACBSJAg7ZA4FktCZAACZAACZAACZAACZAACZAACZAACZAACZAACdCgpQZIgARIgARIgARIgARIgARIgARIgARIgARIgARIoEAEaNAWCDyrJQESIAESIAESIAESIAESIAESIAESIAESIAESIAEatNQACZAACZAACZAACZAACZAACZAACZAACZAACZAACRSIwMozaKUZXL80iqH+o+h582XEm+tRedde9M/7JCiXkxzB4PFeHOj4BXZvvw+V8QTSPovh4STgm0BYGvZd8TI6QWfQh96u9sw4vq8dQwvLKEaGsjgE0ilclefexBG8+1pm7l2/sxc3F6e2UEuVZq7j0tgQ+o+8izfb42jeWsvvDS+EV3Cfe2neoh/D+XLREbMCEiABEiABEiABEiABEig0AXeDVhpFV8P9aHnvAmakPEKVppHs+xUa7t2HQb9GqlhtOoF4LIJIxPxvVbO/H/fSWCfqLGVEImtQ13ke+TRTDJXPfRJYblrzGb7nw0PSsOf6luOBU0ewa7V5DMtjevWuI5hajvEypvAITPSgqcja96uxqePsMp975zHR8ziKsr43itHQNbrMYw+v+wKVtGL7PFBrwz+J82X4TFkiCZAACZAACZAACZAACSxDAu4GrcMPA6tB6vV1tLEb42FAkFIY3FenGrV5/EBOTyDRep9azj1o7ac9FEb3BCpjuWotUGM8nBSWhj1UtWwPIYNl2zWLHlg6iZ7mCnXurUY8sRLyZ1Uqptg3oW1wetFx3RYVmLitsD5fDh3A+XI59AJjIAESIAESIAESIAESIIFFI+Bi0EqYTcRRKmcMRdej4flXcaD3GBKJhPHvz2+geW008yM7+iBaD/3Z+Ew+7sQRvNvxLOqKM8fEQltCYAZD7ZvVH/f5/ECexUjHQ5lyih5Hz0Q+6b159JFnc7II6+J/wVLaAdLMBM6f+hPefe2X2NPciM3f2ud/OYmcaBZXa1LqJN7cuQmx2GbE+64uk2y3sDScE+4yPkAYf5HNaB+aCRTr8uzfQE25g05KIRGvLPzcG4j4BI7sWpeJffXTODJ1e953Ef64Wsl9HkgoIZ8UznwZclAsjgRIgARIgARIgARIgARIICQCLgatZiCtw47uUfu1WcVbF8taHYw7+dbQJ7Aq1CUELqOnqTSEH8hX0dtcnilnY6HWv5Rwq38v1mfdOmu9DVg2yh9E+9AS2LPykhSJd9De0oiqmGyuF6OqsQUvd/UiMZREKh22IbGYWruF0c5vI6ryDS2LO+8BGJaG8w6kgAUI4y+w0bVc+7eAWAte9TxSw2/jJ+0fYdYpFuk8OuvWFHjudQoux/sLp9G+cZUSe7ShC8mwp8Mc1S/Nx37H1W3e50sDPUctYcyXOargxyRAAiRAAiRAAiRAAiRAAgUj4GzQSiPofKAYJY+9iysOP0Dn+1tRphpfRU09mHBqxng3GqPlaO696nSEv/fn+9FalsnKzctwE8pZ09LnbCb4i87n0ao5WbwZzc/HEY+7/PvVkcU1A6SbGHmvHc01JRnzoaIBz77ai8GrM4ubdbqoWpvGYNumjBEUWfoMZEcxCNrLS8OOFayAD+ZPom1DUUZrgZc/Wab9uwLwL06Is0geewn1xWVo6rnsXIVw18CKW3tY+T6TL6AVYUPbSRTovgtntqF84mdc3QF9HgrTPAsJZb7MMwaeTgIkQAIkQAIkQAIkQAIksGgEHA1a6Uo3tq1yy9icx3j3djUzMccPVWVjpErEE6lQGiKNdGCTYgyvwsb20wi68buxWVgJGrsvhhKb70IUczIGvxud+a7H9YQFzIwdRlvjhkx/RqvR1H4UYzNBybpWlvXh4mpNQjr5AfbuaETTnv0YTC0POyUsDWfBXElv6EZXPuN4efbvSuqG8GJN4+rhFlRGZfPyIXSMOObPYmGoHRuVObyAc2+ghkuY7duDNUrs67DriONlyUClL5+TvI6rO6HPl0mvhDJfLpO2MAwSIAESIAESIAESIAESIIEsAg4GrYTpxC+xefdBTDhkzwI30NeyQc1MzJEdOz+Ijq3Po/dqGObYAm72PolVef9AljB15GmsVsrJZx3bLKb+3lCWicjBz1+JPo/Wsp/kjOQoYrXP4b9GpxY3Y9YU4XLWminQEF+EpeEQQ1ryou4Uo2vJwRawQuEW7NI4ErNOXx7ysjePo6jQc28gUuI6oFvQOTYXqJTb56Q7oc+XQ29xvlwOvcAYSIAESIAESIAESIAESGAxCTgYtB6qFNcQzJEt5aE0H4cIt17mtbGXUM6qJ9F7c2myRc0NVY26oiZ0X0mbP1qSV7NIHnoWVUrG2ypUbHsNp5ZJhqmp+QXTmimKEF8I2stLwyGGtORFCUZXdDu6x8O4eLPkjWCFIgFh2Q73OwKm0N96T+biXuC1h8WKl/K5sHb0hjYM3umyvSP6fCn15VQX50snMnyfBEiABEiABEiABEiABG4XAsENWmENwUioP7LTSF295rwRlWjW5bWx10V0N2bWWo3UdWLMKdlrUXv6JhLxahRmoxnRnI2ieFsXRkPf/CskeIumtZDi81tMaBr2W/FSHp9jHEMwuvIax0vZJtblRsBYtqMYDV2jzln4ov4LNve6tcTlM8+GpEsZt9FHd0Sf2/ZXrvnN9qQ83uR8mQc8nkoCJEACJEACJEACJEACK4JAYIPWWEMwgmAG5wJmrp7Gka7foKWpHjXlmV2xI8ptrxFEnLKTbvaieZW8xmEE2Rt7zeLq4EG82tKIqlgRYlU7sO/YRdjmps72oWWNXE4UZa39Hjd6mcP1ocPobH0SW2vKEY2sQvnmp9B+dBQzQQxeZdOPGDZ1nHU2MxZFRhJmPn0FdUUZjtHqF3Hi5vJNBctHa9LMBSS6foptVeW4r+OMh/WKQ+5ju/4LS8OYxXj/fsQbNqBkx7sY1zU4i/HE69i1eQMqNj+NNwdvuOgr3/YGHMeC0ZU9jjPQpJlRHO3Yg8aqYkQrmvDGUPYa1t76V15j+Sg65Hmh4nvoTtrdli5z6EX7rgZUxtai9kcfCDztOhFAehLDx/ajbfc/oVaZv4pRWdeElg51/WZpBteTw+jv/R2e/9c/4IznJP0FzCQT6Io3YVPtU3jXLt70BIZ627Fray0qKurR2nfVto8VPvv3Ymd9FYorHsNbw9MOjbG+7UUX8jqlB7G7arW61E1mPtHncG0uj6zDju5RYx7WL7g4rV0u1/2eOo+vRsWjb2F4The3NVDhtcztQ7zdvgdNdZWIRSKIlt+H7S2v4eiY32Vb0kiNJkxlmdu12sO8LSF9fQi9r/4I22vLEY2Wo7bpRXQPuY1HoTmWp1LqHN5r34ma4lrsOWbf3/Ip0uQH2F3xKLqSdt98cp/1Il63DsW1cRwZtzsGcB5Xy63PLZBML8OYHwPObwh5zglpvjTh4QsSIAESIAESIAESIAESIIFlRSCgQSuuIWhnlLq1UUJ6/K/oin8bFUXlqN2+C8/Hn0dL83dMJq3TLbLzg23YoPzwLxV2CZfLPIHXdm5SfpSbfkiXPIXeiWzz0TD9xHKc4paQnjyJrt33o7i8Dk+0PI94y3bUxOR1WyOIRGtcfzA7lZqJYTPah2acDlmc9+cG0b5pjRr7JsRPTNiaO4tTud9Sg2pNNik7sKNSM49yGfGL08d2rQ1Fw+kLOBx/CMWaCRaLI6F4LWJmtGrAN3ZjPCuQfNub3zg2Mu/sxt88UkP7sbtWzXBX2mjNyvTYv9INDO3/IWq1sRrJ3qxQSp1Fj8hSrs916Yl5pIZ7EK8rRbTyMbzccwyJE4dxIN5g9IfWL7JJWPWv6PJqykk3Mfz2Hpd4FzAzekipW5znsudLKx9ZC142Y/Oji3lcHzyErq4udHW1Y1eNOqesakDrwWNIJBKZfwNjSAn+qjH3WtfeNuqWzVWjfbnWCJe1+BHelOfninrs+mUH3up6Ay8/24AKZfmWCCLFW9F+yosxOo/UyPtob96EYtnc3fUc4vHnsKvpAVTqGpJjuwet/VNZo0p/Q+7HnjjqSipQ8/CDpu+2SHEzehyMUf180xPZFH3f1OdFTT2w355sGkPtDyIacfpeEZaXsNWDVTfWeXO59LkJUPaLMObHoH+nLMKck/98mY2I75AACZAACZAACZAACZAACSwvAgENWmENzYiPXbi1H63FZaiL/yeGrlsy2fTMQqsZo0FLI9m1DVHlx7v2A3QOk/2vYltFGWqa29E7OIrk0H9gZ0WR+gPf3gAyNqnRytHqsD7OIzXYiR2VJaja1Y1hfY3WeaQSL6JKNRKcfzBby9Neq20p/SG6B46iuz2O5q21KJcNhVglNjc+idbOw9mMtNMDP87hYtej6gY9UZTsPIQJScuW+xfUVxYjEi1HzdYnsXd/AskZz2l/gSNyPzGA1tLX0P/qdlQU34UauT1KH9npQKt5sfpYK198zF/DUmoA7Q1liJZvxL1a5rmScT6P1Mnf6JnRmXavRnXrhzDnTebZ3rzHsbhJ2kPoGJkVAGkGcxSxqq3Y9Xwc8ZbHUd+wF32T6oUWr/2b/hy9e76FWGw9KjVOEXFjJ9lofQcttWWoaHgOr771Epr0eaPRIQNxHqlTv0VDcRTR2pfQr88HcuriOI7srlL1thqV236K13o+8j6G0hdxbO8WlFQ8gK3fKlXLEeenWSQPv4i6kg1oiP8BHxxsNfq6vgtJjaJ0A6c6tqOi5EG0vPEu/rP1IX28u98tkIcuFk6jfWPmLoio7QUBLTjxgovY9/I8/jvsqCxHTfM+dB/5L7TVawZ9tqmulQZo/VGE4oZf48S4WUsXu59AiTpHRzfuw6lbglNsFJJ5JuvqjSdQGS1Dw75jln6TkE6dQffOyky/uBr4KQx1NKKk+ic4fEWNJ30Np97618x639Fvo3P0lrV2x9fS5FHsqSpB5cMPoFIznB2WBZEudmGLcmeEEzMJ030/wlqFiSWD2eu40iItWJ9rAdg/5j0/5jO/Lcqck+d8aY+J75IACZAACZAACZAACZAACSwzAgENWmH91lyZRFqDZdOgfSuKI2tQuzdhyqjSDjEyq5wypiZwZNe6zA/kNXvQNzuT2eSq5CHEe88LywyIpp41A0iuLbP2q2JgKeU4/WgXfvzbrdGaTiAey2R6+TdohTXlVAPByBgzsseiFdvR4SnzS6OY4/HWX9G6XjOvK/FE+++wr9km81gzNaqexaGkaHrkKD/0j/1qTc4ga0D1zk70j9/ESMdDqtElmkFikIvZx2I92vM8NTx3Bp1bNqIufgijM7KOM4aRor+bxxGvXo+G9r9gPHUNQ90vYMfuP2BQNBFFQyuIpkMZx0IWX2kciVl1/GllF29B66EhXLddE9lr/07hVNuDqNrxO/RPTuicIvp4V/u9ZCN2vNGPSaWuMXTVxzJ60TOStX6THyWkR7uwrTiKSPRBtA+ZbW/589lEHKXK2PFyC7xYthjvFMY6t2Ti0DYwlKYw2vMMqtdtx6v91zLLBQjzj75MRPpzHNpdg5L6l3BMHbfpRFy9syCG+q4xsVLheZ7jYKIHTYoxaDH9hBoyT4W5V+971ZQ3zeMpo88iuc3ySMkT6L5oM09JI+h8QO3TSDXiiZtZESlvKNzuRTRShob2AdvvJ+AqepvLM/2yqQMjtl8bEqb796I6atf/s0j27sOP3jzpUL5NaDOD6Gi4R43pPDrr1CxlO32aLhC4XJBKdqFe0WglWvquq5V6HVdCjAXpc6F+u6f5zo/aHBTo7xRxDIc158iNzGe+tIPE90iABEiABEiABEiABEiABJYjgWAGrWAMuN8KrDV5BqNdTcrtv0UPvIZztusJCplVTpuOKWu2ZszFoqb9OHnoWVRXP43u4ZuWW/TlLMVG1ZiLIBZPGOsfyiFJZ9GxKXPru1u2V2YtvyJEihrROZq9DIGRrbQeO3uvWGLQ2u7wKI2j/+D7SAyN4WpKXQdQmsHk+b/iv+R1BsXbaYsfRafntSMd6lPeFrOnZBO4BDU79qLr2KdIKjHIWWJJDPb+Bk360gARFNW9gk8DLbLrFovHz3xrTUL6xg1MKeaJYII7rGm8qH1s18S8NTyFscFR1eDRDMVV2PjyURyPb0b1nqOYtDWOMsHk196QxrEw/vRb8xVjpBHr6l7EYdcLAl77V8LM55/hkmy8CptSZS6kaOZsDXYf+tyYG4S+sZ0XpFF0bclkdRZt68YVO866+WUz79jpQX9PiBeCia8YgRkDs7racrFEv+NANQM1c7bhtzilm/LCvOpyMS0/XUiY7duDNYrpZ122QG+gKkBj7s30hdq2qifQaVorWbgwoxu55rL0mCMl2OK4KZl4sc7ONJW/D66jf+9m5c6MooY3nTdL9LAOKPS+87KchLk9tq+kGzjz4Tl1vAu6yDJoNWNYu7jnbMZrF0Kjm9oxpH8Xex1XWpSF6XOtdufHfObHfOc3YQyHNefIDc1rvnQmxU9IgARIgARIgARIgARIgASWF4FABq001ok6NcPScTMvvZ0S5s69hgfk7CrbrDPtQOPHZ7ShC0kb80NKdqFBucUzipJvfQv3Wg0LrSiIBu0a1HWeN5unurHhlu11A4n4PYhEirAu/hfLLeLyJirnsH+HnM1bgtr4MVdTTA/L8xN5Dc7X0Shn6imctaUIPBfgcKBoVqxCddtJWBaZUM+TkL7YjR0lWv1l2NFzyczQoYaw3/anNUvt+kZwEazedQTZK0YufR+HpmG5qXr7KvD4z57FfRtzbfaWT3vDG8fQx59mLF7GiX3fQXHVi0joxqKlL+1e6u136l/1JFN9n+KmvERBicWclX0QfX6xmxck3Orfi/XKePSSnWiXuW/XCJv3dKNYjuMjXDq8B1UlTeiyXCQy1jLegJZjn+FUeyPWmcxZuWxjXnW+mJaPLuQ6ZoVMdXEJCZu26X0hG5h/xQXlIpvFeJZP0zcSi0A38U3FaTFHEFn3UySmbb4wlOPF7wI703weN0+8iGr5e8X1+wkw1gF1W9ZHu2gSgWNWr6kdfl4IWcVWg3ZuCB0PFKPovs24X9lE00l/Uxhsux+RSBV2Hxm3n9M9jatC9LkfVn7nxxDnNzlMXefyHBd0zlHbayrrLKR0wPnSJz4eTgIkQAIkQAIkQAIkQAIksLQEAhi0EqaOPI3VqkFr/+NZaISYdbalCxedfkebTImTyN7Wy1xvpDjbsDBqFW4JjKzDriPm7VTm+1tRpsTvnO1lZMfWoLVf3D1+DpOn/gN76koRid2P3ftPe79d1QjQwzNxrdhcmxZ5KE4+RMjEiUSclpHQytJ+yAddwkErJ59Hc5/n1JqlKi1TLBKxN9SWvo/N7clHw3JTDcNoNWKxe7Gnz32zt7zaG9o4Bozxtwlt/UM4tFu+tVzWeBO6r9jvKm/pWuVlrv7VzjHqq8XP3v0Ddq6rNWfOKgeKmabZcwYgXtwQ14XVask8Gqap89xiPiP7ldGvd+GpV9uwbW099p20bnA1j/Hu7Sq3f8LLv3sS66r24LB18ylhndCIw235eelCCV/IVC9rRX/25K03UuSz/cUW1K1tRMeQOL9mDjWOs7nAJmtfX2u1COtb/wrnFV1zGLTChomOWdFKSKI+3OZOUSc+N4jTKTk9cTJo07jSsxMl0Tq09X+A1rLMhbWsO0dkbhOHsLNkFSp2f+B4UdHbuFr6Pnei4vS+MY48zI8hzm9yPOHMOZmWGWXlN186ceL7JEACJEACJEACJEACJEACy4NAAIN2BkPtm9XMTodbRvW2SZhO/BTrFDPULQtTwtzgPlS7mqbiD1+X7B+lbuH2WG0NRz2mOWN9x4jTuqRCG5XlFhaQTo2hv/d3eL5hPYrKH8BT7b2LsIGXHqTyxMjok01Su13DhTgVdtrtrcKjaHr5XC7AMEkiiOQwXsyRh/VKbF8urVnrlI0ZbUM5u34Wyg7Ux8L5Xtgr4YWlYbkwceMYLxnWQry+2xvmOBYy71ZtwbM/vF/d9E/WrNut6n77VzteqC+6HjX3VqOhYxDZC5bkyjQVDCnHNVGFukp+iCM3g2ywJxqBsrG0ATu6R41lGLRmiZmx0TWIlW+zNTqNOcQuK1guLB9dqMEIt/67r8Utzr1yxmoN9hy7apPFKR5nZ4bewmjnt1Xd2JnpOiRLdq/1tv8F3DzyQ3UTsVyG+g30tWzIfO9lfaeI9cl7xf03/kXfbE5u573Y1X0mhAt5gkGrr6UMZJZ6iKmbAQoZvOLGcUqIN9Hfeh+Kqp7HMW3DPXPogHL3idu8qZ6w5H2eFWiON/zMj2HOb3JYwjyQ15xjKSuv+TIHLn5MAiRAAiRAAiRAAiRAAiRQcAIBDFphoxSb7FRzi66jr0Xd9Tq6zWFXdPk34Qi6tqmbrziZpnKGS0Nx5geyww7Wet2ut8cK8TuZjmLWWfmDaNp+H8qLN6Jxdxu6jg3h6kwQ40WPzvsT0VC1y3gV43QwCU1ZYcL6mBHrLbJ2Ufk93q6MvN4T+iqn1qwVCefa6UVkF6SPxfO9sJfDC03DcmGC2Zvj1myFjBiv7/aGOI7FjZYicobhszh0uge71OU0zOtiWvtUfJ2jf/VDRWO1CBX/8t8Yt8vi1zP4I7DPNBWMLyeDVs/GXINN7YMOy4fogTk8ETbRihQ5ZzqK8UbKsa1rxMbEFTO2HYzMvHSRaYKxDEmudVeFPpM3YWobsDHK5TKF4+zWIxfHUSTHkgqikW29yCVdQPe2tZnvlKLH0TPhlPor3P4uj3WHTGSjQ7UN17QlYuSLD2Vo+FXCMWvVONftmZgNrG2cppqu1dryJgK7uk6M6VqXMHPqV6gt2oT4CbdMe+F8u3lTDW/J+9wNi+1nfubHMOc3OZiw5hy5LKE/8povbSHxTRIgARIgARIgARIgARIggWVEwL9BazIGcvw4nj2BeKn6I9Xxx940hjsfVTYQU9ZbFTKDTJwE01Xfsdx0gPZC3AjrHsQTN7QPMo9C/I7ZXvru1BGsamjDB6c+w+RSmbJitKJBa2cgpFO4mkwi6fLv0vUZI0PNr+EqHp/TlBADD+m50FeRnEaMpU5de1GUxk8ga3/3fPvYL3s5vLA0LJclbELjtGaziUg+7dVZRhDJdxyLZVU8hR5lQzBhPdGIzZg1NUR9oZfj0L/aOQLzqG5iaR8aj8bt0E6ZpkIGZcQu21LbYCiK4i2dGNY3XzLq8PRMNExLnkKvg2loxBtF8aMHbNfsNpv4DhfI8tGF0iAxU3EDWvos863YaHE8V+1Fv9PGg3rfRmA7R4vzop2BK9Yp8lz7I/SJa9Xqa3u6m65Sqh/76tSLg5EI3L9/tMolpJNHsbe+TL3bJGPSbuk8E9C4l8vNNmgz67uLd5QIWbbiRThljdpyF1NcjVtn7zauCtDnGlavj37mR73NIcxvcnyhzTlyMq7wN1Q+86VXbjyOBEiABEiABEiABEiABEigYAT8G7Tj3WhUNuqKIOJkpqrNMdayc/ihjXlMHnse1Rsbsf3+WOaHbNZtmZnCjNvt3TZokY0rLSsqipLH3s3aad1L5o9Rl92mMkvYV4KBYMqEDRqCYMbk6ju5CpGD/SZbQQPxeJ4PrVlLNLRnZ6aZ22a3VqO1vDBeGzzz07ASi64NJ0PRHLFRt39NGyzzH8eGsViMhq5R9eKBuMRJBEVua1WrzTJisu9frfVGu8X6tE+1R3FZgWrEEze1D4RH8cJPBNHal9CvbWgm3cRw99Ooiq5G5Y5ODGrvC2d7fWosSeCWjSoaZE7xesvYNvj410WmTWKm4nZ0jztloQLG3OuuWaNvHZY1ES8ciSakDWRptBMPKN9X2Zs9Gmt7Om1EJnuiY+jZeQ/uqqlWLyLmGLuWGKSZ8+jR1liWs29L40jM6mmtlqNzvbQYtBdH0P1oBUp2HsKEXqRwe72+FEMKp9oeQImHCwcGe7dxVYA+z4XG+rmP+dFoc/7zmxyGMabynXPEdcbFsvzPl1Y8fE0CJEACJEACJEACJEACJLD8CPg2aMUftdHGbow7tkm8vdbux796G+i6begYPIa2DUWIRJx2nhY2xIlUIp7I3lQmE4Z6G6f8g9x2EzExJodbfuXf5Ik4Yupt696ypRwh5PGBhNlEHKVyHNH70NpvZxr5LF7MYMuZkSqu4VqJlr7rPivL/3DvWrPWJcTusLTG0vdxWBrOtNUwAZx1LFIJ3l5xzOQ/jid6HkeRMrYsG20Jm/REci7ZkLt/M20XjotY6hPhiLfB66aW6YDMC+kSDj+tbmgm325cfh+2Nz+G+soSxGp2or13CNfTulNmU0CutzwarxCWQXCLVzepnLMhg+tCbYu43MCGNgw6+rOijtw0K/aZg/ns2aCdxXDHw+pGao+i6+Kc0AHieLTTtfxF8DkO7a7B2h37MXDge6pu7dbEFYq1e5oeRfeOdWomrbY0gd2Bud6T2TSq5TTgpfYnUFKyEz2mjfXEY+S6ZnHzxIuoXvsEui9m3UdgqVBg7zBvKicUos8tkeZ66X1+FHVppwM/f6fIUQkM855zxAtHlvnL13yZixY/JwESIAESIAESIAESIAESWA4EfBq04uYtTmaq1izxh6L1h4/6o6ekNrNJTLILDUqWk5adJCE9eQpHB66pGXZCxo6bQavcxlmsbIR0274AACAASURBVMry9OFLxq39WkimdTu1W37lWN7Cr99L6seLxqD7eoOzSB77NXa3O62lqFdsPJFSSH5+3Wa9SOMQ5Zl0Bb071yMir9W4NxHCBjNyqSn0t9aoP/DdMqTk7LsRdD6QyWq2WxdUmhnHmf6TGLkumh6WNuT10o/WrBUJ6/Zpt+RLN3H+zBWd+6L2sTUc5XVYGpYLE7LkchrtmWCCtzfMcSxsxJV1a/o8JnqfUjdssma/S5hPz+vj07Quo0P/Zlot6MAtc1G4cKFnqku3MDNrs9Z0egJDve1orilH1a7f41hiAEOfT8Lpbv1MHF7/79F4FW7bd1vewjCpjLEuTaUwJXjIwXWhtkm4nXtVcy8yl5Hk+fuvePO3fxLW+xX072b+iWtu6uazhPTMrD52xVvII1HnrF3p5jHsWSdf+LNbE9hN14Y5W9LwW5xKXUciXp2ZN/WYZnHlw36c15eyWMBM8gzOXLUzQQUT0NXEzqUT0VSWN5Bbh0e7x4RxkTnfMN034aVD+/Ev6zY5bMZmrU8YL27jqhB9bg3V9bWf+dFNB37/TpGDEhjmPeeENV+6wuKHJEACJEACJEACJEACJEACy4SAT4NW+MEQse6IbW2R+YePbnxANjVfQn1JDXYf+hxpCD9eFfN1ApOn3sLO6vtgmKzCunqRtdjWfSHrR2km2+leRKP3quVa45FfX0R3Y0nmh7Zya+xNDL+9B7UVjWg/dcMoU7y1PlqHtlPZGbtS6hx6W7egpPIJdA4K59pVq70nXcWxPTWZGHvOu5g6s0geela5Zbpq90Ek88rK0yqXHyXMDbVjk7pEhfOt5PO42fcTrFOyd7PbL908jnj16gzH4sfQnVwMk9aP1sQ2yveY9qO1LLP2sZwBPZM6i574w1gnrtW5WH1sCcV4GZaG5RIFE8Bpozuj4syzwO0NcRwLxmLEtIGRGqy+yZa8XudG7OmTNzOSkB4/ivgDT6FnPJ050Ev/ykcK6zca5qFal/Bg3Hqv3lKfvowT+/4JD2Zt9CWvK/oBWhvWI+rRGBeqyf1U4ONmvBrLILgtFSCaVA+hY2Q2syZqwz+jY1gwEQPrItMcg512EW4W44kO7Ki6zzwPe826FPo2o5F5pIa7sfufXsWQZoaKZUXKsKPH5mKcdB39ezcjGomiZEc3LmbNoWJ2orgGray349jXsB5Vu7oxLC9XIZ1FxyZ1vpMN1tlr6H/jCVRV78FhRZMS5oY7saU4Cvt1juW6nsCqSLmtoZpbGMYRhvkaRfG2LoxmtUu8A6QIsdha7xf4BPaO86b8LTLWiTr1DpPM8jBL0OcGAg/P/MyPIc5vcmRhzjnCfJDXfOmBGA8hARIgARIgARIgARIgARIoPAF/Bu30MbSs1XamzmXQyj5ZK8rUH3KR6D1ofrkDbc2bECveKhiiMxhq36xmda5C+b0bUV5kNVnNP6aVnd+VzYVkgHLm0gl07rwHRRWPou3YRSPTyspXyJSLRMtx773liJpiUU8Qbx+Ub2WueBS/fPcEhsYuYOTUUXTv+1dsLl+N4vqXcEyPw1qZzWvhB3AkUoLa3W/g2NC4YNQuYObqIHpffgyVxfdj9/7TIWXOCrHoxoVsgq3Dju5RC68FzIy+i91Vq5VM5IyJLpwPc1/I7WjsvigeEM5zn1oTKxUNhGj5RtxbXmyYLdqBi9XHWvlZj2ZugTUslyuYALabKGXVra5HukW9OOFT02GNY8NYdMq+F7NoI4iUb0Nrx140VZagOn4cN9XMT0/963ktSPEC0SpUPvE8Wuo2on7vUZsLI+Lu7FEUN/waJ8YFs9OOu4/3jPV53YxXcRkEt6UCxAscG9C4awdqKh5G/PAF83jPcxwYhmEE0cqteKqpFjG7i2T6cgsu673KrMTlCyq/h589/22sq34Wh0zzrFkn0eqf4tiEcJFImsJozzPqBa53MeqwwaO49mgkUob6+KvoaH0MNbFyNOw7jnHN/BQyRiPRMlTeVQzz+BUzWyOIVj2JzsQFdV7X5tN1qPvpUSGj2IcwhEN13kVb0HFuWvhEeKoz9LdhnddxpccgzyNL1udC+3I99Tk/hjW/yWEZWevimrHWgL3NOWHNl9ba+ZoESIAESIAESIAESIAESGB5EvBg0C5g5vpljA0dxqs7qjPr+amma9HmON7tH0byasr8o19r6/RfEFduMZXNQPlfFMV1L+Kw6ce2mFko/+B7Am/0X8sqT5o8ij2yaagbvuWoebge9ZsrEYuuR0P8AE5NCj/StRjER5NBKsfyAnpHp4zMWf1YCTOfvoK6Ii1uy2NsE3a+dsL4Aa+fl+vJLJK9P0FtTDO51XJjldhc/yBqyldBNjxrml/B0TG7uHKV7/Hz9AUcjj+kbnpTirqW13Go7wQSJw6je18zamJFiNX8Kzpt+kE2xG/2PolVWj9EwlyfNg+tCU0XDYRItBo7Ok/aGN2L1cdCIJanoWhYviQx1I6NCn+3jaQslSOP9oYyjkXdlKKp57I1wMxrUxatPD5Ww5pF7q1/xQxSt3VDzRl0kdi30PL2GRu9yOFlNjWsUjPQlbkotgnN7b0YynupD9HAN5YkyIYkLIPgmsU7hq56dePFSBSx2h9i/5Bdpn8eujAZUpm5zGn+Nowrh42/1Iaa+jYib7r2O/TbzevK+rDCesAVDXj25TfQ1fky4k21KK74Dn7Wc9ahH9XKsrQmr12+BXutF/l0wzOjR7uYpNRH2Fe31vh+kplXfgsP15QjGgvvYluGj92SDYJStKzoEi/rzhrnmdg7zpuiCbnEfW6E6vrM9/wYyvwmhxTmnBPefOkKix+SAAmQAAmQAAmQAAmQAAksGwI5DFrRDMj8GNMNUt2gy7y/etcRTGU1ax6TJ36FhooYyjc3Y2/3SUxqWUn6sXNIdj+GkvIH8FT7+xhx3AFdvvX0BF7b3YBK2eCMlqNm65No7ezFQHLaxmTVKxCeTOJEfBOKqx5FvOuvOQzWeaSGDmLfrq2oKV+NWOVmNDbH0d59HMN5mTFyxu+HeLs9juattSiPyj/k1bK73vfRFqFZQZ5K00gm3kF7SxPqKosVYyFaXoutO1vRefg0rjpknSlVzXyKrp2bEIttxLa9H9hkGgYJKF+tGXVKyQN4tGQdNj/VjvdGbrpoY7H62IjF/CwMDadxpbsJRbEq1DfH0TXoZ/O4oO0NYxzL/bsRscp6NMdfR1/ylhmN/kpeRqAX8boKFFV823aceutfOdu1AuU130Fz/G0MOS4SK+HWYDvuK78HjS2v5bgwIiF9fRBdzZWCEaeaVHKsB+zmN71hOZ7IGa/rM3xaXkXfVXU5B+tZym3Ppais245dL/RgxHFTrimcatusznUJJN3GM4LqAsDMSbTXlSJW1YiWjqMYs61HXU86Vom6pp/gwFD2N4XWTGnifexeV4qqxj3oODoq3F2gHSE8pq/hVPcvsFOZR+VN22qxVZ6j3/4wR3u1MiTMDHVhZ00JouV1aN77R/TbZUTfGkDbxmKUb34K7e+dczR9pZlR9HXGsaNOvmiofT8dDsG81+LNLF9QXPsrnHLUs7LLJeLFNR7XnTXK9jauCtznRrgOz4LMj2HMb3I4Yc454c2XDqD4NgmQAAmQAAmQAAmQAAmQwDIjkMOgXWbRMhwSuOMJyCbhFVyzNcKWM5wFzNy46W64hRr+LK47ZfYHqSd9Bf1vPo3a4o1oevl9jFy/glMH4miokLPetYtXq1DR+Ct/y57osSxgJjWddeeA/rH2RJrBjRszLhcdtAOX0+NK1exyYrjSYilUnxeqXrl/wpxzlnq+XGn6YrwkQAIkQAIkQAIkQAIkcPsRoEF7+/UpW0QCJBAaAXmTqh7E60oRrXoa3cNiRrZsBg3h0C8fRYWw7EG0Sts8KrQgWBAJkAAJkAAJkAAJkAAJkAAJkAAJkMBtTIAG7W3cuWwaCZBAPgRmMX7i12gojiLiup7nHCb7f4cdldoa2VGU7DoMP4tP5BMlzyUBEiABEiABEiABEiABEiABEiABEljZBGjQruz+Y/QkQAKLQkDC3HAntsjmbGQVqttOwn0LQglz517DA9rGgmWt6HdcH3ZRAmahJEACJEACJEACJEACJEACJEACJEACK5QADdoV2nEMmwRIYDEJTGOwbZO6vuxqbOo462Hd1zF01ceUc4q2deOKtJjxsWwSIAESIAESIAESIAESIAESIAESIIHbhQAN2tulJ9kOEiCBEAnMYqTjIX0DsGjtS+hPuafEShOHsLMkikhxIzqGUiHGwqJIgARIgARIgARIgARIgARIgARIgARuZwI0aG/n3mXbSIAEAhOQJo9iT5Wxrmxx3XM40H8ZM1mZsXO4PnQQrfVliFb8M9pPXEY6cK08kQRIgARIgARIgARIgARIgARIgARI4E4jQIP2TutxtpcESMAjAQnp5AdobViPaCSiZtNGEausR3PL84jH44g/vwvba8sRjdVix963cWrSfaVajxXzMBIgARIgARIgARIgARIgARIgARIggTuIAA3aO6iz2VQSIIEABKQURo93oz2+E1trylWzdhXKa76D5j1t6Oztx1iKObMByPIUEiABEiABEiABEiABEiABEiABEiABADRoKQMSIAESIAESIAESIAESIAESIAESIAESIAESIAESKBABGrQFAs9qSYAESIAESIAESIAESIAESIAESIAESIAESIAESIAGLTVAAiRAAiRAAiRAAiRAAiRAAiRAAiRAAiRAAiRAAgUiQIO2QOBZLQmQAAmQAAmQAAmQAAmQAAmQAAmQAAmQAAmQAAnQoKUGSIAESIAESIAESIAESIAESIAESIAESIAESIAESKBABGjQFgg8qyUBEiABEiABEiABEiABEiABEiABEiABEiABEiABGrTUAAmQAAmQAAmQAAmQAAmQAAmQAAmQAAmQAAmQAAkUiAAN2gKBZ7UkQAIkQAIkQAIkQAIkQAIkQAIkQAIkQAIkQAIkQIOWGiABEiABEiABEiABEiABEiABEiABEiABEiABEiCBAhGgQVsg8KyWBEiABEiABEiABEiABEiABEiABEiABEiABEiABGjQUgMkQAIkQAIkQAIkQAIkQAIkQAIkQAIkQAIkQAIkUCACNGgLBJ7VkgAJkAAJkAAJkAAJkAAJkAAJkAAJkAAJkAAJkAANWmqABEiABEiABEiABEiABEiABEiABEiABEiABEiABApEgAZtgcCzWhIgARIgARIgARIgARIgARIgARIgARIgARIgARKgQUsNkAAJkAAJkAAJkAAJkAAJkAAJkAAJkAAJkAAJkECBCNCgLRB4VksCJEACJEACJEACJEACJEACJEACJEACJEACJEACNGipARIgARIgARIgARIgARIgARIgARIgARIgARIgARIoEAEatAUCz2pJgARIgARIgARIgARIgARIgARIgARIgARIgARIgAYtNUACJEACJEACJEACJEACJEACJEACJEACJEACJEACBSJAg7ZA4FktCZAACZAACZAACZAACZAACZAACZAACZAACZAACZgM2iv7D4D/yGClaCD5/35HvXLMUgPUADVADVAD1AA1QA1QA9QANUANUAPUADVADSw7DcxNTHp2nk0G7cCaUvAfGVAD1AA1QA1QA9QANUANUAPUADVADVAD1AA1QA1QA9QANRBcA1NnztKgpYCCC4jsyI4aoAaoAWqAGqAGqAFqgBqgBqgBaoAaoAaoAWqAGgiuARq0zARmJjQ1QA1QA9QANUANUAPUADVADVAD1AA1QA1QA9QANUANFEgDNGgLBJ5XFYJfVSA7sqMGqAFqgBqgBqgBaoAaoAaoAWqAGqAGqAFqgBq4XTRAg5YGLa+OUAPUADVADVAD1AA1QA1QA9QANUANUAPUADVADVAD1ECBNECDtkDgbxeHn+3g1SpqgBqgBqgBaoAaoAaoAWqAGqAGqAFqgBqgBqgBaiC4BmjQ0qDl1RFqgBqgBqgBaoAaoAaoAWqAGqAGqAFqgBqgBqgBaoAaKJAGaNAWCDyvKgS/qkB2ZEcNUAPUADVADVAD1AA1QA1QA9QANUANUAPUADVwu2iABi0NWl4doQaoAWqAGqAGqAFqgBqgBqgBaoAaoAaoAWqAGqAGqIECaYAGbYHA3y4OP9vBq1XUADVADVAD1AA1QA1QA9QANUANUAPUADVADVAD1EBwDdCgpUHLqyPUADVADVAD1AA1QA1QA9QANUANUAPUADVADVAD1AA1UCAN0KAtEHheVQh+VYHsyI4aoAaoAWqAGqAGqAFqgBqgBqgBaoAaoAaoAWrgdtEADVoatLw6Qg1QA9QANUANUAPUADVADVAD1AA1QA1QA9QANUANUAMF0kDhDNqtBzAL4b/JQzhX7OT8fwPD718TDk5j9o/fWzLRfPzCR5D02qdw44W/XbK67a8EfA9XLqX1iHDpAIYKJCD7+Jz6cQW//zeP42LfJ5hOjmNuZsFgP3MDsyODmHynA59t/WaBdREi37v/D66cmYSUvonp936GT2Ihlp1Lq4WsO1ds/Pz20Tj7kn1JDVAD1AA1QA1QA9QANUANUAPUADWwTDSwfAzahSFcrP2KgzC24/Lnc4YphkUyaEs34GMbI4oG7RKac8tkYGQZz2V7cUPwxAUxGk+lLzD9znMYtNFQVnnLtZ1KXF/F6deHjXbhGiZ+8A2HsZmHNmzH2xLVvaz558GU7Qpfp2RKptQANUANUAPUADVADVAD1AA1QA1QA4usgYIZtGbTU/aCvsCNFzbbd/jGdqTmBb8IEhaO/xs+DgNO7JsYeq4D48fP4lYqgdGybHPEHCszaFeW2Zjdn4Hi92LQKhKdxex78RVu0lpN0klMPlNjPzb9jsGc420R6/YbK48Pp8/JkRypAWqAGqAGqAFqgBqgBqgBaoAaoAaoAVcNLCODdgHp95+xNV0/fuZ/YPJnAUgf7rU91p/5VovPjt80nN/0RzRoOWDsB4zFoNX1V/Z3OPuLXkybriCkkPr1d+zLWSl8N/8KNyblrPUFzI++jXMVZSG0x9t4G1iUukMy6ldK/zHOEPRKzfj7PiUv8qIGqAFqgBqgBqgBaoAaoAaoAWogqAYKZNB+BZ+8MiSs66p6pJ934dMsY+EuDP3xc8NEVZ/pBlnW8X7E8LcY/XDKKJsGLU0NJz05GbTK8WU4+d0D+DJtrFSMyQ8wHIqp6UfPIR9b9rf49P97EKdCW7LB23hTJrPQ6w6ZjZNO+D7nEGqAGqAGqAFqgBqgBqgBaoAaoAaoAWqAGvCpgQIZtBsE03UekmZszX+CCxvLLZ34bVw8o24nlk4bpm4oG2N5M4y4xAHNrQFXg1bm800Mvz9umP2Ywhe/eNCi5Tudo7fxFvRqE8+70/XF9nMMUAPUADVADVAD1AA1QA1QA9QANUANrEwNLAODdhypTyZUY8tmrcu1z2FyWs5MlDA/MopbmgXmaNDejU9+0IFrA6OYm1kAkEb60ieYeOUHwrqgFqNIK9P0+DmubN2gGGzZBu39OFn/Aq4khjF7fQZSahzTif/AZ/VfdzHkvo5Pf/JHXD9zMROXNIu5zwZwzRSXjYju/j4uvPcJZlNpQJrBrU96MbZ1N65cEnascmRhU55PB58DW2WY06AtxcD3D8HYyk7C/J+es1mGw4s+hX6T12x9QdbNZaTlCxmybi4M4fr+F/BpucOyA+WP4LM3D+OLkXHhnNO49mPZMBYvjgDSmQ58suarGHzqLdwYuwkJGd1na/5vVW2bz4ec9R6rxdlfvYfU1RllSYSFq2cw+dquEMebVrfAZY2f8WSOOdNm8fx5SKnLmDr+Fs5vvttlDIv18znnBmqAGqAGqAFqgBqgBqgBaoAaoAaoAWqAGghHAwUyaEWD9CKuHTyjZsbOY+7gLrNBoptes5h6/y9Qc2mB8XdxNuvW62oM/fYktIRck9+KeaQHfoPTyjli/eajjFfOBu0X/3nYfDu7dtIXJzD6za+a45cN0djf4/x7F4zsX+145XEe6cHXMWRntt29B9eSeouNsybPY2pCWJWXBm0287CNaC8GrX4xQe2qLI161ac6uN10M/sRRtdbDdoynHzk/+ELZe1YQy6ZZ18i9et/wMCacgz++hNDi5fexrmn/huz+qDJZdCW4dQvPhbOP4TP/3jeeK1XK26Wlt94u/GCxaB14yKPc5vxZDKcL/Xiwn+MYF5YkUIP22kMh60nlrf4Y5aMyZgaoAaoAWqAGqAGqAFqgBqgBqgBamCFaGAZGLSf48ovDumZsZnsNs19FteqvYJrvz5oGLRZ68V+FZ+8eEIwZ2/h1pmP8cXIdcE8msbUK49gYM03cO71/8GND09i+rqQiSrdwPRHH+HGh/K//8Lo/Rmz1WTu6E6O3ZM0br3zpEX8d+HT189AzuXN/CdBSk3glpwRq/+Xxq2DP8RJk2jux/k/XdWPcH1Cg9bCXNNPiI9eDNo13zNnNps06kefctzlOPXCh8LmeLJurmH28g0syIm0SuarpX31ryJl2qxMVE0S49sz2aEmPV8bwhdJI+8XOTNoS2E6X5qHZOt0yknv45h46pt5jrcpmA3aYOPJFPN8GpKdOavgki8S7bbJfLawNo1VfsYrptQANUANUAPUADVADVAD1AA1QA1QA9QANRBcAwUyaIV1ZWVD6H//HNdnVcfElBm4GaMffpFxmeT3H+t2Nmgr9mBiUssqncWXf3wyY3jGHsRnx68ZTlXyAIb0zFtLZp/JUDOgmswduSTpBlK/24XB8loMvdSHW6LZYyq/FANf+zlufKkdIGH+zJuZbNny7yF5RtigbG4QF775FcNo/PtOTBuuLpD6BJef/T6GnngZk9asWhq0BrfFMs48GbQWPUnDSP6dmlHtW5/iGJEwP/B/cbpMzZi9+58w/L+tWaWP4OKZaUPnmMXs0d/g7P+6CwOxb+D0Yzv0JRGy9KyctYCFq8P4Qr0wYT7GbJKaP1PHw1txnH1kFz4/elG4ICJhYWAfBvU+sfDxNN7MdQcdT7YxO43hyUM4V2yMf37BkAU1QA1QA9QANUANUAPUADVADVAD1AA1QA0spgYKZNAKmYbSZ7hc/6ixERiuYeIH38gYbsW7cE0zXUc6cbq+CzOa17kwhIu1mqFZhpM//rORbfjlhxj9mrDZ2D92wfBIBdNsTRDDSML8hz/HKd10Eo00APMfY2yDduu5mAEsG1lJjH/3a4aZ+N13BXP3FqZfb1Q/+ypOvz4smG03ceOFOuO8xgMGB/koGrQGG71fQp44ghi0ajbqwJoA+iz9N+OiBSwmpU0bP37iEOa0sSGv1zzwK3yiX4gws8gyK2Uz9724sGasJUvWUr/5fEtdxd/HFTEj13TBJch4E9sedDxZ22M1jv8BFz750hhvtpsVmhku5qTMssmaGqAGqAFqgBqgBqgBaoAaoAaoAWqAGrizNFB4g1bJovs6zh28ohokc5j5/faM4fZ3nVD2B4O6Nq3JJDPWiB1YU4Pzf5rUDRbpk3Yha68UA3/zDCZuaumoouETxDDS1vLUhHI3zr6T1OvWbhHPDCQhA1g+4uZhDP+Ndp41LsCIuw5jA0I2pMnkKsWAaFzL5dKgXeYGbQB9mtazncfc8VaTgWqeqL+B4feFLHHrhQCLoWs2WAEkD+CMJWPUfIw4Zqxmp3U8bMCnvz8vjIcruPZ9bfO8IONNrDvoeLLGPIupV74taMa8iZh5DAvj1cLR3Ac8jjyoAWqAGqAGqAFqgBqgBqgBaoAaoAaoAWogmAYKY9CKRqt6m/PHz/yPngGrGZUf//gv6tqtX+DGC5sxIJ6nZyfKDd+Oy59r62jO49Y7OwXzRf5cyNiFYAAHyqAVDSO5bDdzR6zXbt1QS/atbrSaz8PnXfjUZA5ZPtfPCyYCDh4P3EzaA6QP99qsU2oxIJXs8PUB9fkgxgaEJTDkLNfjr+Ds3VrWuBizqH8AOW7RN5uvacz+8XHLeLEammbNm883fyZryRi3sk8rfm7h43uJA7Pus9fhdRpP7u1xH8MiZz7nXEENUAPUADVADVAD1AA1QA1QA9QANUANUAPha2DZGLQDG9uh7280/T84v1bITNWWMzCZZJOYfKYmYyyZsg2F5D3bp7Ih9T3VkMrXMJI7xMWgNcVrZ+o51G+6vd3uPLNRxQza8AdG1mSTsy/lGBqRHLllqE4zIIPq85F/x5dpfd0CeY0MSJODuPKUsNyFbNxbypcG2oQlOLLZ5DJY5ba7HeP2mcJt6wFjrWiEON5y9oHDeMrRHtcxbLowks0ySyc8PsvsJyPqhhqgBqgBaoAaoAaoAWqAGqAGqAFqgBpw10BhDNraDkxpKw7ot/0L5paSefgdY11IbeMtp6UKLMaN4ZDZPQvRMFLMmEUwaC3tyc7WpEG75AM7Z5/YLD2hadtyrp0qjfdEfX4Vg8++h1mTSQsgfQETz/69YYRZys/Wi3kSyGmw5jA0c55Pg9boGxq2ZEENUAPUADVADVAD1AA1QA1QA9QANUANUAM5NFAYg1Y0cPTb88V1aKfxRds+dd3YBaTff0a9nVw0JoVbp00GlYSFS0O48eFHDv/+jCvPbFaF4ZxxJxqA7oZUiAbt7F/wWWmpZSkHZtCKfVGw5yaN2fVJKQbECw9yvqu2FrLpXD/6lI3VMpys/zmujXxheLjyM3EjPFP5DrEJE4G7njNmrtsxbp8p/SOO70Jm0GrjKYfhzAxas4FfsDEmaJQxsE+oAWqAGqAGqAFqgBqgBqgBaoAaoAbuJA0UxqDd/i70G8F1g7YUxjq085j7y4eYVrJs1fVnlR/vokErrCVr2jTLbg1aJ1EvskFrWvsWwEgnTptMCIc1M2M7MT4+bxhyXIO28Fdacpqg5Rj8xYC6ZrLcdbcw/XpjJu7A+hR0G/t7nH/vAowFD4TyrTobfxdnY8K5Js25L1+gTX5u3oEuFgAAIABJREFUJqzbZ/L5xjiWOQgXUvJe81kc/z7GEw3awo8fiwY1nfHReZySDdlQA9QANUANUAPUADVADVAD1AA1cOdooCAGrcngEQxa0zq0M7MZs2v+E1zYWK4aDOJmSOKt4GajU89czGkKLLZB+w/GMg2yV6Xd8q7FZVqyATDWDjW3B8qavIIorQauyFArm4/hmlK5DNriJlwe1S87ANJ5XP7HDWoM5v70rk+hz+X+LP4+riS1zfDETFmLzkx1W8rIaVZmjjeNUZPJajV4v0Tq1/8gsP4qTr8+bFxcwBVc+/7X1c/zHW+WdnoeT9aYRdNYbq9LFjzHkdC32VriHwtkQg1QA9QANUANUAPUADVADVAD1AA1QA3kr4GCG7Tm9TKFdWg1i8eUdSoaPKJBuwGf/v68dgYwdwbJf7zLg7EglgdA24zMYsq4mVXu5o7FrJKSGP/u14y4vvsubukpkbOYeuXb6mdfw9l3kkZ7MIHJZ2qN8/6xC1/q5wHcJCz/gZBzMnE1aKsx9PppGDnPEuY//LmwUVdQfVrbJepVwsLxf1OX/vgKPnllSMiuncfcn+JC/eZy3PWcOdbtGPNnEuaPv4CT2piJPYrkyKyh3ek/47OvlqnaFeMPMt6CjicatDn1rfUfH415lizIghqgBqgBaoAaoAaoAWqAGqAGqAFqYIk0UACD1myymA1acR1a2eOZx9zBXYIYzAaP6dy/+3+YmtNcSwnSpT5c2C6Ymmu+glMPPYGz92tZjbIRZc2cS+PWn/bidFkZBso2qOZXnuaOJa75M29iqLwMA7F/wGhi0jCyxDVF5SzHJw5Bb4581Hgfxuq/joG7dyI5eMM4T37GDFpBI2YzMjRjytag/QpObX4So+8MwbSP18wnuFhvuUBg0UFufVbj7AttGHnoHrVtZTj5yJuYmtE0Lhr6pRj42s9xQ3TtpS8wfXAfzv4vOY67MLhlCwaLc5uvGi+zCWvOODV/pm5a9pMt+LisDud+P2Q2qkXzNozxZuHoeTy98JFgYJvbkz0PfI4rW8V5YpE0tUSTvNanfGQ/UgPUADVADVAD1AA1QA1QA9QANUANUAPLUwMFMGjNpqjJZJU3RHrhI2Edz0lMPlMjmG8uBu2aGpx7Z0wwYWTncgEL18cxe+kyZq/LWX3iup2ZDjGvlyn4noLpaTak/Jo7NTh3UMyGlSClrqnxaPXN4svff09oZykGYo/g4plp7QDL4zzmU18a7wmxcqAt0kCzGLQGfMuz9AVMPPv35r5UjDif+ix+EuPjadn9RPrqFcxeuoa06AJ/+VeMffOrQj134dPXzwhjxxIXDNPRXc/quHAxNM3nW+sRXqdHcPmRu4UYrevTCscKGjaXbx1vwcaTe5nmOQkCK46nRRpPNKdN44I6o86oAWqAGqAGqAFqgBqgBqgBaoAauLM1UACD9m7h9n0J8396Ts9UVcRY24EpZXMwOYFWXH9W7ijxXHHNVrUTi7ditC9pMWkFEwjibeHaOd/D5VHhlmztcM+GkQdzp3wHLlqzXrV6MIvZ9+IYtNvUqf5VpFLGjfP6KV+cwOcdA0Y7hVg5oBdpQOc0aBcwn/wLkk9sdjZe/Ojz7zoxrSXL6h2vPnEygeWNxA5+hnnb827i+o8zGeXuZmWGn9sx5s9mMTNyKdsYlm4g9dsdxtIHmiFXnO94K8VAgPFkjtlq+noYw1r8fHTWN9mQDTVADVAD1AA1QA1QA9QANUANUAPUADUQSAMFMGjFLFhxHVnVWIs9grH3Erjx4Ue4cXAvPjF1rMVIsTUmv45Pf/wHTAycx62UnIEIQJrF3KXzSP35PVz68SPZptHd38eF9z7BjJJlKyctTuHWh+04rdYdirkT24xzr/Tii88msSAbaOkUZs/8GVde+C5O2ZmzSt1lOFn/Aq4kzmNuZgGYmcR04t9xfvPd+PgHh6G2DlmbiJmYLZJheafVUfojXLugZWKrRunMDcx+fhZf/Ok/cfG5f3bpR7EPPOrz7u9i9M3D+GJkXM2cXcDC5BhSf9qPz+SlLhz5341PfvB/MX58yNDzzHXMnDmKC49k1j9217Nfg3YKN15swvDvE/hSHm+Krvtw+dkG84UXMd68xps2T/gbT+5ttswrzKB10ZeoZT53HodkQzbUADVADVAD1AA1QA1QA9QANUANUAPeNVAAg9Z7cOxIsqIGlp8G3M3O5RcvNcQ+oQaoAWqAGqAGqAFqgBqgBqgBaoAaoAaogeWsARq0YmYfnzNzjhrIqQEatPxSW85faoyN+qQGqAFqgBqgBqgBaoAaoAaoAWqAGlhpGqBBS0MupyG30kTNeBd3IqZBu7h8qV/ypQaoAWqAGqAGqAFqgBqgBqgBaoAaoAbuLA3QoKVBS4OWGvClARq0d9aXBP8oYH9TA9QANUANUAPUADVADVAD1AA1QA1QA4urARq0NOd8mXMckIs7IFcCXxq01MBK0CljpE6pAWqAGqAGqAFqgBqgBqgBaoAaoAZWigZo0NKgpUFLDfjSAA1afsGtlC84xkmtUgPUADVADVAD1AA1QA1QA9QANUANrAQN0KClOefLnFsJomaMizv50qBdXL7UL/lSA9QANUANUAPUADVADVAD1AA1QA1QA3eWBmjQ0qClQUsNUAPUADVADVAD1AA1QA1QA9QANUANUAPUADVADVADBdIADdoCgeeVkDvrSgj7m/1NDVAD1AA1QA1QA9QANUANUAPUADVADVAD1AA1YKcBGrQ0aHl1hBqgBqgBaoAaoAaoAWqAGqAGqAFqgBqgBqgBaoAaoAYKpAEatAUCb+eW8z1eRaEGqAFqgBqgBqgBaoAaoAaoAWqAGqAGqAFqgBqgBu4sDdCgpUHLqyPUADVADVAD1AA1QA1QA9QANUANUAPUADVADVAD1AA1UCAN0KAtEHheCbmzroSwv9nf1AA1QA1QA9QANUANUAPUADVADVAD1AA1QA1QA3YaoEFLg5ZXR6gBaoAaoAaoAWqAGqAGqAFqgBqgBqgBaoAaoAaoAWqgQBqgQVsg8HZuOd/jVRRqgBqgBqgBaoAaoAaoAWqAGqAGqAFqgBqgBqgBauDO0gANWhq0vDpCDVAD1AA1QA1QA9QANUANUAPUADVADVAD1AA1QA1QAwXSQGCDVj6R/8hgpWjgi5OnqFeOWWqAGqAGqAFqgBqgBqgBaoAaoAaoAWqAGqAGqIFlp4H5L7+E1/8iXg/kcSRAAiRAAiRAAiRAAiRAAiRAAiRAAiRAAiRAAiRAAuESoEEbLk+WRgIkQAIkQAIkQAIkQAIkQAIkQAIkQAIkQAIkQAKeCdCg9YyKB5IACZAACZAACZAACZAACZAACZAACZAACZAACZBAuARo0IbLk6WRAAmQAAmQAAmQAAmQAAmQAAmQAAmQAAmQAAmQgGcCNGg9o+KBJEACJEACJEACJEACJEACJEACJEACJEACJEACJBAuARq04fJkaSRAAiRAAiRAAiRAAiRAAiRAAiRAAiRAAiRAAiTgmQANWs+oeCAJkAAJkAAJkAAJkAAJkAAJkAAJkAAJkAAJkAAJhEuABm24PFkaCZAACZAACZAACZAACZAACZAACZAACZAACZAACXgmQIPWMyoeSAIkQAIkQAIkQAIkQAIkQAIkQAIkQAIkQAIkQALhEqBBGy5PlraSCCyMoveFnWh8uAbl0QgikQgi0XLU1Ddh9y9/j8NDE0iH3p4FzIwdRUdLE+oqixGJrEJ59R70TsyHXpNtgcku1MvtjMRQ3zVme8jt9qY0eQzx2hJEKx7DW8PTK7N5d2C/rcyOus2ipu7C6VByDIcjgGU1n7NfQ+tXvSAy1VHwCQmQAAmQAAmQwJ1HgAbtndfnbLFGIJ1APKYas4ppaX1egtrd+zGUCss8nUfq1G/RUBzNmMFanRvbMbSgBbXIj3fcj595jHdvR1RhHUVZaz/C6s1F7ilz8Xdcv5mbz1cFIkDdhQOeHMPhiGU2n7NfQ+pXoRgyFWDwKQmQAAmQAAmQwJ1GYFEN2nQijtgdlq13pwkoV3uXtQYEg3Z1czfOJ5NIJkdw6sgfEG9Yr5t6xdu6MJqWcjU19+fTH6K1erVizhbV7sGB/mEkkxcwMnIFM7nPDueInD9+0kiNJvD2vg4cuboirUwLJwm3Tu3DRiVDei22dV9ACD1pqSOMlzm45+y3MGJgGSRgIRC67nLo3FL9bfMydI5LTWa59NtSz+c52r3i+3WpdeShPjL1AImHkAAJkAAJkAAJ3K4EaNDerj27TNq1UgzaWDxhXs5AuoFT7VtRrFxgKEFD5znz5775LuBm75NYpZR3P9oGp3yXEMoJrj9+5nG15wn1okojupLhL/AQSht8FzKLq4NH0Xv8M6SWpTvrgbtrv/kGwhNIwBuBUHXnQefeolp5R4XKcambv9z6banmcw/tXtH9utQ68lgfmXoExcNIgARIgARIgARuRwI0aG/HXl1GbVqxBq3MMH0OnQ0lmeUI1v4IfdP5uHtT6G+9J1PWmj3om82nrDw62PXHTxrJrkZ1+YXbyaDNg9eSnOqBu2u/LUmQrOROJBCq7jzo/HZlHCrHpYZ0p/abh3av6H5dah15rI9MPYLiYSRAAiRAAiRAArcjgUU1aOcH27BByRgsRVPP5duRH9uUg8Cy1oCwxEFWBq3SLgnTiZ9inaLhcjT3Xs3RWrePU0jEKzPmZyyORKGSU11//Hj4QerWRH4WkIAH7q79FrBankYCuQiEqjsPOs8Vz0r9PFSOSw3hTu03D+1e0f261DryWB+ZegTFw0iABEiABEiABG5HAotq0EL/Q6sS8UTqduTHNuUisJw1kNOgBTB7AvFSeVOvKErjJzBrba80hbGjr6Fl+30oj0YRq2zArvb3MaJvLCYYs4rRa9mITDdr55EaPY6uth+iqa4ys8xArAr1O/dif/8V++UVdLYx1HeNWSIbQ1d9LGMI13chqX1qe474Q9QSnxJzvuM3QNvSV9C/fy+aN1cgGpG51mPn3j+if9zSA16Os22zBkTOlL6GUwdewLaqYkQixaja9hIOJ6eMbGK9jzLn6FnhyvvzSI28j1db/hm15avVON/xuLGcD+6mNowiPXkS3Xv/BfWVJYhVPoAd8bfd68ypU4GH41Ov/Shh6sjTWK1oZwNa+m5klSiNdGCT8vk67DoyYf7cR6x6X0S3o3v8FlLDB9HWXIfyqKZZrzGbQ1Be+dSFco6P2G1qzFSrrd3u2Cb5MH/t0jn51axJd+IcM4PRzkYUyX0YrUPbKbfvdx86l5sm3cTIe+3YVV+FmDL2rXOqEzmH9331iT+uYo1SahhHOluxc2styqOrUF5Tj6bnDmJM3gDSxDHA+BUrsj732D7/GvDeb3rZWZrdgCdbHsNap7Eud7fbXGBtq/zaxNLQpB6DX41n1eG93eZYAvSrx77LCtHuDb9lWee3pt/gWHLK2FRzQxsGxWXoHbhnQnH4e0P50OeYcq3HruHCe9Y2ef0uz9Kt9v2hlu1nTnKN35mTrl89lv9Ca5P6d2VVI/Z0JjAexl4IAi4+JQESIAESIAESWH4EFtegHe9Go7I5zz1o7S/QmpvLj/mdFdFy1oAXgxaX0dNUmjE6N3VgRFyZwLROrWhsRlG8pRPDc/LBHg1a6QK6t61VlxcQy5Kfl2Nb10i2SRvkh4DtOT5+kEqXcCT+MMqL78GO1wa8renqt23p8ziw4y51kzaRRSVa+q4b48frcbZtVouRruLYnpqsuqLVP8WBV7+TbXDLp2nlFTXhjfdfRkOxbOCLcYr9b4Sb/cwHd63OSAwP/exXeLoqs9mcUW8UxQ2vYWhGFKjWRnE95SBxauX40OhED5qK5LpWYWP7acgelfGfsB5z0ePomRBcAE9jyihJ74vId/Bqzz7UxbS+UH9g+9WeVnQQXfiNXavL+qj3tUOb5OP9tksr069mtfMi5otA0sQh7CyRWa9Gdfw4btrIzmiWD51L13Bi78Pq2t8WrTb8Fqf0C19G6a7P/PaJX65K5fNIDXVhZ9aYjCDa0IWkzEbg6Hv8ujXQT/u0GDxrwEe/aWXbjcOD/47mVXJfFmFD20kIox2Ay1zg1G69LrMmdcae2+dUQZB2F3BelpvhRwfK8Zdw+Ol7g33vWeaCDEVn4zHwXGVbj1OfyQzy+C63062WVOJ3TnLSpxK6Cyf9vK1441gntmX9XbEaVXuOYtJ1rnXhw49IgARIgARIgARWBIHFNWh1A4zrWa4INSxGkMtZA3psEdgvcSADEdaONWVSzmPyyLOokI254q1oT1zCjDSN5LFfoE4xpkqwpWsUxt/SglFrKkeDnsalo2/hrWNDuDoj21lppEYOYk/Nmoz5V/JDHLlptrn0H6S2P2QcfgjoPwIsP26VMMQfpvZjdmGoHRs1M9JqrmlNyXr007Y5XOx6NJOZV/QA4v99EmPJJMaG+nDgN+9g8JZG1OtxZnPEnGk8j4nep1CitGc1qna+jsMn/ozDb/0IdcWrEIupJqiYgSy3TWe4GrHYKhTXt6Kn/xxGh/6EN3beo/7oXYtt3ReE/s+CIryRm7tRp2x0RB3qLMOOnkuWOv3qVAgr66mPfpTOomNThl9RUw/MObLCmDJd9AgQq6kvihAp/g72HfsMKT3TyEfMenuD6CJA7Hp9lic52yQf77NdpjJ9aFY/T5wvbqK/9b6MziuexZFJs+VmaY3wMpfOBe7Re7Cz8ziGk6MYPLQX9YpZUYR18b9gWijR/WmQPvHJVfaFJo9ij2rORisexS97/oqR5AWMnDqKd45fyFyc0Dn6Hb9uLfTZPj0Gv/NWrn6zzomWcSiNoqtBvjtBMKz1Zk1jsG1T5jvONBfoB2Q/0dshatIagw+NZ9egvuOn3X771WffOcYof+C3rDSu9OzM/t5740lURYs8fO9ZuCuxOfy9oXzmc0w59W8OBvl/l1t0q9QXYE5yjd+Fk35eKSorSxCtehJvHP4zThz+PfbUqUkCkXsQT2TfkeKKhh+SAAmQAAmQAAmsKAKLa9AunEb7xlWIrHoSvVZzyRZTGlf796NtTzMaH65BuZJ9K//hq94u2NKOt+1u95ZG0PmAejv36qdxZEozcewquYre5vLMDwKnjZ/SExg6/CZad34HNeWrMj8symuxVb7dPHEBdklqRk1ppJJDSPR2ob21Bc2N9dhcmflxksl2K0bl5i1o2vUaEtftftgGZGAEoDyTUp+hr6sNu5vq9TZEYpXYXP9tNO16Ee1v9qBveDI7K1MrJy8GWiFygoxfDQjnLvZTTwat8CNNufVM7bOFM+i4TzZPS9DQeU7gOI2h9gcz5sXGdgzpnmoug9ausRKm+36k3h5qswau/ge9jx9MrucIbY04GLTDHbhPG5eex7WPtuk/5lehuu0k5uxOld/zepx8rFOb5wbRviljgBc1vIlRwdS70r0DqzQj2tGgjSBS8hR6hQxQI7MwglXNvbjpFL/p/dzcjTbY1dmDHUqGmk2dvnVqCszDCyeNzmCofXNmni2NIyFuiiedR2edzN2SXRskVr1v5e+JjdjTN2ExqO2a4BSzemwQXQSJ3S40+b1AbZJPdGmXWKYfzernGXOMdLELW5SLUOvwWM9FD7y1hubQuc49irW7DwtZucJyCkVN6L7icQHv0PrEhStuIBFXN38sbkLX6IzWWPOjztHn+DWXYn7lt32uMWgZ0TZzCHL0mxyVWHbWOJzFSMdDmbkg6zvjIrob5Y047bJrzc3VX+l1GZpUPtPft2Ps1j69ZMsTn+3OGldLNC/71YE+ziIwf+8J40z+7nP83rNwV6i5GI8WqpmXLmNK70e7emwLAxzblIbn7/Is3UIo18ec5Bq/Cyf9vAgiRY3o1OcSCenRN9GgzLl249OBCd8mARIgARIgARJYkQQW16DFNSQ6XkT8xR6M2HmRWcjEP4jlH9x2/8rQ0G69tVr4ARCpRjzhYotMHcGu1ZlyV+86gilTDBLSyfcR169W29Vfirr4+0jqZo5YwLyxfpdt7EJ5Za3ot2USlIEWxzxSp17DtoqMsWzPUI3D+ge4UkS+DLQ4tEe/GtDOW4JHvwatYFrqmaQ2hoH+WXQbupKamRDEoAWgLxFh8wNW/4Pe7oeMww8B13NE7dkbtPKtlINvPovGhsex9/AFwZgO0F92bdP7xK5NQh1ej5NPcWiz3k8RG/P7Zq96W67bD9UIsucQYUkMk0EvxJ711AN3vQ1RrG05ZskidK5Tb6NnnWYFl/sNu36EhNlEHKXKPPgQOkaEtYN1tua5OlCsOpcIog90YtTt2pzYEtuYMwfocfjQhX5OGJyDtkkO36ldQpm+NKufp45H6Qp6d67PZHE/eiBz+77I1fW5u86NDSVr0NpvXtNWutKNbYpB4T0zPdQ+ceBqxJXjgpLO0d/4dcPpu316DH7nLfd+U2IUyrYbh0bfbkLboJADPduHljXy3yM2a1E7NV6vy/Idob/vt31OFflpt79+9d13TiHK18C1u1o8zj1GX1iWDJLr0Odmt+89C3clNoe/N1zizj1X2dVjX6DOwMecrZQkaMZdtz7mJL1Mu/hdOOnn2en3Ovpa1E1mcyah2DPiuyRAAiRAAiRAAiuDwCIbtH4hSJgd3I8X2zvR3XsMiUQi8+/EEbzb8Szq9DWZsm/zMf5AK8L61r/ilm3VLlftLbcqRqLr0fD873Co7wQSiT/jyLuvokU3bh3WBDVlmhSjqnEXftb+Bvb3HMEJoS09XR34ZXsfrjnEGJSBnEE1N9yJLRqn6HrUP9uO7iN/znDs60V354toLC/KmN82Bq14u2YwBraNWp5v6iaf2xIHdj/SBCPe7rZM/SKAuNFEQIPWLUb9D3ofPwRcz7Fr6yJ2nV3bxFvjTVmtlji8HiefZtvmOYx1bsmMA9ulGrz8kLLjHqSfPXC3bYPGxKnOIDrVyvTxaNeP8un6j/1SNPVc1gvUDQJTNl3AWHUuNhcw9BptnjjFjCC6CBi7TVjKW0HbJJ/s1C69TJ+aNZ03irmhdmySM+iLtqDjnGC0ObXF9L6bzgXudgaEMN6zDWZTJeqLkPvElus8JnoezyzHEtmM9iGH7Fk5IhNHY2OrTLBO49euXdp7AdoXOAa3flPj0ct2GIfTx9CyVl6zeA3qOs/rWdf6BmG2c7DWVsujXpdFy07vK6cHYeyn3ZZYXOsM0HcWBMZLv2UJ48yOuX53wxIYtLZjKtdYMVpuPMvRJnj5LrfTrVCunznJVYdeYjGPkUw7hbWac801Bhg+IwESIAESIAESWIEElplB60ZQwty51/CA020+2q30csaWY+aacBXaZA7I9U6gr6U6Y9jIa4r2X8vODkyPoGub2/IIHv6gd2tizs9yMJBv+94i3y4o/4B+GG1/tWmD2x+roTDI2Yjlc4DTDwRThHZ9avzYszUL9HLFH23GORHbNWjVSqUZXB38AJ2//CGaGr6FSn3TIxsTOcgPAddz7NpqgpHfC09tE9aWjaxG1e53MaqsyWut2utxTj/4hP6wzWb38kNK7F8tPqFct37WDlcePXB37TenOo33vevUFJj9C0/9KC5DEUVZa7+6OZDc1m3KEiD6BkpKLQFjdeUihO81ZnFTP8+6CBi7EJ7pqdc2ySd5bZdrmUb8WXOTeN5bH6jfL2tQ2zYAFzvS1BzjhZvOhRhsv7+FLHGbC4tGHdozo7xA2vfEVVhLec0e9InLeGhhaI8ix64wDNoA7Qscg1u/qQ10LVs+xlhaylj6RTCd7C50auysj051Ob2vnG/wytK4tXz9db7tdqrTeD+QNvX45Cd+yzKOj2xow2DWXVxBv/dcztPi9TSmnL6vtULsHoU2eZ6z1XK8asbPnORapgsn1/MA/cJmZANa+rgOrZ0S+B4JkAAJkAAJ3A4EVpBBK+M2/sjPNmGFNQ+drjDrWRzZt6MZtypa1xQVu1nC3OA+VCu37Zpvz80c5eEPerG4QM+dGSzo64Ouwab2QYf1O53/QAyHQaBGFeYk3Ui1MT/1iIQf4brhJpgFihaEpStMr0UDT/gRoZejV6I8kVKnsX/3/YiZyjDKztrIzPUPeod+dj1n8fTrq21zZ9C5pSxzoSESRaz2h9g/dEPPutKpeT3Ots3a2oc2mUJKBQ785M9sy9Oiyt3P2pHGowfugeoMolMjKrtnvvoRwpysGzATOLJrXfb6swgYqyuXTAv8xRxEFwFjtwMsv+ehTfJhvtrlWqaLZvXz1uD+J3ZksmcDb1TjpnOX8aZwconRlmPwPvHOVaijrhNjbstr6BzF7wQtcL9tk88T6nb4vsgsbyTUFzgGt35T2+BatnyMvBZoUybbWDfRtA3C7LIXNTY2j051Ob2vFBGEcb7tdqozQN/ZYMi85besIPObWrkrX/fx631MeZ//DCSFaZNojptM/6CcXM8LwsUgxGckQAIkQAIkQAIrh8DyNmilGVy/lEQyeQlXU/Jank5/8GaAGwalZfMZ5WNxeQPr2lvCrYp2t32J/amvmWZ3G5KHP+jFsrw898xAuNUtYlnz0VSP0x/SYTEwVba8X3gyaDVDSczMFhh6/XGcQ7sQsrOjFdvQ2n0CI5MzkNxidP2DXohRzDhzPWcR9CsrIEDbpNQZdO+6N7PZmsy4+CH89NjlLJPW03G2bXbgoyvW5XPb8rQT3eco7SjzowfugeoU2uBZp+bITK9896OwDq12x8L8SbRtkJdYsV7gChirK5cg2hPiEMeNDsLuc+G9MDjnapMci9++cC3TRbP6ecaFItn4K9rShYtuhqTOS3zipnOBoS13lxjFKvTnQnl++sQXV6EO25j1YHKY7n7bJpcr1O21fXpfCqatHqJbDG79phbgWnbmGH05A/3vE81Y87H+rFyUU11O7yvVu7VPbUPWQ77tdqozQN9lxaa94bcs4Xhbzbp87srX5TxfY8qlf7UmZz369fugAAAgAElEQVS61K0c6/J50DYp5Tr0b9AyXc8LwiULFN8gARIgARIgARJYAQSWnUErzVxA4u12tDRuzMokjJZvxL3l6uZXdlmI0gg6H4hlMu+ybkkSMk/X70X/LfHXpZbJYf4R6rrBVsQu69LDH/QeRBGMgZDp6Xq7pdMfq2Ex8NDA5XKIm/mpxSgsnWHcmmkwzMpq1c7LenT4Y145bh4TvU+hRP6hbdq9VzZiEojHMrrMqsv1D3ojRtNuzK7nhKNfc9MDtk0uRLqJ4Z64sfa00y7puY6zbbMDHz14l89ty9NOdOtn7Rjrowfugeo02pClHWsIOV8H7Ed9HVp1cyBtsyXNsNXrDRirK5cgMRtxmMaNTZzG58Y5+XP28kM8QLtcObloVj8vgkjJE3jrP/ZgnWIIZq8DryNyfOKmc4OhwVUsyCVG8TD9uVGe9z7xy9Wowz5mPRhnU1E5xG/b5JOMuj23T+/Lwhi00C/OqJsyahe7c10UFzAqT53a4fR+YMZuelWDClRngL6zMtBf+y3LON5esy6fu7bV6Ty/Y8rL/Kc3Xn3iVLd2nMvngdqkleswboOW6XpeEC5anHwkARIgARIgARJYSQSWlUErTR7HXn0jrhxmqZ1BK95GFzHvumrcvr8G93WcwYKpl4Q/tFyzUcwxZf8w8vAHvane7BfBGQhtsGWj1eX0x6pwfl4MtHpWwKOb+amGL4124gF5U5xIMRq6RtUMTiOr1jBtc7VX4JvVP8Ztillr0rnF6PoHvUM/u56Tv36zKQRsm17QPFInf4M6Ze3pIqyL/wX2WxO5HGfb5hvoa9ngcDFHrtyBn/yRbXlawG79rB1jffTAPVCdQXRqjU17HbAf5XWxG4oRiWRMoXQirlx4M68/K9cRMFZXLkFiDqKLgLFraK2Prm2SDw7QLtcyXTSrn7cate2nkZ4bRPumNcq48Z9F66bzXNyFC6y2mX9WiEH6xC9XgZt+2741DvW1ztGvOfr/s3e+r3Fc9/6fP2Cf6KEeCARCoAcGY4QfOJiL9MAmxWCbBCOcBCFdaixza2R/S6wbiJxAJF9utjSVua1c0uXbiOTrbfHiW6tplVyrieWL5NZbssEW6aaREin2JrYjO2Jt5Fjyvr+c+bVnZmdmZ2ZH0q72HXB2dmbO53w+r885RzvvOXPGxV6Y/hLaB6+8+YnPiGEZ6bhY519bk3p1fgwHxG8Nc/kT47wyn25xuO1XzUm5Kvn761ZfpXG71Rmmbbr5GNRW8fyNWYM2aJ8q9/fViUO5sSPs3/Jydl3GJM92GNYXoPgiZPnls048uI8ESIAESIAESKCWCVSPQFu4g8mBZ/R1J3egO/4HpOfuIL9qzHRdRf7uLFIn9Jd0ufzILixN4ESjENRkMUd6oVDDMaRuP7HlTJo92jyIia/Fsgrl/33zYMX2yLWPH/S2mi1fK2IgrfdYMjtNrsXtB2JUDOS6qnzbS/xUXX+EbOIF7TH72L8iufCDHpDEqmSmtlvMbhdrANYyGNkh3nDtcPHu5WOYCwHPMhW2X6fQw8ZmsfU90vFntbHB8cUmxsku5znGXK6/uPWTcheQHnk23Cz59MHdMQbDkFudYdqpYdP2GTqPRc7NQ1P4MnXUYf1ZUVdIX724hPK56K/iOI46tYuQvtsQm1+9YhInhYnL06Zb+3Fq69JaoraboKb/rhte7Vzi7vjG9C+R7NKE4ZKbWI71hchJYK6PMT/2ojYuxfqQyollmFz+C8vfxVyo/hLaB6+86Q562jaCkF4K1vUePvnzT9GgBFx/Vphyq8ttv1q9Rxs33Cv5rDRutzpDtM0S34wdQW1J5zuNb4ViPyuZYevJ12lcXI+xyohb/pTGDqeYQt9slewGGZPCcBLheJYr4OHUa2hSJ08cQiIb/BWNMjFukwAJkAAJkAAJVC+B6hFozUdhG7BreBrLhi5rYef2g1c+6QFmhjq0i6ZtZzDzqACYs35iaBu8gmX5dHVbWn/VIsSVnFhmh48f9F4WKmIgXfwo9jV25UpdfkgjKgZyXVW+7SV+iifsly5joE0Ip/Y1F6Ufy77bi0fbNf1wEGjNNuGwpIbxiKg+I8nyQmbzcVLbS7A8LwIqbL9O6Q4bm8WW5JfLjRntdJfzHGOWcliyHiqAh1MYbNJnzNtn7DnaMxz2yLNxSsmn5Ldy1FnoCVWnFKPvdlrinLYjdB6ldWi7E0jFxdhsX39WVBHSVy8uoXyW/HDy07FdSGUq5SxQeMUkjoeJy9OmR5t1Kvfob4jvEusIx9A2cBlLjn+rtWZj/b9XO5fXiNeXw5ALm+Og/CSDfIJ9O0ROAnMt4IfMWTyjiiZt6DWfsLD7Ui6nHvwdTGm7QsTnlEvTvpcPXnnTDXjaNiuB+SRT8/9BfHgvFCXg+rPClFtdbvvV6r3iK/pn3ao0brc6Q+TO6pj0Lagt6Xyn34lmP7P9bhA1hvm9EbhPeeRXitq6Kcfk8LfFcczWLXi2mZBjUhhOwh3TFwWlN6HyyIzs065rtseRfux70LWi4jcSIAESIAESIIGqJ1A9Aq3548RBpDIxuv3gNU9QL/SfzJ7DHvWiaRv6xr/Go/TP9HXzrMseWErdGUef+hh1E/aM/N3lMWq5hNO2jx/0TsWMfRUyMC9+lBha+1JYMGcfGxWITzeBFsWLJ6USBnJdVb5tXjyUip+F/KdI9OzQZ0e9gETW9mD9o2kMbRPirdcNBTl+j7Zb+CfGDjSpdVmXTJDWb3Na81haH1fZcw6zT4wf7QWsZM6iU+0DtgstzzZW5kJHhFP4HrO/ewNHe36Ks1duwWPOmBZ82NhkdChenJQ+Gi+f6HKeW8zLVzCoCvB2ocnKPdhMIo88y65atn1wd4tBteNRZ+B2anGs+KWSPBoX/c3Po7urFc4zU8Uk2qB9Sr6odfi7EdbnMO0ijO9FutYtz1yLPhhivPC06dF+HMs9xtzYS/qTBQ5jozUa6VuZdi4ztCxlIm4evoxGMZ45PgEjVSFvyvZcb/pKBcJwNW/+KlB2voqJ3GPJoLTpyNE47sHfOMXpM2h8oX0okzfhm6dtyXmJsbrGf9D1Z73q8vQhDONK4/aoM2juJIQlm0FtuY5vYnb8Ca2fib5mvzEZ5veGlG/fv20881gSvbbDNaZK/pbb/ib5HZPCcBJRmHGL9b4HMHGn+OuqOFkghm1D0yGvT1zYcTcJkAAJkAAJkEBVEagegda866ygse8ibjmKix4/eGWsYt3D3jZV8IodOI03f6IJbZ5r5hXuYup0py7IPYuBCzdw39EHuSL7doUCbcUMlpEZOahdOCtN6Bw4j+vzS1gRut1qHnfnP8EHiQHsa9FmhZb8AI+EgZ1JFX+XBNrmwQl8ncthMfsJrlyIo2en/jI6pR19qXkHIXIFC6l+tKoi6A50j3yI2VxeO281j1z2GqZm70vBe7VdWfB4HvGpr7FSeIIH2T9gsFMTbsXFbOmax9IjeIrw4U/IzH+J7PR7GJDKWfJsXgQ4CFqQ1zmLobXn15ieu4XcrXvI69pvcU1eBYrTY39SxNpm0NiWkE6+hw8yi9ryJqvfY/7jt3BIvXkiz1Lze5584WOPWVrCQuX3IWYXb2Hu+nl3fiIoT4ZeeS6BY+4ori/nzD18nUHbqemSbSNoHqXihVsY79umja1iNnrfOO4Y9xKk04AQvnrmIqzPYdpFCN8tsUtfPGMS54WIy9OmR5t1KVdcSsh+c0OKw2HTu50/whdjvWgQY2rsIIYnv9LHwRRO7RQzdoPeOAyakxBcsYb7U29gp/p3QEGs4yR+88EnmFf/lszgT9e+hvpkgwtHDZEHfweGxV0B46vAB++8lRsTix5blmZQFHjfcJPLSdtucbjtV4uGY1xZ3F51BsydFH7pZlBb8u/EHegZ/QjZxQVkr4yip1X/begk0CLE743Ix6rS6LU9YcZsP+02zJgUhpPsi3hyJ4bW7rO4PPsVFrMfI9GnL//W0IuxL2yTBdyQcD8JkAAJkAAJkEBNEqgegRbS+pFKI3b2/AfG/jyF6+k00sa/mfcx0q1f6Hs+6vwUy1Ovo02/aFJnaijPYGDyjm3NWGvOCvevYtgUtmJo2XcSI2MpTEz9VfNhZhLjyd8g/vK/IX51yVpY/VahQBsBA8vMT0v8+uPa8j77DAkxOatiBg5YqnWXJNBqbcTKKLbzGEanbzuIs3pAq1/j8ukf6YK4tayw1zw0g+J8Kq+LNTt3w1YMbSfexjsv71TFrVKBVsx6/jNO6sswyDHEOt/A+V/1aKKYnGfPi1jRABYxfkxf59loK1JfW5sdxW5jv8/ZT9Y2VSY2Y7alUYf52YhdA3/CbeOmid/zRKo8YnbuLzG0HnsTb77YUsqvjD3AO8+uXaEMd68YytYZqJ26emgbG8rk0WJGWqtTacKBsX+6j8NBffXIrXAhUNuTfA7VLoL6LtVn2SwTU6i4PG16tFnXctLf61iAWbTl2rkrQ3Hj4re4mbcs5GLB5vjF1Z7Wfq1jdMj2UvgeNxNH9Jt1Rr/QP42x15Wj8NqDv2NQ0s4g8VXiQ7m8edqW/EUBj2eG0ayO6y04nJx3HwvkYvK2W11u+9WyIRlXFHeZOoPkTo7faTugrUI+jbP7tTWdi78bYmg7+Qu85fZ3T4ynQX9vhBmDPfPoFLy2L9SY7acuV7buY1IYTsW/8c147tVB9MpiudpfdqA3+Tnsb9BwJ8IjJEACJEACJEACtUigigRaQPzAGuvb7Sp4FX9IKlAk0cgRvPzooZipcSCBrPkIuGMJ8VMSq7n/xejRcj64iQyVCrTRMCjkv8Bf5JmypsjVis6+kzjyL/rsUOPi0YKjUgYWY9X9ZS2L5E968NK+dv1x3Xbse6kPp4ZHkZz8FLmVp+X9Lyxjfuo84icOo0OdmRxDS8dh9J/+JZLTCyi+yqHMxZra9qaRGOxR7cTaD+PVxFUsrog3X2trKjf0T6D0tsAa8vMf6eUa0NLRg8HER5jPrxUvhOW+4uOCpJD/DOPxfuxvF+2kFR0vvYNZQxcpfIOpM8+jJbYbfWOfmjNrvUGJNuUvtsLKLaQvnsXAkf1oj4mZdO3Yd+Q0zk3MWma0+z1P9atMzHK8sfaD6I//Edn8l0h1b6BAK0YfL+6eMZRrW8K433bqlUn/ebRbKQr7DuuL2k8O4qsnF2E4vM9yPny1C7W6CDiXjSlEXJ42PdqPR7mnc2M4KPpowLVoZa4l44sIbfUOMqmfo3+/GJcb0b7/JxhOXvM3Hovy9v+CtKfQ7eUx7mbeR2LoJ8Vxs6sfQ+9exz0xW9yDY0UCrYjVb3wV+uCZN0/b1oSspuNoEb9Jwq7X7FaX2361eo82bnWv5Fv4uH3U6Td3JV457AhoS45L+70xjdzqgvvfPbXKgL831DIBx2DPPDrELe2yxlTp33LJcOAxKQQnS9xf4H7mdzjd3YmWWDv2Hz+DsRmPyQKSq9wkARIgARIgARKobQJVJdCqKFfvY276IkZP96PbEM5UgbEVHYdeQk//IN4cSSD5fka78HHlL689VX72rMVM4RFy6feR+MVp9Hfv04Silg4c6u7B0VNnMPrun3BtIe8w86NygTZKBoWV+/g6+6k2+3f2S9zNizWtimvQxo6O464lcOlLaAaSDW6SQM0SKPYT+yy7mg2JjkdAgO0iAog0UbcEHmJ29Dn1yYTY4SQWHJc6qVs4VRB4cXyzLI1UBZ6Fd6EYU1X/LbcItIvhw2VJEiABEiABEiCBmiZQfQJtTeOsAefNN9rGsGMko62PVwNu00US2FACazcwult7Uz37yYaSr+7K2C6qOz/0rqoJFF92JF7gesvhJndVu18HzhXFzC0j0NbKmE2Btg76F0MkARIgARIggfIEKNCWZ7R1zih8jxvnXtJewqLsxuDUd1snNkZCAhESKORS6FEf396O/olvI7RMU7VMgO2ilrNH3zeVQGEJ1+MHtOWEdv0M6UecPrup+XCsfOsJtDUzZlOgdWyR3EkCJEACJEAC9UaAAu2WyvhjzL97HIdejiORvFh8uVl6GpOXxjByYr+29pt4k/rhd/FF2TV5txQcBkMCPgnkcXO0SxMSGo4hdZuv5fAJboufxnaxxRPM8NaNwGPkJl7FTnW5qnYcG1/k7Nl1Y12J4a0m0NbQmE2BtpKGy7IkQAIkQAIksGUIUKDdMqkUgdzD5Kl27c3z5ovBbG+VVmJo7XoLV3KPt1TkDIYEwhBYy17Ef577A6YyWSzmcsjNf4IPfnMSHers2SbsiV/DMid6hUFb02XYLmo6fXS+iggUVr5B+vzL+pgaQ2tfCgurHFSrKEWSK7Ur0Nb8mE2BVmqH3CQBEiABEiCB+iVAgXZL5V683OzPePdXr6O/5wXsa2/UxVrxgrVe9J/+JZJXsnjAi6MtlXUGE5bACrKJQy43NJrQOZBCNr8W1jjL1SwBtouaTR0drz4Cj6YxtC0GRdwc7vktbnJMrb4cmR7VqkC7BcZsCrRmK+QGCZAACZAACdQzAQq09Zx9xk4CdU3gMe5m3kciPoAj+9q1JQ1aOtDVfwbvTPJGRv02DbaL+s09I4+ewEPMjh5Gx4kkZinORo83Uou1KtBugTGbAm2kLZnGSIAESIAESKBWCVCgrdXM0W8SIAESIAESIAESqHIChYd5POSqBlWeJbpHAiRAAiRAAiRAAiSw2QQo0G52Blg/CZAACZAACZAACZAACZAACZAACZAACZAACZBA3RKgQFu3qWfgJEACJEACJEACJEACJEACJEACJEACJEACJEACm02AAu1mZ4D1kwAJkAAJkAAJkAAJkAAJkAAJkAAJkAAJkAAJ1C0BCrR1m3oGTgIkQAIkQAIkQAIkQAIkQAIkQAIkQAIkQAIksNkEKNBudgZYPwmQAAmQAAmQAAmQAAmQAAmQAAmQAAmQAAmQQN0SoEBbt6ln4CRAAiRAAiRAAiRAAiRAAiRAAiRAAiRAAiRAAptNgALtZmeA9ZMACZAACZAACZAACZAACZAACZAACZAACZAACdQtAQq0dZt6Bk4CJEACJEACJEACJEACJEACJEACJEACJEACJLDZBCjQbnYGWD8JkAAJkAAJkAAJkAAJkAAJkAAJkAAJkAAJkEDdEqBAW7epZ+AkQAIkQAIkQAIkQAIkQAIkQAIkQAIkQAIkQAKbTYAC7WZngPWTAAmQAAmQAAmQAAmQAAmQAAmQAAmQAAmQAAnULQEKtHWbegZOAiRAAiRAAiRAAiRAAiRAAiRAAiRAAiRAAiSw2QQo0G52Blg/CZAACZAACZAACZAACZAACZAACZAACZAACZBA3RKgQFu3qWfgJEACJEACJEACJEACJEACJEACJEACJEACJEACm02AAu1mZ4D1kwAJkAAJkAAJkAAJkAAJkAAJkAAJkAAJkAAJ1C0BCrR1m3oGTgIkQAIkQAIkQAIkQAIkQAIkQAIkQAIkQAIksNkEKNBudgZYPwmQAAmQAAmQAAmQAAmQAAmQAAmQAAmQAAmQQN0SoEBbt6ln4CRAAiRAAiRAAiRAAiRAAiRAAiRAAiRAAiRAAptNgALtZmeA9ZMACZAACZAACZAACZAACZAACZAACZAACZAACdQtAQq0dZt6Bo7VNOItChRFQUs8jVUnJH7OcSq3WftyKXQrIqYWdKcWN8uLyOst3J9GfH8bYjtP4sLco4rtR22vYodowEpgXdrxU6wsXsXYUD+6OlqhKI1o3zOMyaU1a92b/W1dYt/EoDYyno2saxORsmoSIAESIAESIAESIAESIIGtR4AC7dbLKSPyS8CP+OrnHL/1bcR5W1KgWMPd8eOIqcJzDDtGMqhMUova3kYkts7qiLwdryF/87foaY2pN2TETRn1394Esk+rjG3ksW9yfBsZz0bWtclYWT0JkAAJkAAJkAAJkAAJkMDWIrCuAu1qOo6WzZjNV1hCJnESnS1t6OwbxfRdx7mR657JTYt/3SPbIhX4EV/9nLOhOFaRX0jjj+fGMHXPQabckgJFAT/cPIe9MSGqbUPf+C0UKmIetb2KnGFhJwJRt+NHf8fIniZVlG3YP4xLmTnkcrcwP38HK071r+u+OuvDUefSKzcbWZeXHzxGAiRAAiRAAiRAAiRAAiRAAgEJbEmBdm12FLuNGVJKA3aP3qhwxl1AqvrpFGjDcduwUn7EVz/nbJjDa7g38bJ+0+MoUjmHGw9bVqB4jHuzVzF57SvkK1Nn9WxFbW/DGkF9VBRpO36K5clX0Kj+TXgOo7MPN5FhHfbhSHNZJnUbWVcZV3iYBEiABEiABEiABEiABEiABIIQ2JICbVEY1R5jbR6aweMgVCI6t+jH1loPNCI8m2/Gj/jq55wNi2QVudRR/RHtehNoNwwyK6oGApEKbQ+RGXlW6zfNw5h5HInCH5JSHfbhSHNZBvtG1lXGFR4mARIgARIgARIgARIgARIggSAE1lWgLc5k3Y7+iW+D+FXZuSs3kOjapl2Qxw5iJLNcmb2QpTct/pD+1l0xP+Krn3M2DFwdijsbxpYVVRWBSIW2PNLxDu3vQUscaYeJ5xsXex324UhzWSZTG1lXGVd4mARIgARIgARIgARIgARIgASCEFhXgRbmxVIH4ul8EL8qPrewchefZz7F5/dWKlyvsgJXNjH+Cryun6J+xFevc1bvIHPxLE4d2omYEkNLRzcGzv43Mncd5msXHmLx6rsYOn4Q7TFxbg8GEx9hPu+wjmxJBmRRR3+5kbmEh/gu9S+zzYlZ2wtYvX8D42f/Hd0dbWjpOIwT8T8i61VnRX5qjpszx9XZimtYWbyKsaGfYH97k+7DJdy8/0Q/WWM40N2Jllg79h8/g7GZ2yjR0CxxLZqEzLpU4W0N+fmP8I5Zl8jH+87xlrMXpe/CW5f6tEAWkepu0QTE7hRyenRmbFH7YtKzbpj1xY5j/O4PyM99iNFTXWiPSe0La8gvXENq9HX0d3Voy220dKJ74CwuZu6U5M20GVF+gBUsJI+iQbT/WBdGb3r9XZGEWUt/0fuQLNYWljH/lwQGRTtU+7J7/zRj8uRkZQvUSh8u4OHUa2hSee3G0Mz39kDwNJvAXnF89yhmS4ave5g81a615QNjmBeTlS1tP8yY5D831rqK44QliAjGONPe6ne4eenn6OtshaK0orPvl7iSe1h80kFuYwB8t50A7dE7ZuexRfhf6ssHGOnX/z51HsVwMo27q5s529ykzA0SIAESIAESIAESIAESqAsC6yvQ3h3HUfXFPs9iJLOZ6/5tUi7rPf5Nwu67Wi/x1TDids7ql7h04l8QKxF+OjA088AorX0WvsfNxBG0lpwbQ2tvEnNPyl0EhxN3XvzFr/Fap/ZiJPOt9UoMrT3vIrviUGfFfuphm4LMEfy/K2PobY1pgo0Uf2z/r3FzeQGXT/+olGHsR3jtyjfWGyumTdtyIcb+hn6c/+g36Cmpy4WxUU5xsadE6LvA4lafisxFRDHLROyLnqaSD7O+H+OdiXPoajHyJgm0hVsY79OfTpDyqbWvdvSl5q0irWEzovwUli5joE341YQ98WtYdmjGxbh8CrSF73D97EvO/bPnt7hpv6FhxKR4cCo6oW/VUB9emkB/gxCxm3Bg7J/WfqgKzX16n+1FclG/0WLEu3YDo7sboMhrv5u8WhB8TAqbG1u/NvyLaowT9gr3MD28r2T8iu35GS698+OSGy6qCyYLj7YTuj06xewytghnTF+O4Px0En0lY2cTOoev4r5nHzPA8pMESIAESIAESIAESIAESKBSAusr0Jrilst6mZV6X+3l6z3+msmPgpZ42iosGb6bOZTPeYLbqWPaLL6Gw4j/zw0s5nJYzM7g0tvvY/YH+Yp2Dfen3sBOIWa1HkEi/Q1WCo+Qm/4vdKkiSBt6Uws2EcSo3P4pizwufcq86BYCSwyt3SOYyHyBhez/4vzAs7qYsAMnJmwCKCL00/ShDe3tzS4+tOK57ufRFnsWA8lrmLs9h8zECLoNkWDPOczKwrVp0yZCmPub0NLS6FLXNvSN37IyNsu52YvQd5FGt/rUFLuIKGaZiH2xNyvju1mfYNkApfXHODf9FfKWWXSr+ObqBVyYzuLeylMxDw/5+Q8xvK9ZE6TaXsfUstiv/2exWWl+lpEZOai14Z1vYOp+yfRNo1bbpyTU2mY0AmtYmnwVbaJ/Gm0xt4DZy2f1ttiAXfG/4ZFs0RKTGye5gLxdA3248E+MHdBu7DSemoR1gaAlTA3u0m+4tOPU5D05OMAUd3dhcGpJO2byCj4mhc+NrV+rnkQ4xsntRmlC58B7uHL9r7hy4Qy6WhvR0qLfGJNmxKsumCzc+lgl7dEpZpexRThj+rIdHR1tiHW+gvNX/orrV36P4a7teo6fRTxdOotaSyz/TwIkQAIkQAIkQAIkQAIkECWB9RVon36GxN5GKI2vYFK+aC+JYBUPsleQSsRx6ughdIiZWy0d6Oo/g7GrXyF/P4vJxGs4sq8dMfE47WACf5lftggu5uN6JbO6ZGGtpGJpxyoezF/H5KV3MRofRH/PSzjUIR5bVFRfDh09heFz/4107pGlXslA6abv+EuLcs8GEHAUX231Op1TWECqR7SNRuwZvQHbHDKrgaefY+ygEK/a0JP8QhKBHyGbeEETm/YmkJU0LasB+VtAcaftVUwuFUWswtIETjRqj3eXCC9R+mle+CtQ7D4sX8HpbcbMzGYcSMxK/B5idvQ5XRg4hER2pRi8adMmQpj7HeoyZ1sqKInXLBfAXljfRRRu9akRuogoZhmH2CrxpUjVuiXXp+zF8MySz7GugEczZ7BNHXttop1s094WAuancDuFXvWmxi6cnLjt0zcRoodA+2QWiQOif8aw7fQVaUautJRCQz/G70iLbsgxBeIkfKmFPiy9VM2+jIE+Q7axowPPKDHsGMmgOMIAa5kR7BDtoOGnmDDGHplXSRvwGKSqMMQAACAASURBVJMqyo2tXwv0UY5xpm8KGnp+hwXzJsYq7oyfQKPxO8RVoBXjsEMfM+2GaY8OMcNlbBE85Lw0HEVywRhvC1hd+B161L7mMHaKsvyPBEiABEiABEiABEiABEggcgLrK9DiO6TH3kL8rQnMy1dxJWFIF9DGhY35qc80Mb9rApPSegzJueK8psoFWi8f9DqFDy3PY3jya0loKwlG2uE3fqkINzeOgJP4aq/d6Rxzn9MFsdWAuV6jXeQReoGxlmOsD6mcJABZTUjfgog7MWwbmrbO/MO3mOjXZ0bZRGHTlyj8lC78m4dmYF2RV1qj0qEuU+BR3IQ+G3OprqbBKVgXUnGPtyhOuNuLzHeRQdNPW31qdl1EFLOMgkh9kVqUZVOqL3Y4iQV5IrjlRIcv5nIuDdg9eqMo2kk2K8pP4Q4mB57RZoUfu4RcEN88BNriixz3YSRjXc+2cGccfapIZZuBLcUUmFMggXaz+vBTLE++oomMstAqnupfTKJLacTen/0crzQpUIx1ZtUm8QSLyV7tBou83+QVLJ7KclPaz6Ic40xb9nFKcFiexCn9RpjiIdA6tZ2oY4ZPgba0bz7AzJD+Yr2m1zD1MFCHcxgguIsESIAESIAESIAESIAESKAcgXUWaMtVbxyXxNHOYUxkF5Bb/Awfj7yoPUauPkJ4HtfnFjF3/TwG1HU1Y2gbvGI+fllYeYBvcjnkjH9fT2CwWRNWXR9fN6pXPyUfGg5i8J0LGJ+cRjqdxvWp9zH25r9ip7qernhU/STGc57zJi2W+aVKCZhCq8csa6dzpEeArbOn7HGu4e74cW2WrCxYGKc9nMKgEDnkl3wZxxw/gwi0pQKF+0zCiP00BZkgPugBu5UNul81J/Vp+6PtUdsT9bnZLHfMTUTxsuchOqqhe5ZVzyj9n1nGJrKWnlm6x6mfiLNMmwHbgqXcAp5kEzggxt+GXox9UbwxV+qI0x63diAJik4ilNTPLQKW6VsIToEE2iDMou3DhVwKPSXrxxvC7Xb0v3/Z4ekYY/kDGxeTV5B4Ks2Nva4o+Ui+2QRsrfW53HCx9AcbI7WgZDdUe7THLIz68aUZXckvbTPSjVyLv0+2pxm0IPl/EiABEiABEiABEiABEiCBiAlUn0ArzzgxZ6JI69lBPELYrwm36tvNXWZ2uAkGrgDdLuKNAo9xe/xlba1CMYMo8Rl8PZVuFOdn9RHw00Ycz5HWoBU3D07/GQvqepz2EIttyiLwGKeZtp0urI2T5M/1Emgj9jOUIKPH6VY26H7VXDEuhQKt3JCct90YO51dWMG92Y+R/NXr6O95XluWRn/KwXJDzNOmz/xc+Bip3jYoSjP2j34K40FsJ7ec97nVI+23zSjX7EgzsOW/S54xOXtQ3FsjfdhYnkeRxTtj6QMh2C1i8lQ7FEV6AagpaMt/r8OK9FHnpmiv8rG4aEvZMYJMydNBfkRRpzFfshtZewzrC1CczbsbQzNch7bYh7lFAiRAAiRAAiRAAiRAAutDoLoFWhcBq7icgcuLkgQrs6zH7EgLU+niyC7mGOf98AlGnhFvqFYQOzqOu8Z+ftYmAT9txO2cJ58j2btDXy81hpb9r+Ni9nvbLCRJ4LEv0WH57nSx7oR0vcSdiP30FLDK9DO3skH3q/g86oranqjPzWa5Y26z3LzsresMWu/2WMh/hounn0OLpQ0Xl4GJVqBtxnMvn9BmzyphX1jk1g48xCuv9uOZF7Wgx/9qpA/DmA2rwBQ0DQFWnd25gvmxF6EoTTgw9k9t3DNuqNpnlXry2qjcRDnG3cb4UXHDQEHJEgZq5j3alScLj3KqXRdWYW16lisznnm0cB4iARIgARIgARIgARIgARIIR4ACrcnN5eLHPC42pPUzHWfOWE7ml2on4Ca+yn57nFPIf47xwR9pSxiIi/XWF/Gz6W8lkVa64HYRs9SLfMVbECu6s17iTsR+el74l+lnbmWD7lehedQVtT1Rn5vNcsdqSaBdnUeqT8ycVBDb2YeR8euYv7+Cgls/8WLiJTKb5YrCr6izoTeF2y4PTRT7iX3LrR1I7V6eIWsWdyln+ua335oGA74kzMm+i09yG4pkrFnD0sRPtSdVjNmcSxPoF2vydiWxWCjgcTqO7UrxJVLmjEv7ci6evHzEE0lupFxXzEey5eibx3FPFh7l1CbkwiqsTc9yZcYzuUlzmwRIgARIgARIgARIgARIIBICFGhNjC4XP+ZxseHnHEsBfqlmAm6ikuxzuXMKy5ibiKOrNabNqGrtR8p8G3bxgtsyq1C2H2h7/QXaSPz0vPAv04fcygbdr3L1qCtqe6I+N5vljsnimiz4eNkrNxZ5lnVpdGXLrGFp8lVtmRfLW989nljwtOknPwqUtpdx4Q/D2KUKa2Fm0brVU+yfzjMhXcp5xuTC1txdI31YvBBsfgwHBPPGVzC5/BTaC/yktVONGbO7RzG7ZqzxGsP2+HXriwE9ebkwdusTJkeXcq51FXNd+RhXtOXcbjyOu/onAvMop8YdNOYyNj19KTOemXngBgmQAAmQAAmQAAmQAAmQQFQEKNCaJF0ufszjYsPPOZYC/FLNBNZuYHS3tmSF60W7KdBKj/KWxLSG/I230aW+8b0Bu+J/g/Yao+Jjwo2nJs0X2pUU971jvcSdiP30vPAv04fcygbdrzL1qCtqe6I+N5vljrkJM172yo1FnmVdGlzZMsXHxM3H3g1TZj+xLSnjadNPfpqwP/EZVp/MInGgWb0JEnwWrVs932NmaLd2Y8WYJWrEo35KT0z4Fs4tBhy+1EgfFp6vZTCyQ9x4EmvOLmMx2QtFkdaXNZY8iB3H+N1lZEaehaK049TkPWvcodpA1LmJcowr55uH0OrJopzdMO0xrC/A02wCe9WbIh2Ip/PWnPIbCZAACZAACZAACZAACZBA5AQo0JpI3S7izRMo0MootsS2dPGqPrZbGlRhMYku9SJ1O/onvi09wdzzPdJxIVAoUNQZZeLAI8yOHvAQgMzCPjfWS9yJ2E9PEaJMP3MrG3S/StSjrqjtifrcbJY7VisCrSnYOTx6v24CrVGX9HJIZR9GMkEEI7d2sIJs4pDWP9V1VW1rJxS+RLJLE4UtgrRXnsv25Brpw2ochiAoRNd/YGpwFxTL+rLGuCFeIjWrrcsa60Mqt2ql4Mlro3Jj+KpAcRTjrS57f5PajT672Hq+9HdFFvbFSZ4sJLuRtcewvhTwcOo1NKl/+4RAH/zVfFYm/EYCJEACJEACJEACJEACJFCOQHULtIUHmP97Gun03zGb0+YkioB8vSTMmN2jKGgemrE+culIxe1CUT7Zzzny+dyubgLSRXvjy5hYsr+OW6zD+DIafV2kSsKL+ZI56SI39q9ILvxQIQ6pDsXlBXmeAoBb+43Yz1A+6Gjcygbdr5pzi9dDKHGrp5w9cdyr7OMZDDWL9VRj2DGSgaWlSTO5LY9Me9nbjBm0pghriKZ6zsSH8bi7EvUMWqmuR39DfJeY8R5D28BlLNn0VMkb26ZbOyjg0cwZbFP79wGMzhb/xqgGzJha0ZNaKK4t7ZkXW9UlX2ukD6t+C1/7EFMasfftC/jtgSYolvVln2J58hU0Ks3oeu8CfiWeRnASPz15bVRuohzjJFvKHsTTy9YsP5zCYJO+dnIggTZkewwztgiPzbxIL4IzI8kjM7JPu3mxPY70Y9+dzbTADRIgARIgARIgARIgARIggWAEqlugdYnFl0DrNivNxaa/5QvcLiZdjfJAVRMo4IfMWTyjCjTN2H82jbx8HbryKUb3azPoYgfHMPfUK5jiBW2sJ4WcYefRNIa2iceEG7BreBrLxn4vU67HyggDopx50S0JW6Y9j/YbpZ9hffDy382m2341Zo943cq57S9nz8t3cezpZ0jsbdQEjz3nMPvEaAgFrGTOolNtg7a3wq+XL2osDv/zrE8sSvpPjAmRTnoxlGZFWpt2PQVaPMbc2EvaS/liLyCRtQmqDiFpuzzagdzuzaVJRCnp5kzDMaRuPylaL8epeKbDVo30Yd1z4zH35pOncKKp9OZCIZdCT0xB87/1o6/RYf1ZYceT1wbmRs51pWPx8hUMtolx3X6zwNoXLDdcyrIQD11Ify/8tscwY4vFF7HO8wAm7hRnPheWLmNAj2/b0LS+ZI/eKPhBAiRAAiRAAiRAAiRAAiSwLgS2sEArrefmODvSztPjQtE81c855sncqAUCq18g2dOmCWfKdnQNvYfLM9dx/crvMdy1Xd/fidNTd4sz6LCEdPI9fJBZRH61AKx+j/mP38IhdQ3aNvTKs+2wgoVUP1pVAW4Hukc+xGwuD/VSeDWPXPYapmbv+yZlCCZCGGjt+TWm524hd+teUVgOK4ZE6WdoHzzEHDebbvtVoh791a2c2/5y9sRxz7LS48uKaAd/Qmb+S2Sn38NApyZ6qstjyDPuPO15xFbWFzWY0v951idOlwXS5xGf+horhSd4kP0DBqUYLOs5e9r0iMGlXGFpAicatZnI/mfRetSDR/hirBcNon/GDmJ48is9phRO7RSzdZuwZ+TvVoHKxbdSoM57aqIPG67Ls0Gd1peVxUGn48KOJ6+NzE2UY/EjZBMvaDcL1P78IWYXb2Hu+nn3/lyWhTghRHtEiLHF4ovWn1q7z+Ly7FdYzH6MRN8z2t++hl6MfeH3Rogwyv9IgARIgARIgARIgARIgATCEtjCAu1TLE+9rr1xXIhZXUM4f3ka6fQ0Ji+NYeTEAMYs66p5XSgaeP2cY5zLz9ogUMBq7kOclgQmVSgzZjQqO9CT+LQogIqgzEef9cdYzXMbsWvgT7gtRFv5v9Wvcfn0j/SLeXsZv0tw6AYLixg/1q4Lx7otc0mFSsQQsXZIRH6GFmQ8/Hez6bZfxeXRX93Kue0vZ08c9ywLFO78GSfVWWnWNhDrfAPnf9Wj5bSqBVqgcP8qhkv6SgxtJ97GOy/vVGNYT4EWkNZ69j2L1qMdiLy5tntxE+S3uJm3LEhRNs9qU/H6Xy30YdP/4ovhFKf1ZVF8+Zbz8XL9YoNz45prrU/6Ww5Jg1PIf4pEzw7rWCx+axx7E2++2FLan0WxMmOEatnVR5f2KCa3Bx1bLL4047lXB9HbKmYEy2PTDvQmP4c0d1wLnP8nARIgARIgARIgARIgARJYFwJbWKAF8ORzJHvtF1DGBYj9bdNlLhRV/H7OWZc80ei6Eihg9UEWk++cwfH97aqQGmvfjyMDZ3ExfQsrNr21sHIL6YtnMXBkP9pjYuZdO/YdOY1zE7O4bxdnDb8Ly5ifOo/4icPoaNEejW3pOIz+079EcnoBQV7BUsh/hvF4P/a3i0fmW9Hx0juYNTQkTwHAR/uNws9KfHArG3S/yt0j3qjtifrcbBptAGvIz3+ExGAPOloa0NLRg8HER5jPr+HxzDCahTgSldhe1hfTqeKGrzLihsa0HkMMsfbDeDVxFYsry0jHO1SBp6F/AkuGVU+bIfIjVouYG8NB0e9KHi83KrV/etRjnLp6B5nUz9Gv9v9GtO//CYaT15BbcVjXxDMmw6D3Z9X3YdP9x5gfe1ET7pzWl1WXgvipNgPZ8Xi5frEJuYlijNP5yHmMtR9Ef/yPyOa/RKq7AoFW2A7SHlVfAo4tooylHX+B+5nf4XR3J1pi7dh//AzGZm5rT3rosfKDBEiABEiABEiABEiABEhgfQlsbYFWzCxZWcDM70YwcPSQLoo8j57+1/Gr5F8we++xRNfHhWK5F/NI1rhJAiRAAiRAAiRQbwQWTYE2yIzcDadkEWgXN7x6VkgCJEACJEACJEACJEACJGAlUCUCrdUpfiMBEiABEiABEiCBmiOwdgOju8X6xaUvVauqWCjQVlU66AwJkAAJkAAJkAAJkAAJUKBlGyABEiABEiABEiCBCAgUcin0qEtwbEf/xLcRWFwnExRo1wkszZIACZAACZAACZAACZBAOAIUaMNxYykSIAESIAESIAESkAjkcXO0S3shZMMxpG5X8Su2KNBKeeMmCZAACZAACZAACZAACWw+AQq0m58DekACJEACJEACJFBDBNayF/Gf5/6AqUwWi7kccvOf4IPfnESHOnu2CXvi17Bse8FkVYVHgbaq0kFnSIAESIAESIAESIAESIACLdsACZAACZAACZAACfgmsIJs4hAURXH414TOgRSy+TXf1jblRAq0m4KdlZIACZAACZAACZAACZCAGwEKtG5kuJ8ESIAESIAESIAESgg8xt3M+0jEB3BkX7u2pEFLB7r6z+CdySwerFbz1Fk9GAq0JVnlDhIgARIgARIgARIgARLYTAIUaDeTPusmARIgARIgARIgARIgARIgARIgARIgARIgARKoawIUaOs6/QyeBEiABEiABEiABEiABEiABEiABEiABEiABEhgMwlQoN1M+qybBEiABEiABEiABEiABEiABEiABEiABEiABEigrglQoK3r9DN4EiABEiABEiABEiABEiABEiABEiABEiABEiCBzSRAgXYz6bNuEiABEiABEiABEiABEiABEiABEiABEiABEiCBuiZAgbau08/gSYAESIAESIAESIAESIAESIAESIAESIAESIAENpMABdrNpM+6SYAESIAESIAESIAESIAESIAESIAESIAESIAE6poABdq6Tj+DJwESIAESIAESIAESIAESIAESIAESIAESIAES2EwCFGg3kz7rJgESIAESIAESIAESIAESIAESIAESIAESIAESqGsCFGjrOv0MngRIgARIgARIgARIgARIgARIgARIgARIgARIYDMJUKDdTPqsmwRIgARIgARIgARIgARIgARIgARIgARIgARIoK4JUKCt6/QzeBIgARIgARIgARIgARIgARIgARIgARIgARIggc0kQIF2M+mzbhIgARIgARIgARIgARIgARIgARIgARIgARIggbomQIG2rtPP4EmABEiABEiABEiABEiABEiABEiABEiABEiABDaTAAXazaTPukmABEiABEiABEiABEiABEiABEiABEiABEiABOqaAAXauk4/gycBEiABEiABEiABEiABEiABEiABEiABEiABEthMAhRoN5M+6yYBEiABEiABEiABEiABEiABEiABEiABEiABEqhrAhRo6zr9DJ4ESIAESIAESIAESIAESIAESIAESIAESIAESGAzCVCg3Uz6rJsESIAESIAESIAESIAESIAESIAESIAESIAESKCuCVCgrev013nwq2nEWxQoioKWeBqrTjj8nONUbrP25VLoVkRMLehOLW6WFzVXb+H+NOL72xDbeRIX5h7VnP9b3uHI2/VTrCxexdhQP7o6WqEojWjfM4zJpbXqQxl57Jsc4kbGs5F1bTJWVk8CJEACJEACJEACJEACJFDbBCjQ1nb+6H0lBPyIr37OqcSHqMtSkAhBdA13x48jpgrbMewYyaAKZboQcW2hIpG26zXkb/4WPa0x9eaMuEGj/tubQPZpFTKLNPYqiG8j49nIuqoALV0gARIgARIgARIgARIgARKoXQLrKtCupuNoqePZfPUef9V3Cz/iq59zNjTQVeQX0vjjuTFM3XOQESlIhMhGAT/cPIe9MSHUbUPf+C0UQlhhkXUkEGW7fvR3jOxpUkXZhv3DuJSZQy53C/Pzd7CyjiG4m66zPh1lLt2hakc2sq5yvvA4CZAACZAACZAACZAACZAACXgQoEDrAafSQxRoKyW4zuX9iK9+zllnN4vm13Bv4mX9psdRpHIOizJQkCjiCrT1GPdmr2Ly2lfIU50NRG5DTo6sXT/F8uQraFRvHD6H0dmHG+K+eyV12Kcjy6U7VfPIRtZlVsoNEiABEiABEiABEiABEiABEghOgAJtcGa+S1Cg9Y1qc070I776OWfDvF9FLnVUfyybAu2GYWdFm08gMqHtITIjz2p9qHkYM483W42vwz4dWS59NMuNrMuHOzyFBEiABEiABEiABEiABEiABNwIrKtAuzY7it3qTKXt6J/41s2HLbu/3uOv+sT6EV/9nLNhgdahmLNhbFlRVROITGjLIx3v0ATaljjSDpPQN5ZDHfbpyHLpI1MbWZcPd3gKCZAACZAACZAACZAACZAACbgRWFeBFubFUQfi6bybD1t3f73HX+2Z9SO+ep2zegeZi2dx6tBOxJQYWjq6MXD2v5G5+7g08sJDLF59F0PHD6I9Js7twWDiI8znHdaRLSktizj6C42MFxupn1L/MttcC7pTC1i9fwPjZ/8d3R1taOk4jBPxPyLrVWdFfmqOmzPH1RmKa1hZvIqxoZ9gf3uT7sMl3Lz/RD9ZYzjQ3YmWWDv2Hz+DsZnbKNXN1pBfuIbU6Ovo7+rQlnlo6UT3wFlczNyRzi/gUfpn2KVyaUNvasG2nuxDzI4+pwl0ba9icknnb+G2aGZgfWIBimOjyFOxPq3iRaS6WzQfu1PI6d6smy9mtNYNs77YcYzf/QH5uQ8xeqoL7TGjvfnNSdGuaVMVR9eQn/8I75htQ/Sf953bp0t+gBUsJI+iQeQ71oXRm25/ZyRh1tJ39P5kF2sLy5j/SwKDol2qfdu9v5oxuXIqxl/cqpU+XcDDqdfQpDLbjaGZ74sh6FtPswnsFcd3j2K2ZDi7h8lT7VpbPjCGeTFh2ZLLMGOU/9xY67L3Mz2ACMY8E8rqd7h56efo62yForSis++XuJJ7WHzyQWpngdpNgPboHbPz2CL8L/XnA4z063+vOo9iOJnG3dXNnnFukuYGCZAACZAACZAACZAACWw5Ausr0N4dx1H1xTvPYiSz2Wv9bULu6j3+TUAeqEov8dUw5HbO6pe4dOJfECsRezowNPPAKK19Fr7HzcQRtJacG0NrbxJzT8pd9IYTc178xa/xWqf2MiTzTfVKDK097yK74lBnxX7qYZsCzBH8vytj6G2NaQKNFH9s/69xc3kBl0//qJRh7Ed47co3VmG1cAvjfdtK7GhxtaMvNV8UaQvzSB7WBc495zAr8330N8R3NUBRGrFn9AZ0mdgmGklCznrEIjCZdv0LtMUyEXK1tlTrN9PHH+OdiXPoajHyqAu0QXJiWDZsNvTj/Ee/QU9J23DpE0Y5xcqrsHQZA23CrybsiV/DskOz1qoOINAWvsP1sy8599ee3+Km/QaH6ZsLJyN2y2cN9emlCfQ3CCG7CQfG/mntlxBx9Ol9uBfJRbNHadGu3cDobtHfGrB79AZU/dbk1YLgY1TY3FjbjZmKqMY8YbBwD9PD+0rGs9ien+HSOz8uueFS7M9l2k3o9ugUs7tAW/TnCM5PJ9FX0jeb0Dl8Ffdd+5hJlRskQAIkQAIkQAIkQAIkQAIhCKyvQGuKWy7rZYZwuKaK1Hv81Z4sMz8KWuLposAn++14zhPcTh3TZu01HEb8f25gMZfDYnYGl95+H7M/yFewa7g/9QZ2CnGy9QgS6W+wUniE3PR/oUsVPZxmecoOyNuyqOPSp0zxQwgqMbR2j2Ai8wUWsv+L8wPP6uLBDpyYsAmgiNBP04c2tLc3u/jQiue6n0db7FkMJK9h7vYcMhMj6DZEAbuwilV8c/UCLkxncW/lqZjvhfz8hxje16wJH22vY2pZ7Bf/rWFp8lW0qYLws4injVl/0v6GY0jdlsQk02ebqGHujzKWSgXaiH3RqZV8mLE3oaWlAUrrj3Fu+ivkzVl0QXKiW7fYbHRpG9vQN37LKgSa5eT8LCMzclBr0zvfwNT9kumbJSEBklArzWYsnii1EaNt5hYwe/ms3jYbsCv+NzwqFpDEdjdO8sn27Rro04V/YuyAdqOn8dQkli0hLGFqcJd+46QdpybvWY7CFHd3YXBqSTtm5jL4GGX268C5kduN4WKEY55lzGlC58B7uHL9r7hy4Qy6WhvR0qLfKJNmxBcFUa92U0l7dIrZj0C7HR0dbYh1voLzV/6K61d+j+Gu7XqO5fHU4MhPEiABEiABEiABEiABEiCBKAisr0D79DMk9jZCaXwFk6Z44uT2Kh5kryCViOPU0UPoEDO1WjrQ1X8GY1e/Qv5+FpOJ13BkXzti4rHmwQT+Mr9svYBXza7iXuYiRodP4ehL+9Cuzt4VF4GNaN/Xjf6hBP5oeRza8OUH3L3yH+hUz2/G/rNplze5r2H5+lvYo55nm7VnmJI/fccvF+L2hhFwFF9ttTudU1hAqkc8wmqbhWkrqn59+jnGDgoRsQ09yS8kEfgRsokXNHFpbwJZQ1t0smHuCyjmyI/wiwleSxM40Sj6g4ISoSVKP2UBxu7D8hWc3mbMxGzGgcRscRYrpOUHlENIZFfMyJ03Cng0cwbbVCHWJg798AlGnhEz9xQ0npjAktDMRd5629TZfO4im03UWK9YTLu2+tRAXUQUs4wCZV256rTl+pS9GJ5Zchhz7ZnxyIk4VbZpj8GcDevQPs1yRV6F2yn0qjc5duHkxG0fvgkHygi0T2aROCD6awzbTl+RZuRKSyk09GP8jrQIh+mb6Ft+ORncaqFPSy9Wsy9joM+QbezowDNKDDtGMtosWT28tcwIdoj+2fBTTJQsJ+LQjr3GqIpyU2w3BnlEOeaZvilo6PkdFqSbGHfGT6BRHaMUKI4CrUe7Me2GaY8OMcNlbBFQ5HbccBTJBWP8LWB14XfoUfuaQ980gXKDBEiABEiABEiABEiABEigEgLrK9DiO6TH3kL8rQnMe05uki6ajQsZ81OfXWJ+1wQmpfUYknOWeUzqrLriW+718+zllB3oSXxaKsAWHiBz9pAmmDk9Yi30nfsf4/ROIfrE0Hbyz7gjT5R0zILf+B0Lc+d6E3ASX+11Op1j7nO6ALYaMNdntIs6AMxjsT6kcpLgYzUhfQsi5sSwbWjaOtMP32KiX58JZROFTV+i8FO60G8emoF1RV5pTUqHukxBR7EJrhIFy6a5jIj0CLV6gjzLWZstW1hI4rC4uRL7VyQXy/wzugAAIABJREFUfrCYKYoTtpyuVyymXVt9qlcuIopZRsG6cxV+SPXFDiexUHa805G65sRqs2lwCtaFb9zbZ9EXnVfhDiYHntFmiR+7hJxf38oItMUXO+7DSMa6nm3hzjj6VJHKNsM3LCcVVy306adYnnxFExlloVX8TVxMoktpxN6f/RyvNClQjHVm1dieYDHZq828lPebvIKNUZXlprSfRTnmmbacxq3lSZzSb4y5CbRu/SvqmOFToC3tmw8wM6S/XK/pNUw99N3h9EGBHyRAAiRAAiRAAiRAAiRAAuUIrLNAW65647gk0HYOYyK7gNziZ/h45EXtMXJFPDJ4HtfnFjF3/TwG1HU1Y2gbvGJ73LKAx7MX8VYiifHJaaTTae3f9Sn8eewNdBmPTysuj+k9+RzJ3h3aBWVrP1LmDBJxJXobEyf1Rzl9P05rxMfPqiRgCq0BlziQHvm1zpayR7mGu+PHNdFfFiiM0x5OYVCIGorx0iXjgNtnEDGnVJBwnz0YsZ+mABPEBz1mz7IOXLxyuHwFg+r6pC04nJzFPxKHtJsrA5e1GbWyObd63farZaVxy+lxea+yXsfcRBTPMhX4InOQt8367OK3fJLDtldOTJsB24al3AKeZBM4IMT2hl6MfWG/Uefgk7nLi5MkKDqJUFK/twhYpm8BOak+1UafLuRS6FGfHJHXkzeE2+3of/+yw9MyxvIHNi4mryBtoNLc2OuKcsyTfLMJ2FqzK3fDxcbHbKuS3VDt0R6zMOziizhk5qUZXckvbTPSjVyLv1d+nm4wg+AGCZAACZAACZAACZAACZCATwLVJ9DKjwCaM0+k9euwijvj/Zpwq74l3u9MjgKefPEuDns+plfA6u1xnFBFHQUNXW/jhvpCmBUspPq1l8bEDiB+3c+jvj4zwNM2j4CXkGR45XiONDtT3Dw4/WcsqOuiGoWMz6IYZBF0jMOmbacLaeMk+XO9xJyI/TQv9J3iKtalBBU1BYrCCu7Nfozkr15Hf8/z2nIo+iz50nWEi8tIxJ7/NxzvbIQSewGJrIOg5+az2341LRXE4mnXRUTxLFOBL3ITk7c965NODJITT5seMcjlLnysL1XRjP2jn8J4EFvyyGPTow55dq1thrlmUJrhK/+dkn1LSS+Y8/CieKhG+rSxXI8ii3fG0gdCsFvE5Kl2KIok4JqCtvz3WxYCg4wPUt4iyU3RXuVjc9GWsmMEmZKnhcL0Z9FCJLuRxCxsuvgiDpVpx8XZvLsxNGOs611sydwiARIgARIgARIgARIgARKojEB1C7QuAtZqOo4WVZRxeVGSKxPp8WrHCx5RUF5nVntr8Z0vkvqb6L3Wp3WtlAeqlYDZvgLOoBXxyLOtlRha9r+Oi9nvbbOOJEGnZKkNeQkOJ6HCCdp6iTkR++l5oS+JDgEF2kL+M1w8/Zze92V+2napQCsmvhvrlGrnNPSNOy9N4uaz2341PeFj8RZDXESU9fLFqamJfZ71aYUC58TTpgdPs1wznnv5hDZ71u1JCLd41P0edXiJV15lTd/89mPZwRrp0zBmwyowBU1DgFVnd65gfuxFKEoTDoz9UxsHjRus9lmlnrzc8uPSJ0yULuVc64pyzLuN8aNibWvbGrOmby6+u/pmFHQpZxyWBVx5LPW062HTs5y/8cB0jRskQAIkQAIkQAIkQAIkQAKBCWxtgbawggff5JDLfYN7ebHGp8tFXAm2PP6R6DaXV1DfYK4oiO3/NW6u+J2xW2KUO6qNQCUCrZjMmf8c44M/0pYwEBfnrS/iZ9PfSiKtdDFc1QJtxH56XuiX6YNuZVfnkeoTM/QUxHb2YWT8Oubvr6BQNoeSeKK0oie1IOVHapBu9brtV4uGjEWU9bQr5cP3TM0KfJEwWDY9fRRLfofIiadNjxjMclZhvqE3hduBhmSPOraUQCu1oUjGnjUsTfxU+5to3NxcmkC/eCKlK4nFQgGP03Fsl15AaM64tC/vYubSSdB2y48Uj9wnzAbrUs61LslexXwkW46+uRx39c0IyqWccdjt94ynXQ+bnuXKjVmmU9wgARIgARIgARIgARIgARIISWDLCbSFlVtI/zGBoaN7S2baxdr34kftjdpMF3nGiRM8SXxQZ8YEXuvQySj3VRWBsuKeEKHSiLe4z9BEYRlzE/Hi+saWtYuLF8NOszuDs1iv2XYR++l5oe8ipBgwHMuuYWnyVbQJIcXydvHy+bHPoHV7GY+rYOroj+FsmFj0sp52i/lwfqlQEGHLT31GPLZPTx9D5sTTpgdPs5wCpe1lXPjDMHapwprLeuK2UIpfPerYogJtNGMPUJgfwwHBvPEVTC4/hfZCP2n9VGPG7O5RzK4Za7zGsD1+3fqiQDOXQdqxS58wE+uSV9e6ivYq51O0Zemvpm8ux119Mwq6lDMOU6A1SXCDBEiABEiABEiABEiABLYCgS0l0BbuX8PZLv0t9Z6zYhQ4rn8pZ7SwhOvxA8XZkbFDOJt54Dz7Ti7H7dohsHYDo7sbVMHe9SLdFGilR3dLIlxD/sbb6FLXN27ArvjfoK1yWnwsuPHUpO2FdiVGfOxYL4E2Yj89hQcXIcWI3rFs8XFk8/Fq43wzP07LVHyPdPxZKEojOo//G57XX3IUTzusn+hYb7lZY2Fi0R13q0897CLMeJapwBeDpf3Ts76QOfG06RGDWa4J+xOfYfXJLBIHmtW+G2wWrUcd+B4zQ7u1G3jGLFELE2mJHHmmpOmbk+BoMeDwpUb6tPB8LYORHTH9JVHLWEz2QlGk9WWNJQ9ixzF+dxmZEdH32nFq8p41bk9ebvmJOjdRjnnlfAvTnwWycnbDtEcXX0R1nnkBnmYT2Kv+rvL7Uktr2vmNBEiABEiABEiABEiABEjAm8DWEWgLdzA58Ix2ca3sQHf8D0jP3UF+1Xj+dRX5u7NIndAek/YWaB/j9vjL2ow9pQnmEgedb2L6fskbQLwJ82gVE5AuVtXHdEtdLSwm0aVelG5H/8S3pSeYewwxUIGiziATBx5hdvSAh+BjFva5sV5iTsR+el7ouwkwOgKnsqYw5CCAeQi0haUJnGhUoMT+FcmFeYz3bVNz0XhiAkvGsGCQd6pXHHPbr5YLEUu5+tTjUrv0LQRW4Ivhk/3TK/aQOQnNs8QX6WWRyj6MZPJ2712+e3FaQTZxSOuv6rqqtkZS+BLJLk0UttwoKPHNpWrH3TXSp1XfDUFQiK7/wNTgLiiW9WWNcUS8RGpWW5c11odUTiwvJP3nycstP1HnxvBVgeIoxkv+lt2UfNNnF1uLhOnPwoJkN7L26OKLqM4zLwU8nHoNTerfQvFSuGCv5rPy4DcSIAESIAESIAESIAESIAEnAtUt0BYeYP7vaaTTf8dsrvjmdceXhBmPVyoN2DU8jWXbtbUWvNvFn4ymgJV//F99NqR4SdgUbn9mfI+h7cQ4bpuir1yO27VHQLpIb3wZE0t28V2su/gyGn1dlEpCi7l8hnRRq4qEP1SISKpDcXlBnudFtlv7j9jPUD7oaJzKmiKsg0Br9nv7DNpHyCZeUGfAazMspVzGXkAiWxxP1Jqd6hUH3Parhdx4esSiH8LjGQw1i6UzYtgxkoGl5Ukzuy2PTK+XL4ZP9k+v+kLlpAKeTr48+hviu8QM+BjaBi6Xiu72eNTvXjkr4NHMGWxT+/sBjM7a2ojZ1mxrGTv55li3084a6dOq68LXPsSURux9+wJ+e6AJimV92adYnnwFjUozut67gF+JpxOcxE9PXm75iTo3UY55ki1lD+LpZWuiH05hsElfO9n3DRdhImTMYcYWUZ2ZF+lFcGYkeWRG9mk3L7bHkX7s+APLPJsbJEACJEACJEACJEACJEACwQlUt0DrEo+jQGteXDiIOKYdt4s/8wQUlq8hvqdJvRBp6Pq/+If6UrAVLKT60apeuLejLzUP25ygogFu1RCBAn7InMUzal6bsf9sGnn5unPlU4zu12bMxQ6OYe6pV2jFC9hYTwo5w86jaQxtE48Fe9048LIrHysjBIhTPfuBR/uP0s+wPrj5bzw6Lb2ASKMirYOq2ARaM54dODHxjbY0iblPXoZC5+vms9t+tZgHT7dY9Orw9DMk9urrYe85h9knRoMpYCVzFp1qm7S9FX69fDF8sn961RcmJ+WYuK2p6VruMebGXtKWoXES3e3xqN/L5My1jUgCf8MxpG4/KVr34lQ8y2WrRvq07r3xmHvzyVM40VR6c6GQS6EnpqD53/rR1+iw/qyw48nLIz9R50a253pT1yVt9t3LVzDYJsZ5+80C6xjl/4aLXoHso7l0jjjm0R7DjC3CpJkXsc7zACbuFH/lFJYuY0CPb9vQtL6Ejx0Cv5MACZAACZAACZAACZAACVRCYOsItOasEQWNfRdxy3GWq8fFn6BYuIup053aLBHLy57Ey4gWMH5il3aMLwyrpM1VV9nVL5DsadPyqmxH19B7uDxzHdev/B7D5nrGnTg9dVdaf3gJ6eR7+CCzqC2hsfo95j9+C4fUNWjb0JtakM6Vxf0d6B75ELO5vCbwr+aRy17D1Ox930wMgUQIAa09v8b03C3kbt0rCsvmRbbTjQqv9h+hn6F9kEUC2X9ZiHse8amvsVJ4ggfZP2CwU7uZIl7kV1xH+Alup45pb5zfdgYzjwzxsyiiK35FtshjMVItPb4slmQZ+RMy818iO/0eBqSY/As6Xrl142r44vLpGXvQnOh1eNr0iMGlnLmMRYkw5hKTlwisFnmEL8Z6tbYTO4jhya/0tpbCqZ1itm4T9oz83SpQufjm5oF9f030acNpeTao0/qysjjodFzY8eTl0QYQdW4iHPNQnLGvqP35Q8wu3sLc9fMh+7MBPETM8tIIfscWS160mf2t3WdxefYrLGY/RqJPXz6Kv32MxPCTBEiABEiABEiABEiABCInsHUEWkhrgCqN2NnzHxj78xSup8USCfq/mfcx0q2tQ1m6Bu0q7kwM6OvOduDfJ3OSyKZxL9z5M07qs0ha+1JYcBSBI88RDa4rgQJWcx/itCyKGbMX1c8d6El8WhRAhS/mo876Y6vm+Y3YNfCn0iUwVr/G5dM/Kr5wzjxfK988NGN9y7lXvIVFjB/T11E27JhLKlQifoibEBH5GVqAcfe/cP8qhktyJJYceRvvvLxTFdhNgfaHTzDyjBDTGvDMyCeQF5YoLCRxWH1ZWDMOJGZhzoN089ltv5ojLzHJPRYjvcXxxNqOYp1v4PyverSbBr4fia7MF8Mny6dn7ECgnBiGPW16xOBaThr3fc2i9ajD8NG1H4ibIr/FzbxlQYoygqNh1OOzFvq06X7x5XCK0/qyKL58y/l4uX5RJj9R58bVXvCxuZD/FImeHfrNPqNPx9B67E28+WJLwP5sAvcYl13ao7jXbP5WMfzQPl3HFlGd2cea8dyrg+htFTOC5fI70Jv8vDhmSi5ykwRIgARIgARIgARIgARIoHICW0igBcQF0ljfblchzHKxIYtalguaBuw8/THuG5PuLIzlGTftODa+WCLiWk7nlxohUMDqgywm3zmD4/vb1fYTa9+PIwNncTF9C+oqF1IkhZVbSF88i4Ej+9EuxL5YO/YdOY1zE7O47ybaF5YxP3Ue8ROH0dGiPQrb0nEY/ad/ieT0AoK8cqWQ/wzj8X7sbxePyLei46V3MGtoRuZFtjwD1XC+jPghTovCz0p8cC0rhPRpJAZ7VH6x9sN4NXEViyvLSMc7VCGhoX8CS+LR38lXtRstsZcwNvfYCF77LNwyXxamtL2KSWPdYbd63far1srw9CwrDKwhP/+RHlMDWjp6MJj4CPP5NTyeGUazEEfkccrTXqW+WDGp3zzrE2f4zYlk29OmRwwe5Z7OjeGgKrrbHy+X6jU3PeowzxE3K+4gk/o5+tXxoBHt+3+C4eQ15FYc1jnx8E026bVd9X3adP4x5sde1IQ7p/Vl1Ufvf6rNQHY8LguBIceoqHMTxZin85HzGGs/iP74H5HNf4lUdwUCrbAdJGbVl4Bjiyhjacdf4H7mdzjd3YmWWDv2Hz+DsZnbXNpJzzM/SIAESIAESIAESIAESGA9CGwpgVYFtHofc9MXMXq6H937NLFNE2Zb0XHoJfT0D+LNkQSS72dwzxBh5aUNdr6BqfuG2uWA/MksEge0dUktAo/DqdxFAiRAAiRAAiRQzwQWTYE20NMSG43MItAubnTtrI8ESIAESIAESIAESIAE6p5AlQi0dZ8HAiABEiABEiABEthqBNZuYHS3WHKl9KVqVRUqBdqqSgedIQESIAESIAESIAESqD8CFGjrL+eMmARIgARIgARIYAMIFHIp9KhLcGxH/8S3G1BjyCoo0IYEx2IkQAIkQAIkQAIkQAIkEA0BCrTRcKQVEiABEiABEiABEpAI5HFztEtbF7/hGFK3zdcSSudUySYF2ipJBN0gARIgARIgARIgARKoVwIUaOs184ybBEiABEiABEggEgJr2Yv4z3N/wFQmi8VcDrn5T/DBb06iQ50924Q98WtYNta9j6TGiI1QoI0YKM2RAAmQAAmQAAmQAAmQQDACFGiD8eLZJEACJEACJEACJCARWEE2cQjaC0kV22cTOgdSyOY9Xj4qWdq0TQq0m4aeFZMACZAACZAACZAACZCAIECBlu2ABEiABEiABEiABEITeIy7mfeRiA/gyL52bUmDlg509Z/BO5NZPFit5qmzetAUaENnnwVJgARIgARIgARIgARIIAoCFGijoEgbJEACJEACJEACJEACJEACJEACJEACJEACJEACJBCCAAXaENBYhARIgARIgARIgARIgARIgARIgARIgARIgARIgASiIECBNgqKtEECJEACJEACJEACJEACJEACJEACJEACJEACJEACIQhQoA0BjUVIgARIgARIgARIgARIgARIgARIgARIgARIgARIIAoCFGijoEgbJEACJEACJEACJEACJEACJEACJEACJEACJEACJBCCAAXaENBYhARIgARIgARIgARIgARIgARIgARIgARIgARIgASiIECBNgqKtEECJEACJEACJEACJEACJEACJEACJEACJEACJEACIQhQoA0BjUVIgARIgARIgARIgARIgARIgARIgARIgARIgARIIAoCFGijoEgbJEACJEACJEACJEACJEACJEACJEACJEACJEACJBCCAAXaENBYhARIgARIgARIgARIgARIgARIgARIgARIgARIgASiIECBNgqKtEECJEACJEACJEACJEACJEACJEACJEACJEACJEACIQhQoA0BjUVIgARIgARIgARIgARIgARIgARIgARIgARIgARIIAoCFGijoEgbJEACJEACJEACJEACJEACJEACJEACJEACJEACJBCCAAXaENBYhARIgARIgARIgARIgARIgARIgARIgARIgARIgASiIECBNgqKtEECJEACJEACJEACJEACJEACJEACJEACJEACJEACIQhQoA0BjUVIgARIgARIgARIgARIgARIgARIgARIgARIgARIIAoCFGijoEgbJEACJEACJEACJEACJEACJEACJEACJEACJEACJBCCAAXaENBYhARIgARIgARIgARIgARIgARIgARIgARIgARIgASiIECBNgqKtEECJEACJEACJEACJEACJEACJEACJEACJEACJEACIQhQoA0BjUVIgARIgARIgARIgARIgARIgARIgARIgARIgARIIAoCFGijoEgbW4JAIZdCT0yBoihQdo9idm1jwircn0Z8fxtiO0/iwtyjjam0lmvJpdAtcqS0oDu1uO6RVF1+Njj+dQfsq4JFpLpbtL7ZnULOV5lNOqke8lMPMW5S86mVaqtqXKz69lhD41etNED6SQIkQAIkQAIkQAJbkECNCLSryN/9ErPpNNLpT5FdvIf8amELpoMhbR6BAh5OvYYmVfgT4l8vkotPNsCdNdwdP46YWm8MO0Yy2CBdeANiW6cqNvRivArzs6Hxr1MOA5utIYGjHvJTDzEGbqP1VKDKxsWqb481NH7VUzNmrCRAAiRAAiRAAiRQZQTWVaBdTcfRUslMt8Iy5j4YxYl9bdrMKVM8U6DEduLQyz9Havb7UqSFJWQSJ9HZ0obOvlFM310tPadO9lScgzrhBDzC7OgBKEoTWloaoCjtODV5bwOiL+CHm+ewV525uw1947fAWw9lsG/oxfhm5GcV+YU0/nhuDFP3HOT6DY2/TC427HA1CRzMD+qyDW5YY6+BijZ6XKz1Phf1+FWGRw20ILpIAiRAAiRAAiRAAiRQSqCKBdo8smNH0SqLsiXbuzE0UyrQrs2OYrd5bgN2j96o21mJFGhLG73jnsICUj2tUGJHMPKLHijKRrabx7g3exWT175CnuqsY3osOzdcHNrI/Kzh3sTL+o2to0jlHG4ubXj8Fvqb9CVqgSNsGMyPSq4u22DYNrNVy23UuLgV+lyU45cPHlu1yTEuEiABEiABEiABEtjiBKpWoC3cTqG3QVsPNNb5CpLXF/RlDZ5i5UEO8zevYtxlhllRlNTKNw/N4HHNJXIV+cVZpKcmkJqYRakM7S+gIouNWa/Tn1dVeNbyJE41KlB2jCB9TZ/53ZXEIgXT6kvWlhaHVpFLHdWfGKBAW2x8UQocRavBt5gfldmW7oPBWwVLrCeBrdDnohy/fPBYz3TQNgmQAAmQAAmQAAmQwLoRWFeBtjiTdTv6J74NEMRjzI+9qIkUsReQyAZ8cdLKDSS6tunlD2Iksxyg7mo5NZof9OFzUC0cNsYPg1Ps6DjuLCbRJWZgN76CyeWnG+MAa/FPYEuLQz4uvrd0/G7NIJrx0M26//3Mj8qqLtug/1bCM6MksBX6XJTjlw8eUeKnLRIgARIgARIgARIggQ0jsK4CbXGdug7E0/kAQd3D5Kl2TWDdPYpZh2UYyxkrrNzF55lP8fm9lRpd0zOiH/TmhXTQHJQjvJWOGzcE9Jd0raYRbxGzrw9gdNbj5sDqHWQunsWpQzsRU2Jo6ejGwNn/RuauNF/bzzlmjjxmOa9+h5uXfo6+zlYoSis6+36JK7mHxdmWLXGk9afhzVnT6r415Oc/wjtDP8H+9ibdx/eRzQfrVKbN2HGM3/0B+bkPMXqqC+0xo12tIb9wDanR19Hf1aE9ot/Sie6Bs7iYuQOHB/Vh2gzqpyuvFSwkj6JBiOuxLozelMYcP3lwa9Iu9YX237Ee+aJbm/mvmMu0iO8GZ6A4ror2soDV+zcwfvbf0d3RhpaOwzgR/6N7fgsPsXj1XQwdP4j2mGizPRhMfIT5gO1BDaGwjPm/JDDY3YkWtf272zJZubafIpTCygKuJl7FofZGKC2d6Bn+b2TzXyLV3aL9TehOIVc8vbjlM7YgvhSNb1B+RIU+4yj6Jm/JLzt0XgKoMD+GA2rb2oXBqSW9cMD+69InVGNex1Dm71rQ2Cvp1wgWc2m7+QAj/Xo/6jyK4WQadx1eXhq2nJlV30yCxSPsl/pmH9dNL0o3XPJs2gw6rpfUUCt9zup48PHLb94C8AjYtq0R8BsJkAAJkAAJkAAJkMBmEVhfgfbuOI6qLz96FiOZhwFiLHMRF8BS7Z4aEYPQOahdcsE9N24IGDO9b2P8qHgxXTO6kl86C/yrX+LSiX9BzCKiaULa0MwDzQU/54gzXS50zTgK9zA9vK+krtien+HSOz8uFa0Mew39OP/Rb9DTGtPOMX2NobU3ibknAdZvMGwqP8Y7E+fQ1WLY1IXDwi2M9+mz1s16DKGxHX2p+VKR1rAZ1E+jnGIVtAtLlzHQJvxqwp74NSwb4fnNgwnctuFSn5m3oP7bzGtfA1x8S/68+Itf47XOptL89ryL7IoBQK+w8D1uJo44rOsdoj0UvsP1sy852+r5LW7aBV/TZ5f2YzBZnUeqT785Z7ajGFqPvYk3X/QQaIPE5tcXwyf1cwPyI+oJEofFP+nL0gT61eWBGrE38RmszwA8xfLkK2gUbBt+iokl/UZN0P5rMrT2QdULr2NeAm3Q2Cvt16FjPoLz00n0lYyrTegcvor7tm5njhNKwHJB20PQeIR9M1dl+qXUvMxNs6ytDRj7Kx4Xa6jPGVDCjF++8xaAh2+bhuP8JAESIAESIAESIAESqAYC6yvQmjMRXdZSdCUQkTjpar8WDkTEIHQOaoFRRD4+vo74diHsHUIiuwLgEWZHD6iiV+OpSZQukPEEt1PHtJmaDYcR/58bWMzlsJidwaW338fsD+IK3c85uv/GBa1NcNSOrmFp8lW0qWJVEzoH3sOV63/FlQtn0NXaiJYWXZyTZxWa9prQ0tKI1u4RTGS+wEL2f3F+4Fld6N2GvvFbzuKzE1aLzQYorT/Guemv9HWhRYFVfHP1Ai5MZ3FvRUhCq8jPf4jhfc2aeNj2Oqbsy0VYbAbw0ywnCwPLyIwc1GLb+Qam7hszhAPkwSlusc+xPnl/hJwhX4S7jJumP0IAj7nkdwdOTHwj5XcN96fewE7RjlqPIJH+BiuFR8hN/xe6VDGvDb2pBel8Nxhiv9QmY89iIHkNc7kFzF4+i25VtGrArvjfYJl7bvosWDm1H2FXypWyHV3Dv9fa+vlX0Kne6NMFf7mtq24GjM2XL27xr1d+NK6R5KjwT4wd0MaFhv4JGHNktYgeIjPyrNYnD4xh3hQTA/Zfk6HcB3VmXsdcBdqAOZTbiusY7JZDY3/YmLejo6MNYm3881f+iutXfo/hru36TZJnEU/bVow3eQQsh6BMAsYjMJi+efVLg5ft0yxrawPm/qjGxRrocyqasONX0Lz54BHm77EtvfxKAiRAAiRAAiRAAiSw8QTWV6B9+hkSexv9reVpConGrLsyn7aLdPOxOnPWVbF8SzxdOnvPlfUq8rks0pMpJEaGcOpoNw51iMfKDXut6DjUi/7Bd5F+YIhAsjHpcbXufWg3hQVRrhtHT53B6Lt/cX4bfaxCAAAgAElEQVQEOSgDxUXAkd0JkgO5XB1tm4/8Nr2GqYdCsZBmmTktsVFYQKpHtIlG7Bm9gSdOrPycY5QzL2htF7ri+JNZJA5oImdDz++wYD5Cu4o74ye0mXCibcr9wbSnQGl7FZPGLDkxQc+cZarAWXw2nLJ9yjaVvRieWfIh5hXwaOYMtql9px2nJu9Zjco2g/hplivyKr5UcBdOTtwu+hYkD1bvit8c6lMPmvsj5BxUoC3hNoET4mV3ii2/Tz/H2EHRjtrQk/xCGg8fIZt4QRO29yaQtU63LDKQt8w2GcO201eKM5UhLTHR0I/xO9LCFjIrt/bz6G+I72pQfW/oTeG2KR5Kdu1tXfgVNDY/vsjxWrZ9iCOyfb/5CROHxS/5ywqyiUPa36ztcaQfmyCBwpdIdol24DS7VrYhtj36rxljsQ+apb2OuQm0QXMYRb82HZY3/MQsZh8fRXJB3MwT/xWwuvA79OgvNS0ZV00eAcsFZaJ7Y/3wiEecKPvm1i+tBovfzLK2NmDuj2pcrIU+J+7rhhy/ikSlLa+8+eAhWSpuetksnsUtEiABEiABEiABEiCBzSOwvgItvkN67C3E35rAvJOWKccdVJyUBSl5LTVTSDUEVQX+Bdo13B0/XvIoeVGcLdpUdowgUxLTQ8xdetU628vBH9eXTwVl4EegDZIDOR91s72GpYmfarNhu5JY1LUMU7RVXsTYvLSmrOBi5sl2YSoz83OOcb55QVtq72k2gb1uAufyJE7pYpybQNs0OAXr4iLfYqJfn+3lV5ATfpo+KogdTmJB0nyMMBw/zSU2GrB79AYsXUayGchPs5zOq3AHkwPPaLNJj11CTvYtSB4cA5Bjt+XH9ENBIP/d6lH3+7j4NuuNYdvQtHWmKpzza7Yju3Aq9E2jjcX6kMpJoqqLn8YL9RRlH0Yy0jq/Qqq6M44+VaiyzdA2fXZrPwX8kDmLZ9S23gFzmRDDh4dTGGzSx1/b2G/67ze2sr4YlTp9rk9+RE2B43ByT91XwON0HNtVlrbxyxwz9iCeLn02oMSkW/81Gdr6hDDgdcxFoA0cexT9uiRYfUfZmJ36+wPMDHVoorh5o0+3Z/IIVi4wk6DxiPMl3wKN65aytjYg2YxmXKyNPhd2/HJLG9zaoZ+beG5GXW26FeB+EiABEiABEiABEiCBjSSwzgJtgFAKK3jwTQ65nPiXRuKQ/mj0oQQy6j7jmP55Ly/NAgMKKw/wjXze1xMYbNYu6P0LtPKFQCs6jw7iF4nzuDgxhevpNNLi3/UpTKTG8KvEDL6zhFfAk2wCB9QZszG07DuF0dRlzBjl0n/F1EQKY6PD6D/5e+nRUslIUAa576RHzCU73AxA4HvMDO1Wxb0dI5migPh4BkNq+3GY+Sk/QmyZ1SpV6+cc43TzgtZ2oYsnWEz2ahf98nqRRjkXsaN40W23Jwr+//be77eOItv73n/AvvGlLyxFsiz5IhKKrFwEoUf2RRAoUoJAkZUBWc5oogQ9gxzeI+KDRAJ6x87RYY9mxtFzxpkXrEP8wIk5YoszeBg8nHggzpHNTDwHj4jFY4YYbBIzSXCCXyevQ+zs76vq3V1d3buq+sfe2z92vkjB/aNq1VqfWrW6e+3q6mVM5txEgvJhMSnStCF11CRaTXXEcZlI0fxQImUm1DNQb84fd3UHMfhl4MV6IEk/mOwItDfvlzIdd0qk5Bzn4Ttxu8oPT4HX2l1TZPJT+RCZb2VoS/HJcCJKlFR4B5IzUmeT/3gf6gutjSpbNy35ksK2SF1ko5oN9RpheINByk/i1yns0GgnD8lErLeudvGMTK7Xv4jR8JIjsrKyYRq/Nhtt57QxK4Xtip8F3yxQdE+7GWmzbm1y5a0LuVSOq4DkkaReCiYme032iPJSN9O4NAlV64b8XMoMHXdEpYmLW2HMpY1fFr7GfovBwyTWKNNUgcdJgARIgARIgARIgATWk8DmSdAGrDY9jAcK2XdS3YiWceML5bXS+hf8j6/YtbScrQADi3Secgl4S0BkgokMwPtQWBaBxK1TTV1rrgFtJz7AnLPuqko1Thm3vPGBVnmY1c7YNviIUZ5oT5GZKkGre+hW7C6s4Mb0xxj69Svo6nwKrfJjYlVK0L7zMfIHix9029v/V3gvHfsaJegHv1Jwy8TTdNypnZJzVRK0vi6BpKlnpYyVEX0btks7A1uZwavOdLWyEoJ9HTO6ZUW0ib1gvdi2RerigdH9jXGNsMpX7AyMP/94bDt06nnH5BIAavwSuh9x3hDJduaDM81lvZjj12aj7Zy2H9PYXoFxXUmbxcrM0/14xJm1/Ah6JpR1aK08TPXSMHENqlgM9gAZ/prsMh13xPh2ZQL+b2jDObwVxpxiV6L4pdgdu99i8PDExpbpVeBfEiABEiABEiABEiCBjSTABG2AfoIb30A9seN/WCpTfzS4/mJJ2TgHDMm3OFVZJj4B+cpf6FVgNeGum3V47wsMHdxRnN2ayaJx7yt4d+Z7f+1ToUGcMqKc8YHWSxKH1piV1hl8xChPVFQeJGM/INt0lMqgsPw53j3xJBqdJIWyHIi7XzKTPa2est42PPnCUXfWuubjPJ5qcfvBKx/+K9sLJTBNx536KTlXJUGrJE0NfVNcxiVkX5iDs2/wOVnWYLeVlagcJdd0PoVtkbpIYzQbMa4RVvkGPurSFGX3kVBb+cFQxq9FjB3fZVx/NtH4tdloO6ft5xR9KEwsd1yLCd9JYpbVLkuMTFUvHZNE9giGUbppRoA8ZKprOu5UNPm/lKrZ2ApjzhSfPHPs55P1WwweSX3bU5N/SYAESIAESIAESIAENpQAE7QB/PFufANV5E4Bd6ZOYbf7UbBs6/N4fXTa/aK9LJRgw35Dn0AQixoJFHB77GU0WBMiGeNH7grLX2D4+OP+msVNT+Pn438PJGnjlDE/JEf5gOF8xR+QYzzIr84if6TFSVhndx5B3/BFzN5cQUHOzqzGDNpgEjj4Yalgp8fqh2AVf8/E03TcqZkmESEqxohBidtV/MTq61sxQZvCNis/v9v1W9XoH9FSCjv0CrpHlXVoveUM1j5D/yPiI2ya9WeTjl8bQ9s51U45wzq97WWN60raLKib7DYd9/pPez4Fk6T22HT2dLP91ept4eDIShMXt8KYU/pL+rUKz3I+cb/F4JFYpqort0mABEiABEiABEiABDaKABO0AfIxbnwD5UM7he9xafA57HSTtM6stMZHcbjnDP4wNZ9wvVjLDX2oWe6mJaDMMrMmrh5D31TwU1uyxcISLo/k0N6ULc6mbepCXn7d2y0VVcb0oKtNZsiWg0kd9aHQKE/UTfOAHPXQvYbF0ZfQLBgGvm5e7TVoxVfCX8A7v+3FLqf/LLNohelR/aCiVbdNPE3HnbopOVc5QVsyi1m1M9Z2VFwy2G1lJRqOkms67x+PbVukLjYQMa4RVvkGPor9se2wqSnOyXVo96F/+g7kR4e8hK2sn2L82my0nVPs9D9smKIPpe5px3WFbRb6mOw2Hfds0J5PyiSFPTadPd1sf7V6Wzg4skz+b2toK4w5v798v1ZtMp1P029RPNLIVHXlNgmQAAmQAAmQAAmQwEYRYII2QD7qxjdQ2LBzD7dm/ogzP+sMJmrFa/BtzyKX/xTXV9XPzBvEaB9kTWV5PBUBZZ3Gh3rO4Yr6kTmx/WUeXfVilmYD9g3+LTAzNtjeGpY/ew3tztfr67Ar92eEPlUlVig0lzE96ML7gFkGGe16n4aHPqM8oXWaB+Soh27/ddyS9TOrOoO2AXsHPsfqvWkM7Ct+VNA2i7bYZ5Z+CHaqv2fiaTru1EzJuSoJWu/V9gzqj41iybcsxVaUT97A6LHiTOpAosLKSqihyE20hmMK2yJ1sWGJcY2wyjf5RQo7bGqKczK+FWdGr07mnOVHStefTTF+bTbazmmva5WwPem4rrDNAO7PDOBR54ei0Mf2rDxM9ZIySWGP8JEI3awuZqprOu4IM/m/raWtMObSxq80/RbFI41MG3+eIwESIAESIAESIAESWC8CTNAGSEfd+AYKR+wUsLo8j6nRIfQda0eLnFWbRVPnG7i0vBZR35B8i6jF0wkIyK/Xhz8Q5soofIWh9mLiLzqx9T0mc48VZ9FqE0xCpqGM8YFWmeFbMutNyDP4iFGeqJPmATniQX5tCn07xAxizSvyVU3Qeu2t4tpwF+qc5Mge9E0tux1o+mPoB1NxE0/TcUdOSs5VSdAq62NrE/0mw3XHFZ9seBljt0M/NiljJpCst7IS7Shyk/i6uvZ3XNsiddHZ7R2LcY2wyjf5RSX7yNPVZ7qtZwxf5Q/r159NM35tNtrOaWNWpWxPMK4rbTPU5XL2Y2BG+VyhlYepXkImaewRbmLVzfMjw19TXdNxR4zJ/w1tOIe3wpjzx1omSfxK1W8RPFLJtPHnORIgARIgARIgARIggfUiULsJ2sLfMLivwUmYbeuZwN1YRCNufGPJ0BW6j5Ubl/BB7mk0OUkk0yxLta4h+aYW4XZZBPyvboc/EOaJVR6Sd/RhyppTV3zH+PEtQxnjA6368K5ZN1ImmEMfETPKE3aleUCOeJCXSVgvYerxU1+zrsYatEp7d/6M3C6xvmYWzd3nsBjKGyoaBdd5NfaVUsPE03TcqZqSc1UStIofZX+MobkfFOOSbhZwZ+IktjtxzH11XhUhX6tvQmd+zp91bmUlBCg6ZjRJdik35Otqvbi2ReqiGhTeVsZw5jDyC6vhAhFJL5NfKPbHtaO05dARZR3ajgHkc62G9WcnkWsUbwoo48mTpHAPLL1gY3h3Aj3bhLwsdvRNIRA25Tq4aj9Wynalb6LGdZqYJW3OIPDjg8NqGVN9e4o/0D2Uw+RdJQClqpeQSRp7hN5SN03fez5g+muqazrucpp0/DCDTFQfyXaVft20Y07pryTxK1W/RfBIJVPC5gYJkAAJkAAJkAAJkMAGEqjdBK12pk4U6Ygb36jqUecL32Lk6I7iQ1xkwk95Vdg4IzOqQZ43E7iH+aGD+gdqWUl96DIlcb3C/gN66SvEEWVsD7RL53G8WcxODScelXXmRLJsI9egVX4MCc40DuoYSPAIJDa7bYlkbb27uDz4TPGDbdkfYWCmdJEJrxdEktpLppj7yi9t1FOrh1fPlIjzzpv+qj6nScqLamnavTOOnu3Cj+qwq3ccS0r+yKSJ8bgqK7CcxxoWR15AvfDHumeRv3rPF2HV2S1m9PV7uJp/1p0hHfJ1UVXVJ45tcXTxNQ9tVal/0tgR0ky76yVYtz2FjvYm/QcP04xfG8P7n2Pg0fpibN19GtP3PGcrYGXqFNqc5H6oH5P2odbYBOO6LJvF2tfdGLnmJ+cLi+fQ7cbp7T3jwSVuJKuE9ZIwSWOPYCh128wJ2i0y5tLEr1T9FsEjlUztgOJBEiABEiABEiABEiCBdSZQwwlaZU2w+hcwshiYx2PAXE6CtoCVb+ewsHLfIFtMElMStJGv4yqzNzP70DdV3sqRZqUe1DN+AryuawSLBgyFhTw6neUpWnBs9IZbahGTQ2/5H35b/R6zH/8S+501aJtx0Jk5GKeMK876kHwHMwM/KiYeMzvQ0fchpuev4PLFs+huK84Qdz5Gt5EJWqjJ0aeQG/sGKwWxFvNvcVzRsboJWqCwOIKjzprBajI7QT8YfMCYxLD2W9oErbompVgO5TcYv3wFC1duYNnLc6VqdwVz+S53Br/rRwvLcFJMq8tYmPkEY9M3TQRCx+/gy8GDxYRp9gn0jn7t9ncex3aKWcwN2N33F0OSypYIWsal/nbp652nL+Dywhymz51CR9M2tLQ0F5N+qq87miW0zcovZKpm119rtJL9IxpKaIdGt5JDhSsYPrK9yC2TQd2RYVzz/EgWTjF+rQyV172dmPV7TM1+hZnxt8wxK7Ht5Y7rcmwuzg5u6jiFc9NfY37mYwwcebjIuO4gBr8M/TgkWSWsl4hJCntE/0vdbONSOkpww1TXdNypnS4ubo0xlyZ+pes3O490MoOdyz0SIAESIAESIAESIIGNIFDDCdr7WBp7pfhl+UwWTe09OHtuHJOT4xh9bxB9R7sxqK4T59AvJ0HrJlQb29DR/SsM5kcwdnESk5Pi30VMjL6D/mP7nI+0aBMYJb1fwA9Tp/CwO9sou/PHeHXw/aLMi2MYeft15LpewtBsvMUbSsQ/6AfkOm0RHwCTr+Qqr+t6s9K8mWDybz12df8eV8VH4OKU8frA+kALFJb/ioFOd+a1bCuLpmdfxatPN5Ymrazy0j0gRz3IF25eQK+SjHWSxmLW79HXcOaFnY6O1U7QBtb49WbRJukHrz/Cf008Tced+ik5i7qFeQw/635oy+tv9XXgtO2ufoNzJx53E6AiWRT8F38pGLFKhEmWYY1tq84+8MLyf+N0u59Q9Pyo6eCbGH/np0XdSxK0Nn2KNgZsi6mLr1Voq1r9I5oxctXYEVJLv3sXs4NPu31tjnWJx28Ew8K1D/C8M6M06GPZtp/h7K87S2NWUtsrMK7T27wNT750HAebxIx01b4dODj0BZR548UukawS1kvIJLE9Qr7UbXMnaKsWExMyLnao+f9p4leqfouIQalkms3iGRIgARIgARIgARIggXUiUMMJWgD3vsDQwXBiy3ugUmdEerTLSNDKL2Z78k1/67HzyJsxPhJWnHF7/mVzQiWT0dng2cK/NgKF2UHscx6uH0Pf1G1LUf9r2pl9g5gtAIWVK5h89xS6D+0tfvwt24I9h07g9Mg0borkrOi6GGVkozEekgvLn2M414W9LfXItjyBrtzvMLP8FfIdmyNBK9YQXV0Yx8DxTrQ2ZpFtOYCXBi5gfmUJ3pqDJTOVrXZbEpyWevcvD+IJZ8azO4v2/4vuK9kPpg1Te6bjjhyL/qZ2lONqf2cyTWh95gymvZcAymm3sITZsbPIHT3g9JNYOqOx9QC6TvwLhsbnoHzaSNHGsLl6DVP5X6BrbwuymXq07P0peoc+0b9FYNU5KF+1PdvSjmP9H+Ly8hpWJ3PFH7jUZLVaNa5tCXRRxavbqo4V7R/RSFw7VIUs2/5a25o1g2W9hOM3kuEalmc/cuNBHRpbO3F84CPMLq/h7kQvtonYq+vHmLYniq/SxvBGOTZ/iZtTb+NERxsasy3Y+9xJDE5cLc5IDzcTYJWgnicnJpPKx2BPAcPfgF3zfiHTcadE+ri4Vcacqme8+JXQD13SajslMSjN9djvQW6RAAmQAAmQAAmQAAlsEIHaTtA6ibI5TLzdh+7D+9HaKB4Un0Jn1yv49dAfMX0jPPu0jAQtxIfAZjAx/K/IHTuCZ/aIpIWXpG1C6/7DOJb7VwxPfIlbbhIvVp+vLmJm9E1Fpkio2GyIJZWFaoKA/yG5wAzBmrCNRpAACZDAJiJgTTxa9ExbzyKSp0iABEiABEiABEiABEiABGqPwCZN0NYeaFpEAhUnoFt+oeKNUCAJkAAJkEDq5QCYoKXzkAAJkAAJkAAJkAAJkAAJxCDABG0MSCxCApuRgP8Bs4fQNfL3zagidSIBEiCB2iCQNtGatl5tUKMVJEACJEACJEACJEACJEACMQkwQRsTFIuRwOYioHwxuu5Z5K+WfJpmc6lLbUiABEhgKxNIm2hNW28rs6LuJEACJEACJEACJEACJEACiQkwQZsYGSuQwPoSWJt5F/98+rcYm5rB/MICFmY/xR9efx6tzsewGrA79wmWit8mW1/F2BoJkAAJPCgE0iZa09Z7ULjSThIgARIgARIgARIgARIgAYcAE7R0BBLY1ARWMDOwHxn5wTnvw3PibwPauvOYWV7b1BZQORIgARLY8gTSJlrT1tvywGgACZAACZAACZAACZAACZBAEgJM0CahxbIksO4E7uL61PsYyHXj0J4WZEWitrEV7V0ncWZ0BrdWOXV23buEDZIACTx4BNImWtPWe/AI02ISIAESIAESIAESIAESeKAJMEH7QHc/jScBEiABEiABEiABEiABEiABEiABEiABEiABEthIAkzQbiR9tk0CJEACJEACJEACJEACJEACJEACJEACJEACJPBAE2CC9oHufhpPAiRAAiRAAiRAAiRAAiRAAiRAAiRAAiRAAiSwkQSYoN1I+mybBEiABEiABEiABEiABEiABEiABEiABEiABEjggSbABO0D3f00ngRIgARIgARIgARIgARIgARIgARIgARIgARIYCMJMEG7kfTZNgmQAAmQAAmQAAmQAAmQAAmQAAmQAAmQAAmQwANNgAnaB7r7aTwJkAAJkAAJkAAJkAAJkAAJkAAJkAAJkAAJkMBGEmCCdiPps20SIAESIAESIAESIAESIAESIAESIAESIAESIIEHmgATtA9099N4EiABEiABEiABEiABEiABEiABEiABEiABEiCBjSTABO1G0mfbJEACJEACJEACJEACJEACJEACJEACJEACJEACDzQBJmgf6O6n8SRAAiRAAiRAAiRAAiRAAiRAAiRAAiRAAiRAAhtJgAnajaTPtkmABEiABEiABEiABEiABEiABEiABEiABEiABB5oAkzQPtDdT+NJgARIgARIgARIgARIgARIgARIgARIgARIgAQ2kgATtBtJn22TAAmQAAmQAAmQAAmQAAmQAAmQAAmQAAmQAAk80ASYoH2gu5/GkwAJkAAJkAAJkAAJkAAJkAAJkAAJkAAJkAAJbCQBJmg3kj7bJgESIAESIAESIAESIAESIAESIAESIAESIAESeKAJMEH7QHc/jScBEiABEiABEiABEiABEiABEiABEiABEiABEthIAkzQbiR9tk0CJEACJEACJEACJEACJEACJEACJEACJEACJPBAE2CC9oHufhpPAiRAAiRAAiRAAiRAAiRAAiRAAiRAAiRAAiSwkQSYoN1I+mybBEiABEiABEiABEiABEiABEiABEiABEiABEjggSbABO0D3f00ngRIgARIgARIgARIgARIgARIgARIgARIgARIYCMJMEG7kfTZ9sYSWJ1ErjGDTCaDxtwkVi3aFG6OI7e3Gdmdz+Ody3eCJRfy6MgIOY3oyM8Hz3GPBEhgcxLguE3eL1uB2VbQMTn5VDWs161UElkpksCm8r97uDXzAX7V+TCy4h6lMYdJ242Oxrh186FNxU0DgodIYDMTqKXxU0u2hH2mlm0L21rN/ZrneB8r8xcw2NOF9tYmZDL1aNndi9HFtWpS3Tyya75/o1FXNUG7OplDY0UTV99hcvCfcOzwfrQefhcL0fY98CUq3wc1hDR2gnYN14efKz7gZLLY0TeFQIhkICnDKVYwO/Kr4phuSf7wWEbDCauub+zZsHFbWMTUwPNoa2xG25F+jF9P+DSfkKqteNUZcNza8OvPbQVmW0FHPd0KH424blW4NYpzCWwK/ytg9eZneK/3R2hy7sGLP0QnT9Cuow9tCm70YhLYogRqafzUki1hd6pl28K2VnO/pjmuYfnSG+hsyjoTyMQkMuffowOYuV9NqJtIdk33bzzOWyxBO498R2PRUTvyTNDG6OOqJzli6LBpi8RO0Bbww6XTeDQrguR2HBm+goJqFAOJSiPh9jImc63FMZ1idk/Cxsoovr6xZ6PG7dp0Px7xbgYydXik/7PgjxFlEExateoM1n3crmJ5bhK/Oz2IsRuBn3iSotm48uvOLIWpW0HHFGYlrxJx3UoukDXiENho/yt8j5l3X8HeRvfhrrENe1q3pbzGrqMPrSu3GojFcXyRZWqMgMVv13X8lIvVYocQvaVsCbOoZdvCtm7g/pb2kQhud/6Cvt0NzjW7bm8v3pu6jIWFK5idvYaViKo1c7qW+zdmJzFBGxPUVi1W9STHVgUj9I6doBWF7+LG9AWMfvI1lgPZ2a1+M1HJDlzF8vw0JsdGkB+ZxvexRDNBq8O0UePWb7f4i+22ngnc1Sm4Dsd8Xaq0dMi63gCs4cbIC+4bJYeRX9i4mclldd26Mkup6VbQMaVpyatZrlvJhbFGHAIb7n83MHqsBZlMM/ae+HdMXf+uzB9B18mH1o1bjcTiOL7IMjVEIMJv1238lIs0wg4hfsvYEmZRy7aFbd3g/S3rI1Hc7mNp9EXUOxNlnkT/9O2oCrV5vmb7N353VTVB68/GeghdI3+Pr5Wx5PrOYjOqsYVOVL4PtpDxUaomStBahDGQuHDSjE8maHWetWHjduUzDLRvL862yj6BvqklnXrrcqzqDNZ13K5iIX+4yDXDBG1VHWhd+7WqllD4ViSw4f63ioU//hvenrrmrqu/Ra6x68atRmLxVhwb1LkMAhF+u27jpwwTnKoRdogyW8aWMItati1s6wbvb1kfieJ2G1N9jxWfFbb1YuJueEZYVP0aOV+z/Ru/f6qaoPWDbCtyk8vxtTKWTJMAMgp7ME5IJ69UH9QQNiZoK9yZacbnFnl4RBrbysC7geO2sHIdX0z9FV/cWAku5VGGOamqVpuBlF+lGboBo2PcuAfKb9KddWWWksFW0DGlaay2BQhsOv/bItfYdeNWI7F4CwwFqlhJAhF+u27jp1ybIuwQ4reMLWEWtWxb2NYN3t+yPhLFbYtcr6PMKPd8zfZvfDDVTdBeH8ZhZ93Ox9A3VYlp2uucJInPcfOWrHgfbF5TE2uWJEFrCxbGcyuYGzqMOvGqQrYd/ZdCP1IUbmP+wpvoee4JtGSzaGztxPGBjzC7vEXXp0yVxNwqF6N1jj0ct0C1GQTG7RxWr1/Emyc60dqYRbblAF4aGMfCqubX60C9+VDYCfuJesPuLvQv1/gV+/F+OJPLPWSfw/D1H7B8+UP0H2tHS9arv4bluU+Q738FXe2txaUUGtvQ0X0K78qZdEFVpUxn7ec1LM9+hDM9P8XelgY0tnag+9T7mAnHIqPtEbFu9Rqm3j2FY/t3IpsRsU7I/w9MXY+zgEZC27Q6FnB77GU0OOwfQc9E6X2BG2QAACAASURBVAIs92cG8Kg4/0g/pktCsPfaeAaZfYOYddwiiV4F3Jk4ie1O+7twfGwx2BkACrOD2Kc7Xw47LQuxuo/7AdckfR/SuLB8GWNDfeg+tBct2Xq07OlA1z99iHn3IxayDaPPugITXQeTMHflJ+GXSJcQEG83wDxOXCnDN7w2rX/LvMYG7PHjnezfMnwooHagnTjcArWByL6LE4v/3yrECUXPSB2VsmIzZvmK94Wqxup3uPTeL3CkTXxJvAltR/4F5xdu+2+EKN8OkHpEjXnHtiXM/nEAxzva0OhcEyz3vwHf8H2wqGb4musrX6rPH9DX5d5vtx1G79Akruuu8Uliht+c3Cptt5zrdRy/XQ4lNeecjwQOn/pHdLQ2o7H1AI7mfld6PZcax/c1USXaPlWwtx3TDlE80N9xbUl+bZB2lB3Dqm2bxzBZPym1Apup7Q70S7xxKNtyZoOuYWX+Agblfabwy/dw6ea9on7uuOsWMSHbgr3PncTgxFX3TZCACaU+Evf+XYiJGVdFUal/nJgWUlHuFuLEOuU67dwHhp4XlDgr5eo2Etgmq4djfNdrGF+47X8cXb0nTuEDxXYSjk9rO1Lzmt6oboJWJsAq9Uqn+UJc071UjnEV74NylNlkdSWbDBpzk/qLgKeyLVgYzhUWz6G7WXyoowG7c59gSc31FL7HpYFDwS8sO0E5i6aDQ7h8Ty3sKbHZ/6YZn8pFKe4FaEMwpLGtDEWlb1Yqdpahy0ZVrTYDZdw+89pbyLmL8ssvpmYa0PbyR7geHopKvY581E1qght3G2fZ5k9wZuQ02r0PAHkJ3sIVDB9xl6YoublrwZH8bGl882TWdeHsR6+XfjE2o4lFXp1McNaxNdatfoX3jv4PZEv0akXPxC2b1cVzSW0z6IjFEXTViZveBuwb/FtodrjopyOujgcxNO8+MHjarX2G/kfqkFE/nJdUr6VRHKsX7es+vqesO1b3DxhZdDPE5bIzsfCOJ+l7jwXWsDyTR3db8SMW/njJINuZx4I3Xrw2MgafFfKSXgeTMk/CL6kukkdoQ9rdiNhxJY1vhJo175Z5jVXsCcQ773gqH9Jo68nLJODmiYnVdzFjcaXjRCIdvcIJx4bHrlJ94alRuIHx3j0lsTu7++d478xPiq/hqh9s9vSwjXkhu/AdLp56Rn//2/kGLsX+YVAIs9ybSX0O4ez4EI6Ev4ourvG9F3DTi1lCXJKY4XEK/5XtGmJfojgW029lm414+le/wcsl8TmLps43MbOiGusqHmv8KEbKtgz2KUX9zZh2iApSfgJbEjF1tfLaKXvcVNk2D2LSfvLqhf+mtdurF7r/K4o3jENZ5xD+7fwgDpaMwQyye3+DS0tzOHfi8ZJYk8k+jpfPfxu6Xwv6SOzrrFA0KUOpfxJfV4DHjnXKdbrkXjmDTJzn46S2OTy+xfmXS7lHx/jgM4DVB5x2Ej6jSO66dhS+NbxZ3QTt/c8x8Gg9MvUvYnTJnVYRCfM+Vhb+gt8N9LozgcRsm/04fCyHwdEP0L/f/RqtelMQlrm6iJnzb6Ov+yfY01Lv3ERkW/bikJhNNHkFuusTsIpbsxcx+t6b6M8dR1fnM9jfKn4xFgOjFfsPH0Pv6f/A5MKd0kARaF/5laBjD1qcGcTioawJrfs7cPjYSfS/+Uf7L5lCXiobAooUd1L1gUZOLR6SCaBqJGiXMNX3RPFis/NnGLupTslaw82xn2Gn8K2mQxiY/BYrhTtYGP9faHcSCM04mJ+L8DPRIau4NXMe+YEcjh3e78z8E77a3nUSgxe+xvLNGYwOvIxDe1qQFbPpjg/gj7NLZrlpfE5hqD6om7fDCUflolT/DHp+04sub9xkW7Cnowsn+uOMu6KDFlauYPLdfpzoOlDkIWQcehF9Q+cxcyuUdCnx6QrEnhKZKQ/EHrfl+4D8hVhzUxD5w4U0r1LxUwoEYjNQ6iTZlDcAWWxr3Ia6thdx9vyfcPH8v6O3/aFi7M88htxkaLalrKe7cTDcpEK9gQ+PgRhKyzYb0NhYh0zTT3B6/Gssy9k/q/j2wjt4Z3wGN1bEtXYVy7MfonePe71sfgVj4WtwQGY9mjr6MDL1JeZm/gtnux9zb5S348jwFT9myDqq7bZYdw9X888W3yKoO4Dcf36G+YUFzM9M4L3X3sf0D5qHxRIcCW3T6ihuzP+GwX3FpGL9sVEEV1dexNjxXW6ft+DY6I2gFjJpo85+TahXYQ75zuI9RSCR6bR0B9P9+4rtyxm6FWBnYiGPC3+K2fcukcLNC+h1H/6zO5/Fr0c+xaz4wvClC3j/kyuQd3qBNnQ+m+Y6mIR5En5pdAm6iNyTdieIK4l9Q7YWY0O5xsZ5yAtLlPaoY159QE7uQ+EmnH3ZTgJuTsWkfRcRiyseJ4SSSXVMWF6yq1BfuFwXR19Cs3Nf0IC27rdw/uKfcP6dk2hvqkdjo/sDjfosFtBDN+aLLKTc7GPoHvoElxfmMH3uFDqc5E0dduX+jDuODu7/pNyQDzqnTddc1UcfQmtrM7KR1/gkMUNVMLQt9a3g9TrqHkK2KZ43s4br+Q4cHQknuxL6mjBVtmWyL8QjsBsx/gLyk9iS5NrgKhSwI9l1MGCS3KmWbaKBFP0k9QptpLVb1kswDmWdZrS0bDP4ZROe7HgKzV48uHoZUyN9bjzIILP7NKbDk5ak3CTXixQMZTtpfH0NiWMd0l6vU9iGVVwb6S6N8WdfRFu2LiLGJ/ABx/0Sjk/JXddOyJ9rdLe6CVp8h8nBXyL3yxHMqvkpI8y7WBj9Z+yVs4NEcDb8U28KpLwCVhc+Qk4+XOvqPoT23EeaV1eVQWFqUxxvfAq9o9+UzkZydLiNy++9hDaZlNW1n4lIWJdjgwShbCTtA6VqrW8qycXIRJQtWGjOFa7mcdBJtu7C8yNX/QSHYHr/Cww+IRInzegc+lLxpTuYGfhRMTHy6ABm5JOuqSNsPuteTMK+3PQshi4Hbn1F5iL9uFEYGsdqQIdwcspmgzJ+Gp/CybHwjaXKxTyrS+rVdBCnxg2vy6Dc2KPqUontuOPWxi+eD1QmQWvTI9iP5vgZ5haXQbhezH05bjPI1B3G0NyKrOiP3wzqukYQeCFd1tPdOJgeFmPcuMvWNRuyTcHyUfROLAZjiqaKGNf+a/WapKMqs/kljHqzNkVEkLP/MwgkM2Ud33aflSbWycRTPXb3f4aon0i0ZmgPWmzT6FgUoXx8QX1lS5x0Z8jWt7bi4UwWO/qmoN6yrE31YYeIY+rs1qR64S5mB58u3tOU/Gh9FcOHm4OzayvBzsRCHs8gE7fvHXu/x2TO/YBFUxfyypgpwaG2ofPZil0HDb6QhF/FdFGTF0niSkLfKIFtO6DE5qokaJP6kEFX1V+SxOPEfRcVi6sQJ5LqmLS8yi7ReDb0hTh8bxoD+4o/8NV1vo055cfAa8NH3a+MZ5BRn8VUPXRjPiA3i+0nzitvlinL5NR1Yfjaqq+clOtfd/yTpmuubSwWsDr3Njqde3TlGpckZvgKlG5JfSt4vU6SoC3xgREcdd7eUGz1tE7qa6JeKvu8BqPGX0h+Elu8JuRfw7XBO6/aUdKO9wakhplXv+RvFW1L008l+rkH0tot6yUYh7KO5jqxdB4ntou3TMU42YZ9A9PKPeJtTPc/6Z7bj4EZ//7csUKVG/d6kYah2o4pppk4yxiaINalTdCmsU3ql0EwxiuxWPSNNsYn8AETH9sziuSua8cosKZOVDlBm4RVAfe+fBMH3AtmpnEvjvYN4dzERUxOnEP+9f8bHTuLs2Gdwaw6jNuMOrMjk30Yna/+W7H+5J8w9sEZ9MjEre6VT+Umtu4JHD/zDoZHxzE5OYmLY+9j8NUfY6eXeG16HsML4UfNAu7NDGCfUyaLxj3H0J8/h4nJSUfGpNBhJI/B/l50Pf/v7hp2pXzKs6FUHo9YCCjJxYomaAvXMNr9cPFX7Gff81/5dFWRax2Gb0JF7tZbBzF7BPkF5QZVa4bis229GJmZw8L85/i47+nijDXx+lb3WVy8PI/LF8+6r6Rm0Xz8fGD2WFk+V1jBrW8XsLAg/k1iwJvhvn8AU84x75z39ztl1p8wSrEh24bDr76Ot0fGcFGMm4kPcVYdd6EbKBVJ4doHeN5ZTkKs9yvG/iA+GPtTMXb0H8Me70cf3VrAKCf2qDdkSiIykJQuPR7pb6px1m2FX0ofKKzcwrdqX30zguPbijrH11PRI1X8tBpZnZPyBkB3A34LEz2t+mSarKe7cTA9LKp+Ev6RIoZ5ss0MsgeGMBdn4qkQK9fx1bxWr8hsOD6G4Crxf8dIlzuLWP2xSNZxbY+IdZAxVscqht22IibbwjpKGYZlBERCen4I7Zl6PPrzX+DFBnWdWVH5HuaHDhZ9Qc5ulUJLN0x6iTzwdD8ecWLDPvRPKz+U3Z1AjzPmlBm6lWBnYiGPZxC77wWna8M44tyjxUi4K23ofFZe68q+Dhr8PAG/iuqi2B34ccPxFHNcSeQbpV5nOaLE5iolaJP4kFHRlNyS911ULK58nEiqY9LyasKsIn2h3otmND/uySU5TA/v5uuU7+d70DcV/C6DH1/ivLnheZLpmhtM9JVyUcZiw8sYu10QC04i1yjufcq8Xim+rIt9nuYlfy3XDvFWzEL+sJuw0txDyDaz2N4zHpyBDMP1XO3nJHFYtmXu5xLb5IEIO0Q5KT+ZLbIJdcPGVLaT7Dqoig9uV8+2xDEhqFhwL63dsp5ufBjGoayTwbaeCQS/OqCs7a/xP/nDuC4GKXLjXmdTMVTaSTSWA/d7CWKd+kyc4HqdxjY/FmuWG4uM8Ql8IOh9wT3T+JTcde0ERdTq3uZJ0IpfLg+KGSTua9+Xvi+ZIVRY+StO79W8VuP0ziImenb79ae+U2Ymut23Oov8kZZime0nMXFHfcqNuom9i6vDL7hTwevx6MDn/qt8jvgVzAzsL8quf8FfQy6R55RrQ6LGWFjejFVyiYM5P1FfdxCDXyoP4Q7xNX/hbd3D/u0xHBcJAm9tSWsvKT6r/mAhA6vysC9eZRjuKiZuncXaPd+vpM8ZLtBxbdBejNRx14gDQ7MlcQEySSRmLD2D05+FY8cali+9IdfYzO4bwIz6ukxZsUe9IStNxMrZu6GEbfzEpxVeMMGd2gdCbSQZF7Kq4ouR/aiLn1LQ+m1YbwCUh/RMKJlmrWcaA6qfaB6uoqyWbWoSrba6tr6UMnU3QIb+DNSJinUio+cvKxD8hd6mdMxzJtsCOgbXCC4s5NHp/IiqfrjU6+uH0PX+Oc2yTN7yBzHZm/QSZt0ZR48zY2Qb2oe+krFMfiBMnaFbCXYmFqbjDnpD32MNiyP/4P74p5nREu422YaOWyWvg2JFDy+xolzLY/OrsC7Sbt248nxNXCtCcSWJb4RZW/dN/Wmt5J802WM67tRM0aZVnolbmr6LjsWVjRNJdUxaXk1o6XwuRV+oP0qpMUl6heE6J/tQN+ZFZeXHLi8pKmUGrxeBhKqUq7PPoIuQK+sF422xSdWn3HgWO2aoSmu2ZbsmDpo64pAujsmiEX4r29QxMvlACl8T+si2Etrn2BJhR0B+ElskqOCGjam0owLtVNW2lP0UJOHvpbXbWs8wDq11TH7pqmqrazsHdWx719mUDGU7SX09ZaxLlaBNY5uiny7GF77CULtmSVHJQzdmDD7ge17plml8WtspFVOLRzZNgvb+5UE84Tw4hae5q9jNne//8hp+bVytX8C96dPY7SRLdiM3qa5CFxEohJgfPkXfw+JDIRlkDw/juioayhpy9UeDr+cEypl3yrfBLJtnNARMgUFT1L8h0QQlNZC887H7Q8M27O3/K0IvZQQSaoEbUK9NqZOmHa+M/Kv4rJqcM8jwX2X3E0SV9Tnz+JQql2woNmgTe8FxV/K6ubinnxvCASd21KOt7781zEWjytpimeCvheXFngJWFj53Z8l7s+Wj//5l9pZMzpQgSXRA4ZfSB0qak/6jJDtKCoUPKHrE6MfS+BmWtw776rgt+diXOttR/aFDfTjRjVHTGIjxUGIzOUJXWbWwghvTH2Po16+gq/Op4jrM7o8DJT8KWGUa+lOtExnrhFbquGtA24kPMOeskSs1jr8R1zZVx3C/eusaZ9QHdu+VZvGQPo/RY+JHXCWBKx/aQ37gaR5XL6e8P2PEn/WhPEwEfrSrADsTC9NxR0dD38PjlEEm8COfByL0N2Ybqa6DsZjH5efbm0qXkNnWe4XArJqwPyXxjXCjtn3fvlgfGgmLMvWj6bhTP0WbVnmmeOy3E7/vYsTiisaJpDomLR91TfLlxe9/pc6OPkyp6704/Wu4zkX0YeCNKfXNDOlzykxP9X7GKtegi5Bpraf61CPomRBrzceNGVJh/UZEu7JSrDjmlY7wW2ubSn8G7s/84/HHTzRXT2P93wg7RKVUtritJWFaTjta46plW8p+0upYBl8rL8M4tNbx7dLGJltd2zntddZva3183W8vkyTWpUrQ+m3Ft82vkwkv+eX4TZr+NNRR/TDu+IzoX1VkrW5vkgStkv3PPI3B2eAkeB++qfOVmR26XwJ8AYB8lVB9QBMFFGcNXMDUyv4NdKbkpqWAO1OnsNtJFGWQbX0er49Oux9sUWWYtithg0k2j2sJJElE2YKFPLcNT75w1F3mQvNxIUcJ5QY0NKsyONtSl/wJW6H4rHozK+0KyihN0Fba50zjM6y3uq/YEGfclVxIFBsyEbO65Mxi9ZfQcmOPastGbCv8UvmARmfpPxVO0MIWPzV6VPuQHLfBcSKbNZ03HXcqmsZAjBt32bBmw9pmsXxh+XO8e+JJNBriSmUTtHFinWvHvS8wdHBH8e2STBaNe1/BuzPhWe4am5VDiWyzsvJmwyqvNHoJWGdG14q7TmwD9g3+rfgjihc3NPcWifRy7FHeZJD3EN6Pu2pcqhA7EwvTcadZJaYEYrJy7Wofwrz3EobST4FNaxuKLIO/Fq+HpWMzEfNYvpdel4C93o7VbtvDcULf8NqL/Gvqz8iKxQIme0zHnVop2rTKM3FL03dxYnEl40RSHZOWN7Hx+jdFX8BbEzu0hIEnEobrXFQfmupJuQZdrXINugiZ1nqG87FihlRYvxHVrphYkPR6HXuJg9KYaX6+TeFrcbjqqbhHY4w/Kz+Dj6RhmrIds3nVsi1lP5kUTWu3tZ5hHFrrmPvSUd1W13ZOVC45n5JhiRwT1PBxAw9ZzGS76bisqNlIY1s1Yrzd5kQxLzV3DZ4temiTJGi9B5SomRmmzlfqW2/2g68gBx9Y4wyKiDKF73Fp8Dl/rVqhS+OjONxzBn+Ymg+tvRn2mErYEJbJfSuBJIkoW7CQ54L+VXcwj6slD7GKD1t9VXeTFbZG8cdUyblK+5xim6pPWO3AvmJDIBmgFrKVUWzQvTKnivESMRn1w09KfeussDS2qY1Xa1thozKXvh30o9IkvUYvWbfSCVpFV2Nfa/Sp1iE5boOMZHOm86bjTkWTn8S4cZcNazasbYpXI/3le7I7j6Bv+CJmb66gYOtLq0xDX8k6cWKdb0dh+QsMH3+8+AFEEfeansbPx/8ebxZ5Utukjrp+VX7Q8WY1LI6gS6yr6iQdC7g7mcNDGX9dYrlOV2B2a0rm4iFydhD7nNjv/Rjt3SiHZ1QW+ZXFzsTCdNxp0tD3kckVv7+dLWsbyjhJch1M6gvOQ3uU76XUJWSu3LXarXtwlDUT+4Zf07Zl6k9bHeWcyR7Tcadqijat8kzc0vRdnFhcwTihjptYvp7CJiu7FH2h6qzeV0i3UHRUz1v1EJUN9aRcg65WuRaZ1nomnxLJ06iYIRXWb0S1myKOxV+DVnfdM3BV+yOWb7rmRtmnp+IejTH+rPINtqRhmqadjbAtbT+ZdE1rt7WeYRxa6xj60tPbVtd2TtQvOa/oty6+rrSnxkjPNuOkwAgmsr66obQV2zaljlY/w/kSrgY9wjKTjk9rO2qbtbu9SRK0cR3S4DCqo1udM/hQWfEEreMn93Br5o8487POYKJWzBxqexa5/Ke4Lr+GqjqWwiC1Dao8bkcSsCUvwpVtwUKeE1+pfAHv/LYXu5w+1M2i9X046H/hBuPsKz6jBkNpV/BGrTQ5p9SviM/5tgW++mg1RdHBmLSzlbGdCzes0y9ufV3dsPyN2Ff0T+UDGp2l/zBB2+GMi2YcHr7qg5LjPTi+igVMfhLjocRvoXTL2uYaFkdfKq6PHvqarXVNO6tMxa/UcSnrxIl1ITMKS7g8kkN7k/vV3qYu5OdKF4EJ1kphm9RR1z9KgrT+RYwu3UfxQxTK7FVvxqwzW9+bYZ/FQ7mLygcuUujlGbb2GfofEUsluR/f8d7q0czQ9aogFTvdQ4or0crI0PfqQ6Iaa6SSoQ1rG/44iX8dLIO5lV8aXUK2qrtWu9U+CcUVISONb6hta7dN/aktXHrQZI/puCMhRZtWeSZuafouXiyWP6SUFScEjKQ6Ji2vstHFvBR9oeisv5fzdQycj+rDSLkGXa1yDboI9NZ6EeetMaN0mASOWNtNG8ci/NbapoGr0h/x43AEtwAI3U6EHaJKYltSMk3cjs4e9Vg1bBPyfR9P1E+qaup2Wrut9Xwd48cEk1+6ytras50T1eV57zrr65eIoZSji60q1PC2316Ahyxmst10XFbUbPhtxbfNr6PXz3DeysNQR3y/IOkzirUdDYIaPLRJErTKLDbrLDhT5yv1tx3HyDfeF+Ptf7+9taLM4IkzKOKU8bykgNXleUyNDqHvWDta3KUPMpksmjrfwKXl8KJOlbDBa5t/YxFIkoiyBQt5rgF7Bz7H6r1pDOwrLq5dOovWf3XOX4MwlraaQoo/qg/M0q7gBaU0QVtpnzONT43q8pBig5oIkufFhq2MYoM1doipVMoHi7pGsOi0Ebe+yTauQVvsKlsfeZ0Zp4xXdh3+ynEbHCdey3LmZPiDfdZ6Jj+JcePuNaz7a23Tf72pZP0pGQs0yXarTENfyTpxYp3OkDUsf/Ya2sWM1UwdduX+HPradLhOCtukjvp+xdoU+naIJLFYEmUJ80MHkckos1e9OJF9DsPXlzDV95ifTJXqpdBL1l3CZE580DSLHX1TWPVm1IZn6Mry3kZSdupDSoiFlZGh79U4LJdn8HTT/LW2keY6WA5zoZ+JXxpdNPZ6h6x2q+tetiI3GfyKPZDWN7zGdX9N/akrqzlmssd03BGRok2rPBO3NH0XMxZXJE4IGEl1TFreMs7T9gW+x0TPI8Vlabw3DQKuYbjORfQhIuUqyyCp97RWuQZdhL7WeoD88nn4Gi9tNcUMWUC/YW03bRyL8Ftrm6bxmMLXYnDVQ/GORtgRKV9nS0qmqZh5duj+VsM20U7KftKpKI6ltdtazzAOrXV0fakobatrOxdYg9a7zqZkGNGOom1oMyqGGmKdep9lfCYONZXKP3we1V+DNsX4TM09zGbr7m+SBK3yOpF1HUlDAFC/Lpz9MYbmfkjRIxGBwpEYp4yu6ftYuXEJH+SeRpMzI0v3YKowSG2Drm0eMxKwJS/ClWzBouScspZcZg/6ptSHMCUhqL3xDTds21f8Ub2ZLdzC7F/Eh6r+gumFO1JAaYK20j5nGp9SBc2GYoPxYmQro9hgjR0AvJlxGWW2nBo7rPVNtqk3ZMEZ+sE1hYPn4v/KqUEWOKSwSeUDAWHFHS9BlclgW8+EMmtQU1YeUvRI1Y9S0PptlIxbtWnlw03hddGt9eL4if+RPrVF67atTZlICCXhhEBbjLPJNN0kltSxxTqTRd9jMieSnhnobwyVemlsK9FRkedsejfGYgbr/8HY8V3IBGavejFafDhmGsOHm5HJHkF+YdUXlEYvWVvxrfa38OkH/4C6QEySBTUbCdiJ2iYWpuNOi6axfNddnzdTykOjqbFtp6zHOAP9BzQ0Asti7snT8UuhiydO99fKVun7cFxxZCnnE/uGThlxzNSfpvKh4yZ7TMed6inatMpTuAS4pek79Zpti8UViBMOi6Q6Ji1vGedp+wIrmBnYX4zR7gzioFcYrnPWPhQSFLm6H9SVL4cHfmy0yjXoIpqz1ivg9tjLaHCeyWzfL9DFjCCNkj1bu6njWITf2to0xoAUvhbJtYRG6ECEHZHyNbElLdNUzELmBHarYJsjP2U/BXRTdtLaba1nGIfWOpq+VNS0jl+rXN31IiVDazuqsuHtlLHOOFbD8tX9NLYpdXQxXonFgRm2Vh4GH0gzPq3tqLbX7vYmSdCqX2Kvw67ecSyVrN0pOsHQ+WJy3LVhHHFm5TRgd99fImbl6Do0IlA4VeKU0cl2jxW+xchR92Mpmhko5dtgaZunSgnYkhfh0rZgoTt358/I7RKvsWbR3H0Oi9KflZvCshPxij+qybmw7u5+aYK2EuNGbcx7oImReJHVFBtSJvYKc0M44MxQr0db339D/9K0+nXeVvRM3JIa+PXTxB71hiyYhN3QBK20Lrih84FgCbFnjrOlZb0j5fejJ6n8vwWsrobfUNBIlePWX2/UL7WMqb49xQfUh09h6gc5gJUPTRZnQAZakq8ohz+uovqJLSngaxDYkrrakrCac/JHiUrPoFXaMsa6gAXKjsLCOObd4jJGK+15kky22Vg5dUX7R5DN1OPR197BG/sakAnMXvVu7reh/a138GuxHEH4x7Q0enl6q/cr2/4v5HofDc7gVcqVbiZgJyqbWJiOOw2axnIBP0ydwsPush8H83PKG0ilmhrbdoqmuA6WybyooY5fCl005spDkm3CuOIKkPeBiX1DahDaMPVnqJhpV9oTGoOm446cFG1KeUm4pek7xQcytlhcgTjhsEiqY9LylnGeti+g6JDZjdzkUtA7bo/heIN7v6Pee8o+DPmKrF3AnYmT2O7EkH3on/YnEDhFZExvQqcaX7xlYNy3DuJdc1Uuykchqx/VjAAAIABJREFUpS7KNf6hHCbvKtd4WUZsKP4Sdb3y6tk4pI5jih46v7W1aUz6KP2c5HnE2pYHwfQ3wg5RzSpfE1vSMk3ajskkebwKtjmyU/aT1Cu0kdbuNOMwbVtCZVtdeS7u9SIlQ9mOKaaF2MrdlLHOOFalYM1GGtuUOpngM7HTgIzFoWeZND6QZnym5q7Bs0UPbZoELQrXMNr9cPGBOPs4Tox8hZWS66UlcVC4jrETbW79x9D9zme4qV3r1dRTmqBfUtRWpoCVb+ewsHK/pJY8oCZoww98olDZNsiWuBGHgAwamuRFuL4tWGjP3cXlwWeKH8XJ/ggDM8qN6J1x9GwXr9jaEoJhBXT7ij+qN8m6os5kupz7hXfloaSiPqf8IpfZh76p0E29Vi/FBuPNb0QZNXbUPYP+T7+DMtet+GrrpTfQ6a59md03gJl7SnBR66eJPVq71uugwiatD5SoqryaU/8CRhYDj0MlpYsHFD3S9qNBcrzDq1gY6UXHM3vQkg3PWjdIkOM2g0xo7dbC4jl0NxfH6MN9nyLwTsb9zzHwaH3xWrP7NKalLxWwMnUKbc7DZ+imJuqB16CiPCx11dwkKjOeg8umKOs+ZTQxzibTdJOorWOJddIAdcN/MM525rGgDEW1lLOdxjatjkHJ3qut254/hqMNpYn2wkIendkMtv3PLhypD68/G1wuJRFzTw3FLueHnMAMXq+Q7m8CdqK6iYXpuNOkZSwry/dkdr6EkYW7OiWLx6xtAEh6HVSYpWLu2ub98BLwvaS6mK1WmCeMK55Mxc5kvuEJCP+19Ge4qG7f1I+m446MFG1KeQm5Je479cFUk3xUGJQdJzxZSXVMWl6y01wfTLHc0830d+k8jjvXwPAkg+B1Jf7sKrch1bbAEjfibagXUC+un3XPIn/1nq9ZqmuuGv/EmundGLnm3xn61/gstveMWyb1JIy5QmtbfyjjO1kci/BbW5s2H1D7wzg5yu8KZ8vaVqhsyW6EHaK8Vb4mtqRlmrSdElvCB6pgm9dEmn7y6ob/prU7zThM25bQ2VZXnktwvUjDULaji61hsKF9tb24sc42VkPiA7tqW3HHsTHGizfjjhZjsYjH6rNlGh9IMz7L4R4As3V3Nk+C1slPfoSX2xqKD76ZZuw5+ku8+cEYLk5OYnJiFMPv/Au6dopZiSGHcfkXbl5Ar6yfReOe59E3mMfI2J8w6ckYeh25F/4ncheKK1D6XacJ+v5Jd8tWxk1ONbaho/tXGMyPYOyieM1c/LuIidF30H9sn5sgM8/yLc+GEoV5wEZASdBuOz6CbxZ0axZ/h2WR6LcFC8O5wuIIjtaLWQbhG9wVzOW73OUudqCj70NMLywXk4qry1iY+QRj0zdtmrvnFH9UA6ihpmn2ZOV8Tp1hlUF254/x6uD7xXFwcQwjb7+OXNdLGJpVH+oVG8pI7BWu/yf+0YsN2YfR+eoZvDc6jotj7+PNvuexp9H9MFFdBwb+j7rkRBFW4Xp5sceAfB0OK/zK8IGgovexNPZK8aNTYs3s9h6cPTeOyclxjL43iL6j3RicCc9TVvQoox+DeiTZU9ZT2n4SE3dsWT9Xrhy3D6G1dTuaOk7h3PTXmJ/5GANH3B8Lm57H8ILyoOhUVV5dyojx+3tMzX6FmfG30C2vP6XXKO9hv7gO+W8wfvkKFq7cwHIMVa3xB2qC9Cnkxr7BSkF8rPK3OK7oU7KshrRfd+Np6E9DHXOsW8Tk0Fv4w9R8MY6ufo/Zj3+J/c7bLs2InIWZxjaDjgFvUmeAeR/rUguoN6G682n0UuVD/TErg0CyUJYrl53lAcfKyND3jl5ruDn2M+x0f4TItj6P1//wKWYXFjA/M4Hff/IN5M851jaEsKTXwaR+noRfUl1kJ5VuSLuTxhVPVBzf8MrG+Wvrzxj1pT2hOGE67ohM0aaUl5Rb8r6LHYvLjhMe36Q6Jiwv2YX6KG1fOPXuYGbgR8VJBs517kNMz1/B5Ytnzdc5qx4eizv4cvAg6kQMyT6B3tGv3etVHsecezjd81G6a65/3Szeh2uv8XUHMfilN4EiSczw7NH8tXJIGsd8+Va/tbZpG48JfU2oY23L19e0ZbUjUr7OlpRMrXbo2jFZ5B+vvG2e7BT95FUN/01td4pxmLqtCD+TcpNcL1IwlO3oYmsYbHg/TaxL53fJ76eEruIbC0/IGN/Z/xFm5ucwc75fTmgqzbel8IE098tlcQ/3w9bc31QJWqCA1YVz6N3b7CZpLa8Ma5MRov5/of/wI67Dmeo3YN/g30Kv58UZFJYyhTnkO5ui9c7UY+eRNzUfCfMcqBwbPBn8G4uAkqB1gpD70Bncdmeb2oKF8ZyydlV4Fu3qNzh34nGjn8Zb+1PxR+14CFIwJWiL4y7tuAm2gcK3OP+y2S755XJZTbGhrMTeGpZn8sEHh3B/Nh3EqfGrodm1niLlxh5Pznr/VfiV5QMhve99gaGD7nIsYY7ahJWiR1n9GNIj7q5MqOnW9zYI8cZt/T/i95NncMBJGirXDDGb+tw3Wn8pXPsAzzuzi5TymQyybT/D2V936n9ELMxj+NmW4DXCyCqks6drRn+TGPyRxdMpi+ajr+HMCzudNquZoBUff5HryqqxTn1NKuBH9djV/XtcjfGWS2LbIlgVyfofLShZX9YpoCT8w+vPul2TWK9AlxZwd6IX2xwmjTgwNBu6H1HXzPb60/sbn53xQdrKKGIsF77HpYFD7g+Mnk7uXzUGWdtwYSS8DiZintT3EuoS6E51x7M7RVwpionhG2p7kdsR/RlV37MnHHtMxx15Kdr05KXhlrTvYsfi8uOExJtUxyTlPXbhPkrbF67SheW/YqAzfB+QRdOzr+LVpxtLr3NWPSQJwGib6SPKYjmuFNdcqc82PPnScRx036Ly7/F34ODQF5A/wSaNGYpJgU3ZbgWv16IBm99a24wYj8b+KMb1kucRa1sBEvodmx2ihlW+3pZE1wZPqxTteFWNf6tgm2wraT/JiqGNMuxOPA7LaMvqB57cpNeLpAy9drSxNcRVt2tszxTr9P6tE11yzNiWYRyLkLI8iVN7ix819+NiFs3P/wq/1MV4USdFLE48PsvlXgJn6x3YZAlaF+DqImbOv42+7sPY31pMemZb9uCZjh+j63gO/W++jwszN7QPzo6Ewh0sTL6PgV+dQFeHeOU1g0xjK/Z3dOLwsZPof/P3+GRuOfRAFGdQ2MqID4HNYGL4X5E7dgTP7GlRkm9NaN1/GMdy/4rhiS9xK8ZDKVLZsPUccEM1rnqCFrh/eRBPOOujhmfRiii3hNmxs8gdPYBWZ4ZnFo2tB9B14l8wND5nWEtVJab4o/pgrBZRts0JWrdQpXxOjN/RN5VxIOx6Cp1dr+DXQ3/E9I3Kz6D1zCysXMHk7wbQ09WBPS31xXF/+EX0DZ3HzC15G+4VL/1bbuwplVjlIxX2AUXbwsocJt7uQ/fh/WhtrLP0oaik6GFMOsYpoyiQZPP6MA474yzm8gbqkh+OvndxffItnOhoQ2OmCW2H/wlDk383X2PEF+FnP8LA8U6XTSeOD3yE2eU1P/Gm4VBY/hzDuS7sFb6ZaULrM2cwLaccWgyOvFkRPzCMu/pkkW05gJcGLmB+RXwVvtV5kK7rGkHgvRGrTENfWeroYp0zHt89he5De4vX4WwL9hw6gdMj0wmWIEpom0VHn7DywSvdckPqxwO154WkhHr5jTtbMh4b1v6rCDsTC9NxRzND3wf0v4vrU+9joOenvi+3d6HnzYu44c0It7ahCEt0HYzPPBW/RLooNiibsl9TxZWiICnD4BtKczE24/SnRYypH03HHVHJ25Q2p+WWsO/ixeJKxAmFbUIdY98jVrgvFI2hcsq2PIGu3O8ws/wV8h1lJGhFA6vXMJX/Bbr2imelerTs/Sl6hz6xLBOX4pob4PIlbk69XbzGZ1uw97mTGJwI/mCfKmaosLztQLvz3lHlb/w4plRyNtX+CNxDWNuMMR6T+Ka1rbDG+n2jHaK4Vb7JlhRMU7Wjt0c9WnnbFOlJ+kmpFtgsy+6E47Cctix1y7peJGFo0SHA1LaTKNaZ/NvWgHIuiW1uNdVfi88O41hYndPHeKdOQh9w6iQcn5XgrmDZipubM0G7FUlSZxIgARIggQ0goKz7FVgTdgNUYZMkEIvAbUz3P+kkzrMHhjDnJTVj1WWh2iZA36jt/q0F6/zvgZTMrtxM5vEhfzP1BnUhARLYMgT8GB9Yg3bL6L/1FWWCduv3IS0gARIggQeYgPcRD8Or4g8wGZq+OQn4H6jZjiPDV0Jv82xOnanV+hCgb6wPZ7ZSBoG1z9D/iPgeSOkHFsuQWvmqTNBWniklkgAJPAAEmKDd6E5mgnaje4DtkwAJkAAJpCfgrT/b/BJGF+OsF5C+KdYkgbIJFBZxMbevuATSrp9jMs4H7cpulAK2BAH6xpbopgddycJCHp3OkkIPoWvk75sXBxO0m7dvqBkJkMAmJsAE7UZ3DhO0G90DbJ8ESIAESCA1geJXc7dh38C0/7GP1NJYkQSqSeAuFkZewk7n42AteHZ4nrNnq4l7S8mmb2yp7npglV3Gpf724g9Mdc8ifzXG2v4bxYoJ2o0iz3ZJgAS2NAEmaDe6+5ig3egeYPskQAIkQAIpCRSwuvwdvr21wkRXSoKstj4ECivfYvLsC2h1PxrZdCSPuTgfDF0f9djKBhKgb2wgfDZtJLA28y7++fRvMTY1g/mFBSzMfoo/vP68G8MasDv3CZY28/rZTNAa+5YnSIAESMBMgAlaM5v1OcME7fpwZiskQAIkQAIkQAIPKoE74+jZnnXWbWzqfAOXlrkcx4PqCiV20zdKkPDARhNYwczAfudDhhlnxn9G2W5AW3ceM5s9hjFBu9FOxPZJgAS2JAEmaDe625ig3egeYPskQAIkQAIkQAI1TuA2pvsPoPXoEKY3e2Kjxnti85lH39h8ffKga3QX16fex0CuG4f2tBSXNGhsRXvXSZwZncGtrTD7nwnaB92JaT8JkEAqAkzQpsJWwUpM0FYQJkWRAAmQAAmQAAmQgI5A4fYybm/mV4J1SvPYuhCgb6wLZjZCAiRAAiRAAiRAApuaABO0m7p7qBwJkAAJkAAJkAAJkAAJkAAJkAAJkAAJkAAJkEAtE2CCtpZ7l7aRAAmQAAmQAAmQAAmQAAmQAAmQAAmQAAmQAAlsagJM0G7q7qFyJEACJEACJEACJEACJEACJEACJEACJEACJEACtUyACdpa7l3aRgIkQAIkQAIkQAIkQAIkQAIkQAIkQAIkQAIksKkJMEG7qbuHypEACZAACZAACZAACZAACZAACZAACZAACZAACdQyASZoa7l3aRsJkAAJkAAJkAAJkAAJkAAJkAAJkAAJkAAJkMCmJsAE7abuHipHAiRAAiRAAiRAAiRAAiRAAiRAAiRAAiRAAiRQywSYoK3l3qVtJEACJEACJEACJEACJEACJEACJEACJEACJEACm5oAE7SbunuoHAmQAAmQAAmQAAmQAAmQAAmQAAmQAAmQAAmQQC0TYIK2lnuXtpEACZAACZAACZAACZAACZAACZAACZAACZAACWxqAkzQburuoXKbisBCHh2ZDDKZRnTk5zeVarWoTOHmOHJ7m5Hd+TzeuXynFk2kTSRAAiRAAiRAAiRAAiRAAiRAAiRAAiQAJmjpBCQQlwATtHFJVaDcGq4PP4eskxDPYkffFNYqIJUiSIAESIAESIAESIAESIAESIAESIAESGCzEWCCdrP1CPXZvASYoA31zSqW5ybxu9ODGLtR6fRpAT9cOo1Hs2LG8nYcGb6CQqh17pIACZAACZAACZAACZAACZAACZAACZBALRBggrYWepE2rA8BJmgVzmu4MfICGp0ZroeRX1hVzlVq8y5uTF/A6CdfY5nZ2UpBpRwSIAESIAESIAESIAESIAESIAESIIFNRoAJ2k3WIVRnExNgglbpnFUs5A8jU9UErdIcN0mABEiABEiABEiABEiABEiABEiABEigRgkwQVujHUuzqkCACVoFKhO0CgxukgAJkAAJkAAJkAAJkAAJkAAJkAAJkEBqAkzQpkbHijVDoHAb8xfeRM9zT6Alm0VjayeOD3yE2eXQuqpxErQxZa1O5orLA2zrxcTdNazMX8Bgz0+xt6UBja0HcDT3Hi7dvFdEvHoNU++eQndHGxqzLdj73EkMTlyFcVGBmDoI4VKPxhwmV9ewPPsRzkg9OtB96n3MBDioiVmxPmz4Xytyk8sBvY/t34lsRnAV8v4DU9fvxnMdA+/kOkc1t4bluU+Q738FXe2txX5pbENH9ym8O3XNzNkmdvU7XHrvFzjS1oRMpgltR/4F5xdu+7OOHd6+AGlT9jkMX/8By5c/RP+xdrRkFZ5e8cISZv84gOPCHxyuBn8V5Q0Mi6Lmke9oLPZhRx4LrvxSXf6Avi53bLQdRu/QJK6vcs0Jrzv4lwRIgARIgARIgARIgARIgARIgATKJcAEbbkEWX9rEyh8j0sDh9BUkmjMoungEC7fUxJR1mQXgFSyDuHfzg/iYFO2JNmZ3fsbXFqaw7kTjyMb1i/7OF4+/23ph7OS6CB6zrOprgtnP3odnSV6hDnETNCufoX3jv6PUr0zreiZuBXPZzzdMo3oyM/7dbzjsXX2q2q3ClcwfGR7Cf9i8rkFR/KzyZK0hRsY791TYnt298/x3pmflCREHZ08mzI/wZmR02hv9PwhlKAtfIeLp57R+2vnG7gUSKYr/Rtm6DSqT9BKn8gcwtnxIRwp8YkGtPVewE1laGi58iAJkAAJkAAJkAAJkAAJkAAJkAAJkEAsAkzQxsLEQrVJYA03x36GnSL52XQIA5PfYqVwBwvj/wvtdWJmaDMO5uf8JKhMooUShg6ctLKa0dKyDU0dfRiZ+hJzM/+Fs92Pucm9JjzZ8RSas4+he+gTXL56GVMjfejwEma7T2NaTSAjoQ5Cb2lTAxob6w16bMeR4Ss+B8deNVEb/kjYPVzNP4s6wbXuAHL/+RnmFxYwPzOB9157H9M/xMzsSd1CvOXxpDqbvHgV3154B++Mz+DGyn0xrxjLsx+id8+2YjK1+RWMLYnjcf5bw+LoS2h2EuoNaOt+C+cv/gnn3zmJ9qZ6NDY2RCRohU11yDT9BKfHv8ZyYKaqItvziYU5TJ875fpEHXbl/ow7qpqSVYihUyYqQfsQWlubkW17EWfP/wkXz/87etsfchPZjyE3+b3aErdJgARIgARIgARIgARIgARIgARIgARSEmCCNiU4VqsBAve/wOATIgnXjM6hL5VZkncwM/CjYpL00QHMeLk5W7IrtawMMs0vYXTRX06hsHQeJ7Z7Myi3Yd/ANNzFDgDcxnT/k26SbD8GZlb8jkiqg6gpbdLosXgO3c1FPeqPjWLJb8lJYho/ElaYQ75TvNpfj939nym6BwRE70jdQslFeTypztFN+iUKuDNxEtudRGsLjo3e8E/Ztu5NY2BfMbFb1/k25mSCdRXXho+i3pGXQUZZUsARp9qUeRS9E4uhhDgAKTuL7SfOY0nmuVcwN3TYTYh3YfiasviFlBti6DQalaAVCfbDGJrzfKyA1bm30en8eJFBqU/YwPAcCZAACZAACZAACZAACZAACZAACZCAiQATtCYyPF7zBO7PDOBRZ5ZnKKkFQJ7LHkF+wU14WZJdsnxdUlkZbOuZQHBV1hsYPdZSTMJq5K1N9WGHJnGYWAfRw9KmDBqOj+F2oNf/jpEud8akmqh2ylhm0K5OItcoZiDrkoKBBuw7UreQHHk8qc725krOXh/G4aywow6P9H8GP4VeUlIekH2Q0SR1l0ZxrN5ds9eSoM0eGMKcTL5K0Vib7scjTr/vQd+Uu86ve7pwbRhHnMRpaLazZBVi6NSLTtCW+sQtTPS0Fn2z4WWM3dYo6qvMLRIgARIgARIgARIgARIgARIgARIggRgEmKCNAYlFapHAGq4PP1ecJbtvELPhPNPtMRxvEMk0ZQ1QY7KrkrIE62VM5twkWOhjUk5PaPVIoYMQppXl9bdND0uCtvA3DO4rvsofnEXqyY3516Sb6bgj1qZzzHa9YjLRnEFjblKZYe0VCP+9h/mhg25i/R8wosyKLpY0JETFSWmTKRmsyNYlRhXmgaSqlJsmQbsN7UNfhWby3sfS6IvuTODQDO4wDu6TAAmQAAmQAAmQAAmQAAmQAAmQAAnEIsAEbSxMLFR7BPxEXiCh5Rkqk3NKYsuY7KqkLKGALy8TO0Hr14ltj2jKaFOUHpYELZQ1aDMNaDvxAeactV09uDH/mnQzHXfE+hy07GxNF1ZwY/pjDP36FXR1PoVW+aGuuAlape0dfZgqmXIbJ0Gr+FtAV0V2yWxmUVCZ7azOzrWyMuhjrQNlJu8j6JngOrSBbuIOCZAACZAACZAACZAACZAACZAACaQgwARtCmisUgsElISWty6o9q+SMDMmriopS7BVknGxE7QpdBBNGW2K0sOWoBXrpX6BoYM73LVys2jc+wrenfk+NBszwo9MupmOO+Ii2BmaLCx/jndPPIlGrQ/ETdBexfDh5qLNapJUtmlIiIrzVptEAUtdR77Bbqtcg0xrnTi6SoO5QQIkQAIkQAIkQAIkQAIkQAIkQAIkEIMAE7QxILFILRJQklOGpFzGOR4nQVtJWYK1IdnmdYM2gZZCByFPK8tryKZHRIIWQGH5Cwwff7y4jIRg2fQ0fj7+9/hJWpNupuOO2jadPbtCf1dnkT9SXPM3u/MI+oYvYvbmCgpyFnXcBK3SB0zQhiBzlwRIgARIgARIgARIgARIgARIgARIwESACVoTGR6vcQJ+Mi3e+qK2ZGYlZQnsEUlGbYIyhQ6iKa0sr+ttekQnaB0phSVcHsmhvSlbnFna1IX83IrXgP2vSTfTcUeaTWddc2tYHH0JzSKBXHcYQ6puTNCiIz9fCs3Kv7Q4j5AACZAACZAACZAACZAACZAACZAACdgJMEFr58OzNUtgEWPHdzlJw/pjo1iKY6cxMVVJWUKRiCSjVo8UOoimtLI8GDY9YiZoHVFrWP7sNbTXiY+u1WFX7s+44zVh+2vSzXTckWXTWdeYvzREydq9iRO032Oi55FiIlq7TqyfRM+EZ9habRJ6R8m+gdFjxVnAAdlWuQZ9rHWA+zMDeNSZXa58QE+HlsdIgARIgARIgARIgARIgARIgARIgARiEWCCNhYmFqo9Ancw3b/PkkzTWGxMXFVSlmg3Ismo1SOFDqIprSzPdpseSRK0Qt73mMw9VuT9SD+mSz6g5bWp/DXpZjruVLXprMj2Ntem0LdDzO5VlrLwziVO0K5gZmB/0cb6FzG6dN+T5P41JETFWatNooAiu+FljN0uBGUXvsJQ+zan7UCi2SrXoI+1TgG3x15Gg5Og3Y+BmZizoYPaco8ESIAESIAESIAESIAESIAESIAESEAhwAStAoObDxIBJdGU/TGG5n6INt6YuKqkLKFGRJJRq0cKHURTWlkeCpseSRO0Snndh8+8JtW/Jt1Mx526Np1V4e62TMJqErRLozhWL2b9xl2DVumDzG7kJkPzsm+P4XhDUV5glqtQxWqTKFDAnYmT2O4kRvehfzo0B1nq2oTO/Jy/zu/dCfRsE21msaNvCoG8+Npn6H+krphQVmf0Sl0yCCR7HWTLmOrbU6zzUA6Td0OJYhcr/5AACZAACZAACZAACZAACZAACZAACcQnwARtfFYsWWsE7oyjZ7uYPVmHXb3jWIrKNcnElSaZV0lZqRK0AJLqIPrTZpNVj4hkZImv+Im9bGceC1Gsbbql1rlEKaDwNwzua3ASjsGlLpS1aWMnaAEsncfxZuFTWTR3n8OitDMoL3mCNtS/gWUi1rA48gLqnXV0n0X+6j3f0PufY+DR+mJCdfdpTN/zFCpgZeoU2pyEbwYBfSTfDDLN3Ri5tirlFRbPodu1b3vPeLylKmRtbpAACZAACZAACZAACZAACZAACZAACegIMEGro8JjDwiBFczlu9DkJKl2oKPvQ0wvLMNJR60uY2HmE4xN3/RZyMSVJkGLSsqKmAVq1COhDsIyoyxx0q6HvxZpFk2dv8H45StYuHIDy4VFTA69hT9MzWN5tQCsfo/Zj3+J/c4atM04qM7w9OmWbpl0Mx13JNh1Lm3kLi4PPoOs8IHsU8iNfYOVwj3cmvktjrcVE7fxZ9AK6XcwM/CjoryM61PzV3D54ll0K/ICCVFRzWqTp/UdfDl4EHWOrk+gd/RrV9c8ju0UM2EbsLvvL6GkqbI0gqPP7zE1+xVmxt8y6yN1Kc68beo4hXPTX2N+5mMMHHm4mOytO4jBL0OzeD01+ZcESIAESIAESIAESIAESIAESIAESCARASZoE+Fi4ZojsPoNzp143E2oua+fe7MKMxls65nAXc9ombjSJWgBVExWRJLRpkcSHYRdNlkRCVoU5jH8rPthKo+ZWL5g0V8aQCQ3/X/12NX9e1wVSds4/5l0Mx13ZEaw07RbuHkBvWry1NE5i+ajr+HMCzsd/Rtzk8XEvaZ++FBh+a8Y6Nyh2O0mOp99Fa8+3Vg8ri4pIARYbVJaMPavSJK/gUvLgUUMnIqFax/geWfWq9oXGWTbfoazv+4s1Ufqsg1PvnQcB5vEjGC17g4cHPoCyjxdRUFukgAJkAAJkAAJkAAJkAAJkAAJkAAJJCXABG1SYixfewQKS5gdO4vc0QNobSy+nt7YegBdJ/4FQ+NzkJ9BkokrQ4JWkKmIrIgkY5QecXUQ+lplReghzF3+HMO5LuxtEa/RN6H1mTO4tHwFk++eQvehvWjJipmpLdhz6AROj0zjZtzkrE23MnUudeACVhfGMXC80+n/bMsBvDRwAfMrS5jMtTrJybquESyWVjQeUblkW55AV+53mFn+CvmOMhO0osXVa5jK/wJde1vSS1PMAAAFGklEQVSQzdSjZe9P0Tv0CRZWwh8l89Rbw/LsR659dWhs7cTxgY8wu7yGuxO92CaSr+q6wAG+X+Lm1Ns40dGGxmwL9j53EoMTV2Mnqz0N+JcESIAESIAESIAESIAESIAESIAESMBMgAlaMxueIQESIIEKEpiXCdrAzOwKtlARUYEE7XxFRFIICZAACZAACZAACZAACZAACZAACZCAmQATtGY2PEMCJEAClSOw9hn6HxFrxWaxo28KpYsRVK6psiQxQVsWPlYmARIgARIgARIgARIgARIgARIggaQEmKBNSozlSYAESCAFgcJCHp1iyYfMQ+ga+XsKCetUhQnadQLNZkiABEiABEiABEiABEiABEiABEigSIAJWnoCCZAACVSdwDIu9bcXP0ZX9yzyVzfxJ7aYoK26N7ABEiABEiABEiABEiABEiABEiABElAJMEGr0uA2CZAACZRJYG3mXfzz6d9ibGoG8wsLWJj9FH94/Xm0OrNnG7A79wmWCmU2Us3qTNBWky5lkwAJkAAJkAAJkAAJkAAJkAAJkEAJASZoS5DwAAmQAAmkJbCCmYH9yGTEUgbhfw1o685jZnnTrj5bNJoJ2rSdz3okQAIkQAIkQAIkQAIkQAIkQAIkkIoAE7SpsLESCZAACegI3MX1qfcxkOvGoT0txSUNGlvR3nUSZ0ZncGt1M0+dde1hglbXsTxGAiRAAiRAAiRAAiRAAiRAAiRAAlUjwARt1dBSMAmQAAmQAAmQAAmQAAmQAAmQAAmQAAmQAAmQAAnYCTBBa+fDsyRAAiRAAiRAAiRAAiRAAiRAAiRAAiRAAiRAAiRQNQJM0FYNLQWTAAmQAAmQAAmQAAmQAAmQAAmQAAmQAAmQAAmQgJ0AE7R2PjxLAiRAAiRAAiRAAiRAAiRAAiRAAiRAAiRAAiRAAlUjwARt1dBSMAmQAAmQAAmQAAmQAAmQAAmQAAmQAAmQAAmQAAnYCTBBa+fDsyRAAiRAAiRAAiRAAiRAAiRAAiRAAiRAAiRAAiRQNQJM0FYNLQWTAAmQAAmQAAmQAAmQAAmQAAmQAAmQAAmQAAmQgJ0AE7R2PjxLAiRAAiRAAiRAAiRAAiRAAiRAAiRAAiRAAiRAAlUjEEjQXnv3PfAfGWwVH7j6xv/G1TP/mz7LcUsfoA/QB+gD9AH6AH2APkAfoA/QB+gD9AH6AH2APrCpfOD+3R9iJ3SZoKXzbirnTZIcvvL/DODqwBtbVv8ktrIsfzihD9AH6AP0AfoAfYA+QB+gD9AH6AP0AfoAfYA+sHV8IHWCNnZalwVJgARIgARIgARIgARIgARIgARIgARIgARIgARIgATKJhCYQVu2NAogARIgARIgARIgARIgARIgARIgARIgARIgARIgARKITYAJ2tioWJAESIAESIAESIAESIAESIAESIAESIAESIAESIAEKkuACdrK8qQ0EiABEiABEiABEiABEiABEiABEiABEiABEiABEohNgAna2KhYkARIgARIgARIgARIgARIgARIgARIgARIgARIgAQqS4AJ2srypDQSIAESIAESIAESIAESIAESIAESIAESIAESIAESiE2ACdrYqFiQBEiABEiABEiABEiABEiABEiABEiABEiABEiABCpLgAnayvKkNBIgARIgARIgARIgARIgARIgARIgARIgARIgARKITYAJ2tioWJAESIAESIAESIAESIAESIAESIAESIAESIAESIAEKkvg/wcLnOurlbuvuwAAAABJRU5ErkJggg==)"
      ]
    },
    {
      "cell_type": "markdown",
      "metadata": {
        "id": "JKvjEKWyhvf-",
        "colab_type": "text"
      },
      "source": [
        "## Axis Indexes with Duplicate Labels"
      ]
    },
    {
      "cell_type": "markdown",
      "metadata": {
        "id": "-YK2TFcqh8_T",
        "colab_type": "text"
      },
      "source": [
        "is_unique()可以查看这个东西是不是唯一的"
      ]
    },
    {
      "cell_type": "code",
      "metadata": {
        "id": "rD2BM2szhUgM",
        "colab_type": "code",
        "colab": {
          "base_uri": "https://localhost:8080/",
          "height": 118
        },
        "outputId": "7348bd41-b0b8-4752-b46e-564d4015fe18"
      },
      "source": [
        "obj = pd.Series(range(5), index=['a', 'a', 'b', 'b', 'c'])\n",
        "obj"
      ],
      "execution_count": 81,
      "outputs": [
        {
          "output_type": "execute_result",
          "data": {
            "text/plain": [
              "a    0\n",
              "a    1\n",
              "b    2\n",
              "b    3\n",
              "c    4\n",
              "dtype: int64"
            ]
          },
          "metadata": {
            "tags": []
          },
          "execution_count": 81
        }
      ]
    },
    {
      "cell_type": "code",
      "metadata": {
        "id": "p61elowoiExa",
        "colab_type": "code",
        "colab": {
          "base_uri": "https://localhost:8080/",
          "height": 34
        },
        "outputId": "54642f4a-07ed-4ade-9cfd-86ebfe57a5f1"
      },
      "source": [
        "obj.index.is_unique #上面能看到，index有重复的a和b，所以这个index不是unique的"
      ],
      "execution_count": 83,
      "outputs": [
        {
          "output_type": "execute_result",
          "data": {
            "text/plain": [
              "False"
            ]
          },
          "metadata": {
            "tags": []
          },
          "execution_count": 83
        }
      ]
    },
    {
      "cell_type": "code",
      "metadata": {
        "id": "Tdk0adD-iHxY",
        "colab_type": "code",
        "colab": {}
      },
      "source": [
        ""
      ],
      "execution_count": null,
      "outputs": []
    }
  ]
}