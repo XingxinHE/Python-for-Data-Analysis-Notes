{
  "nbformat": 4,
  "nbformat_minor": 0,
  "metadata": {
    "colab": {
      "name": "8.2 Combining and Merging Datasets",
      "provenance": [],
      "collapsed_sections": [],
      "authorship_tag": "ABX9TyNrp+ZnBgwDpnyyL8AqAWY9",
      "include_colab_link": true
    },
    "kernelspec": {
      "name": "python3",
      "display_name": "Python 3"
    },
    "accelerator": "GPU"
  },
  "cells": [
    {
      "cell_type": "markdown",
      "metadata": {
        "id": "view-in-github",
        "colab_type": "text"
      },
      "source": [
        "<a href=\"https://colab.research.google.com/github/XingxinHE/Python-for-Data-Analysis-Notes/blob/master/8_2_Combining_and_Merging_Datasets.ipynb\" target=\"_parent\"><img src=\"https://colab.research.google.com/assets/colab-badge.svg\" alt=\"Open In Colab\"/></a>"
      ]
    },
    {
      "cell_type": "code",
      "metadata": {
        "id": "z2-FuZgOQUN4",
        "colab_type": "code",
        "colab": {}
      },
      "source": [
        "import pandas as pd\n",
        "import numpy as np\n"
      ],
      "execution_count": 1,
      "outputs": []
    },
    {
      "cell_type": "code",
      "metadata": {
        "id": "cBl10dmtuWhz",
        "colab_type": "code",
        "colab": {}
      },
      "source": [
        "import torch"
      ],
      "execution_count": 2,
      "outputs": []
    },
    {
      "cell_type": "code",
      "metadata": {
        "id": "RFSrTbNtucPn",
        "colab_type": "code",
        "colab": {
          "base_uri": "https://localhost:8080/",
          "height": 34
        },
        "outputId": "506238c8-a760-4048-eb2c-28a4f2e16d5d"
      },
      "source": [
        "torch.cuda.is_available()"
      ],
      "execution_count": 3,
      "outputs": [
        {
          "output_type": "execute_result",
          "data": {
            "text/plain": [
              "True"
            ]
          },
          "metadata": {
            "tags": []
          },
          "execution_count": 3
        }
      ]
    },
    {
      "cell_type": "markdown",
      "metadata": {
        "id": "QlSW7CfUQoiO",
        "colab_type": "text"
      },
      "source": [
        "## Database-Style DataFrame Joins"
      ]
    },
    {
      "cell_type": "code",
      "metadata": {
        "id": "mLSYXDL4Qixg",
        "colab_type": "code",
        "colab": {
          "base_uri": "https://localhost:8080/",
          "height": 254
        },
        "outputId": "cbba2c23-220c-46ea-d8a5-83270ef24947"
      },
      "source": [
        "df1 = pd.DataFrame({'key': ['b', 'b', 'a', 'c', 'a', 'a', 'b'],\n",
        "          'data1': range(7)})\n",
        "df2 = pd.DataFrame({'key': ['a', 'b', 'd'],\n",
        "          'data2': range(3)})\n",
        "df1"
      ],
      "execution_count": 4,
      "outputs": [
        {
          "output_type": "execute_result",
          "data": {
            "text/html": [
              "<div>\n",
              "<style scoped>\n",
              "    .dataframe tbody tr th:only-of-type {\n",
              "        vertical-align: middle;\n",
              "    }\n",
              "\n",
              "    .dataframe tbody tr th {\n",
              "        vertical-align: top;\n",
              "    }\n",
              "\n",
              "    .dataframe thead th {\n",
              "        text-align: right;\n",
              "    }\n",
              "</style>\n",
              "<table border=\"1\" class=\"dataframe\">\n",
              "  <thead>\n",
              "    <tr style=\"text-align: right;\">\n",
              "      <th></th>\n",
              "      <th>key</th>\n",
              "      <th>data1</th>\n",
              "    </tr>\n",
              "  </thead>\n",
              "  <tbody>\n",
              "    <tr>\n",
              "      <th>0</th>\n",
              "      <td>b</td>\n",
              "      <td>0</td>\n",
              "    </tr>\n",
              "    <tr>\n",
              "      <th>1</th>\n",
              "      <td>b</td>\n",
              "      <td>1</td>\n",
              "    </tr>\n",
              "    <tr>\n",
              "      <th>2</th>\n",
              "      <td>a</td>\n",
              "      <td>2</td>\n",
              "    </tr>\n",
              "    <tr>\n",
              "      <th>3</th>\n",
              "      <td>c</td>\n",
              "      <td>3</td>\n",
              "    </tr>\n",
              "    <tr>\n",
              "      <th>4</th>\n",
              "      <td>a</td>\n",
              "      <td>4</td>\n",
              "    </tr>\n",
              "    <tr>\n",
              "      <th>5</th>\n",
              "      <td>a</td>\n",
              "      <td>5</td>\n",
              "    </tr>\n",
              "    <tr>\n",
              "      <th>6</th>\n",
              "      <td>b</td>\n",
              "      <td>6</td>\n",
              "    </tr>\n",
              "  </tbody>\n",
              "</table>\n",
              "</div>"
            ],
            "text/plain": [
              "  key  data1\n",
              "0   b      0\n",
              "1   b      1\n",
              "2   a      2\n",
              "3   c      3\n",
              "4   a      4\n",
              "5   a      5\n",
              "6   b      6"
            ]
          },
          "metadata": {
            "tags": []
          },
          "execution_count": 4
        }
      ]
    },
    {
      "cell_type": "code",
      "metadata": {
        "id": "MboKOBbEVHVX",
        "colab_type": "code",
        "colab": {
          "base_uri": "https://localhost:8080/",
          "height": 136
        },
        "outputId": "e38790ae-ec9a-4e84-e6c9-7c17c3aebd3c"
      },
      "source": [
        "df2"
      ],
      "execution_count": 5,
      "outputs": [
        {
          "output_type": "execute_result",
          "data": {
            "text/html": [
              "<div>\n",
              "<style scoped>\n",
              "    .dataframe tbody tr th:only-of-type {\n",
              "        vertical-align: middle;\n",
              "    }\n",
              "\n",
              "    .dataframe tbody tr th {\n",
              "        vertical-align: top;\n",
              "    }\n",
              "\n",
              "    .dataframe thead th {\n",
              "        text-align: right;\n",
              "    }\n",
              "</style>\n",
              "<table border=\"1\" class=\"dataframe\">\n",
              "  <thead>\n",
              "    <tr style=\"text-align: right;\">\n",
              "      <th></th>\n",
              "      <th>key</th>\n",
              "      <th>data2</th>\n",
              "    </tr>\n",
              "  </thead>\n",
              "  <tbody>\n",
              "    <tr>\n",
              "      <th>0</th>\n",
              "      <td>a</td>\n",
              "      <td>0</td>\n",
              "    </tr>\n",
              "    <tr>\n",
              "      <th>1</th>\n",
              "      <td>b</td>\n",
              "      <td>1</td>\n",
              "    </tr>\n",
              "    <tr>\n",
              "      <th>2</th>\n",
              "      <td>d</td>\n",
              "      <td>2</td>\n",
              "    </tr>\n",
              "  </tbody>\n",
              "</table>\n",
              "</div>"
            ],
            "text/plain": [
              "  key  data2\n",
              "0   a      0\n",
              "1   b      1\n",
              "2   d      2"
            ]
          },
          "metadata": {
            "tags": []
          },
          "execution_count": 5
        }
      ]
    },
    {
      "cell_type": "code",
      "metadata": {
        "id": "pCfLlc76VHzR",
        "colab_type": "code",
        "colab": {
          "base_uri": "https://localhost:8080/",
          "height": 225
        },
        "outputId": "7da37c92-c124-44b9-9718-e749ae45f27c"
      },
      "source": [
        "pd.merge(df1, df2) #默认情况是对overlapped的column进行merge"
      ],
      "execution_count": 6,
      "outputs": [
        {
          "output_type": "execute_result",
          "data": {
            "text/html": [
              "<div>\n",
              "<style scoped>\n",
              "    .dataframe tbody tr th:only-of-type {\n",
              "        vertical-align: middle;\n",
              "    }\n",
              "\n",
              "    .dataframe tbody tr th {\n",
              "        vertical-align: top;\n",
              "    }\n",
              "\n",
              "    .dataframe thead th {\n",
              "        text-align: right;\n",
              "    }\n",
              "</style>\n",
              "<table border=\"1\" class=\"dataframe\">\n",
              "  <thead>\n",
              "    <tr style=\"text-align: right;\">\n",
              "      <th></th>\n",
              "      <th>key</th>\n",
              "      <th>data1</th>\n",
              "      <th>data2</th>\n",
              "    </tr>\n",
              "  </thead>\n",
              "  <tbody>\n",
              "    <tr>\n",
              "      <th>0</th>\n",
              "      <td>b</td>\n",
              "      <td>0</td>\n",
              "      <td>1</td>\n",
              "    </tr>\n",
              "    <tr>\n",
              "      <th>1</th>\n",
              "      <td>b</td>\n",
              "      <td>1</td>\n",
              "      <td>1</td>\n",
              "    </tr>\n",
              "    <tr>\n",
              "      <th>2</th>\n",
              "      <td>b</td>\n",
              "      <td>6</td>\n",
              "      <td>1</td>\n",
              "    </tr>\n",
              "    <tr>\n",
              "      <th>3</th>\n",
              "      <td>a</td>\n",
              "      <td>2</td>\n",
              "      <td>0</td>\n",
              "    </tr>\n",
              "    <tr>\n",
              "      <th>4</th>\n",
              "      <td>a</td>\n",
              "      <td>4</td>\n",
              "      <td>0</td>\n",
              "    </tr>\n",
              "    <tr>\n",
              "      <th>5</th>\n",
              "      <td>a</td>\n",
              "      <td>5</td>\n",
              "      <td>0</td>\n",
              "    </tr>\n",
              "  </tbody>\n",
              "</table>\n",
              "</div>"
            ],
            "text/plain": [
              "  key  data1  data2\n",
              "0   b      0      1\n",
              "1   b      1      1\n",
              "2   b      6      1\n",
              "3   a      2      0\n",
              "4   a      4      0\n",
              "5   a      5      0"
            ]
          },
          "metadata": {
            "tags": []
          },
          "execution_count": 6
        }
      ]
    },
    {
      "cell_type": "markdown",
      "metadata": {
        "id": "P-7DVFvJYd_E",
        "colab_type": "text"
      },
      "source": [
        "怎么理解这个merge呢？\n",
        "\n",
        "对key看，只有b和a是重复的，所以只检索这两个。那么d就被排除了。\n",
        "\n",
        "data1 用 data1 的值， data2 用 data2 的值"
      ]
    },
    {
      "cell_type": "code",
      "metadata": {
        "id": "OELV8y9UWJJw",
        "colab_type": "code",
        "colab": {
          "base_uri": "https://localhost:8080/",
          "height": 225
        },
        "outputId": "9f7cb4a1-173d-423b-e991-695a3e33c26f"
      },
      "source": [
        "#所以最好还是像下面这样写出来比较稳妥\n",
        "pd.merge(df1, df2, on='key')"
      ],
      "execution_count": 7,
      "outputs": [
        {
          "output_type": "execute_result",
          "data": {
            "text/html": [
              "<div>\n",
              "<style scoped>\n",
              "    .dataframe tbody tr th:only-of-type {\n",
              "        vertical-align: middle;\n",
              "    }\n",
              "\n",
              "    .dataframe tbody tr th {\n",
              "        vertical-align: top;\n",
              "    }\n",
              "\n",
              "    .dataframe thead th {\n",
              "        text-align: right;\n",
              "    }\n",
              "</style>\n",
              "<table border=\"1\" class=\"dataframe\">\n",
              "  <thead>\n",
              "    <tr style=\"text-align: right;\">\n",
              "      <th></th>\n",
              "      <th>key</th>\n",
              "      <th>data1</th>\n",
              "      <th>data2</th>\n",
              "    </tr>\n",
              "  </thead>\n",
              "  <tbody>\n",
              "    <tr>\n",
              "      <th>0</th>\n",
              "      <td>b</td>\n",
              "      <td>0</td>\n",
              "      <td>1</td>\n",
              "    </tr>\n",
              "    <tr>\n",
              "      <th>1</th>\n",
              "      <td>b</td>\n",
              "      <td>1</td>\n",
              "      <td>1</td>\n",
              "    </tr>\n",
              "    <tr>\n",
              "      <th>2</th>\n",
              "      <td>b</td>\n",
              "      <td>6</td>\n",
              "      <td>1</td>\n",
              "    </tr>\n",
              "    <tr>\n",
              "      <th>3</th>\n",
              "      <td>a</td>\n",
              "      <td>2</td>\n",
              "      <td>0</td>\n",
              "    </tr>\n",
              "    <tr>\n",
              "      <th>4</th>\n",
              "      <td>a</td>\n",
              "      <td>4</td>\n",
              "      <td>0</td>\n",
              "    </tr>\n",
              "    <tr>\n",
              "      <th>5</th>\n",
              "      <td>a</td>\n",
              "      <td>5</td>\n",
              "      <td>0</td>\n",
              "    </tr>\n",
              "  </tbody>\n",
              "</table>\n",
              "</div>"
            ],
            "text/plain": [
              "  key  data1  data2\n",
              "0   b      0      1\n",
              "1   b      1      1\n",
              "2   b      6      1\n",
              "3   a      2      0\n",
              "4   a      4      0\n",
              "5   a      5      0"
            ]
          },
          "metadata": {
            "tags": []
          },
          "execution_count": 7
        }
      ]
    },
    {
      "cell_type": "markdown",
      "metadata": {
        "id": "AOfU4QasCH3F",
        "colab_type": "text"
      },
      "source": [
        "默认情况下，merge是用inner方法，也就是说value做的是intersection\n",
        "\n",
        "相对的，outer就是union"
      ]
    },
    {
      "cell_type": "code",
      "metadata": {
        "id": "61SeqTO9YID3",
        "colab_type": "code",
        "colab": {
          "base_uri": "https://localhost:8080/",
          "height": 284
        },
        "outputId": "ba7e4807-0b74-4a64-87d2-bbf72b7d55a0"
      },
      "source": [
        "pd.merge(df1, df2, on='key', how='outer')\n",
        "#但注意不是DF1有多少个，DF2有多少个，加起来就多少个\n",
        "#因为是union，所以重复的就不会出现"
      ],
      "execution_count": 10,
      "outputs": [
        {
          "output_type": "execute_result",
          "data": {
            "text/html": [
              "<div>\n",
              "<style scoped>\n",
              "    .dataframe tbody tr th:only-of-type {\n",
              "        vertical-align: middle;\n",
              "    }\n",
              "\n",
              "    .dataframe tbody tr th {\n",
              "        vertical-align: top;\n",
              "    }\n",
              "\n",
              "    .dataframe thead th {\n",
              "        text-align: right;\n",
              "    }\n",
              "</style>\n",
              "<table border=\"1\" class=\"dataframe\">\n",
              "  <thead>\n",
              "    <tr style=\"text-align: right;\">\n",
              "      <th></th>\n",
              "      <th>key</th>\n",
              "      <th>data1</th>\n",
              "      <th>data2</th>\n",
              "    </tr>\n",
              "  </thead>\n",
              "  <tbody>\n",
              "    <tr>\n",
              "      <th>0</th>\n",
              "      <td>b</td>\n",
              "      <td>0.0</td>\n",
              "      <td>1.0</td>\n",
              "    </tr>\n",
              "    <tr>\n",
              "      <th>1</th>\n",
              "      <td>b</td>\n",
              "      <td>1.0</td>\n",
              "      <td>1.0</td>\n",
              "    </tr>\n",
              "    <tr>\n",
              "      <th>2</th>\n",
              "      <td>b</td>\n",
              "      <td>6.0</td>\n",
              "      <td>1.0</td>\n",
              "    </tr>\n",
              "    <tr>\n",
              "      <th>3</th>\n",
              "      <td>a</td>\n",
              "      <td>2.0</td>\n",
              "      <td>0.0</td>\n",
              "    </tr>\n",
              "    <tr>\n",
              "      <th>4</th>\n",
              "      <td>a</td>\n",
              "      <td>4.0</td>\n",
              "      <td>0.0</td>\n",
              "    </tr>\n",
              "    <tr>\n",
              "      <th>5</th>\n",
              "      <td>a</td>\n",
              "      <td>5.0</td>\n",
              "      <td>0.0</td>\n",
              "    </tr>\n",
              "    <tr>\n",
              "      <th>6</th>\n",
              "      <td>c</td>\n",
              "      <td>3.0</td>\n",
              "      <td>NaN</td>\n",
              "    </tr>\n",
              "    <tr>\n",
              "      <th>7</th>\n",
              "      <td>d</td>\n",
              "      <td>NaN</td>\n",
              "      <td>2.0</td>\n",
              "    </tr>\n",
              "  </tbody>\n",
              "</table>\n",
              "</div>"
            ],
            "text/plain": [
              "  key  data1  data2\n",
              "0   b    0.0    1.0\n",
              "1   b    1.0    1.0\n",
              "2   b    6.0    1.0\n",
              "3   a    2.0    0.0\n",
              "4   a    4.0    0.0\n",
              "5   a    5.0    0.0\n",
              "6   c    3.0    NaN\n",
              "7   d    NaN    2.0"
            ]
          },
          "metadata": {
            "tags": []
          },
          "execution_count": 10
        }
      ]
    },
    {
      "cell_type": "markdown",
      "metadata": {
        "id": "lUX5WazODt_7",
        "colab_type": "text"
      },
      "source": [
        "若想两边都不同的key，那么可以specify：\n",
        "\n",
        "left_on,  right_on"
      ]
    },
    {
      "cell_type": "code",
      "metadata": {
        "id": "rHtj8t73CnRA",
        "colab_type": "code",
        "colab": {
          "base_uri": "https://localhost:8080/",
          "height": 225
        },
        "outputId": "43cc7126-3ea0-4562-af5b-1a99498e5e63"
      },
      "source": [
        "df3 = pd.DataFrame({'lkey': ['b', 'b', 'a', 'c', 'a', 'a', 'b'],\n",
        "          'data1': range(7)})\n",
        "df4 = pd.DataFrame({'rkey': ['a', 'b', 'd'],\n",
        "          'data2': range(3)})\n",
        "\n",
        "pd.merge(df3, df4, left_on='lkey', right_on='rkey')"
      ],
      "execution_count": 11,
      "outputs": [
        {
          "output_type": "execute_result",
          "data": {
            "text/html": [
              "<div>\n",
              "<style scoped>\n",
              "    .dataframe tbody tr th:only-of-type {\n",
              "        vertical-align: middle;\n",
              "    }\n",
              "\n",
              "    .dataframe tbody tr th {\n",
              "        vertical-align: top;\n",
              "    }\n",
              "\n",
              "    .dataframe thead th {\n",
              "        text-align: right;\n",
              "    }\n",
              "</style>\n",
              "<table border=\"1\" class=\"dataframe\">\n",
              "  <thead>\n",
              "    <tr style=\"text-align: right;\">\n",
              "      <th></th>\n",
              "      <th>lkey</th>\n",
              "      <th>data1</th>\n",
              "      <th>rkey</th>\n",
              "      <th>data2</th>\n",
              "    </tr>\n",
              "  </thead>\n",
              "  <tbody>\n",
              "    <tr>\n",
              "      <th>0</th>\n",
              "      <td>b</td>\n",
              "      <td>0</td>\n",
              "      <td>b</td>\n",
              "      <td>1</td>\n",
              "    </tr>\n",
              "    <tr>\n",
              "      <th>1</th>\n",
              "      <td>b</td>\n",
              "      <td>1</td>\n",
              "      <td>b</td>\n",
              "      <td>1</td>\n",
              "    </tr>\n",
              "    <tr>\n",
              "      <th>2</th>\n",
              "      <td>b</td>\n",
              "      <td>6</td>\n",
              "      <td>b</td>\n",
              "      <td>1</td>\n",
              "    </tr>\n",
              "    <tr>\n",
              "      <th>3</th>\n",
              "      <td>a</td>\n",
              "      <td>2</td>\n",
              "      <td>a</td>\n",
              "      <td>0</td>\n",
              "    </tr>\n",
              "    <tr>\n",
              "      <th>4</th>\n",
              "      <td>a</td>\n",
              "      <td>4</td>\n",
              "      <td>a</td>\n",
              "      <td>0</td>\n",
              "    </tr>\n",
              "    <tr>\n",
              "      <th>5</th>\n",
              "      <td>a</td>\n",
              "      <td>5</td>\n",
              "      <td>a</td>\n",
              "      <td>0</td>\n",
              "    </tr>\n",
              "  </tbody>\n",
              "</table>\n",
              "</div>"
            ],
            "text/plain": [
              "  lkey  data1 rkey  data2\n",
              "0    b      0    b      1\n",
              "1    b      1    b      1\n",
              "2    b      6    b      1\n",
              "3    a      2    a      0\n",
              "4    a      4    a      0\n",
              "5    a      5    a      0"
            ]
          },
          "metadata": {
            "tags": []
          },
          "execution_count": 11
        }
      ]
    },
    {
      "cell_type": "markdown",
      "metadata": {
        "id": "DGYR30ydEkIu",
        "colab_type": "text"
      },
      "source": [
        "还有一种叫做many-to-many（多对多）连接的方法"
      ]
    },
    {
      "cell_type": "code",
      "metadata": {
        "id": "LOAKaurVDqdD",
        "colab_type": "code",
        "colab": {
          "base_uri": "https://localhost:8080/",
          "height": 254
        },
        "outputId": "26a62500-cee7-4421-ff58-c30a7e45b641"
      },
      "source": [
        "pd.merge(df1, df2, on='key', how='left')\n",
        "#因为df1有3个b，df2有2个b，所以点积是6个，所以有6个b"
      ],
      "execution_count": 12,
      "outputs": [
        {
          "output_type": "execute_result",
          "data": {
            "text/html": [
              "<div>\n",
              "<style scoped>\n",
              "    .dataframe tbody tr th:only-of-type {\n",
              "        vertical-align: middle;\n",
              "    }\n",
              "\n",
              "    .dataframe tbody tr th {\n",
              "        vertical-align: top;\n",
              "    }\n",
              "\n",
              "    .dataframe thead th {\n",
              "        text-align: right;\n",
              "    }\n",
              "</style>\n",
              "<table border=\"1\" class=\"dataframe\">\n",
              "  <thead>\n",
              "    <tr style=\"text-align: right;\">\n",
              "      <th></th>\n",
              "      <th>key</th>\n",
              "      <th>data1</th>\n",
              "      <th>data2</th>\n",
              "    </tr>\n",
              "  </thead>\n",
              "  <tbody>\n",
              "    <tr>\n",
              "      <th>0</th>\n",
              "      <td>b</td>\n",
              "      <td>0</td>\n",
              "      <td>1.0</td>\n",
              "    </tr>\n",
              "    <tr>\n",
              "      <th>1</th>\n",
              "      <td>b</td>\n",
              "      <td>1</td>\n",
              "      <td>1.0</td>\n",
              "    </tr>\n",
              "    <tr>\n",
              "      <th>2</th>\n",
              "      <td>a</td>\n",
              "      <td>2</td>\n",
              "      <td>0.0</td>\n",
              "    </tr>\n",
              "    <tr>\n",
              "      <th>3</th>\n",
              "      <td>c</td>\n",
              "      <td>3</td>\n",
              "      <td>NaN</td>\n",
              "    </tr>\n",
              "    <tr>\n",
              "      <th>4</th>\n",
              "      <td>a</td>\n",
              "      <td>4</td>\n",
              "      <td>0.0</td>\n",
              "    </tr>\n",
              "    <tr>\n",
              "      <th>5</th>\n",
              "      <td>a</td>\n",
              "      <td>5</td>\n",
              "      <td>0.0</td>\n",
              "    </tr>\n",
              "    <tr>\n",
              "      <th>6</th>\n",
              "      <td>b</td>\n",
              "      <td>6</td>\n",
              "      <td>1.0</td>\n",
              "    </tr>\n",
              "  </tbody>\n",
              "</table>\n",
              "</div>"
            ],
            "text/plain": [
              "  key  data1  data2\n",
              "0   b      0    1.0\n",
              "1   b      1    1.0\n",
              "2   a      2    0.0\n",
              "3   c      3    NaN\n",
              "4   a      4    0.0\n",
              "5   a      5    0.0\n",
              "6   b      6    1.0"
            ]
          },
          "metadata": {
            "tags": []
          },
          "execution_count": 12
        }
      ]
    },
    {
      "cell_type": "markdown",
      "metadata": {
        "id": "S-BPG8XhFx3C",
        "colab_type": "text"
      },
      "source": [
        "要根据多个键进行合并，传入一个由key组成的list即可"
      ]
    },
    {
      "cell_type": "code",
      "metadata": {
        "id": "CxXFIsQJFhbu",
        "colab_type": "code",
        "colab": {
          "base_uri": "https://localhost:8080/",
          "height": 195
        },
        "outputId": "2180da46-3d79-45f3-aba7-b44989d755a9"
      },
      "source": [
        "left = pd.DataFrame({'key1': ['foo', 'foo', 'bar'],\n",
        "            'key2': ['one', 'two', 'one'],\n",
        "            'lval': [1, 2, 3]})\n",
        "right = pd.DataFrame({'key1': ['foo', 'foo', 'bar', 'bar'],\n",
        "            'key2': ['one', 'one', 'one', 'two'],\n",
        "            'rval': [4, 5, 6, 7]})\n",
        "pd.merge(left, right, on=['key1','key2'], how='outer')"
      ],
      "execution_count": 13,
      "outputs": [
        {
          "output_type": "execute_result",
          "data": {
            "text/html": [
              "<div>\n",
              "<style scoped>\n",
              "    .dataframe tbody tr th:only-of-type {\n",
              "        vertical-align: middle;\n",
              "    }\n",
              "\n",
              "    .dataframe tbody tr th {\n",
              "        vertical-align: top;\n",
              "    }\n",
              "\n",
              "    .dataframe thead th {\n",
              "        text-align: right;\n",
              "    }\n",
              "</style>\n",
              "<table border=\"1\" class=\"dataframe\">\n",
              "  <thead>\n",
              "    <tr style=\"text-align: right;\">\n",
              "      <th></th>\n",
              "      <th>key1</th>\n",
              "      <th>key2</th>\n",
              "      <th>lval</th>\n",
              "      <th>rval</th>\n",
              "    </tr>\n",
              "  </thead>\n",
              "  <tbody>\n",
              "    <tr>\n",
              "      <th>0</th>\n",
              "      <td>foo</td>\n",
              "      <td>one</td>\n",
              "      <td>1.0</td>\n",
              "      <td>4.0</td>\n",
              "    </tr>\n",
              "    <tr>\n",
              "      <th>1</th>\n",
              "      <td>foo</td>\n",
              "      <td>one</td>\n",
              "      <td>1.0</td>\n",
              "      <td>5.0</td>\n",
              "    </tr>\n",
              "    <tr>\n",
              "      <th>2</th>\n",
              "      <td>foo</td>\n",
              "      <td>two</td>\n",
              "      <td>2.0</td>\n",
              "      <td>NaN</td>\n",
              "    </tr>\n",
              "    <tr>\n",
              "      <th>3</th>\n",
              "      <td>bar</td>\n",
              "      <td>one</td>\n",
              "      <td>3.0</td>\n",
              "      <td>6.0</td>\n",
              "    </tr>\n",
              "    <tr>\n",
              "      <th>4</th>\n",
              "      <td>bar</td>\n",
              "      <td>two</td>\n",
              "      <td>NaN</td>\n",
              "      <td>7.0</td>\n",
              "    </tr>\n",
              "  </tbody>\n",
              "</table>\n",
              "</div>"
            ],
            "text/plain": [
              "  key1 key2  lval  rval\n",
              "0  foo  one   1.0   4.0\n",
              "1  foo  one   1.0   5.0\n",
              "2  foo  two   2.0   NaN\n",
              "3  bar  one   3.0   6.0\n",
              "4  bar  two   NaN   7.0"
            ]
          },
          "metadata": {
            "tags": []
          },
          "execution_count": 13
        }
      ]
    },
    {
      "cell_type": "markdown",
      "metadata": {
        "id": "M-ShUltsGXYL",
        "colab_type": "text"
      },
      "source": [
        "suffixes= 是当我们有两个键值一样的df，不像上面那样是对两个key都处理的话，则会出现_x, _y这种情况"
      ]
    },
    {
      "cell_type": "code",
      "metadata": {
        "id": "jEUi3HVWGMji",
        "colab_type": "code",
        "colab": {
          "base_uri": "https://localhost:8080/",
          "height": 225
        },
        "outputId": "3a4fc6f0-795c-457e-f0eb-65890d6600ed"
      },
      "source": [
        "pd.merge(left, right, on='key1')\n",
        "#因为on='key1'，也就是说都对齐key1,那么只有一个key1,因为左边和右边都有key2，所以key2会出现_x(左)，_y（右）"
      ],
      "execution_count": 15,
      "outputs": [
        {
          "output_type": "execute_result",
          "data": {
            "text/html": [
              "<div>\n",
              "<style scoped>\n",
              "    .dataframe tbody tr th:only-of-type {\n",
              "        vertical-align: middle;\n",
              "    }\n",
              "\n",
              "    .dataframe tbody tr th {\n",
              "        vertical-align: top;\n",
              "    }\n",
              "\n",
              "    .dataframe thead th {\n",
              "        text-align: right;\n",
              "    }\n",
              "</style>\n",
              "<table border=\"1\" class=\"dataframe\">\n",
              "  <thead>\n",
              "    <tr style=\"text-align: right;\">\n",
              "      <th></th>\n",
              "      <th>key1</th>\n",
              "      <th>key2_x</th>\n",
              "      <th>lval</th>\n",
              "      <th>key2_y</th>\n",
              "      <th>rval</th>\n",
              "    </tr>\n",
              "  </thead>\n",
              "  <tbody>\n",
              "    <tr>\n",
              "      <th>0</th>\n",
              "      <td>foo</td>\n",
              "      <td>one</td>\n",
              "      <td>1</td>\n",
              "      <td>one</td>\n",
              "      <td>4</td>\n",
              "    </tr>\n",
              "    <tr>\n",
              "      <th>1</th>\n",
              "      <td>foo</td>\n",
              "      <td>one</td>\n",
              "      <td>1</td>\n",
              "      <td>one</td>\n",
              "      <td>5</td>\n",
              "    </tr>\n",
              "    <tr>\n",
              "      <th>2</th>\n",
              "      <td>foo</td>\n",
              "      <td>two</td>\n",
              "      <td>2</td>\n",
              "      <td>one</td>\n",
              "      <td>4</td>\n",
              "    </tr>\n",
              "    <tr>\n",
              "      <th>3</th>\n",
              "      <td>foo</td>\n",
              "      <td>two</td>\n",
              "      <td>2</td>\n",
              "      <td>one</td>\n",
              "      <td>5</td>\n",
              "    </tr>\n",
              "    <tr>\n",
              "      <th>4</th>\n",
              "      <td>bar</td>\n",
              "      <td>one</td>\n",
              "      <td>3</td>\n",
              "      <td>one</td>\n",
              "      <td>6</td>\n",
              "    </tr>\n",
              "    <tr>\n",
              "      <th>5</th>\n",
              "      <td>bar</td>\n",
              "      <td>one</td>\n",
              "      <td>3</td>\n",
              "      <td>two</td>\n",
              "      <td>7</td>\n",
              "    </tr>\n",
              "  </tbody>\n",
              "</table>\n",
              "</div>"
            ],
            "text/plain": [
              "  key1 key2_x  lval key2_y  rval\n",
              "0  foo    one     1    one     4\n",
              "1  foo    one     1    one     5\n",
              "2  foo    two     2    one     4\n",
              "3  foo    two     2    one     5\n",
              "4  bar    one     3    one     6\n",
              "5  bar    one     3    two     7"
            ]
          },
          "metadata": {
            "tags": []
          },
          "execution_count": 15
        }
      ]
    },
    {
      "cell_type": "code",
      "metadata": {
        "id": "3opHJ7oZGmy0",
        "colab_type": "code",
        "colab": {
          "base_uri": "https://localhost:8080/",
          "height": 225
        },
        "outputId": "6c7fc82b-27de-433a-8cd6-aa2dafa42ab6"
      },
      "source": [
        "pd.merge(left, right, on='key1', suffixes=('_left', '_right'))"
      ],
      "execution_count": 16,
      "outputs": [
        {
          "output_type": "execute_result",
          "data": {
            "text/html": [
              "<div>\n",
              "<style scoped>\n",
              "    .dataframe tbody tr th:only-of-type {\n",
              "        vertical-align: middle;\n",
              "    }\n",
              "\n",
              "    .dataframe tbody tr th {\n",
              "        vertical-align: top;\n",
              "    }\n",
              "\n",
              "    .dataframe thead th {\n",
              "        text-align: right;\n",
              "    }\n",
              "</style>\n",
              "<table border=\"1\" class=\"dataframe\">\n",
              "  <thead>\n",
              "    <tr style=\"text-align: right;\">\n",
              "      <th></th>\n",
              "      <th>key1</th>\n",
              "      <th>key2_left</th>\n",
              "      <th>lval</th>\n",
              "      <th>key2_right</th>\n",
              "      <th>rval</th>\n",
              "    </tr>\n",
              "  </thead>\n",
              "  <tbody>\n",
              "    <tr>\n",
              "      <th>0</th>\n",
              "      <td>foo</td>\n",
              "      <td>one</td>\n",
              "      <td>1</td>\n",
              "      <td>one</td>\n",
              "      <td>4</td>\n",
              "    </tr>\n",
              "    <tr>\n",
              "      <th>1</th>\n",
              "      <td>foo</td>\n",
              "      <td>one</td>\n",
              "      <td>1</td>\n",
              "      <td>one</td>\n",
              "      <td>5</td>\n",
              "    </tr>\n",
              "    <tr>\n",
              "      <th>2</th>\n",
              "      <td>foo</td>\n",
              "      <td>two</td>\n",
              "      <td>2</td>\n",
              "      <td>one</td>\n",
              "      <td>4</td>\n",
              "    </tr>\n",
              "    <tr>\n",
              "      <th>3</th>\n",
              "      <td>foo</td>\n",
              "      <td>two</td>\n",
              "      <td>2</td>\n",
              "      <td>one</td>\n",
              "      <td>5</td>\n",
              "    </tr>\n",
              "    <tr>\n",
              "      <th>4</th>\n",
              "      <td>bar</td>\n",
              "      <td>one</td>\n",
              "      <td>3</td>\n",
              "      <td>one</td>\n",
              "      <td>6</td>\n",
              "    </tr>\n",
              "    <tr>\n",
              "      <th>5</th>\n",
              "      <td>bar</td>\n",
              "      <td>one</td>\n",
              "      <td>3</td>\n",
              "      <td>two</td>\n",
              "      <td>7</td>\n",
              "    </tr>\n",
              "  </tbody>\n",
              "</table>\n",
              "</div>"
            ],
            "text/plain": [
              "  key1 key2_left  lval key2_right  rval\n",
              "0  foo       one     1        one     4\n",
              "1  foo       one     1        one     5\n",
              "2  foo       two     2        one     4\n",
              "3  foo       two     2        one     5\n",
              "4  bar       one     3        one     6\n",
              "5  bar       one     3        two     7"
            ]
          },
          "metadata": {
            "tags": []
          },
          "execution_count": 16
        }
      ]
    },
    {
      "cell_type": "markdown",
      "metadata": {
        "id": "MKbZ-CZcHfhq",
        "colab_type": "text"
      },
      "source": [
        "![image.png](data:image/png;base64,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)"
      ]
    },
    {
      "cell_type": "markdown",
      "metadata": {
        "id": "8Zl2OtYqHnQQ",
        "colab_type": "text"
      },
      "source": [
        "## Merging on Index"
      ]
    },
    {
      "cell_type": "code",
      "metadata": {
        "id": "W--OgifAHHea",
        "colab_type": "code",
        "colab": {}
      },
      "source": [
        "left1 = pd.DataFrame({'key': ['a', 'b', 'a', 'a', 'b', 'c'],\n",
        "            'value': range(6)})\n",
        "right1 = pd.DataFrame({'group_val': [3.5, 7]}, index=['a', 'b'])"
      ],
      "execution_count": 17,
      "outputs": []
    },
    {
      "cell_type": "code",
      "metadata": {
        "id": "vKsKPS4fHyvB",
        "colab_type": "code",
        "colab": {
          "base_uri": "https://localhost:8080/",
          "height": 225
        },
        "outputId": "a70e16b2-3b72-469a-ccfa-4605d92a84b0"
      },
      "source": [
        "left1"
      ],
      "execution_count": 18,
      "outputs": [
        {
          "output_type": "execute_result",
          "data": {
            "text/html": [
              "<div>\n",
              "<style scoped>\n",
              "    .dataframe tbody tr th:only-of-type {\n",
              "        vertical-align: middle;\n",
              "    }\n",
              "\n",
              "    .dataframe tbody tr th {\n",
              "        vertical-align: top;\n",
              "    }\n",
              "\n",
              "    .dataframe thead th {\n",
              "        text-align: right;\n",
              "    }\n",
              "</style>\n",
              "<table border=\"1\" class=\"dataframe\">\n",
              "  <thead>\n",
              "    <tr style=\"text-align: right;\">\n",
              "      <th></th>\n",
              "      <th>key</th>\n",
              "      <th>value</th>\n",
              "    </tr>\n",
              "  </thead>\n",
              "  <tbody>\n",
              "    <tr>\n",
              "      <th>0</th>\n",
              "      <td>a</td>\n",
              "      <td>0</td>\n",
              "    </tr>\n",
              "    <tr>\n",
              "      <th>1</th>\n",
              "      <td>b</td>\n",
              "      <td>1</td>\n",
              "    </tr>\n",
              "    <tr>\n",
              "      <th>2</th>\n",
              "      <td>a</td>\n",
              "      <td>2</td>\n",
              "    </tr>\n",
              "    <tr>\n",
              "      <th>3</th>\n",
              "      <td>a</td>\n",
              "      <td>3</td>\n",
              "    </tr>\n",
              "    <tr>\n",
              "      <th>4</th>\n",
              "      <td>b</td>\n",
              "      <td>4</td>\n",
              "    </tr>\n",
              "    <tr>\n",
              "      <th>5</th>\n",
              "      <td>c</td>\n",
              "      <td>5</td>\n",
              "    </tr>\n",
              "  </tbody>\n",
              "</table>\n",
              "</div>"
            ],
            "text/plain": [
              "  key  value\n",
              "0   a      0\n",
              "1   b      1\n",
              "2   a      2\n",
              "3   a      3\n",
              "4   b      4\n",
              "5   c      5"
            ]
          },
          "metadata": {
            "tags": []
          },
          "execution_count": 18
        }
      ]
    },
    {
      "cell_type": "code",
      "metadata": {
        "id": "6leVAgqeHzgI",
        "colab_type": "code",
        "colab": {
          "base_uri": "https://localhost:8080/",
          "height": 106
        },
        "outputId": "89b882be-c61a-437b-e58d-4b5cfbf23850"
      },
      "source": [
        "right1"
      ],
      "execution_count": 19,
      "outputs": [
        {
          "output_type": "execute_result",
          "data": {
            "text/html": [
              "<div>\n",
              "<style scoped>\n",
              "    .dataframe tbody tr th:only-of-type {\n",
              "        vertical-align: middle;\n",
              "    }\n",
              "\n",
              "    .dataframe tbody tr th {\n",
              "        vertical-align: top;\n",
              "    }\n",
              "\n",
              "    .dataframe thead th {\n",
              "        text-align: right;\n",
              "    }\n",
              "</style>\n",
              "<table border=\"1\" class=\"dataframe\">\n",
              "  <thead>\n",
              "    <tr style=\"text-align: right;\">\n",
              "      <th></th>\n",
              "      <th>group_val</th>\n",
              "    </tr>\n",
              "  </thead>\n",
              "  <tbody>\n",
              "    <tr>\n",
              "      <th>a</th>\n",
              "      <td>3.5</td>\n",
              "    </tr>\n",
              "    <tr>\n",
              "      <th>b</th>\n",
              "      <td>7.0</td>\n",
              "    </tr>\n",
              "  </tbody>\n",
              "</table>\n",
              "</div>"
            ],
            "text/plain": [
              "   group_val\n",
              "a        3.5\n",
              "b        7.0"
            ]
          },
          "metadata": {
            "tags": []
          },
          "execution_count": 19
        }
      ]
    },
    {
      "cell_type": "markdown",
      "metadata": {
        "id": "StM0MvQnKT1L",
        "colab_type": "text"
      },
      "source": [
        "有时候会碰到index和column的值merge，例如上面right1的index和left1的key column重叠"
      ]
    },
    {
      "cell_type": "code",
      "metadata": {
        "id": "pOja9nF8H0M-",
        "colab_type": "code",
        "colab": {
          "base_uri": "https://localhost:8080/",
          "height": 195
        },
        "outputId": "6bad2b60-4b3a-479c-b7eb-79c2a54936fa"
      },
      "source": [
        "#那么要这么做：\n",
        "pd.merge(left1, right1, left_on='key', right_index=True)\n",
        "#left_on指定是key，right_index打开，证明将右边的index拿去对齐"
      ],
      "execution_count": 20,
      "outputs": [
        {
          "output_type": "execute_result",
          "data": {
            "text/html": [
              "<div>\n",
              "<style scoped>\n",
              "    .dataframe tbody tr th:only-of-type {\n",
              "        vertical-align: middle;\n",
              "    }\n",
              "\n",
              "    .dataframe tbody tr th {\n",
              "        vertical-align: top;\n",
              "    }\n",
              "\n",
              "    .dataframe thead th {\n",
              "        text-align: right;\n",
              "    }\n",
              "</style>\n",
              "<table border=\"1\" class=\"dataframe\">\n",
              "  <thead>\n",
              "    <tr style=\"text-align: right;\">\n",
              "      <th></th>\n",
              "      <th>key</th>\n",
              "      <th>value</th>\n",
              "      <th>group_val</th>\n",
              "    </tr>\n",
              "  </thead>\n",
              "  <tbody>\n",
              "    <tr>\n",
              "      <th>0</th>\n",
              "      <td>a</td>\n",
              "      <td>0</td>\n",
              "      <td>3.5</td>\n",
              "    </tr>\n",
              "    <tr>\n",
              "      <th>2</th>\n",
              "      <td>a</td>\n",
              "      <td>2</td>\n",
              "      <td>3.5</td>\n",
              "    </tr>\n",
              "    <tr>\n",
              "      <th>3</th>\n",
              "      <td>a</td>\n",
              "      <td>3</td>\n",
              "      <td>3.5</td>\n",
              "    </tr>\n",
              "    <tr>\n",
              "      <th>1</th>\n",
              "      <td>b</td>\n",
              "      <td>1</td>\n",
              "      <td>7.0</td>\n",
              "    </tr>\n",
              "    <tr>\n",
              "      <th>4</th>\n",
              "      <td>b</td>\n",
              "      <td>4</td>\n",
              "      <td>7.0</td>\n",
              "    </tr>\n",
              "  </tbody>\n",
              "</table>\n",
              "</div>"
            ],
            "text/plain": [
              "  key  value  group_val\n",
              "0   a      0        3.5\n",
              "2   a      2        3.5\n",
              "3   a      3        3.5\n",
              "1   b      1        7.0\n",
              "4   b      4        7.0"
            ]
          },
          "metadata": {
            "tags": []
          },
          "execution_count": 20
        }
      ]
    },
    {
      "cell_type": "code",
      "metadata": {
        "id": "HL4FKrlnKzbq",
        "colab_type": "code",
        "colab": {
          "base_uri": "https://localhost:8080/",
          "height": 225
        },
        "outputId": "be076a46-1805-4e6e-8c54-27eb7a385c65"
      },
      "source": [
        "pd.merge(left1, right1, left_on='key', right_index=True, how='outer') #上面默认是inner，把how换成outer，即union所有东西"
      ],
      "execution_count": 22,
      "outputs": [
        {
          "output_type": "execute_result",
          "data": {
            "text/html": [
              "<div>\n",
              "<style scoped>\n",
              "    .dataframe tbody tr th:only-of-type {\n",
              "        vertical-align: middle;\n",
              "    }\n",
              "\n",
              "    .dataframe tbody tr th {\n",
              "        vertical-align: top;\n",
              "    }\n",
              "\n",
              "    .dataframe thead th {\n",
              "        text-align: right;\n",
              "    }\n",
              "</style>\n",
              "<table border=\"1\" class=\"dataframe\">\n",
              "  <thead>\n",
              "    <tr style=\"text-align: right;\">\n",
              "      <th></th>\n",
              "      <th>key</th>\n",
              "      <th>value</th>\n",
              "      <th>group_val</th>\n",
              "    </tr>\n",
              "  </thead>\n",
              "  <tbody>\n",
              "    <tr>\n",
              "      <th>0</th>\n",
              "      <td>a</td>\n",
              "      <td>0</td>\n",
              "      <td>3.5</td>\n",
              "    </tr>\n",
              "    <tr>\n",
              "      <th>2</th>\n",
              "      <td>a</td>\n",
              "      <td>2</td>\n",
              "      <td>3.5</td>\n",
              "    </tr>\n",
              "    <tr>\n",
              "      <th>3</th>\n",
              "      <td>a</td>\n",
              "      <td>3</td>\n",
              "      <td>3.5</td>\n",
              "    </tr>\n",
              "    <tr>\n",
              "      <th>1</th>\n",
              "      <td>b</td>\n",
              "      <td>1</td>\n",
              "      <td>7.0</td>\n",
              "    </tr>\n",
              "    <tr>\n",
              "      <th>4</th>\n",
              "      <td>b</td>\n",
              "      <td>4</td>\n",
              "      <td>7.0</td>\n",
              "    </tr>\n",
              "    <tr>\n",
              "      <th>5</th>\n",
              "      <td>c</td>\n",
              "      <td>5</td>\n",
              "      <td>NaN</td>\n",
              "    </tr>\n",
              "  </tbody>\n",
              "</table>\n",
              "</div>"
            ],
            "text/plain": [
              "  key  value  group_val\n",
              "0   a      0        3.5\n",
              "2   a      2        3.5\n",
              "3   a      3        3.5\n",
              "1   b      1        7.0\n",
              "4   b      4        7.0\n",
              "5   c      5        NaN"
            ]
          },
          "metadata": {
            "tags": []
          },
          "execution_count": 22
        }
      ]
    },
    {
      "cell_type": "markdown",
      "metadata": {
        "id": "iSdNyhbOLJbH",
        "colab_type": "text"
      },
      "source": [
        "hierarchically indexed data，这种会复杂点，但是也能操作"
      ]
    },
    {
      "cell_type": "code",
      "metadata": {
        "id": "G7kY_SH5K5ab",
        "colab_type": "code",
        "colab": {
          "base_uri": "https://localhost:8080/",
          "height": 195
        },
        "outputId": "c4bc8fd7-af1a-4264-c235-36b4f9f8737f"
      },
      "source": [
        "lefth = pd.DataFrame({'key1': ['Ohio', 'Ohio', 'Ohio',\n",
        "            'Nevada', 'Nevada'],\n",
        "            'key2': [2000, 2001, 2002, 2001, 2002],\n",
        "            'data': np.arange(5.)})\n",
        "righth = pd.DataFrame(np.arange(12).reshape((6, 2)),\n",
        "            index=[['Nevada', 'Nevada', 'Ohio', 'Ohio', 'Ohio', 'Ohio'],\n",
        "                [2001, 2000, 2000, 2000, 2001, 2002]],\n",
        "            columns=['event1', 'event2'])\n",
        "lefth"
      ],
      "execution_count": 23,
      "outputs": [
        {
          "output_type": "execute_result",
          "data": {
            "text/html": [
              "<div>\n",
              "<style scoped>\n",
              "    .dataframe tbody tr th:only-of-type {\n",
              "        vertical-align: middle;\n",
              "    }\n",
              "\n",
              "    .dataframe tbody tr th {\n",
              "        vertical-align: top;\n",
              "    }\n",
              "\n",
              "    .dataframe thead th {\n",
              "        text-align: right;\n",
              "    }\n",
              "</style>\n",
              "<table border=\"1\" class=\"dataframe\">\n",
              "  <thead>\n",
              "    <tr style=\"text-align: right;\">\n",
              "      <th></th>\n",
              "      <th>key1</th>\n",
              "      <th>key2</th>\n",
              "      <th>data</th>\n",
              "    </tr>\n",
              "  </thead>\n",
              "  <tbody>\n",
              "    <tr>\n",
              "      <th>0</th>\n",
              "      <td>Ohio</td>\n",
              "      <td>2000</td>\n",
              "      <td>0.0</td>\n",
              "    </tr>\n",
              "    <tr>\n",
              "      <th>1</th>\n",
              "      <td>Ohio</td>\n",
              "      <td>2001</td>\n",
              "      <td>1.0</td>\n",
              "    </tr>\n",
              "    <tr>\n",
              "      <th>2</th>\n",
              "      <td>Ohio</td>\n",
              "      <td>2002</td>\n",
              "      <td>2.0</td>\n",
              "    </tr>\n",
              "    <tr>\n",
              "      <th>3</th>\n",
              "      <td>Nevada</td>\n",
              "      <td>2001</td>\n",
              "      <td>3.0</td>\n",
              "    </tr>\n",
              "    <tr>\n",
              "      <th>4</th>\n",
              "      <td>Nevada</td>\n",
              "      <td>2002</td>\n",
              "      <td>4.0</td>\n",
              "    </tr>\n",
              "  </tbody>\n",
              "</table>\n",
              "</div>"
            ],
            "text/plain": [
              "     key1  key2  data\n",
              "0    Ohio  2000   0.0\n",
              "1    Ohio  2001   1.0\n",
              "2    Ohio  2002   2.0\n",
              "3  Nevada  2001   3.0\n",
              "4  Nevada  2002   4.0"
            ]
          },
          "metadata": {
            "tags": []
          },
          "execution_count": 23
        }
      ]
    },
    {
      "cell_type": "code",
      "metadata": {
        "id": "sIg5byNZLjp0",
        "colab_type": "code",
        "colab": {
          "base_uri": "https://localhost:8080/",
          "height": 225
        },
        "outputId": "5c3731ea-0fa2-4469-ab55-571973f6feb4"
      },
      "source": [
        "righth"
      ],
      "execution_count": 24,
      "outputs": [
        {
          "output_type": "execute_result",
          "data": {
            "text/html": [
              "<div>\n",
              "<style scoped>\n",
              "    .dataframe tbody tr th:only-of-type {\n",
              "        vertical-align: middle;\n",
              "    }\n",
              "\n",
              "    .dataframe tbody tr th {\n",
              "        vertical-align: top;\n",
              "    }\n",
              "\n",
              "    .dataframe thead th {\n",
              "        text-align: right;\n",
              "    }\n",
              "</style>\n",
              "<table border=\"1\" class=\"dataframe\">\n",
              "  <thead>\n",
              "    <tr style=\"text-align: right;\">\n",
              "      <th></th>\n",
              "      <th></th>\n",
              "      <th>event1</th>\n",
              "      <th>event2</th>\n",
              "    </tr>\n",
              "  </thead>\n",
              "  <tbody>\n",
              "    <tr>\n",
              "      <th rowspan=\"2\" valign=\"top\">Nevada</th>\n",
              "      <th>2001</th>\n",
              "      <td>0</td>\n",
              "      <td>1</td>\n",
              "    </tr>\n",
              "    <tr>\n",
              "      <th>2000</th>\n",
              "      <td>2</td>\n",
              "      <td>3</td>\n",
              "    </tr>\n",
              "    <tr>\n",
              "      <th rowspan=\"4\" valign=\"top\">Ohio</th>\n",
              "      <th>2000</th>\n",
              "      <td>4</td>\n",
              "      <td>5</td>\n",
              "    </tr>\n",
              "    <tr>\n",
              "      <th>2000</th>\n",
              "      <td>6</td>\n",
              "      <td>7</td>\n",
              "    </tr>\n",
              "    <tr>\n",
              "      <th>2001</th>\n",
              "      <td>8</td>\n",
              "      <td>9</td>\n",
              "    </tr>\n",
              "    <tr>\n",
              "      <th>2002</th>\n",
              "      <td>10</td>\n",
              "      <td>11</td>\n",
              "    </tr>\n",
              "  </tbody>\n",
              "</table>\n",
              "</div>"
            ],
            "text/plain": [
              "             event1  event2\n",
              "Nevada 2001       0       1\n",
              "       2000       2       3\n",
              "Ohio   2000       4       5\n",
              "       2000       6       7\n",
              "       2001       8       9\n",
              "       2002      10      11"
            ]
          },
          "metadata": {
            "tags": []
          },
          "execution_count": 24
        }
      ]
    },
    {
      "cell_type": "code",
      "metadata": {
        "id": "GnA5qnJfLkYe",
        "colab_type": "code",
        "colab": {
          "base_uri": "https://localhost:8080/",
          "height": 195
        },
        "outputId": "b11dde73-538e-4ccb-bb7e-3586a94b0d83"
      },
      "source": [
        "#其实也并不难，只要把key打开为一个list包含这个hierarchical index即可\n",
        "pd.merge(lefth, righth, left_on=['key1', 'key2'], right_index=True)\n",
        "#因为左边的key1和key2与右边的index一致"
      ],
      "execution_count": 25,
      "outputs": [
        {
          "output_type": "execute_result",
          "data": {
            "text/html": [
              "<div>\n",
              "<style scoped>\n",
              "    .dataframe tbody tr th:only-of-type {\n",
              "        vertical-align: middle;\n",
              "    }\n",
              "\n",
              "    .dataframe tbody tr th {\n",
              "        vertical-align: top;\n",
              "    }\n",
              "\n",
              "    .dataframe thead th {\n",
              "        text-align: right;\n",
              "    }\n",
              "</style>\n",
              "<table border=\"1\" class=\"dataframe\">\n",
              "  <thead>\n",
              "    <tr style=\"text-align: right;\">\n",
              "      <th></th>\n",
              "      <th>key1</th>\n",
              "      <th>key2</th>\n",
              "      <th>data</th>\n",
              "      <th>event1</th>\n",
              "      <th>event2</th>\n",
              "    </tr>\n",
              "  </thead>\n",
              "  <tbody>\n",
              "    <tr>\n",
              "      <th>0</th>\n",
              "      <td>Ohio</td>\n",
              "      <td>2000</td>\n",
              "      <td>0.0</td>\n",
              "      <td>4</td>\n",
              "      <td>5</td>\n",
              "    </tr>\n",
              "    <tr>\n",
              "      <th>0</th>\n",
              "      <td>Ohio</td>\n",
              "      <td>2000</td>\n",
              "      <td>0.0</td>\n",
              "      <td>6</td>\n",
              "      <td>7</td>\n",
              "    </tr>\n",
              "    <tr>\n",
              "      <th>1</th>\n",
              "      <td>Ohio</td>\n",
              "      <td>2001</td>\n",
              "      <td>1.0</td>\n",
              "      <td>8</td>\n",
              "      <td>9</td>\n",
              "    </tr>\n",
              "    <tr>\n",
              "      <th>2</th>\n",
              "      <td>Ohio</td>\n",
              "      <td>2002</td>\n",
              "      <td>2.0</td>\n",
              "      <td>10</td>\n",
              "      <td>11</td>\n",
              "    </tr>\n",
              "    <tr>\n",
              "      <th>3</th>\n",
              "      <td>Nevada</td>\n",
              "      <td>2001</td>\n",
              "      <td>3.0</td>\n",
              "      <td>0</td>\n",
              "      <td>1</td>\n",
              "    </tr>\n",
              "  </tbody>\n",
              "</table>\n",
              "</div>"
            ],
            "text/plain": [
              "     key1  key2  data  event1  event2\n",
              "0    Ohio  2000   0.0       4       5\n",
              "0    Ohio  2000   0.0       6       7\n",
              "1    Ohio  2001   1.0       8       9\n",
              "2    Ohio  2002   2.0      10      11\n",
              "3  Nevada  2001   3.0       0       1"
            ]
          },
          "metadata": {
            "tags": []
          },
          "execution_count": 25
        }
      ]
    },
    {
      "cell_type": "code",
      "metadata": {
        "id": "-xp2C2lcMgPz",
        "colab_type": "code",
        "colab": {
          "base_uri": "https://localhost:8080/",
          "height": 254
        },
        "outputId": "f99babf2-ff79-4122-debb-054b0964cd31"
      },
      "source": [
        "#同理，看看union的效果\n",
        "pd.merge(lefth, righth, left_on=['key1', 'key2'], right_index=True, how='outer')"
      ],
      "execution_count": 26,
      "outputs": [
        {
          "output_type": "execute_result",
          "data": {
            "text/html": [
              "<div>\n",
              "<style scoped>\n",
              "    .dataframe tbody tr th:only-of-type {\n",
              "        vertical-align: middle;\n",
              "    }\n",
              "\n",
              "    .dataframe tbody tr th {\n",
              "        vertical-align: top;\n",
              "    }\n",
              "\n",
              "    .dataframe thead th {\n",
              "        text-align: right;\n",
              "    }\n",
              "</style>\n",
              "<table border=\"1\" class=\"dataframe\">\n",
              "  <thead>\n",
              "    <tr style=\"text-align: right;\">\n",
              "      <th></th>\n",
              "      <th>key1</th>\n",
              "      <th>key2</th>\n",
              "      <th>data</th>\n",
              "      <th>event1</th>\n",
              "      <th>event2</th>\n",
              "    </tr>\n",
              "  </thead>\n",
              "  <tbody>\n",
              "    <tr>\n",
              "      <th>0</th>\n",
              "      <td>Ohio</td>\n",
              "      <td>2000</td>\n",
              "      <td>0.0</td>\n",
              "      <td>4.0</td>\n",
              "      <td>5.0</td>\n",
              "    </tr>\n",
              "    <tr>\n",
              "      <th>0</th>\n",
              "      <td>Ohio</td>\n",
              "      <td>2000</td>\n",
              "      <td>0.0</td>\n",
              "      <td>6.0</td>\n",
              "      <td>7.0</td>\n",
              "    </tr>\n",
              "    <tr>\n",
              "      <th>1</th>\n",
              "      <td>Ohio</td>\n",
              "      <td>2001</td>\n",
              "      <td>1.0</td>\n",
              "      <td>8.0</td>\n",
              "      <td>9.0</td>\n",
              "    </tr>\n",
              "    <tr>\n",
              "      <th>2</th>\n",
              "      <td>Ohio</td>\n",
              "      <td>2002</td>\n",
              "      <td>2.0</td>\n",
              "      <td>10.0</td>\n",
              "      <td>11.0</td>\n",
              "    </tr>\n",
              "    <tr>\n",
              "      <th>3</th>\n",
              "      <td>Nevada</td>\n",
              "      <td>2001</td>\n",
              "      <td>3.0</td>\n",
              "      <td>0.0</td>\n",
              "      <td>1.0</td>\n",
              "    </tr>\n",
              "    <tr>\n",
              "      <th>4</th>\n",
              "      <td>Nevada</td>\n",
              "      <td>2002</td>\n",
              "      <td>4.0</td>\n",
              "      <td>NaN</td>\n",
              "      <td>NaN</td>\n",
              "    </tr>\n",
              "    <tr>\n",
              "      <th>4</th>\n",
              "      <td>Nevada</td>\n",
              "      <td>2000</td>\n",
              "      <td>NaN</td>\n",
              "      <td>2.0</td>\n",
              "      <td>3.0</td>\n",
              "    </tr>\n",
              "  </tbody>\n",
              "</table>\n",
              "</div>"
            ],
            "text/plain": [
              "     key1  key2  data  event1  event2\n",
              "0    Ohio  2000   0.0     4.0     5.0\n",
              "0    Ohio  2000   0.0     6.0     7.0\n",
              "1    Ohio  2001   1.0     8.0     9.0\n",
              "2    Ohio  2002   2.0    10.0    11.0\n",
              "3  Nevada  2001   3.0     0.0     1.0\n",
              "4  Nevada  2002   4.0     NaN     NaN\n",
              "4  Nevada  2000   NaN     2.0     3.0"
            ]
          },
          "metadata": {
            "tags": []
          },
          "execution_count": 26
        }
      ]
    },
    {
      "cell_type": "markdown",
      "metadata": {
        "id": "3UT30aELM3H8",
        "colab_type": "text"
      },
      "source": [
        "那么有个疑问了，能否把左右两边的index一致的都合并呢，答案是可以的"
      ]
    },
    {
      "cell_type": "code",
      "metadata": {
        "id": "OEgz2oR9MtZd",
        "colab_type": "code",
        "colab": {
          "base_uri": "https://localhost:8080/",
          "height": 136
        },
        "outputId": "e58efd79-4a3e-4a3d-9b69-e42ae73b969c"
      },
      "source": [
        "left2 = pd.DataFrame([[1., 2.], [3., 4.], [5., 6.]],\n",
        "            index=['a', 'c', 'e'],\n",
        "            columns=['Ohio', 'Nevada'])\n",
        "right2 = pd.DataFrame([[7., 8.], [9., 10.], [11., 12.], [13, 14]],\n",
        "            index=['b', 'c', 'd', 'e'],\n",
        "            columns=['Missouri', 'Alabama'])\n",
        "left2"
      ],
      "execution_count": 27,
      "outputs": [
        {
          "output_type": "execute_result",
          "data": {
            "text/html": [
              "<div>\n",
              "<style scoped>\n",
              "    .dataframe tbody tr th:only-of-type {\n",
              "        vertical-align: middle;\n",
              "    }\n",
              "\n",
              "    .dataframe tbody tr th {\n",
              "        vertical-align: top;\n",
              "    }\n",
              "\n",
              "    .dataframe thead th {\n",
              "        text-align: right;\n",
              "    }\n",
              "</style>\n",
              "<table border=\"1\" class=\"dataframe\">\n",
              "  <thead>\n",
              "    <tr style=\"text-align: right;\">\n",
              "      <th></th>\n",
              "      <th>Ohio</th>\n",
              "      <th>Nevada</th>\n",
              "    </tr>\n",
              "  </thead>\n",
              "  <tbody>\n",
              "    <tr>\n",
              "      <th>a</th>\n",
              "      <td>1.0</td>\n",
              "      <td>2.0</td>\n",
              "    </tr>\n",
              "    <tr>\n",
              "      <th>c</th>\n",
              "      <td>3.0</td>\n",
              "      <td>4.0</td>\n",
              "    </tr>\n",
              "    <tr>\n",
              "      <th>e</th>\n",
              "      <td>5.0</td>\n",
              "      <td>6.0</td>\n",
              "    </tr>\n",
              "  </tbody>\n",
              "</table>\n",
              "</div>"
            ],
            "text/plain": [
              "   Ohio  Nevada\n",
              "a   1.0     2.0\n",
              "c   3.0     4.0\n",
              "e   5.0     6.0"
            ]
          },
          "metadata": {
            "tags": []
          },
          "execution_count": 27
        }
      ]
    },
    {
      "cell_type": "code",
      "metadata": {
        "id": "psirqNQUNHEb",
        "colab_type": "code",
        "colab": {
          "base_uri": "https://localhost:8080/",
          "height": 166
        },
        "outputId": "21026e8b-b9ad-4260-b8ce-60cd55f43f52"
      },
      "source": [
        "right2"
      ],
      "execution_count": 28,
      "outputs": [
        {
          "output_type": "execute_result",
          "data": {
            "text/html": [
              "<div>\n",
              "<style scoped>\n",
              "    .dataframe tbody tr th:only-of-type {\n",
              "        vertical-align: middle;\n",
              "    }\n",
              "\n",
              "    .dataframe tbody tr th {\n",
              "        vertical-align: top;\n",
              "    }\n",
              "\n",
              "    .dataframe thead th {\n",
              "        text-align: right;\n",
              "    }\n",
              "</style>\n",
              "<table border=\"1\" class=\"dataframe\">\n",
              "  <thead>\n",
              "    <tr style=\"text-align: right;\">\n",
              "      <th></th>\n",
              "      <th>Missouri</th>\n",
              "      <th>Alabama</th>\n",
              "    </tr>\n",
              "  </thead>\n",
              "  <tbody>\n",
              "    <tr>\n",
              "      <th>b</th>\n",
              "      <td>7.0</td>\n",
              "      <td>8.0</td>\n",
              "    </tr>\n",
              "    <tr>\n",
              "      <th>c</th>\n",
              "      <td>9.0</td>\n",
              "      <td>10.0</td>\n",
              "    </tr>\n",
              "    <tr>\n",
              "      <th>d</th>\n",
              "      <td>11.0</td>\n",
              "      <td>12.0</td>\n",
              "    </tr>\n",
              "    <tr>\n",
              "      <th>e</th>\n",
              "      <td>13.0</td>\n",
              "      <td>14.0</td>\n",
              "    </tr>\n",
              "  </tbody>\n",
              "</table>\n",
              "</div>"
            ],
            "text/plain": [
              "   Missouri  Alabama\n",
              "b       7.0      8.0\n",
              "c       9.0     10.0\n",
              "d      11.0     12.0\n",
              "e      13.0     14.0"
            ]
          },
          "metadata": {
            "tags": []
          },
          "execution_count": 28
        }
      ]
    },
    {
      "cell_type": "code",
      "metadata": {
        "id": "ZoS9xBs9NH6-",
        "colab_type": "code",
        "colab": {
          "base_uri": "https://localhost:8080/",
          "height": 195
        },
        "outputId": "41490f52-583c-4c31-cf34-64a151fec69e"
      },
      "source": [
        "pd.merge(left2, right2, left_index=True, right_index=True, how='outer')\n",
        "#可以看到如果是根据index去join的话，column的数目是同一个index的排列组合"
      ],
      "execution_count": 30,
      "outputs": [
        {
          "output_type": "execute_result",
          "data": {
            "text/html": [
              "<div>\n",
              "<style scoped>\n",
              "    .dataframe tbody tr th:only-of-type {\n",
              "        vertical-align: middle;\n",
              "    }\n",
              "\n",
              "    .dataframe tbody tr th {\n",
              "        vertical-align: top;\n",
              "    }\n",
              "\n",
              "    .dataframe thead th {\n",
              "        text-align: right;\n",
              "    }\n",
              "</style>\n",
              "<table border=\"1\" class=\"dataframe\">\n",
              "  <thead>\n",
              "    <tr style=\"text-align: right;\">\n",
              "      <th></th>\n",
              "      <th>Ohio</th>\n",
              "      <th>Nevada</th>\n",
              "      <th>Missouri</th>\n",
              "      <th>Alabama</th>\n",
              "    </tr>\n",
              "  </thead>\n",
              "  <tbody>\n",
              "    <tr>\n",
              "      <th>a</th>\n",
              "      <td>1.0</td>\n",
              "      <td>2.0</td>\n",
              "      <td>NaN</td>\n",
              "      <td>NaN</td>\n",
              "    </tr>\n",
              "    <tr>\n",
              "      <th>b</th>\n",
              "      <td>NaN</td>\n",
              "      <td>NaN</td>\n",
              "      <td>7.0</td>\n",
              "      <td>8.0</td>\n",
              "    </tr>\n",
              "    <tr>\n",
              "      <th>c</th>\n",
              "      <td>3.0</td>\n",
              "      <td>4.0</td>\n",
              "      <td>9.0</td>\n",
              "      <td>10.0</td>\n",
              "    </tr>\n",
              "    <tr>\n",
              "      <th>d</th>\n",
              "      <td>NaN</td>\n",
              "      <td>NaN</td>\n",
              "      <td>11.0</td>\n",
              "      <td>12.0</td>\n",
              "    </tr>\n",
              "    <tr>\n",
              "      <th>e</th>\n",
              "      <td>5.0</td>\n",
              "      <td>6.0</td>\n",
              "      <td>13.0</td>\n",
              "      <td>14.0</td>\n",
              "    </tr>\n",
              "  </tbody>\n",
              "</table>\n",
              "</div>"
            ],
            "text/plain": [
              "   Ohio  Nevada  Missouri  Alabama\n",
              "a   1.0     2.0       NaN      NaN\n",
              "b   NaN     NaN       7.0      8.0\n",
              "c   3.0     4.0       9.0     10.0\n",
              "d   NaN     NaN      11.0     12.0\n",
              "e   5.0     6.0      13.0     14.0"
            ]
          },
          "metadata": {
            "tags": []
          },
          "execution_count": 30
        }
      ]
    },
    {
      "cell_type": "markdown",
      "metadata": {
        "id": "hMbxvbYINlEp",
        "colab_type": "text"
      },
      "source": [
        ".join()是为了更方便实现上面功能的function\n",
        "\n",
        "It can also be used to combine together many DataFrame objects **having the same or similar indexes** but non-overlapping columns."
      ]
    },
    {
      "cell_type": "code",
      "metadata": {
        "id": "qqdJRBiCNOEy",
        "colab_type": "code",
        "colab": {
          "base_uri": "https://localhost:8080/",
          "height": 195
        },
        "outputId": "58bcf5dc-8c83-4749-b9af-2f6d37afaaf7"
      },
      "source": [
        "left2.join(right2, how='outer')"
      ],
      "execution_count": 31,
      "outputs": [
        {
          "output_type": "execute_result",
          "data": {
            "text/html": [
              "<div>\n",
              "<style scoped>\n",
              "    .dataframe tbody tr th:only-of-type {\n",
              "        vertical-align: middle;\n",
              "    }\n",
              "\n",
              "    .dataframe tbody tr th {\n",
              "        vertical-align: top;\n",
              "    }\n",
              "\n",
              "    .dataframe thead th {\n",
              "        text-align: right;\n",
              "    }\n",
              "</style>\n",
              "<table border=\"1\" class=\"dataframe\">\n",
              "  <thead>\n",
              "    <tr style=\"text-align: right;\">\n",
              "      <th></th>\n",
              "      <th>Ohio</th>\n",
              "      <th>Nevada</th>\n",
              "      <th>Missouri</th>\n",
              "      <th>Alabama</th>\n",
              "    </tr>\n",
              "  </thead>\n",
              "  <tbody>\n",
              "    <tr>\n",
              "      <th>a</th>\n",
              "      <td>1.0</td>\n",
              "      <td>2.0</td>\n",
              "      <td>NaN</td>\n",
              "      <td>NaN</td>\n",
              "    </tr>\n",
              "    <tr>\n",
              "      <th>b</th>\n",
              "      <td>NaN</td>\n",
              "      <td>NaN</td>\n",
              "      <td>7.0</td>\n",
              "      <td>8.0</td>\n",
              "    </tr>\n",
              "    <tr>\n",
              "      <th>c</th>\n",
              "      <td>3.0</td>\n",
              "      <td>4.0</td>\n",
              "      <td>9.0</td>\n",
              "      <td>10.0</td>\n",
              "    </tr>\n",
              "    <tr>\n",
              "      <th>d</th>\n",
              "      <td>NaN</td>\n",
              "      <td>NaN</td>\n",
              "      <td>11.0</td>\n",
              "      <td>12.0</td>\n",
              "    </tr>\n",
              "    <tr>\n",
              "      <th>e</th>\n",
              "      <td>5.0</td>\n",
              "      <td>6.0</td>\n",
              "      <td>13.0</td>\n",
              "      <td>14.0</td>\n",
              "    </tr>\n",
              "  </tbody>\n",
              "</table>\n",
              "</div>"
            ],
            "text/plain": [
              "   Ohio  Nevada  Missouri  Alabama\n",
              "a   1.0     2.0       NaN      NaN\n",
              "b   NaN     NaN       7.0      8.0\n",
              "c   3.0     4.0       9.0     10.0\n",
              "d   NaN     NaN      11.0     12.0\n",
              "e   5.0     6.0      13.0     14.0"
            ]
          },
          "metadata": {
            "tags": []
          },
          "execution_count": 31
        }
      ]
    },
    {
      "cell_type": "markdown",
      "metadata": {
        "id": "QpBDJrLnOyoD",
        "colab_type": "text"
      },
      "source": [
        ".join()还能一次性把多个DF根据index一起合并"
      ]
    },
    {
      "cell_type": "code",
      "metadata": {
        "id": "bbjPS7rYNtT0",
        "colab_type": "code",
        "colab": {
          "base_uri": "https://localhost:8080/",
          "height": 166
        },
        "outputId": "dfd03277-fbd0-449b-fd1c-5fc2b8550ff8"
      },
      "source": [
        "another = pd.DataFrame([[7., 8.], [9., 10.], [11., 12.], [16., 17.]],\n",
        "          index=['a', 'c', 'e', 'f'],\n",
        "          columns=['New York', 'Oregon'])\n",
        "another"
      ],
      "execution_count": 33,
      "outputs": [
        {
          "output_type": "execute_result",
          "data": {
            "text/html": [
              "<div>\n",
              "<style scoped>\n",
              "    .dataframe tbody tr th:only-of-type {\n",
              "        vertical-align: middle;\n",
              "    }\n",
              "\n",
              "    .dataframe tbody tr th {\n",
              "        vertical-align: top;\n",
              "    }\n",
              "\n",
              "    .dataframe thead th {\n",
              "        text-align: right;\n",
              "    }\n",
              "</style>\n",
              "<table border=\"1\" class=\"dataframe\">\n",
              "  <thead>\n",
              "    <tr style=\"text-align: right;\">\n",
              "      <th></th>\n",
              "      <th>New York</th>\n",
              "      <th>Oregon</th>\n",
              "    </tr>\n",
              "  </thead>\n",
              "  <tbody>\n",
              "    <tr>\n",
              "      <th>a</th>\n",
              "      <td>7.0</td>\n",
              "      <td>8.0</td>\n",
              "    </tr>\n",
              "    <tr>\n",
              "      <th>c</th>\n",
              "      <td>9.0</td>\n",
              "      <td>10.0</td>\n",
              "    </tr>\n",
              "    <tr>\n",
              "      <th>e</th>\n",
              "      <td>11.0</td>\n",
              "      <td>12.0</td>\n",
              "    </tr>\n",
              "    <tr>\n",
              "      <th>f</th>\n",
              "      <td>16.0</td>\n",
              "      <td>17.0</td>\n",
              "    </tr>\n",
              "  </tbody>\n",
              "</table>\n",
              "</div>"
            ],
            "text/plain": [
              "   New York  Oregon\n",
              "a       7.0     8.0\n",
              "c       9.0    10.0\n",
              "e      11.0    12.0\n",
              "f      16.0    17.0"
            ]
          },
          "metadata": {
            "tags": []
          },
          "execution_count": 33
        }
      ]
    },
    {
      "cell_type": "code",
      "metadata": {
        "id": "gERvwfpwO_wX",
        "colab_type": "code",
        "colab": {
          "base_uri": "https://localhost:8080/",
          "height": 225
        },
        "outputId": "b77e3835-4fee-47eb-f987-0a029ef70a05"
      },
      "source": [
        "#把想要合并的DF以一个list打包写入\n",
        "left2.join([right2, another], how='outer')"
      ],
      "execution_count": 34,
      "outputs": [
        {
          "output_type": "execute_result",
          "data": {
            "text/html": [
              "<div>\n",
              "<style scoped>\n",
              "    .dataframe tbody tr th:only-of-type {\n",
              "        vertical-align: middle;\n",
              "    }\n",
              "\n",
              "    .dataframe tbody tr th {\n",
              "        vertical-align: top;\n",
              "    }\n",
              "\n",
              "    .dataframe thead th {\n",
              "        text-align: right;\n",
              "    }\n",
              "</style>\n",
              "<table border=\"1\" class=\"dataframe\">\n",
              "  <thead>\n",
              "    <tr style=\"text-align: right;\">\n",
              "      <th></th>\n",
              "      <th>Ohio</th>\n",
              "      <th>Nevada</th>\n",
              "      <th>Missouri</th>\n",
              "      <th>Alabama</th>\n",
              "      <th>New York</th>\n",
              "      <th>Oregon</th>\n",
              "    </tr>\n",
              "  </thead>\n",
              "  <tbody>\n",
              "    <tr>\n",
              "      <th>a</th>\n",
              "      <td>1.0</td>\n",
              "      <td>2.0</td>\n",
              "      <td>NaN</td>\n",
              "      <td>NaN</td>\n",
              "      <td>7.0</td>\n",
              "      <td>8.0</td>\n",
              "    </tr>\n",
              "    <tr>\n",
              "      <th>c</th>\n",
              "      <td>3.0</td>\n",
              "      <td>4.0</td>\n",
              "      <td>9.0</td>\n",
              "      <td>10.0</td>\n",
              "      <td>9.0</td>\n",
              "      <td>10.0</td>\n",
              "    </tr>\n",
              "    <tr>\n",
              "      <th>e</th>\n",
              "      <td>5.0</td>\n",
              "      <td>6.0</td>\n",
              "      <td>13.0</td>\n",
              "      <td>14.0</td>\n",
              "      <td>11.0</td>\n",
              "      <td>12.0</td>\n",
              "    </tr>\n",
              "    <tr>\n",
              "      <th>b</th>\n",
              "      <td>NaN</td>\n",
              "      <td>NaN</td>\n",
              "      <td>7.0</td>\n",
              "      <td>8.0</td>\n",
              "      <td>NaN</td>\n",
              "      <td>NaN</td>\n",
              "    </tr>\n",
              "    <tr>\n",
              "      <th>d</th>\n",
              "      <td>NaN</td>\n",
              "      <td>NaN</td>\n",
              "      <td>11.0</td>\n",
              "      <td>12.0</td>\n",
              "      <td>NaN</td>\n",
              "      <td>NaN</td>\n",
              "    </tr>\n",
              "    <tr>\n",
              "      <th>f</th>\n",
              "      <td>NaN</td>\n",
              "      <td>NaN</td>\n",
              "      <td>NaN</td>\n",
              "      <td>NaN</td>\n",
              "      <td>16.0</td>\n",
              "      <td>17.0</td>\n",
              "    </tr>\n",
              "  </tbody>\n",
              "</table>\n",
              "</div>"
            ],
            "text/plain": [
              "   Ohio  Nevada  Missouri  Alabama  New York  Oregon\n",
              "a   1.0     2.0       NaN      NaN       7.0     8.0\n",
              "c   3.0     4.0       9.0     10.0       9.0    10.0\n",
              "e   5.0     6.0      13.0     14.0      11.0    12.0\n",
              "b   NaN     NaN       7.0      8.0       NaN     NaN\n",
              "d   NaN     NaN      11.0     12.0       NaN     NaN\n",
              "f   NaN     NaN       NaN      NaN      16.0    17.0"
            ]
          },
          "metadata": {
            "tags": []
          },
          "execution_count": 34
        }
      ]
    },
    {
      "cell_type": "markdown",
      "metadata": {
        "id": "vea2S9JAPWKb",
        "colab_type": "text"
      },
      "source": [
        "## Concatenating Along an Axis"
      ]
    },
    {
      "cell_type": "markdown",
      "metadata": {
        "id": "sePOFCg2PdaZ",
        "colab_type": "text"
      },
      "source": [
        "上面介绍的方法都是堆叠起来的，也就是说越来越高（row越来越多），下面介绍越来越宽（columns越来越多）"
      ]
    },
    {
      "cell_type": "markdown",
      "metadata": {
        "id": "-llX6IovPuXA",
        "colab_type": "text"
      },
      "source": [
        "numpy的 concatenate函数"
      ]
    },
    {
      "cell_type": "code",
      "metadata": {
        "id": "OKouJWZPPG85",
        "colab_type": "code",
        "colab": {
          "base_uri": "https://localhost:8080/",
          "height": 67
        },
        "outputId": "d78baa20-417a-4638-9941-ad1b5bd94c52"
      },
      "source": [
        "arr = np.arange(12).reshape((3, 4))\n",
        "arr"
      ],
      "execution_count": 35,
      "outputs": [
        {
          "output_type": "execute_result",
          "data": {
            "text/plain": [
              "array([[ 0,  1,  2,  3],\n",
              "       [ 4,  5,  6,  7],\n",
              "       [ 8,  9, 10, 11]])"
            ]
          },
          "metadata": {
            "tags": []
          },
          "execution_count": 35
        }
      ]
    },
    {
      "cell_type": "code",
      "metadata": {
        "id": "EhX-oBXQP50w",
        "colab_type": "code",
        "colab": {
          "base_uri": "https://localhost:8080/",
          "height": 67
        },
        "outputId": "d3cf1952-31dd-452b-c5fa-98a5f3df63ef"
      },
      "source": [
        "np.concatenate([arr,arr], axis=1)\n",
        "#可以看到这个数列向右边堆叠起来了"
      ],
      "execution_count": 37,
      "outputs": [
        {
          "output_type": "execute_result",
          "data": {
            "text/plain": [
              "array([[ 0,  1,  2,  3,  0,  1,  2,  3],\n",
              "       [ 4,  5,  6,  7,  4,  5,  6,  7],\n",
              "       [ 8,  9, 10, 11,  8,  9, 10, 11]])"
            ]
          },
          "metadata": {
            "tags": []
          },
          "execution_count": 37
        }
      ]
    },
    {
      "cell_type": "markdown",
      "metadata": {
        "id": "rB6HFucPRpxu",
        "colab_type": "text"
      },
      "source": [
        "pandas的做法，常用到axis=1"
      ]
    },
    {
      "cell_type": "code",
      "metadata": {
        "id": "hLJZkKi5QA4f",
        "colab_type": "code",
        "colab": {
          "base_uri": "https://localhost:8080/",
          "height": 151
        },
        "outputId": "3d25f29a-f0fa-48e2-e037-27d616510872"
      },
      "source": [
        "s1 = pd.Series([0, 1], index=['a', 'b'])\n",
        "s2 = pd.Series([2, 3, 4], index=['c', 'd', 'e'])\n",
        "s3 = pd.Series([5, 6], index=['f', 'g'])\n",
        "\n",
        "pd.concat([s1,s2,s3]) #concat三个"
      ],
      "execution_count": 38,
      "outputs": [
        {
          "output_type": "execute_result",
          "data": {
            "text/plain": [
              "a    0\n",
              "b    1\n",
              "c    2\n",
              "d    3\n",
              "e    4\n",
              "f    5\n",
              "g    6\n",
              "dtype: int64"
            ]
          },
          "metadata": {
            "tags": []
          },
          "execution_count": 38
        }
      ]
    },
    {
      "cell_type": "code",
      "metadata": {
        "id": "xVFdHZwORxbI",
        "colab_type": "code",
        "colab": {
          "base_uri": "https://localhost:8080/",
          "height": 254
        },
        "outputId": "827c0524-0377-4724-a49d-2a21e0f0ea91"
      },
      "source": [
        "pd.concat([s1,s2,s3], axis=1)\n",
        "#concat的做法是outer的"
      ],
      "execution_count": 39,
      "outputs": [
        {
          "output_type": "execute_result",
          "data": {
            "text/html": [
              "<div>\n",
              "<style scoped>\n",
              "    .dataframe tbody tr th:only-of-type {\n",
              "        vertical-align: middle;\n",
              "    }\n",
              "\n",
              "    .dataframe tbody tr th {\n",
              "        vertical-align: top;\n",
              "    }\n",
              "\n",
              "    .dataframe thead th {\n",
              "        text-align: right;\n",
              "    }\n",
              "</style>\n",
              "<table border=\"1\" class=\"dataframe\">\n",
              "  <thead>\n",
              "    <tr style=\"text-align: right;\">\n",
              "      <th></th>\n",
              "      <th>0</th>\n",
              "      <th>1</th>\n",
              "      <th>2</th>\n",
              "    </tr>\n",
              "  </thead>\n",
              "  <tbody>\n",
              "    <tr>\n",
              "      <th>a</th>\n",
              "      <td>0.0</td>\n",
              "      <td>NaN</td>\n",
              "      <td>NaN</td>\n",
              "    </tr>\n",
              "    <tr>\n",
              "      <th>b</th>\n",
              "      <td>1.0</td>\n",
              "      <td>NaN</td>\n",
              "      <td>NaN</td>\n",
              "    </tr>\n",
              "    <tr>\n",
              "      <th>c</th>\n",
              "      <td>NaN</td>\n",
              "      <td>2.0</td>\n",
              "      <td>NaN</td>\n",
              "    </tr>\n",
              "    <tr>\n",
              "      <th>d</th>\n",
              "      <td>NaN</td>\n",
              "      <td>3.0</td>\n",
              "      <td>NaN</td>\n",
              "    </tr>\n",
              "    <tr>\n",
              "      <th>e</th>\n",
              "      <td>NaN</td>\n",
              "      <td>4.0</td>\n",
              "      <td>NaN</td>\n",
              "    </tr>\n",
              "    <tr>\n",
              "      <th>f</th>\n",
              "      <td>NaN</td>\n",
              "      <td>NaN</td>\n",
              "      <td>5.0</td>\n",
              "    </tr>\n",
              "    <tr>\n",
              "      <th>g</th>\n",
              "      <td>NaN</td>\n",
              "      <td>NaN</td>\n",
              "      <td>6.0</td>\n",
              "    </tr>\n",
              "  </tbody>\n",
              "</table>\n",
              "</div>"
            ],
            "text/plain": [
              "     0    1    2\n",
              "a  0.0  NaN  NaN\n",
              "b  1.0  NaN  NaN\n",
              "c  NaN  2.0  NaN\n",
              "d  NaN  3.0  NaN\n",
              "e  NaN  4.0  NaN\n",
              "f  NaN  NaN  5.0\n",
              "g  NaN  NaN  6.0"
            ]
          },
          "metadata": {
            "tags": []
          },
          "execution_count": 39
        }
      ]
    },
    {
      "cell_type": "markdown",
      "metadata": {
        "id": "39-TYGdbSHyu",
        "colab_type": "text"
      },
      "source": [
        "如果不想outer,想inner？\n",
        "\n",
        "join='inner'"
      ]
    },
    {
      "cell_type": "code",
      "metadata": {
        "id": "fOVJ4BdbR4Sx",
        "colab_type": "code",
        "colab": {
          "base_uri": "https://localhost:8080/",
          "height": 101
        },
        "outputId": "4f023b52-68d8-469d-851b-060d7573f22b"
      },
      "source": [
        "s4 = pd.Series([0,1,5,6], index=list('abfg'))\n",
        "s4"
      ],
      "execution_count": 40,
      "outputs": [
        {
          "output_type": "execute_result",
          "data": {
            "text/plain": [
              "a    0\n",
              "b    1\n",
              "f    5\n",
              "g    6\n",
              "dtype: int64"
            ]
          },
          "metadata": {
            "tags": []
          },
          "execution_count": 40
        }
      ]
    },
    {
      "cell_type": "code",
      "metadata": {
        "id": "Ml_vjgxASZwJ",
        "colab_type": "code",
        "colab": {
          "base_uri": "https://localhost:8080/",
          "height": 106
        },
        "outputId": "97336f3d-ab14-41e9-cf10-86cadd9ba8d4"
      },
      "source": [
        "pd.concat([s1,s4], axis=1, join='inner')\n",
        "#这样就只会把intersection部分保留"
      ],
      "execution_count": 41,
      "outputs": [
        {
          "output_type": "execute_result",
          "data": {
            "text/html": [
              "<div>\n",
              "<style scoped>\n",
              "    .dataframe tbody tr th:only-of-type {\n",
              "        vertical-align: middle;\n",
              "    }\n",
              "\n",
              "    .dataframe tbody tr th {\n",
              "        vertical-align: top;\n",
              "    }\n",
              "\n",
              "    .dataframe thead th {\n",
              "        text-align: right;\n",
              "    }\n",
              "</style>\n",
              "<table border=\"1\" class=\"dataframe\">\n",
              "  <thead>\n",
              "    <tr style=\"text-align: right;\">\n",
              "      <th></th>\n",
              "      <th>0</th>\n",
              "      <th>1</th>\n",
              "    </tr>\n",
              "  </thead>\n",
              "  <tbody>\n",
              "    <tr>\n",
              "      <th>a</th>\n",
              "      <td>0</td>\n",
              "      <td>0</td>\n",
              "    </tr>\n",
              "    <tr>\n",
              "      <th>b</th>\n",
              "      <td>1</td>\n",
              "      <td>1</td>\n",
              "    </tr>\n",
              "  </tbody>\n",
              "</table>\n",
              "</div>"
            ],
            "text/plain": [
              "   0  1\n",
              "a  0  0\n",
              "b  1  1"
            ]
          },
          "metadata": {
            "tags": []
          },
          "execution_count": 41
        }
      ]
    },
    {
      "cell_type": "markdown",
      "metadata": {
        "id": "2aRw0Ab-Sq9c",
        "colab_type": "text"
      },
      "source": [
        "join_axes 标注join后的index有哪些，不管原本的index有没有都可以specify\n",
        "\n",
        "！！新版的pandas没有这个选项！！"
      ]
    },
    {
      "cell_type": "code",
      "metadata": {
        "id": "njDyuyRxSg8j",
        "colab_type": "code",
        "colab": {
          "base_uri": "https://localhost:8080/",
          "height": 162
        },
        "outputId": "9367d9b8-5ddf-4a3e-b264-6f0e66d39bcb"
      },
      "source": [
        "#pd.concat([s1, s4], axis=1, join_axes=[['a', 'c', 'b', 'e']])"
      ],
      "execution_count": 42,
      "outputs": [
        {
          "output_type": "error",
          "ename": "TypeError",
          "evalue": "ignored",
          "traceback": [
            "\u001b[0;31m---------------------------------------------------------------------------\u001b[0m",
            "\u001b[0;31mTypeError\u001b[0m                                 Traceback (most recent call last)",
            "\u001b[0;32m<ipython-input-42-28e446bc353b>\u001b[0m in \u001b[0;36m<module>\u001b[0;34m()\u001b[0m\n\u001b[0;32m----> 1\u001b[0;31m \u001b[0mpd\u001b[0m\u001b[0;34m.\u001b[0m\u001b[0mconcat\u001b[0m\u001b[0;34m(\u001b[0m\u001b[0;34m[\u001b[0m\u001b[0ms1\u001b[0m\u001b[0;34m,\u001b[0m \u001b[0ms4\u001b[0m\u001b[0;34m]\u001b[0m\u001b[0;34m,\u001b[0m \u001b[0maxis\u001b[0m\u001b[0;34m=\u001b[0m\u001b[0;36m1\u001b[0m\u001b[0;34m,\u001b[0m \u001b[0mjoin_axes\u001b[0m\u001b[0;34m=\u001b[0m\u001b[0;34m[\u001b[0m\u001b[0;34m[\u001b[0m\u001b[0;34m'a'\u001b[0m\u001b[0;34m,\u001b[0m \u001b[0;34m'c'\u001b[0m\u001b[0;34m,\u001b[0m \u001b[0;34m'b'\u001b[0m\u001b[0;34m,\u001b[0m \u001b[0;34m'e'\u001b[0m\u001b[0;34m]\u001b[0m\u001b[0;34m]\u001b[0m\u001b[0;34m)\u001b[0m\u001b[0;34m\u001b[0m\u001b[0;34m\u001b[0m\u001b[0m\n\u001b[0m",
            "\u001b[0;31mTypeError\u001b[0m: concat() got an unexpected keyword argument 'join_axes'"
          ]
        }
      ]
    },
    {
      "cell_type": "code",
      "metadata": {
        "id": "vS2Gl3V1TJmc",
        "colab_type": "code",
        "colab": {
          "base_uri": "https://localhost:8080/",
          "height": 134
        },
        "outputId": "ad11c065-634e-4a07-ecfd-4b2dfa398ec4"
      },
      "source": [
        "#specify key可以实现hierarchical index\n",
        "result = pd.concat([s1, s1, s3], keys=['one', 'two', 'three'])\n",
        "result #当concat是向下堆叠的时候，可以看到前面one 和 two 分别是重复的ab, ab"
      ],
      "execution_count": 44,
      "outputs": [
        {
          "output_type": "execute_result",
          "data": {
            "text/plain": [
              "one    a    0\n",
              "       b    1\n",
              "two    a    0\n",
              "       b    1\n",
              "three  f    5\n",
              "       g    6\n",
              "dtype: int64"
            ]
          },
          "metadata": {
            "tags": []
          },
          "execution_count": 44
        }
      ]
    },
    {
      "cell_type": "code",
      "metadata": {
        "id": "mWQotQTEUJ1f",
        "colab_type": "code",
        "colab": {
          "base_uri": "https://localhost:8080/",
          "height": 136
        },
        "outputId": "663094bd-1fe4-48b0-914b-0679b1d13166"
      },
      "source": [
        "#把hierarchical index拆分\n",
        "result.unstack()"
      ],
      "execution_count": 45,
      "outputs": [
        {
          "output_type": "execute_result",
          "data": {
            "text/html": [
              "<div>\n",
              "<style scoped>\n",
              "    .dataframe tbody tr th:only-of-type {\n",
              "        vertical-align: middle;\n",
              "    }\n",
              "\n",
              "    .dataframe tbody tr th {\n",
              "        vertical-align: top;\n",
              "    }\n",
              "\n",
              "    .dataframe thead th {\n",
              "        text-align: right;\n",
              "    }\n",
              "</style>\n",
              "<table border=\"1\" class=\"dataframe\">\n",
              "  <thead>\n",
              "    <tr style=\"text-align: right;\">\n",
              "      <th></th>\n",
              "      <th>a</th>\n",
              "      <th>b</th>\n",
              "      <th>f</th>\n",
              "      <th>g</th>\n",
              "    </tr>\n",
              "  </thead>\n",
              "  <tbody>\n",
              "    <tr>\n",
              "      <th>one</th>\n",
              "      <td>0.0</td>\n",
              "      <td>1.0</td>\n",
              "      <td>NaN</td>\n",
              "      <td>NaN</td>\n",
              "    </tr>\n",
              "    <tr>\n",
              "      <th>two</th>\n",
              "      <td>0.0</td>\n",
              "      <td>1.0</td>\n",
              "      <td>NaN</td>\n",
              "      <td>NaN</td>\n",
              "    </tr>\n",
              "    <tr>\n",
              "      <th>three</th>\n",
              "      <td>NaN</td>\n",
              "      <td>NaN</td>\n",
              "      <td>5.0</td>\n",
              "      <td>6.0</td>\n",
              "    </tr>\n",
              "  </tbody>\n",
              "</table>\n",
              "</div>"
            ],
            "text/plain": [
              "         a    b    f    g\n",
              "one    0.0  1.0  NaN  NaN\n",
              "two    0.0  1.0  NaN  NaN\n",
              "three  NaN  NaN  5.0  6.0"
            ]
          },
          "metadata": {
            "tags": []
          },
          "execution_count": 45
        }
      ]
    },
    {
      "cell_type": "code",
      "metadata": {
        "id": "iwwHsOjOUWuf",
        "colab_type": "code",
        "colab": {
          "base_uri": "https://localhost:8080/",
          "height": 254
        },
        "outputId": "0a4b2bb2-d5b7-4c19-8815-316368491304"
      },
      "source": [
        "#当横向堆叠，axis=1的时候，key就不会变成hierarchical index，而是变成column名字\n",
        "pd.concat([s1,s2,s3], axis=1, keys=['one', 'two', 'three'])"
      ],
      "execution_count": 46,
      "outputs": [
        {
          "output_type": "execute_result",
          "data": {
            "text/html": [
              "<div>\n",
              "<style scoped>\n",
              "    .dataframe tbody tr th:only-of-type {\n",
              "        vertical-align: middle;\n",
              "    }\n",
              "\n",
              "    .dataframe tbody tr th {\n",
              "        vertical-align: top;\n",
              "    }\n",
              "\n",
              "    .dataframe thead th {\n",
              "        text-align: right;\n",
              "    }\n",
              "</style>\n",
              "<table border=\"1\" class=\"dataframe\">\n",
              "  <thead>\n",
              "    <tr style=\"text-align: right;\">\n",
              "      <th></th>\n",
              "      <th>one</th>\n",
              "      <th>two</th>\n",
              "      <th>three</th>\n",
              "    </tr>\n",
              "  </thead>\n",
              "  <tbody>\n",
              "    <tr>\n",
              "      <th>a</th>\n",
              "      <td>0.0</td>\n",
              "      <td>NaN</td>\n",
              "      <td>NaN</td>\n",
              "    </tr>\n",
              "    <tr>\n",
              "      <th>b</th>\n",
              "      <td>1.0</td>\n",
              "      <td>NaN</td>\n",
              "      <td>NaN</td>\n",
              "    </tr>\n",
              "    <tr>\n",
              "      <th>c</th>\n",
              "      <td>NaN</td>\n",
              "      <td>2.0</td>\n",
              "      <td>NaN</td>\n",
              "    </tr>\n",
              "    <tr>\n",
              "      <th>d</th>\n",
              "      <td>NaN</td>\n",
              "      <td>3.0</td>\n",
              "      <td>NaN</td>\n",
              "    </tr>\n",
              "    <tr>\n",
              "      <th>e</th>\n",
              "      <td>NaN</td>\n",
              "      <td>4.0</td>\n",
              "      <td>NaN</td>\n",
              "    </tr>\n",
              "    <tr>\n",
              "      <th>f</th>\n",
              "      <td>NaN</td>\n",
              "      <td>NaN</td>\n",
              "      <td>5.0</td>\n",
              "    </tr>\n",
              "    <tr>\n",
              "      <th>g</th>\n",
              "      <td>NaN</td>\n",
              "      <td>NaN</td>\n",
              "      <td>6.0</td>\n",
              "    </tr>\n",
              "  </tbody>\n",
              "</table>\n",
              "</div>"
            ],
            "text/plain": [
              "   one  two  three\n",
              "a  0.0  NaN    NaN\n",
              "b  1.0  NaN    NaN\n",
              "c  NaN  2.0    NaN\n",
              "d  NaN  3.0    NaN\n",
              "e  NaN  4.0    NaN\n",
              "f  NaN  NaN    5.0\n",
              "g  NaN  NaN    6.0"
            ]
          },
          "metadata": {
            "tags": []
          },
          "execution_count": 46
        }
      ]
    },
    {
      "cell_type": "markdown",
      "metadata": {
        "id": "JJvlewOjU4PQ",
        "colab_type": "text"
      },
      "source": [
        "同样的逻辑可以运用到DF上面"
      ]
    },
    {
      "cell_type": "code",
      "metadata": {
        "id": "lm3DdGvBUy4t",
        "colab_type": "code",
        "colab": {
          "base_uri": "https://localhost:8080/",
          "height": 136
        },
        "outputId": "edb27d8f-4ded-4c76-f9ad-d46c870188d9"
      },
      "source": [
        "df1 = pd.DataFrame(np.arange(6).reshape(3, 2), index=['a', 'b', 'c'],\n",
        "          columns=['one', 'two'])\n",
        "df2 = pd.DataFrame(5 + np.arange(4).reshape(2, 2), index=['a', 'c'],\n",
        "          columns=['three', 'four'])\n",
        "df1"
      ],
      "execution_count": 47,
      "outputs": [
        {
          "output_type": "execute_result",
          "data": {
            "text/html": [
              "<div>\n",
              "<style scoped>\n",
              "    .dataframe tbody tr th:only-of-type {\n",
              "        vertical-align: middle;\n",
              "    }\n",
              "\n",
              "    .dataframe tbody tr th {\n",
              "        vertical-align: top;\n",
              "    }\n",
              "\n",
              "    .dataframe thead th {\n",
              "        text-align: right;\n",
              "    }\n",
              "</style>\n",
              "<table border=\"1\" class=\"dataframe\">\n",
              "  <thead>\n",
              "    <tr style=\"text-align: right;\">\n",
              "      <th></th>\n",
              "      <th>one</th>\n",
              "      <th>two</th>\n",
              "    </tr>\n",
              "  </thead>\n",
              "  <tbody>\n",
              "    <tr>\n",
              "      <th>a</th>\n",
              "      <td>0</td>\n",
              "      <td>1</td>\n",
              "    </tr>\n",
              "    <tr>\n",
              "      <th>b</th>\n",
              "      <td>2</td>\n",
              "      <td>3</td>\n",
              "    </tr>\n",
              "    <tr>\n",
              "      <th>c</th>\n",
              "      <td>4</td>\n",
              "      <td>5</td>\n",
              "    </tr>\n",
              "  </tbody>\n",
              "</table>\n",
              "</div>"
            ],
            "text/plain": [
              "   one  two\n",
              "a    0    1\n",
              "b    2    3\n",
              "c    4    5"
            ]
          },
          "metadata": {
            "tags": []
          },
          "execution_count": 47
        }
      ]
    },
    {
      "cell_type": "code",
      "metadata": {
        "id": "K5z49VLbVCtr",
        "colab_type": "code",
        "colab": {
          "base_uri": "https://localhost:8080/",
          "height": 106
        },
        "outputId": "b0ce52f0-17c5-4289-851f-aae8cd9e8e32"
      },
      "source": [
        "df2"
      ],
      "execution_count": 48,
      "outputs": [
        {
          "output_type": "execute_result",
          "data": {
            "text/html": [
              "<div>\n",
              "<style scoped>\n",
              "    .dataframe tbody tr th:only-of-type {\n",
              "        vertical-align: middle;\n",
              "    }\n",
              "\n",
              "    .dataframe tbody tr th {\n",
              "        vertical-align: top;\n",
              "    }\n",
              "\n",
              "    .dataframe thead th {\n",
              "        text-align: right;\n",
              "    }\n",
              "</style>\n",
              "<table border=\"1\" class=\"dataframe\">\n",
              "  <thead>\n",
              "    <tr style=\"text-align: right;\">\n",
              "      <th></th>\n",
              "      <th>three</th>\n",
              "      <th>four</th>\n",
              "    </tr>\n",
              "  </thead>\n",
              "  <tbody>\n",
              "    <tr>\n",
              "      <th>a</th>\n",
              "      <td>5</td>\n",
              "      <td>6</td>\n",
              "    </tr>\n",
              "    <tr>\n",
              "      <th>c</th>\n",
              "      <td>7</td>\n",
              "      <td>8</td>\n",
              "    </tr>\n",
              "  </tbody>\n",
              "</table>\n",
              "</div>"
            ],
            "text/plain": [
              "   three  four\n",
              "a      5     6\n",
              "c      7     8"
            ]
          },
          "metadata": {
            "tags": []
          },
          "execution_count": 48
        }
      ]
    },
    {
      "cell_type": "code",
      "metadata": {
        "id": "DID0NYJYVDIS",
        "colab_type": "code",
        "colab": {
          "base_uri": "https://localhost:8080/",
          "height": 166
        },
        "outputId": "43760a38-68d3-4eb3-c41c-eb51f57b5aef"
      },
      "source": [
        "pd.concat([df1,df2], axis=1, keys=['level1', 'level2'])"
      ],
      "execution_count": 49,
      "outputs": [
        {
          "output_type": "execute_result",
          "data": {
            "text/html": [
              "<div>\n",
              "<style scoped>\n",
              "    .dataframe tbody tr th:only-of-type {\n",
              "        vertical-align: middle;\n",
              "    }\n",
              "\n",
              "    .dataframe tbody tr th {\n",
              "        vertical-align: top;\n",
              "    }\n",
              "\n",
              "    .dataframe thead tr th {\n",
              "        text-align: left;\n",
              "    }\n",
              "</style>\n",
              "<table border=\"1\" class=\"dataframe\">\n",
              "  <thead>\n",
              "    <tr>\n",
              "      <th></th>\n",
              "      <th colspan=\"2\" halign=\"left\">level1</th>\n",
              "      <th colspan=\"2\" halign=\"left\">level2</th>\n",
              "    </tr>\n",
              "    <tr>\n",
              "      <th></th>\n",
              "      <th>one</th>\n",
              "      <th>two</th>\n",
              "      <th>three</th>\n",
              "      <th>four</th>\n",
              "    </tr>\n",
              "  </thead>\n",
              "  <tbody>\n",
              "    <tr>\n",
              "      <th>a</th>\n",
              "      <td>0</td>\n",
              "      <td>1</td>\n",
              "      <td>5.0</td>\n",
              "      <td>6.0</td>\n",
              "    </tr>\n",
              "    <tr>\n",
              "      <th>b</th>\n",
              "      <td>2</td>\n",
              "      <td>3</td>\n",
              "      <td>NaN</td>\n",
              "      <td>NaN</td>\n",
              "    </tr>\n",
              "    <tr>\n",
              "      <th>c</th>\n",
              "      <td>4</td>\n",
              "      <td>5</td>\n",
              "      <td>7.0</td>\n",
              "      <td>8.0</td>\n",
              "    </tr>\n",
              "  </tbody>\n",
              "</table>\n",
              "</div>"
            ],
            "text/plain": [
              "  level1     level2     \n",
              "     one two  three four\n",
              "a      0   1    5.0  6.0\n",
              "b      2   3    NaN  NaN\n",
              "c      4   5    7.0  8.0"
            ]
          },
          "metadata": {
            "tags": []
          },
          "execution_count": 49
        }
      ]
    },
    {
      "cell_type": "code",
      "metadata": {
        "id": "zWEPvrXkVM0h",
        "colab_type": "code",
        "colab": {
          "base_uri": "https://localhost:8080/",
          "height": 166
        },
        "outputId": "81be245e-1afc-486d-e585-eab8ae1d59a3"
      },
      "source": [
        "#如果是pass一个dict进去，则可specify具体哪个DF对应哪个key\n",
        "#感觉非常重要！！！！！！！！！！！！！！！！！！！！！！\n",
        "pd.concat({'level': df1, 'level2': df2}, axis=1)"
      ],
      "execution_count": 51,
      "outputs": [
        {
          "output_type": "execute_result",
          "data": {
            "text/html": [
              "<div>\n",
              "<style scoped>\n",
              "    .dataframe tbody tr th:only-of-type {\n",
              "        vertical-align: middle;\n",
              "    }\n",
              "\n",
              "    .dataframe tbody tr th {\n",
              "        vertical-align: top;\n",
              "    }\n",
              "\n",
              "    .dataframe thead tr th {\n",
              "        text-align: left;\n",
              "    }\n",
              "</style>\n",
              "<table border=\"1\" class=\"dataframe\">\n",
              "  <thead>\n",
              "    <tr>\n",
              "      <th></th>\n",
              "      <th colspan=\"2\" halign=\"left\">level</th>\n",
              "      <th colspan=\"2\" halign=\"left\">level2</th>\n",
              "    </tr>\n",
              "    <tr>\n",
              "      <th></th>\n",
              "      <th>one</th>\n",
              "      <th>two</th>\n",
              "      <th>three</th>\n",
              "      <th>four</th>\n",
              "    </tr>\n",
              "  </thead>\n",
              "  <tbody>\n",
              "    <tr>\n",
              "      <th>a</th>\n",
              "      <td>0</td>\n",
              "      <td>1</td>\n",
              "      <td>5.0</td>\n",
              "      <td>6.0</td>\n",
              "    </tr>\n",
              "    <tr>\n",
              "      <th>b</th>\n",
              "      <td>2</td>\n",
              "      <td>3</td>\n",
              "      <td>NaN</td>\n",
              "      <td>NaN</td>\n",
              "    </tr>\n",
              "    <tr>\n",
              "      <th>c</th>\n",
              "      <td>4</td>\n",
              "      <td>5</td>\n",
              "      <td>7.0</td>\n",
              "      <td>8.0</td>\n",
              "    </tr>\n",
              "  </tbody>\n",
              "</table>\n",
              "</div>"
            ],
            "text/plain": [
              "  level     level2     \n",
              "    one two  three four\n",
              "a     0   1    5.0  6.0\n",
              "b     2   3    NaN  NaN\n",
              "c     4   5    7.0  8.0"
            ]
          },
          "metadata": {
            "tags": []
          },
          "execution_count": 51
        }
      ]
    },
    {
      "cell_type": "code",
      "metadata": {
        "id": "AEjKraDzVnRz",
        "colab_type": "code",
        "colab": {
          "base_uri": "https://localhost:8080/",
          "height": 166
        },
        "outputId": "0efed181-b9cd-41bf-c242-0729b02f75f0"
      },
      "source": [
        "pd.concat({'level': df1, 'level2': df2}, axis=1, names=['upper', 'lower'])#还可以给不同的hierarchical index命名"
      ],
      "execution_count": 52,
      "outputs": [
        {
          "output_type": "execute_result",
          "data": {
            "text/html": [
              "<div>\n",
              "<style scoped>\n",
              "    .dataframe tbody tr th:only-of-type {\n",
              "        vertical-align: middle;\n",
              "    }\n",
              "\n",
              "    .dataframe tbody tr th {\n",
              "        vertical-align: top;\n",
              "    }\n",
              "\n",
              "    .dataframe thead tr th {\n",
              "        text-align: left;\n",
              "    }\n",
              "</style>\n",
              "<table border=\"1\" class=\"dataframe\">\n",
              "  <thead>\n",
              "    <tr>\n",
              "      <th>upper</th>\n",
              "      <th colspan=\"2\" halign=\"left\">level</th>\n",
              "      <th colspan=\"2\" halign=\"left\">level2</th>\n",
              "    </tr>\n",
              "    <tr>\n",
              "      <th>lower</th>\n",
              "      <th>one</th>\n",
              "      <th>two</th>\n",
              "      <th>three</th>\n",
              "      <th>four</th>\n",
              "    </tr>\n",
              "  </thead>\n",
              "  <tbody>\n",
              "    <tr>\n",
              "      <th>a</th>\n",
              "      <td>0</td>\n",
              "      <td>1</td>\n",
              "      <td>5.0</td>\n",
              "      <td>6.0</td>\n",
              "    </tr>\n",
              "    <tr>\n",
              "      <th>b</th>\n",
              "      <td>2</td>\n",
              "      <td>3</td>\n",
              "      <td>NaN</td>\n",
              "      <td>NaN</td>\n",
              "    </tr>\n",
              "    <tr>\n",
              "      <th>c</th>\n",
              "      <td>4</td>\n",
              "      <td>5</td>\n",
              "      <td>7.0</td>\n",
              "      <td>8.0</td>\n",
              "    </tr>\n",
              "  </tbody>\n",
              "</table>\n",
              "</div>"
            ],
            "text/plain": [
              "upper level     level2     \n",
              "lower   one two  three four\n",
              "a         0   1    5.0  6.0\n",
              "b         2   3    NaN  NaN\n",
              "c         4   5    7.0  8.0"
            ]
          },
          "metadata": {
            "tags": []
          },
          "execution_count": 52
        }
      ]
    },
    {
      "cell_type": "markdown",
      "metadata": {
        "id": "JqAKU93PWALM",
        "colab_type": "text"
      },
      "source": [
        "ignore_index是在concat的时候，让index不会重复的方法"
      ]
    },
    {
      "cell_type": "code",
      "metadata": {
        "id": "4WBDgHMsV3uw",
        "colab_type": "code",
        "colab": {
          "base_uri": "https://localhost:8080/",
          "height": 136
        },
        "outputId": "6ba6a1da-f0af-4e43-897f-7fd038d65c75"
      },
      "source": [
        "df1 = pd.DataFrame(np.random.randn(3, 4), columns=['a', 'b', 'c', 'd'])\n",
        "df2 = pd.DataFrame(np.random.randn(2, 3), columns=['b', 'd', 'a'])\n",
        "df1"
      ],
      "execution_count": 53,
      "outputs": [
        {
          "output_type": "execute_result",
          "data": {
            "text/html": [
              "<div>\n",
              "<style scoped>\n",
              "    .dataframe tbody tr th:only-of-type {\n",
              "        vertical-align: middle;\n",
              "    }\n",
              "\n",
              "    .dataframe tbody tr th {\n",
              "        vertical-align: top;\n",
              "    }\n",
              "\n",
              "    .dataframe thead th {\n",
              "        text-align: right;\n",
              "    }\n",
              "</style>\n",
              "<table border=\"1\" class=\"dataframe\">\n",
              "  <thead>\n",
              "    <tr style=\"text-align: right;\">\n",
              "      <th></th>\n",
              "      <th>a</th>\n",
              "      <th>b</th>\n",
              "      <th>c</th>\n",
              "      <th>d</th>\n",
              "    </tr>\n",
              "  </thead>\n",
              "  <tbody>\n",
              "    <tr>\n",
              "      <th>0</th>\n",
              "      <td>0.284082</td>\n",
              "      <td>0.971529</td>\n",
              "      <td>-0.317230</td>\n",
              "      <td>0.075923</td>\n",
              "    </tr>\n",
              "    <tr>\n",
              "      <th>1</th>\n",
              "      <td>-1.231316</td>\n",
              "      <td>-0.414564</td>\n",
              "      <td>-0.033556</td>\n",
              "      <td>-0.291111</td>\n",
              "    </tr>\n",
              "    <tr>\n",
              "      <th>2</th>\n",
              "      <td>-0.226081</td>\n",
              "      <td>1.857837</td>\n",
              "      <td>-0.376839</td>\n",
              "      <td>-0.509156</td>\n",
              "    </tr>\n",
              "  </tbody>\n",
              "</table>\n",
              "</div>"
            ],
            "text/plain": [
              "          a         b         c         d\n",
              "0  0.284082  0.971529 -0.317230  0.075923\n",
              "1 -1.231316 -0.414564 -0.033556 -0.291111\n",
              "2 -0.226081  1.857837 -0.376839 -0.509156"
            ]
          },
          "metadata": {
            "tags": []
          },
          "execution_count": 53
        }
      ]
    },
    {
      "cell_type": "code",
      "metadata": {
        "id": "maSAPp2GWLVW",
        "colab_type": "code",
        "colab": {
          "base_uri": "https://localhost:8080/",
          "height": 106
        },
        "outputId": "40330716-3010-4383-fdc5-87ca1b018a8e"
      },
      "source": [
        "df2"
      ],
      "execution_count": 54,
      "outputs": [
        {
          "output_type": "execute_result",
          "data": {
            "text/html": [
              "<div>\n",
              "<style scoped>\n",
              "    .dataframe tbody tr th:only-of-type {\n",
              "        vertical-align: middle;\n",
              "    }\n",
              "\n",
              "    .dataframe tbody tr th {\n",
              "        vertical-align: top;\n",
              "    }\n",
              "\n",
              "    .dataframe thead th {\n",
              "        text-align: right;\n",
              "    }\n",
              "</style>\n",
              "<table border=\"1\" class=\"dataframe\">\n",
              "  <thead>\n",
              "    <tr style=\"text-align: right;\">\n",
              "      <th></th>\n",
              "      <th>b</th>\n",
              "      <th>d</th>\n",
              "      <th>a</th>\n",
              "    </tr>\n",
              "  </thead>\n",
              "  <tbody>\n",
              "    <tr>\n",
              "      <th>0</th>\n",
              "      <td>-0.634376</td>\n",
              "      <td>-2.040825</td>\n",
              "      <td>-0.289211</td>\n",
              "    </tr>\n",
              "    <tr>\n",
              "      <th>1</th>\n",
              "      <td>-1.426720</td>\n",
              "      <td>2.260007</td>\n",
              "      <td>0.524507</td>\n",
              "    </tr>\n",
              "  </tbody>\n",
              "</table>\n",
              "</div>"
            ],
            "text/plain": [
              "          b         d         a\n",
              "0 -0.634376 -2.040825 -0.289211\n",
              "1 -1.426720  2.260007  0.524507"
            ]
          },
          "metadata": {
            "tags": []
          },
          "execution_count": 54
        }
      ]
    },
    {
      "cell_type": "code",
      "metadata": {
        "id": "Au2hGfQ7WLqB",
        "colab_type": "code",
        "colab": {
          "base_uri": "https://localhost:8080/",
          "height": 195
        },
        "outputId": "4d6a2c4b-fc4f-4219-9729-474abc7f2dc6"
      },
      "source": [
        "#ignore index的效果\n",
        "pd.concat([df1,df2], ignore_index=True)"
      ],
      "execution_count": 55,
      "outputs": [
        {
          "output_type": "execute_result",
          "data": {
            "text/html": [
              "<div>\n",
              "<style scoped>\n",
              "    .dataframe tbody tr th:only-of-type {\n",
              "        vertical-align: middle;\n",
              "    }\n",
              "\n",
              "    .dataframe tbody tr th {\n",
              "        vertical-align: top;\n",
              "    }\n",
              "\n",
              "    .dataframe thead th {\n",
              "        text-align: right;\n",
              "    }\n",
              "</style>\n",
              "<table border=\"1\" class=\"dataframe\">\n",
              "  <thead>\n",
              "    <tr style=\"text-align: right;\">\n",
              "      <th></th>\n",
              "      <th>a</th>\n",
              "      <th>b</th>\n",
              "      <th>c</th>\n",
              "      <th>d</th>\n",
              "    </tr>\n",
              "  </thead>\n",
              "  <tbody>\n",
              "    <tr>\n",
              "      <th>0</th>\n",
              "      <td>0.284082</td>\n",
              "      <td>0.971529</td>\n",
              "      <td>-0.317230</td>\n",
              "      <td>0.075923</td>\n",
              "    </tr>\n",
              "    <tr>\n",
              "      <th>1</th>\n",
              "      <td>-1.231316</td>\n",
              "      <td>-0.414564</td>\n",
              "      <td>-0.033556</td>\n",
              "      <td>-0.291111</td>\n",
              "    </tr>\n",
              "    <tr>\n",
              "      <th>2</th>\n",
              "      <td>-0.226081</td>\n",
              "      <td>1.857837</td>\n",
              "      <td>-0.376839</td>\n",
              "      <td>-0.509156</td>\n",
              "    </tr>\n",
              "    <tr>\n",
              "      <th>3</th>\n",
              "      <td>-0.289211</td>\n",
              "      <td>-0.634376</td>\n",
              "      <td>NaN</td>\n",
              "      <td>-2.040825</td>\n",
              "    </tr>\n",
              "    <tr>\n",
              "      <th>4</th>\n",
              "      <td>0.524507</td>\n",
              "      <td>-1.426720</td>\n",
              "      <td>NaN</td>\n",
              "      <td>2.260007</td>\n",
              "    </tr>\n",
              "  </tbody>\n",
              "</table>\n",
              "</div>"
            ],
            "text/plain": [
              "          a         b         c         d\n",
              "0  0.284082  0.971529 -0.317230  0.075923\n",
              "1 -1.231316 -0.414564 -0.033556 -0.291111\n",
              "2 -0.226081  1.857837 -0.376839 -0.509156\n",
              "3 -0.289211 -0.634376       NaN -2.040825\n",
              "4  0.524507 -1.426720       NaN  2.260007"
            ]
          },
          "metadata": {
            "tags": []
          },
          "execution_count": 55
        }
      ]
    },
    {
      "cell_type": "code",
      "metadata": {
        "id": "N8o5LvnSWQnz",
        "colab_type": "code",
        "colab": {
          "base_uri": "https://localhost:8080/",
          "height": 195
        },
        "outputId": "9593d912-36f4-4c5e-c74a-42fcf558d124"
      },
      "source": [
        "#没有ignore index的效果\n",
        "pd.concat([df1,df2], ignore_index=False)"
      ],
      "execution_count": 56,
      "outputs": [
        {
          "output_type": "execute_result",
          "data": {
            "text/html": [
              "<div>\n",
              "<style scoped>\n",
              "    .dataframe tbody tr th:only-of-type {\n",
              "        vertical-align: middle;\n",
              "    }\n",
              "\n",
              "    .dataframe tbody tr th {\n",
              "        vertical-align: top;\n",
              "    }\n",
              "\n",
              "    .dataframe thead th {\n",
              "        text-align: right;\n",
              "    }\n",
              "</style>\n",
              "<table border=\"1\" class=\"dataframe\">\n",
              "  <thead>\n",
              "    <tr style=\"text-align: right;\">\n",
              "      <th></th>\n",
              "      <th>a</th>\n",
              "      <th>b</th>\n",
              "      <th>c</th>\n",
              "      <th>d</th>\n",
              "    </tr>\n",
              "  </thead>\n",
              "  <tbody>\n",
              "    <tr>\n",
              "      <th>0</th>\n",
              "      <td>0.284082</td>\n",
              "      <td>0.971529</td>\n",
              "      <td>-0.317230</td>\n",
              "      <td>0.075923</td>\n",
              "    </tr>\n",
              "    <tr>\n",
              "      <th>1</th>\n",
              "      <td>-1.231316</td>\n",
              "      <td>-0.414564</td>\n",
              "      <td>-0.033556</td>\n",
              "      <td>-0.291111</td>\n",
              "    </tr>\n",
              "    <tr>\n",
              "      <th>2</th>\n",
              "      <td>-0.226081</td>\n",
              "      <td>1.857837</td>\n",
              "      <td>-0.376839</td>\n",
              "      <td>-0.509156</td>\n",
              "    </tr>\n",
              "    <tr>\n",
              "      <th>0</th>\n",
              "      <td>-0.289211</td>\n",
              "      <td>-0.634376</td>\n",
              "      <td>NaN</td>\n",
              "      <td>-2.040825</td>\n",
              "    </tr>\n",
              "    <tr>\n",
              "      <th>1</th>\n",
              "      <td>0.524507</td>\n",
              "      <td>-1.426720</td>\n",
              "      <td>NaN</td>\n",
              "      <td>2.260007</td>\n",
              "    </tr>\n",
              "  </tbody>\n",
              "</table>\n",
              "</div>"
            ],
            "text/plain": [
              "          a         b         c         d\n",
              "0  0.284082  0.971529 -0.317230  0.075923\n",
              "1 -1.231316 -0.414564 -0.033556 -0.291111\n",
              "2 -0.226081  1.857837 -0.376839 -0.509156\n",
              "0 -0.289211 -0.634376       NaN -2.040825\n",
              "1  0.524507 -1.426720       NaN  2.260007"
            ]
          },
          "metadata": {
            "tags": []
          },
          "execution_count": 56
        }
      ]
    },
    {
      "cell_type": "markdown",
      "metadata": {
        "id": "AmGGE1BMWbxq",
        "colab_type": "text"
      },
      "source": [
        "![image.png](data:image/png;base64,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)"
      ]
    },
    {
      "cell_type": "markdown",
      "metadata": {
        "id": "-YZW459wWdeZ",
        "colab_type": "text"
      },
      "source": [
        "## Combining Data with Overlap"
      ]
    },
    {
      "cell_type": "markdown",
      "metadata": {
        "id": "7AALiJHgWn_b",
        "colab_type": "text"
      },
      "source": [
        "这种combine的方法是，当A有的时候用A，A没有的时候用B（备胎）"
      ]
    },
    {
      "cell_type": "code",
      "metadata": {
        "id": "TpEGiTX-WWjG",
        "colab_type": "code",
        "colab": {
          "base_uri": "https://localhost:8080/",
          "height": 134
        },
        "outputId": "20272187-8a62-4969-a81a-c901223b6d9a"
      },
      "source": [
        "a = pd.Series([np.nan, 2.5, np.nan, 3.5, 4.5, np.nan],\n",
        "        index=['f', 'e', 'd', 'c', 'b', 'a'])\n",
        "b = pd.Series(np.arange(len(a), dtype=np.float64),\n",
        "        index=['f', 'e', 'd', 'c', 'b', 'a'])\n",
        "b[-1] = np.nan\n",
        "a"
      ],
      "execution_count": 57,
      "outputs": [
        {
          "output_type": "execute_result",
          "data": {
            "text/plain": [
              "f    NaN\n",
              "e    2.5\n",
              "d    NaN\n",
              "c    3.5\n",
              "b    4.5\n",
              "a    NaN\n",
              "dtype: float64"
            ]
          },
          "metadata": {
            "tags": []
          },
          "execution_count": 57
        }
      ]
    },
    {
      "cell_type": "code",
      "metadata": {
        "id": "6dLq51QQW2Td",
        "colab_type": "code",
        "colab": {
          "base_uri": "https://localhost:8080/",
          "height": 134
        },
        "outputId": "ecdf8e4e-2bde-430a-8e85-04b961a06af4"
      },
      "source": [
        "b"
      ],
      "execution_count": 58,
      "outputs": [
        {
          "output_type": "execute_result",
          "data": {
            "text/plain": [
              "f    0.0\n",
              "e    1.0\n",
              "d    2.0\n",
              "c    3.0\n",
              "b    4.0\n",
              "a    NaN\n",
              "dtype: float64"
            ]
          },
          "metadata": {
            "tags": []
          },
          "execution_count": 58
        }
      ]
    },
    {
      "cell_type": "code",
      "metadata": {
        "id": "TATngwJJW25W",
        "colab_type": "code",
        "colab": {
          "base_uri": "https://localhost:8080/",
          "height": 134
        },
        "outputId": "91dfa84e-c9cf-492d-816f-06074f1e8544"
      },
      "source": [
        "a.combine_first(b)\n",
        "#当a有的时候，取a的，没有的话取b\n",
        "#所以你看到下面的结果是优先取a,没有的话再取b"
      ],
      "execution_count": 60,
      "outputs": [
        {
          "output_type": "execute_result",
          "data": {
            "text/plain": [
              "f    0.0\n",
              "e    2.5\n",
              "d    2.0\n",
              "c    3.5\n",
              "b    4.5\n",
              "a    NaN\n",
              "dtype: float64"
            ]
          },
          "metadata": {
            "tags": []
          },
          "execution_count": 60
        }
      ]
    },
    {
      "cell_type": "markdown",
      "metadata": {
        "id": "S70oN5oMYGu9",
        "colab_type": "text"
      },
      "source": [
        "对于dataframe也是如此，"
      ]
    },
    {
      "cell_type": "code",
      "metadata": {
        "id": "W9Kaj9UHXQze",
        "colab_type": "code",
        "colab": {
          "base_uri": "https://localhost:8080/",
          "height": 166
        },
        "outputId": "49bded13-5c01-4609-a569-dd84ecb37b8f"
      },
      "source": [
        "df1 = pd.DataFrame({'a': [1., np.nan, 5., np.nan],\n",
        "           'b': [np.nan, 2., np.nan, 6.],\n",
        "           'c': range(2, 18, 4)})\n",
        "df2 = pd.DataFrame({'a': [5., 4., np.nan, 3., 7.],\n",
        "           'b': [np.nan, 3., 4., 6., 8.]})\n",
        "df1"
      ],
      "execution_count": 61,
      "outputs": [
        {
          "output_type": "execute_result",
          "data": {
            "text/html": [
              "<div>\n",
              "<style scoped>\n",
              "    .dataframe tbody tr th:only-of-type {\n",
              "        vertical-align: middle;\n",
              "    }\n",
              "\n",
              "    .dataframe tbody tr th {\n",
              "        vertical-align: top;\n",
              "    }\n",
              "\n",
              "    .dataframe thead th {\n",
              "        text-align: right;\n",
              "    }\n",
              "</style>\n",
              "<table border=\"1\" class=\"dataframe\">\n",
              "  <thead>\n",
              "    <tr style=\"text-align: right;\">\n",
              "      <th></th>\n",
              "      <th>a</th>\n",
              "      <th>b</th>\n",
              "      <th>c</th>\n",
              "    </tr>\n",
              "  </thead>\n",
              "  <tbody>\n",
              "    <tr>\n",
              "      <th>0</th>\n",
              "      <td>1.0</td>\n",
              "      <td>NaN</td>\n",
              "      <td>2</td>\n",
              "    </tr>\n",
              "    <tr>\n",
              "      <th>1</th>\n",
              "      <td>NaN</td>\n",
              "      <td>2.0</td>\n",
              "      <td>6</td>\n",
              "    </tr>\n",
              "    <tr>\n",
              "      <th>2</th>\n",
              "      <td>5.0</td>\n",
              "      <td>NaN</td>\n",
              "      <td>10</td>\n",
              "    </tr>\n",
              "    <tr>\n",
              "      <th>3</th>\n",
              "      <td>NaN</td>\n",
              "      <td>6.0</td>\n",
              "      <td>14</td>\n",
              "    </tr>\n",
              "  </tbody>\n",
              "</table>\n",
              "</div>"
            ],
            "text/plain": [
              "     a    b   c\n",
              "0  1.0  NaN   2\n",
              "1  NaN  2.0   6\n",
              "2  5.0  NaN  10\n",
              "3  NaN  6.0  14"
            ]
          },
          "metadata": {
            "tags": []
          },
          "execution_count": 61
        }
      ]
    },
    {
      "cell_type": "code",
      "metadata": {
        "id": "uLP_dTDyYVlk",
        "colab_type": "code",
        "colab": {
          "base_uri": "https://localhost:8080/",
          "height": 195
        },
        "outputId": "77a62e21-401f-4251-baef-65706be5dd2c"
      },
      "source": [
        "df2"
      ],
      "execution_count": 62,
      "outputs": [
        {
          "output_type": "execute_result",
          "data": {
            "text/html": [
              "<div>\n",
              "<style scoped>\n",
              "    .dataframe tbody tr th:only-of-type {\n",
              "        vertical-align: middle;\n",
              "    }\n",
              "\n",
              "    .dataframe tbody tr th {\n",
              "        vertical-align: top;\n",
              "    }\n",
              "\n",
              "    .dataframe thead th {\n",
              "        text-align: right;\n",
              "    }\n",
              "</style>\n",
              "<table border=\"1\" class=\"dataframe\">\n",
              "  <thead>\n",
              "    <tr style=\"text-align: right;\">\n",
              "      <th></th>\n",
              "      <th>a</th>\n",
              "      <th>b</th>\n",
              "    </tr>\n",
              "  </thead>\n",
              "  <tbody>\n",
              "    <tr>\n",
              "      <th>0</th>\n",
              "      <td>5.0</td>\n",
              "      <td>NaN</td>\n",
              "    </tr>\n",
              "    <tr>\n",
              "      <th>1</th>\n",
              "      <td>4.0</td>\n",
              "      <td>3.0</td>\n",
              "    </tr>\n",
              "    <tr>\n",
              "      <th>2</th>\n",
              "      <td>NaN</td>\n",
              "      <td>4.0</td>\n",
              "    </tr>\n",
              "    <tr>\n",
              "      <th>3</th>\n",
              "      <td>3.0</td>\n",
              "      <td>6.0</td>\n",
              "    </tr>\n",
              "    <tr>\n",
              "      <th>4</th>\n",
              "      <td>7.0</td>\n",
              "      <td>8.0</td>\n",
              "    </tr>\n",
              "  </tbody>\n",
              "</table>\n",
              "</div>"
            ],
            "text/plain": [
              "     a    b\n",
              "0  5.0  NaN\n",
              "1  4.0  3.0\n",
              "2  NaN  4.0\n",
              "3  3.0  6.0\n",
              "4  7.0  8.0"
            ]
          },
          "metadata": {
            "tags": []
          },
          "execution_count": 62
        }
      ]
    },
    {
      "cell_type": "code",
      "metadata": {
        "id": "MHcfH33JYV35",
        "colab_type": "code",
        "colab": {
          "base_uri": "https://localhost:8080/",
          "height": 195
        },
        "outputId": "edcb7006-950f-495e-bebe-8d52ce434207"
      },
      "source": [
        "df1.combine_first(df2)"
      ],
      "execution_count": 63,
      "outputs": [
        {
          "output_type": "execute_result",
          "data": {
            "text/html": [
              "<div>\n",
              "<style scoped>\n",
              "    .dataframe tbody tr th:only-of-type {\n",
              "        vertical-align: middle;\n",
              "    }\n",
              "\n",
              "    .dataframe tbody tr th {\n",
              "        vertical-align: top;\n",
              "    }\n",
              "\n",
              "    .dataframe thead th {\n",
              "        text-align: right;\n",
              "    }\n",
              "</style>\n",
              "<table border=\"1\" class=\"dataframe\">\n",
              "  <thead>\n",
              "    <tr style=\"text-align: right;\">\n",
              "      <th></th>\n",
              "      <th>a</th>\n",
              "      <th>b</th>\n",
              "      <th>c</th>\n",
              "    </tr>\n",
              "  </thead>\n",
              "  <tbody>\n",
              "    <tr>\n",
              "      <th>0</th>\n",
              "      <td>1.0</td>\n",
              "      <td>NaN</td>\n",
              "      <td>2.0</td>\n",
              "    </tr>\n",
              "    <tr>\n",
              "      <th>1</th>\n",
              "      <td>4.0</td>\n",
              "      <td>2.0</td>\n",
              "      <td>6.0</td>\n",
              "    </tr>\n",
              "    <tr>\n",
              "      <th>2</th>\n",
              "      <td>5.0</td>\n",
              "      <td>4.0</td>\n",
              "      <td>10.0</td>\n",
              "    </tr>\n",
              "    <tr>\n",
              "      <th>3</th>\n",
              "      <td>3.0</td>\n",
              "      <td>6.0</td>\n",
              "      <td>14.0</td>\n",
              "    </tr>\n",
              "    <tr>\n",
              "      <th>4</th>\n",
              "      <td>7.0</td>\n",
              "      <td>8.0</td>\n",
              "      <td>NaN</td>\n",
              "    </tr>\n",
              "  </tbody>\n",
              "</table>\n",
              "</div>"
            ],
            "text/plain": [
              "     a    b     c\n",
              "0  1.0  NaN   2.0\n",
              "1  4.0  2.0   6.0\n",
              "2  5.0  4.0  10.0\n",
              "3  3.0  6.0  14.0\n",
              "4  7.0  8.0   NaN"
            ]
          },
          "metadata": {
            "tags": []
          },
          "execution_count": 63
        }
      ]
    }
  ]
}