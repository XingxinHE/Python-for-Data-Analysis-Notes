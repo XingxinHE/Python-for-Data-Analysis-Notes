{
  "nbformat": 4,
  "nbformat_minor": 0,
  "metadata": {
    "colab": {
      "name": "8.3 Reshaping and Pivoting",
      "provenance": [],
      "collapsed_sections": [],
      "authorship_tag": "ABX9TyMA/WFuQ0yrcIg+DFREKILP",
      "include_colab_link": true
    },
    "kernelspec": {
      "name": "python3",
      "display_name": "Python 3"
    }
  },
  "cells": [
    {
      "cell_type": "markdown",
      "metadata": {
        "id": "view-in-github",
        "colab_type": "text"
      },
      "source": [
        "<a href=\"https://colab.research.google.com/github/XingxinHE/Python-for-Data-Analysis-Notes/blob/master/8_3_Reshaping_and_Pivoting.ipynb\" target=\"_parent\"><img src=\"https://colab.research.google.com/assets/colab-badge.svg\" alt=\"Open In Colab\"/></a>"
      ]
    },
    {
      "cell_type": "code",
      "metadata": {
        "id": "8IRG0cakazWI",
        "colab_type": "code",
        "colab": {}
      },
      "source": [
        "import pandas as pd\n",
        "import numpy as np"
      ],
      "execution_count": 1,
      "outputs": []
    },
    {
      "cell_type": "markdown",
      "metadata": {
        "id": "fk8kdweka87x",
        "colab_type": "text"
      },
      "source": [
        "## Reshaping with Hierarchical Indexing"
      ]
    },
    {
      "cell_type": "markdown",
      "metadata": {
        "id": "Zu1lG6D9bC2w",
        "colab_type": "text"
      },
      "source": [
        ".stack()\n",
        "\n",
        ".unstack()"
      ]
    },
    {
      "cell_type": "code",
      "metadata": {
        "id": "4hdv2KBia35S",
        "colab_type": "code",
        "colab": {
          "base_uri": "https://localhost:8080/",
          "height": 136
        },
        "outputId": "0637c0a0-d68f-4ac5-a729-3701b611ce87"
      },
      "source": [
        "data = pd.DataFrame(np.arange(6).reshape((2, 3)),\n",
        "          index=pd.Index(['Ohio', 'Colorado'], name='state'),\n",
        "          columns=pd.Index(['one', 'two', 'three'],\n",
        "          name='number'))\n",
        "\n",
        "data"
      ],
      "execution_count": 2,
      "outputs": [
        {
          "output_type": "execute_result",
          "data": {
            "text/html": [
              "<div>\n",
              "<style scoped>\n",
              "    .dataframe tbody tr th:only-of-type {\n",
              "        vertical-align: middle;\n",
              "    }\n",
              "\n",
              "    .dataframe tbody tr th {\n",
              "        vertical-align: top;\n",
              "    }\n",
              "\n",
              "    .dataframe thead th {\n",
              "        text-align: right;\n",
              "    }\n",
              "</style>\n",
              "<table border=\"1\" class=\"dataframe\">\n",
              "  <thead>\n",
              "    <tr style=\"text-align: right;\">\n",
              "      <th>number</th>\n",
              "      <th>one</th>\n",
              "      <th>two</th>\n",
              "      <th>three</th>\n",
              "    </tr>\n",
              "    <tr>\n",
              "      <th>state</th>\n",
              "      <th></th>\n",
              "      <th></th>\n",
              "      <th></th>\n",
              "    </tr>\n",
              "  </thead>\n",
              "  <tbody>\n",
              "    <tr>\n",
              "      <th>Ohio</th>\n",
              "      <td>0</td>\n",
              "      <td>1</td>\n",
              "      <td>2</td>\n",
              "    </tr>\n",
              "    <tr>\n",
              "      <th>Colorado</th>\n",
              "      <td>3</td>\n",
              "      <td>4</td>\n",
              "      <td>5</td>\n",
              "    </tr>\n",
              "  </tbody>\n",
              "</table>\n",
              "</div>"
            ],
            "text/plain": [
              "number    one  two  three\n",
              "state                    \n",
              "Ohio        0    1      2\n",
              "Colorado    3    4      5"
            ]
          },
          "metadata": {
            "tags": []
          },
          "execution_count": 2
        }
      ]
    },
    {
      "cell_type": "code",
      "metadata": {
        "id": "xLh_gjFTbWgs",
        "colab_type": "code",
        "colab": {
          "base_uri": "https://localhost:8080/",
          "height": 151
        },
        "outputId": "3cdf0eac-9ac4-41d8-b6fb-4f7cebf3c8fe"
      },
      "source": [
        "result = data.stack()\n",
        "result"
      ],
      "execution_count": 4,
      "outputs": [
        {
          "output_type": "execute_result",
          "data": {
            "text/plain": [
              "state     number\n",
              "Ohio      one       0\n",
              "          two       1\n",
              "          three     2\n",
              "Colorado  one       3\n",
              "          two       4\n",
              "          three     5\n",
              "dtype: int64"
            ]
          },
          "metadata": {
            "tags": []
          },
          "execution_count": 4
        }
      ]
    },
    {
      "cell_type": "code",
      "metadata": {
        "id": "dovc-SvSbX6R",
        "colab_type": "code",
        "colab": {
          "base_uri": "https://localhost:8080/",
          "height": 136
        },
        "outputId": "77ddacde-6613-420b-f585-e38f607aa840"
      },
      "source": [
        "result.unstack() #默认unstack的level是-1，也就是最里面的那一层"
      ],
      "execution_count": 5,
      "outputs": [
        {
          "output_type": "execute_result",
          "data": {
            "text/html": [
              "<div>\n",
              "<style scoped>\n",
              "    .dataframe tbody tr th:only-of-type {\n",
              "        vertical-align: middle;\n",
              "    }\n",
              "\n",
              "    .dataframe tbody tr th {\n",
              "        vertical-align: top;\n",
              "    }\n",
              "\n",
              "    .dataframe thead th {\n",
              "        text-align: right;\n",
              "    }\n",
              "</style>\n",
              "<table border=\"1\" class=\"dataframe\">\n",
              "  <thead>\n",
              "    <tr style=\"text-align: right;\">\n",
              "      <th>number</th>\n",
              "      <th>one</th>\n",
              "      <th>two</th>\n",
              "      <th>three</th>\n",
              "    </tr>\n",
              "    <tr>\n",
              "      <th>state</th>\n",
              "      <th></th>\n",
              "      <th></th>\n",
              "      <th></th>\n",
              "    </tr>\n",
              "  </thead>\n",
              "  <tbody>\n",
              "    <tr>\n",
              "      <th>Ohio</th>\n",
              "      <td>0</td>\n",
              "      <td>1</td>\n",
              "      <td>2</td>\n",
              "    </tr>\n",
              "    <tr>\n",
              "      <th>Colorado</th>\n",
              "      <td>3</td>\n",
              "      <td>4</td>\n",
              "      <td>5</td>\n",
              "    </tr>\n",
              "  </tbody>\n",
              "</table>\n",
              "</div>"
            ],
            "text/plain": [
              "number    one  two  three\n",
              "state                    \n",
              "Ohio        0    1      2\n",
              "Colorado    3    4      5"
            ]
          },
          "metadata": {
            "tags": []
          },
          "execution_count": 5
        }
      ]
    },
    {
      "cell_type": "code",
      "metadata": {
        "id": "xbtvSGVzbg4d",
        "colab_type": "code",
        "colab": {
          "base_uri": "https://localhost:8080/",
          "height": 166
        },
        "outputId": "6ad75b50-4f33-4f3e-cfef-b21cec47c597"
      },
      "source": [
        "result.unstack(level=0) #可以specify是表层"
      ],
      "execution_count": 7,
      "outputs": [
        {
          "output_type": "execute_result",
          "data": {
            "text/html": [
              "<div>\n",
              "<style scoped>\n",
              "    .dataframe tbody tr th:only-of-type {\n",
              "        vertical-align: middle;\n",
              "    }\n",
              "\n",
              "    .dataframe tbody tr th {\n",
              "        vertical-align: top;\n",
              "    }\n",
              "\n",
              "    .dataframe thead th {\n",
              "        text-align: right;\n",
              "    }\n",
              "</style>\n",
              "<table border=\"1\" class=\"dataframe\">\n",
              "  <thead>\n",
              "    <tr style=\"text-align: right;\">\n",
              "      <th>state</th>\n",
              "      <th>Ohio</th>\n",
              "      <th>Colorado</th>\n",
              "    </tr>\n",
              "    <tr>\n",
              "      <th>number</th>\n",
              "      <th></th>\n",
              "      <th></th>\n",
              "    </tr>\n",
              "  </thead>\n",
              "  <tbody>\n",
              "    <tr>\n",
              "      <th>one</th>\n",
              "      <td>0</td>\n",
              "      <td>3</td>\n",
              "    </tr>\n",
              "    <tr>\n",
              "      <th>two</th>\n",
              "      <td>1</td>\n",
              "      <td>4</td>\n",
              "    </tr>\n",
              "    <tr>\n",
              "      <th>three</th>\n",
              "      <td>2</td>\n",
              "      <td>5</td>\n",
              "    </tr>\n",
              "  </tbody>\n",
              "</table>\n",
              "</div>"
            ],
            "text/plain": [
              "state   Ohio  Colorado\n",
              "number                \n",
              "one        0         3\n",
              "two        1         4\n",
              "three      2         5"
            ]
          },
          "metadata": {
            "tags": []
          },
          "execution_count": 7
        }
      ]
    },
    {
      "cell_type": "code",
      "metadata": {
        "id": "1aO8OWn8bpU0",
        "colab_type": "code",
        "colab": {
          "base_uri": "https://localhost:8080/",
          "height": 166
        },
        "outputId": "07dc1335-face-4869-d6a4-54b29ac00ccb"
      },
      "source": [
        "result.unstack('state') #也可以specify层的名字，unstack什么，什么就是columns"
      ],
      "execution_count": 8,
      "outputs": [
        {
          "output_type": "execute_result",
          "data": {
            "text/html": [
              "<div>\n",
              "<style scoped>\n",
              "    .dataframe tbody tr th:only-of-type {\n",
              "        vertical-align: middle;\n",
              "    }\n",
              "\n",
              "    .dataframe tbody tr th {\n",
              "        vertical-align: top;\n",
              "    }\n",
              "\n",
              "    .dataframe thead th {\n",
              "        text-align: right;\n",
              "    }\n",
              "</style>\n",
              "<table border=\"1\" class=\"dataframe\">\n",
              "  <thead>\n",
              "    <tr style=\"text-align: right;\">\n",
              "      <th>state</th>\n",
              "      <th>Ohio</th>\n",
              "      <th>Colorado</th>\n",
              "    </tr>\n",
              "    <tr>\n",
              "      <th>number</th>\n",
              "      <th></th>\n",
              "      <th></th>\n",
              "    </tr>\n",
              "  </thead>\n",
              "  <tbody>\n",
              "    <tr>\n",
              "      <th>one</th>\n",
              "      <td>0</td>\n",
              "      <td>3</td>\n",
              "    </tr>\n",
              "    <tr>\n",
              "      <th>two</th>\n",
              "      <td>1</td>\n",
              "      <td>4</td>\n",
              "    </tr>\n",
              "    <tr>\n",
              "      <th>three</th>\n",
              "      <td>2</td>\n",
              "      <td>5</td>\n",
              "    </tr>\n",
              "  </tbody>\n",
              "</table>\n",
              "</div>"
            ],
            "text/plain": [
              "state   Ohio  Colorado\n",
              "number                \n",
              "one        0         3\n",
              "two        1         4\n",
              "three      2         5"
            ]
          },
          "metadata": {
            "tags": []
          },
          "execution_count": 8
        }
      ]
    },
    {
      "cell_type": "markdown",
      "metadata": {
        "id": "fttpR8ZvcZVX",
        "colab_type": "text"
      },
      "source": [
        "unstack可能会产生出NaN，但是stack的默认设置是忽略NaN"
      ]
    },
    {
      "cell_type": "code",
      "metadata": {
        "id": "fMF9KARGb9Wq",
        "colab_type": "code",
        "colab": {
          "base_uri": "https://localhost:8080/",
          "height": 151
        },
        "outputId": "2f2ecda1-eb0c-4bb9-e7e3-55865dfb6048"
      },
      "source": [
        "s1 = pd.Series([0, 1, 2, 3], index=['a', 'b', 'c', 'd'])\n",
        "s2 = pd.Series([4, 5, 6], index=['c', 'd', 'e'])\n",
        "data2 = pd.concat([s1, s2], keys=['one', 'two'])\n",
        "data2"
      ],
      "execution_count": 9,
      "outputs": [
        {
          "output_type": "execute_result",
          "data": {
            "text/plain": [
              "one  a    0\n",
              "     b    1\n",
              "     c    2\n",
              "     d    3\n",
              "two  c    4\n",
              "     d    5\n",
              "     e    6\n",
              "dtype: int64"
            ]
          },
          "metadata": {
            "tags": []
          },
          "execution_count": 9
        }
      ]
    },
    {
      "cell_type": "code",
      "metadata": {
        "id": "KrWWzEJNchiA",
        "colab_type": "code",
        "colab": {
          "base_uri": "https://localhost:8080/",
          "height": 106
        },
        "outputId": "7f01aa58-4256-4eb3-d0b6-09e9661c1699"
      },
      "source": [
        "data2.unstack() #可以看到有几个NaN"
      ],
      "execution_count": 11,
      "outputs": [
        {
          "output_type": "execute_result",
          "data": {
            "text/html": [
              "<div>\n",
              "<style scoped>\n",
              "    .dataframe tbody tr th:only-of-type {\n",
              "        vertical-align: middle;\n",
              "    }\n",
              "\n",
              "    .dataframe tbody tr th {\n",
              "        vertical-align: top;\n",
              "    }\n",
              "\n",
              "    .dataframe thead th {\n",
              "        text-align: right;\n",
              "    }\n",
              "</style>\n",
              "<table border=\"1\" class=\"dataframe\">\n",
              "  <thead>\n",
              "    <tr style=\"text-align: right;\">\n",
              "      <th></th>\n",
              "      <th>a</th>\n",
              "      <th>b</th>\n",
              "      <th>c</th>\n",
              "      <th>d</th>\n",
              "      <th>e</th>\n",
              "    </tr>\n",
              "  </thead>\n",
              "  <tbody>\n",
              "    <tr>\n",
              "      <th>one</th>\n",
              "      <td>0.0</td>\n",
              "      <td>1.0</td>\n",
              "      <td>2.0</td>\n",
              "      <td>3.0</td>\n",
              "      <td>NaN</td>\n",
              "    </tr>\n",
              "    <tr>\n",
              "      <th>two</th>\n",
              "      <td>NaN</td>\n",
              "      <td>NaN</td>\n",
              "      <td>4.0</td>\n",
              "      <td>5.0</td>\n",
              "      <td>6.0</td>\n",
              "    </tr>\n",
              "  </tbody>\n",
              "</table>\n",
              "</div>"
            ],
            "text/plain": [
              "       a    b    c    d    e\n",
              "one  0.0  1.0  2.0  3.0  NaN\n",
              "two  NaN  NaN  4.0  5.0  6.0"
            ]
          },
          "metadata": {
            "tags": []
          },
          "execution_count": 11
        }
      ]
    },
    {
      "cell_type": "code",
      "metadata": {
        "id": "P2xGJX3qcjQ2",
        "colab_type": "code",
        "colab": {
          "base_uri": "https://localhost:8080/",
          "height": 151
        },
        "outputId": "2ee51581-c956-4cc3-d186-62217e40c248"
      },
      "source": [
        "data2.unstack().stack() #默认是清除NaN的"
      ],
      "execution_count": 12,
      "outputs": [
        {
          "output_type": "execute_result",
          "data": {
            "text/plain": [
              "one  a    0.0\n",
              "     b    1.0\n",
              "     c    2.0\n",
              "     d    3.0\n",
              "two  c    4.0\n",
              "     d    5.0\n",
              "     e    6.0\n",
              "dtype: float64"
            ]
          },
          "metadata": {
            "tags": []
          },
          "execution_count": 12
        }
      ]
    },
    {
      "cell_type": "code",
      "metadata": {
        "id": "Fboo_LQvcqyU",
        "colab_type": "code",
        "colab": {
          "base_uri": "https://localhost:8080/",
          "height": 202
        },
        "outputId": "58e3665f-887e-4105-f606-4c3620c9fa5a"
      },
      "source": [
        "data2.unstack().stack(dropna=False) #可以specify不要drop na"
      ],
      "execution_count": 13,
      "outputs": [
        {
          "output_type": "execute_result",
          "data": {
            "text/plain": [
              "one  a    0.0\n",
              "     b    1.0\n",
              "     c    2.0\n",
              "     d    3.0\n",
              "     e    NaN\n",
              "two  a    NaN\n",
              "     b    NaN\n",
              "     c    4.0\n",
              "     d    5.0\n",
              "     e    6.0\n",
              "dtype: float64"
            ]
          },
          "metadata": {
            "tags": []
          },
          "execution_count": 13
        }
      ]
    },
    {
      "cell_type": "markdown",
      "metadata": {
        "id": "dMsRB46FdI6o",
        "colab_type": "text"
      },
      "source": [
        "当你unstack某一Level变成columns，上面提到了这句话，但是还要加一句，变成columns之后是变成最低级的columns，也就是bottom的columns"
      ]
    },
    {
      "cell_type": "code",
      "metadata": {
        "id": "pig-UAI3cyOj",
        "colab_type": "code",
        "colab": {
          "base_uri": "https://localhost:8080/",
          "height": 254
        },
        "outputId": "0f4c6d83-d16c-491c-e1f1-fd7220976014"
      },
      "source": [
        "df = pd.DataFrame({'left': result, 'right': result + 5},\n",
        "          columns=pd.Index(['left', 'right'], name='side'))\n",
        "df"
      ],
      "execution_count": 14,
      "outputs": [
        {
          "output_type": "execute_result",
          "data": {
            "text/html": [
              "<div>\n",
              "<style scoped>\n",
              "    .dataframe tbody tr th:only-of-type {\n",
              "        vertical-align: middle;\n",
              "    }\n",
              "\n",
              "    .dataframe tbody tr th {\n",
              "        vertical-align: top;\n",
              "    }\n",
              "\n",
              "    .dataframe thead th {\n",
              "        text-align: right;\n",
              "    }\n",
              "</style>\n",
              "<table border=\"1\" class=\"dataframe\">\n",
              "  <thead>\n",
              "    <tr style=\"text-align: right;\">\n",
              "      <th></th>\n",
              "      <th>side</th>\n",
              "      <th>left</th>\n",
              "      <th>right</th>\n",
              "    </tr>\n",
              "    <tr>\n",
              "      <th>state</th>\n",
              "      <th>number</th>\n",
              "      <th></th>\n",
              "      <th></th>\n",
              "    </tr>\n",
              "  </thead>\n",
              "  <tbody>\n",
              "    <tr>\n",
              "      <th rowspan=\"3\" valign=\"top\">Ohio</th>\n",
              "      <th>one</th>\n",
              "      <td>0</td>\n",
              "      <td>5</td>\n",
              "    </tr>\n",
              "    <tr>\n",
              "      <th>two</th>\n",
              "      <td>1</td>\n",
              "      <td>6</td>\n",
              "    </tr>\n",
              "    <tr>\n",
              "      <th>three</th>\n",
              "      <td>2</td>\n",
              "      <td>7</td>\n",
              "    </tr>\n",
              "    <tr>\n",
              "      <th rowspan=\"3\" valign=\"top\">Colorado</th>\n",
              "      <th>one</th>\n",
              "      <td>3</td>\n",
              "      <td>8</td>\n",
              "    </tr>\n",
              "    <tr>\n",
              "      <th>two</th>\n",
              "      <td>4</td>\n",
              "      <td>9</td>\n",
              "    </tr>\n",
              "    <tr>\n",
              "      <th>three</th>\n",
              "      <td>5</td>\n",
              "      <td>10</td>\n",
              "    </tr>\n",
              "  </tbody>\n",
              "</table>\n",
              "</div>"
            ],
            "text/plain": [
              "side             left  right\n",
              "state    number             \n",
              "Ohio     one        0      5\n",
              "         two        1      6\n",
              "         three      2      7\n",
              "Colorado one        3      8\n",
              "         two        4      9\n",
              "         three      5     10"
            ]
          },
          "metadata": {
            "tags": []
          },
          "execution_count": 14
        }
      ]
    },
    {
      "cell_type": "code",
      "metadata": {
        "id": "ZSDyRT0odbWx",
        "colab_type": "code",
        "colab": {
          "base_uri": "https://localhost:8080/",
          "height": 195
        },
        "outputId": "d48db463-18da-4c74-b3ff-cebefd351571"
      },
      "source": [
        "df.unstack('state')\n",
        "#可以观察到state被拆开了，\n",
        "#而且位于column下面的位置"
      ],
      "execution_count": 15,
      "outputs": [
        {
          "output_type": "execute_result",
          "data": {
            "text/html": [
              "<div>\n",
              "<style scoped>\n",
              "    .dataframe tbody tr th:only-of-type {\n",
              "        vertical-align: middle;\n",
              "    }\n",
              "\n",
              "    .dataframe tbody tr th {\n",
              "        vertical-align: top;\n",
              "    }\n",
              "\n",
              "    .dataframe thead tr th {\n",
              "        text-align: left;\n",
              "    }\n",
              "\n",
              "    .dataframe thead tr:last-of-type th {\n",
              "        text-align: right;\n",
              "    }\n",
              "</style>\n",
              "<table border=\"1\" class=\"dataframe\">\n",
              "  <thead>\n",
              "    <tr>\n",
              "      <th>side</th>\n",
              "      <th colspan=\"2\" halign=\"left\">left</th>\n",
              "      <th colspan=\"2\" halign=\"left\">right</th>\n",
              "    </tr>\n",
              "    <tr>\n",
              "      <th>state</th>\n",
              "      <th>Ohio</th>\n",
              "      <th>Colorado</th>\n",
              "      <th>Ohio</th>\n",
              "      <th>Colorado</th>\n",
              "    </tr>\n",
              "    <tr>\n",
              "      <th>number</th>\n",
              "      <th></th>\n",
              "      <th></th>\n",
              "      <th></th>\n",
              "      <th></th>\n",
              "    </tr>\n",
              "  </thead>\n",
              "  <tbody>\n",
              "    <tr>\n",
              "      <th>one</th>\n",
              "      <td>0</td>\n",
              "      <td>3</td>\n",
              "      <td>5</td>\n",
              "      <td>8</td>\n",
              "    </tr>\n",
              "    <tr>\n",
              "      <th>two</th>\n",
              "      <td>1</td>\n",
              "      <td>4</td>\n",
              "      <td>6</td>\n",
              "      <td>9</td>\n",
              "    </tr>\n",
              "    <tr>\n",
              "      <th>three</th>\n",
              "      <td>2</td>\n",
              "      <td>5</td>\n",
              "      <td>7</td>\n",
              "      <td>10</td>\n",
              "    </tr>\n",
              "  </tbody>\n",
              "</table>\n",
              "</div>"
            ],
            "text/plain": [
              "side   left          right         \n",
              "state  Ohio Colorado  Ohio Colorado\n",
              "number                             \n",
              "one       0        3     5        8\n",
              "two       1        4     6        9\n",
              "three     2        5     7       10"
            ]
          },
          "metadata": {
            "tags": []
          },
          "execution_count": 15
        }
      ]
    },
    {
      "cell_type": "code",
      "metadata": {
        "id": "hnuE5ANndgnd",
        "colab_type": "code",
        "colab": {
          "base_uri": "https://localhost:8080/",
          "height": 254
        },
        "outputId": "4504adde-446b-4248-e8e7-43c4ec129a0b"
      },
      "source": [
        "df.unstack('state').stack('side') #可以specifystack哪一层"
      ],
      "execution_count": 16,
      "outputs": [
        {
          "output_type": "execute_result",
          "data": {
            "text/html": [
              "<div>\n",
              "<style scoped>\n",
              "    .dataframe tbody tr th:only-of-type {\n",
              "        vertical-align: middle;\n",
              "    }\n",
              "\n",
              "    .dataframe tbody tr th {\n",
              "        vertical-align: top;\n",
              "    }\n",
              "\n",
              "    .dataframe thead th {\n",
              "        text-align: right;\n",
              "    }\n",
              "</style>\n",
              "<table border=\"1\" class=\"dataframe\">\n",
              "  <thead>\n",
              "    <tr style=\"text-align: right;\">\n",
              "      <th></th>\n",
              "      <th>state</th>\n",
              "      <th>Colorado</th>\n",
              "      <th>Ohio</th>\n",
              "    </tr>\n",
              "    <tr>\n",
              "      <th>number</th>\n",
              "      <th>side</th>\n",
              "      <th></th>\n",
              "      <th></th>\n",
              "    </tr>\n",
              "  </thead>\n",
              "  <tbody>\n",
              "    <tr>\n",
              "      <th rowspan=\"2\" valign=\"top\">one</th>\n",
              "      <th>left</th>\n",
              "      <td>3</td>\n",
              "      <td>0</td>\n",
              "    </tr>\n",
              "    <tr>\n",
              "      <th>right</th>\n",
              "      <td>8</td>\n",
              "      <td>5</td>\n",
              "    </tr>\n",
              "    <tr>\n",
              "      <th rowspan=\"2\" valign=\"top\">two</th>\n",
              "      <th>left</th>\n",
              "      <td>4</td>\n",
              "      <td>1</td>\n",
              "    </tr>\n",
              "    <tr>\n",
              "      <th>right</th>\n",
              "      <td>9</td>\n",
              "      <td>6</td>\n",
              "    </tr>\n",
              "    <tr>\n",
              "      <th rowspan=\"2\" valign=\"top\">three</th>\n",
              "      <th>left</th>\n",
              "      <td>5</td>\n",
              "      <td>2</td>\n",
              "    </tr>\n",
              "    <tr>\n",
              "      <th>right</th>\n",
              "      <td>10</td>\n",
              "      <td>7</td>\n",
              "    </tr>\n",
              "  </tbody>\n",
              "</table>\n",
              "</div>"
            ],
            "text/plain": [
              "state         Colorado  Ohio\n",
              "number side                 \n",
              "one    left          3     0\n",
              "       right         8     5\n",
              "two    left          4     1\n",
              "       right         9     6\n",
              "three  left          5     2\n",
              "       right        10     7"
            ]
          },
          "metadata": {
            "tags": []
          },
          "execution_count": 16
        }
      ]
    },
    {
      "cell_type": "code",
      "metadata": {
        "id": "CSBExxlrdznY",
        "colab_type": "code",
        "colab": {
          "base_uri": "https://localhost:8080/",
          "height": 254
        },
        "outputId": "794941fb-feba-405c-8c19-32324dac2cc4"
      },
      "source": [
        "df.unstack('state').stack('state')"
      ],
      "execution_count": 17,
      "outputs": [
        {
          "output_type": "execute_result",
          "data": {
            "text/html": [
              "<div>\n",
              "<style scoped>\n",
              "    .dataframe tbody tr th:only-of-type {\n",
              "        vertical-align: middle;\n",
              "    }\n",
              "\n",
              "    .dataframe tbody tr th {\n",
              "        vertical-align: top;\n",
              "    }\n",
              "\n",
              "    .dataframe thead th {\n",
              "        text-align: right;\n",
              "    }\n",
              "</style>\n",
              "<table border=\"1\" class=\"dataframe\">\n",
              "  <thead>\n",
              "    <tr style=\"text-align: right;\">\n",
              "      <th></th>\n",
              "      <th>side</th>\n",
              "      <th>left</th>\n",
              "      <th>right</th>\n",
              "    </tr>\n",
              "    <tr>\n",
              "      <th>number</th>\n",
              "      <th>state</th>\n",
              "      <th></th>\n",
              "      <th></th>\n",
              "    </tr>\n",
              "  </thead>\n",
              "  <tbody>\n",
              "    <tr>\n",
              "      <th rowspan=\"2\" valign=\"top\">one</th>\n",
              "      <th>Ohio</th>\n",
              "      <td>0</td>\n",
              "      <td>5</td>\n",
              "    </tr>\n",
              "    <tr>\n",
              "      <th>Colorado</th>\n",
              "      <td>3</td>\n",
              "      <td>8</td>\n",
              "    </tr>\n",
              "    <tr>\n",
              "      <th rowspan=\"2\" valign=\"top\">two</th>\n",
              "      <th>Ohio</th>\n",
              "      <td>1</td>\n",
              "      <td>6</td>\n",
              "    </tr>\n",
              "    <tr>\n",
              "      <th>Colorado</th>\n",
              "      <td>4</td>\n",
              "      <td>9</td>\n",
              "    </tr>\n",
              "    <tr>\n",
              "      <th rowspan=\"2\" valign=\"top\">three</th>\n",
              "      <th>Ohio</th>\n",
              "      <td>2</td>\n",
              "      <td>7</td>\n",
              "    </tr>\n",
              "    <tr>\n",
              "      <th>Colorado</th>\n",
              "      <td>5</td>\n",
              "      <td>10</td>\n",
              "    </tr>\n",
              "  </tbody>\n",
              "</table>\n",
              "</div>"
            ],
            "text/plain": [
              "side             left  right\n",
              "number state                \n",
              "one    Ohio         0      5\n",
              "       Colorado     3      8\n",
              "two    Ohio         1      6\n",
              "       Colorado     4      9\n",
              "three  Ohio         2      7\n",
              "       Colorado     5     10"
            ]
          },
          "metadata": {
            "tags": []
          },
          "execution_count": 17
        }
      ]
    },
    {
      "cell_type": "markdown",
      "metadata": {
        "id": "g8mx5MV6d77J",
        "colab_type": "text"
      },
      "source": [
        "## Pivoting \"Long\" to \"Wide\" Format"
      ]
    },
    {
      "cell_type": "markdown",
      "metadata": {
        "id": "Vk5TP3FafHXh",
        "colab_type": "text"
      },
      "source": [
        "多个时间序列数据通常是以所谓的“长格式”（long）或“堆叠格式”（stacked）存储在数据库和CSV中的\n",
        "\n",
        "🌟“长”是指往下，row越来越多\n",
        "\n",
        "🌟“宽”是指往右，columns越来越多"
      ]
    },
    {
      "cell_type": "code",
      "metadata": {
        "id": "u0esk9Wcd4XN",
        "colab_type": "code",
        "colab": {
          "base_uri": "https://localhost:8080/",
          "height": 195
        },
        "outputId": "e9f8d1c0-849c-49e5-e159-35b523662e46"
      },
      "source": [
        "url = 'https://raw.githubusercontent.com/wesm/pydata-book/2nd-edition/examples/macrodata.csv'\n",
        "data = pd.read_csv(url)\n",
        "data.head()"
      ],
      "execution_count": 21,
      "outputs": [
        {
          "output_type": "execute_result",
          "data": {
            "text/html": [
              "<div>\n",
              "<style scoped>\n",
              "    .dataframe tbody tr th:only-of-type {\n",
              "        vertical-align: middle;\n",
              "    }\n",
              "\n",
              "    .dataframe tbody tr th {\n",
              "        vertical-align: top;\n",
              "    }\n",
              "\n",
              "    .dataframe thead th {\n",
              "        text-align: right;\n",
              "    }\n",
              "</style>\n",
              "<table border=\"1\" class=\"dataframe\">\n",
              "  <thead>\n",
              "    <tr style=\"text-align: right;\">\n",
              "      <th></th>\n",
              "      <th>year</th>\n",
              "      <th>quarter</th>\n",
              "      <th>realgdp</th>\n",
              "      <th>realcons</th>\n",
              "      <th>realinv</th>\n",
              "      <th>realgovt</th>\n",
              "      <th>realdpi</th>\n",
              "      <th>cpi</th>\n",
              "      <th>m1</th>\n",
              "      <th>tbilrate</th>\n",
              "      <th>unemp</th>\n",
              "      <th>pop</th>\n",
              "      <th>infl</th>\n",
              "      <th>realint</th>\n",
              "    </tr>\n",
              "  </thead>\n",
              "  <tbody>\n",
              "    <tr>\n",
              "      <th>0</th>\n",
              "      <td>1959.0</td>\n",
              "      <td>1.0</td>\n",
              "      <td>2710.349</td>\n",
              "      <td>1707.4</td>\n",
              "      <td>286.898</td>\n",
              "      <td>470.045</td>\n",
              "      <td>1886.9</td>\n",
              "      <td>28.98</td>\n",
              "      <td>139.7</td>\n",
              "      <td>2.82</td>\n",
              "      <td>5.8</td>\n",
              "      <td>177.146</td>\n",
              "      <td>0.00</td>\n",
              "      <td>0.00</td>\n",
              "    </tr>\n",
              "    <tr>\n",
              "      <th>1</th>\n",
              "      <td>1959.0</td>\n",
              "      <td>2.0</td>\n",
              "      <td>2778.801</td>\n",
              "      <td>1733.7</td>\n",
              "      <td>310.859</td>\n",
              "      <td>481.301</td>\n",
              "      <td>1919.7</td>\n",
              "      <td>29.15</td>\n",
              "      <td>141.7</td>\n",
              "      <td>3.08</td>\n",
              "      <td>5.1</td>\n",
              "      <td>177.830</td>\n",
              "      <td>2.34</td>\n",
              "      <td>0.74</td>\n",
              "    </tr>\n",
              "    <tr>\n",
              "      <th>2</th>\n",
              "      <td>1959.0</td>\n",
              "      <td>3.0</td>\n",
              "      <td>2775.488</td>\n",
              "      <td>1751.8</td>\n",
              "      <td>289.226</td>\n",
              "      <td>491.260</td>\n",
              "      <td>1916.4</td>\n",
              "      <td>29.35</td>\n",
              "      <td>140.5</td>\n",
              "      <td>3.82</td>\n",
              "      <td>5.3</td>\n",
              "      <td>178.657</td>\n",
              "      <td>2.74</td>\n",
              "      <td>1.09</td>\n",
              "    </tr>\n",
              "    <tr>\n",
              "      <th>3</th>\n",
              "      <td>1959.0</td>\n",
              "      <td>4.0</td>\n",
              "      <td>2785.204</td>\n",
              "      <td>1753.7</td>\n",
              "      <td>299.356</td>\n",
              "      <td>484.052</td>\n",
              "      <td>1931.3</td>\n",
              "      <td>29.37</td>\n",
              "      <td>140.0</td>\n",
              "      <td>4.33</td>\n",
              "      <td>5.6</td>\n",
              "      <td>179.386</td>\n",
              "      <td>0.27</td>\n",
              "      <td>4.06</td>\n",
              "    </tr>\n",
              "    <tr>\n",
              "      <th>4</th>\n",
              "      <td>1960.0</td>\n",
              "      <td>1.0</td>\n",
              "      <td>2847.699</td>\n",
              "      <td>1770.5</td>\n",
              "      <td>331.722</td>\n",
              "      <td>462.199</td>\n",
              "      <td>1955.5</td>\n",
              "      <td>29.54</td>\n",
              "      <td>139.6</td>\n",
              "      <td>3.50</td>\n",
              "      <td>5.2</td>\n",
              "      <td>180.007</td>\n",
              "      <td>2.31</td>\n",
              "      <td>1.19</td>\n",
              "    </tr>\n",
              "  </tbody>\n",
              "</table>\n",
              "</div>"
            ],
            "text/plain": [
              "     year  quarter   realgdp  realcons  ...  unemp      pop  infl  realint\n",
              "0  1959.0      1.0  2710.349    1707.4  ...    5.8  177.146  0.00     0.00\n",
              "1  1959.0      2.0  2778.801    1733.7  ...    5.1  177.830  2.34     0.74\n",
              "2  1959.0      3.0  2775.488    1751.8  ...    5.3  178.657  2.74     1.09\n",
              "3  1959.0      4.0  2785.204    1753.7  ...    5.6  179.386  0.27     4.06\n",
              "4  1960.0      1.0  2847.699    1770.5  ...    5.2  180.007  2.31     1.19\n",
              "\n",
              "[5 rows x 14 columns]"
            ]
          },
          "metadata": {
            "tags": []
          },
          "execution_count": 21
        }
      ]
    },
    {
      "cell_type": "code",
      "metadata": {
        "id": "oIaU0TLaeV4y",
        "colab_type": "code",
        "colab": {
          "base_uri": "https://localhost:8080/",
          "height": 118
        },
        "outputId": "314148fc-77fe-4f8f-e523-e9729c4f4255"
      },
      "source": [
        "periods = pd.PeriodIndex(year=data.year, quarter=data.quarter, name='date')\n",
        "periods"
      ],
      "execution_count": 22,
      "outputs": [
        {
          "output_type": "execute_result",
          "data": {
            "text/plain": [
              "PeriodIndex(['1959Q1', '1959Q2', '1959Q3', '1959Q4', '1960Q1', '1960Q2',\n",
              "             '1960Q3', '1960Q4', '1961Q1', '1961Q2',\n",
              "             ...\n",
              "             '2007Q2', '2007Q3', '2007Q4', '2008Q1', '2008Q2', '2008Q3',\n",
              "             '2008Q4', '2009Q1', '2009Q2', '2009Q3'],\n",
              "            dtype='period[Q-DEC]', name='date', length=203, freq='Q-DEC')"
            ]
          },
          "metadata": {
            "tags": []
          },
          "execution_count": 22
        }
      ]
    },
    {
      "cell_type": "code",
      "metadata": {
        "id": "HEfKcaQtfcHi",
        "colab_type": "code",
        "colab": {
          "base_uri": "https://localhost:8080/",
          "height": 34
        },
        "outputId": "8024a9a1-dafb-43bd-eb43-3d8c1a1dade9"
      },
      "source": [
        "columns = pd.Index(['realgdp', 'infl', 'unemp'], name='item')\n",
        "columns"
      ],
      "execution_count": 23,
      "outputs": [
        {
          "output_type": "execute_result",
          "data": {
            "text/plain": [
              "Index(['realgdp', 'infl', 'unemp'], dtype='object', name='item')"
            ]
          },
          "metadata": {
            "tags": []
          },
          "execution_count": 23
        }
      ]
    },
    {
      "cell_type": "code",
      "metadata": {
        "id": "QzfkVxU7fodl",
        "colab_type": "code",
        "colab": {
          "base_uri": "https://localhost:8080/",
          "height": 195
        },
        "outputId": "8bb9bb37-aac7-4a64-c2fb-c02bf98c23fe"
      },
      "source": [
        "data = data.reindex(columns=columns) #reindex这个很6，能把想要的要了，其它不要\n",
        "data.head()"
      ],
      "execution_count": 24,
      "outputs": [
        {
          "output_type": "execute_result",
          "data": {
            "text/html": [
              "<div>\n",
              "<style scoped>\n",
              "    .dataframe tbody tr th:only-of-type {\n",
              "        vertical-align: middle;\n",
              "    }\n",
              "\n",
              "    .dataframe tbody tr th {\n",
              "        vertical-align: top;\n",
              "    }\n",
              "\n",
              "    .dataframe thead th {\n",
              "        text-align: right;\n",
              "    }\n",
              "</style>\n",
              "<table border=\"1\" class=\"dataframe\">\n",
              "  <thead>\n",
              "    <tr style=\"text-align: right;\">\n",
              "      <th>item</th>\n",
              "      <th>realgdp</th>\n",
              "      <th>infl</th>\n",
              "      <th>unemp</th>\n",
              "    </tr>\n",
              "  </thead>\n",
              "  <tbody>\n",
              "    <tr>\n",
              "      <th>0</th>\n",
              "      <td>2710.349</td>\n",
              "      <td>0.00</td>\n",
              "      <td>5.8</td>\n",
              "    </tr>\n",
              "    <tr>\n",
              "      <th>1</th>\n",
              "      <td>2778.801</td>\n",
              "      <td>2.34</td>\n",
              "      <td>5.1</td>\n",
              "    </tr>\n",
              "    <tr>\n",
              "      <th>2</th>\n",
              "      <td>2775.488</td>\n",
              "      <td>2.74</td>\n",
              "      <td>5.3</td>\n",
              "    </tr>\n",
              "    <tr>\n",
              "      <th>3</th>\n",
              "      <td>2785.204</td>\n",
              "      <td>0.27</td>\n",
              "      <td>5.6</td>\n",
              "    </tr>\n",
              "    <tr>\n",
              "      <th>4</th>\n",
              "      <td>2847.699</td>\n",
              "      <td>2.31</td>\n",
              "      <td>5.2</td>\n",
              "    </tr>\n",
              "  </tbody>\n",
              "</table>\n",
              "</div>"
            ],
            "text/plain": [
              "item   realgdp  infl  unemp\n",
              "0     2710.349  0.00    5.8\n",
              "1     2778.801  2.34    5.1\n",
              "2     2775.488  2.74    5.3\n",
              "3     2785.204  0.27    5.6\n",
              "4     2847.699  2.31    5.2"
            ]
          },
          "metadata": {
            "tags": []
          },
          "execution_count": 24
        }
      ]
    },
    {
      "cell_type": "code",
      "metadata": {
        "id": "fld_O_mKfwJD",
        "colab_type": "code",
        "colab": {}
      },
      "source": [
        "#处理好columns之后，再处理index（row）\n",
        "data.index = periods.to_timestamp('D', 'end')"
      ],
      "execution_count": 25,
      "outputs": []
    },
    {
      "cell_type": "code",
      "metadata": {
        "id": "kUc_HOZ3gNmG",
        "colab_type": "code",
        "colab": {
          "base_uri": "https://localhost:8080/",
          "height": 225
        },
        "outputId": "c2d96ee7-d587-4419-db0a-29bda1d736d1"
      },
      "source": [
        "data.head()"
      ],
      "execution_count": 26,
      "outputs": [
        {
          "output_type": "execute_result",
          "data": {
            "text/html": [
              "<div>\n",
              "<style scoped>\n",
              "    .dataframe tbody tr th:only-of-type {\n",
              "        vertical-align: middle;\n",
              "    }\n",
              "\n",
              "    .dataframe tbody tr th {\n",
              "        vertical-align: top;\n",
              "    }\n",
              "\n",
              "    .dataframe thead th {\n",
              "        text-align: right;\n",
              "    }\n",
              "</style>\n",
              "<table border=\"1\" class=\"dataframe\">\n",
              "  <thead>\n",
              "    <tr style=\"text-align: right;\">\n",
              "      <th>item</th>\n",
              "      <th>realgdp</th>\n",
              "      <th>infl</th>\n",
              "      <th>unemp</th>\n",
              "    </tr>\n",
              "    <tr>\n",
              "      <th>date</th>\n",
              "      <th></th>\n",
              "      <th></th>\n",
              "      <th></th>\n",
              "    </tr>\n",
              "  </thead>\n",
              "  <tbody>\n",
              "    <tr>\n",
              "      <th>1959-03-31 23:59:59.999999999</th>\n",
              "      <td>2710.349</td>\n",
              "      <td>0.00</td>\n",
              "      <td>5.8</td>\n",
              "    </tr>\n",
              "    <tr>\n",
              "      <th>1959-06-30 23:59:59.999999999</th>\n",
              "      <td>2778.801</td>\n",
              "      <td>2.34</td>\n",
              "      <td>5.1</td>\n",
              "    </tr>\n",
              "    <tr>\n",
              "      <th>1959-09-30 23:59:59.999999999</th>\n",
              "      <td>2775.488</td>\n",
              "      <td>2.74</td>\n",
              "      <td>5.3</td>\n",
              "    </tr>\n",
              "    <tr>\n",
              "      <th>1959-12-31 23:59:59.999999999</th>\n",
              "      <td>2785.204</td>\n",
              "      <td>0.27</td>\n",
              "      <td>5.6</td>\n",
              "    </tr>\n",
              "    <tr>\n",
              "      <th>1960-03-31 23:59:59.999999999</th>\n",
              "      <td>2847.699</td>\n",
              "      <td>2.31</td>\n",
              "      <td>5.2</td>\n",
              "    </tr>\n",
              "  </tbody>\n",
              "</table>\n",
              "</div>"
            ],
            "text/plain": [
              "item                            realgdp  infl  unemp\n",
              "date                                                \n",
              "1959-03-31 23:59:59.999999999  2710.349  0.00    5.8\n",
              "1959-06-30 23:59:59.999999999  2778.801  2.34    5.1\n",
              "1959-09-30 23:59:59.999999999  2775.488  2.74    5.3\n",
              "1959-12-31 23:59:59.999999999  2785.204  0.27    5.6\n",
              "1960-03-31 23:59:59.999999999  2847.699  2.31    5.2"
            ]
          },
          "metadata": {
            "tags": []
          },
          "execution_count": 26
        }
      ]
    },
    {
      "cell_type": "code",
      "metadata": {
        "id": "neUUacM0gPsd",
        "colab_type": "code",
        "colab": {
          "base_uri": "https://localhost:8080/",
          "height": 134
        },
        "outputId": "8053e2d1-e58f-480b-da94-858d7b136091"
      },
      "source": [
        "ldata = data.stack()\n",
        "ldata.head()"
      ],
      "execution_count": 27,
      "outputs": [
        {
          "output_type": "execute_result",
          "data": {
            "text/plain": [
              "date                           item   \n",
              "1959-03-31 23:59:59.999999999  realgdp    2710.349\n",
              "                               infl          0.000\n",
              "                               unemp         5.800\n",
              "1959-06-30 23:59:59.999999999  realgdp    2778.801\n",
              "                               infl          2.340\n",
              "dtype: float64"
            ]
          },
          "metadata": {
            "tags": []
          },
          "execution_count": 27
        }
      ]
    },
    {
      "cell_type": "code",
      "metadata": {
        "id": "xRUOl0GYgeWu",
        "colab_type": "code",
        "colab": {
          "base_uri": "https://localhost:8080/",
          "height": 195
        },
        "outputId": "5407022e-3ff1-4f54-ce29-b51b1bbcc657"
      },
      "source": [
        "ldata = ldata.reset_index()\n",
        "ldata.head()"
      ],
      "execution_count": 28,
      "outputs": [
        {
          "output_type": "execute_result",
          "data": {
            "text/html": [
              "<div>\n",
              "<style scoped>\n",
              "    .dataframe tbody tr th:only-of-type {\n",
              "        vertical-align: middle;\n",
              "    }\n",
              "\n",
              "    .dataframe tbody tr th {\n",
              "        vertical-align: top;\n",
              "    }\n",
              "\n",
              "    .dataframe thead th {\n",
              "        text-align: right;\n",
              "    }\n",
              "</style>\n",
              "<table border=\"1\" class=\"dataframe\">\n",
              "  <thead>\n",
              "    <tr style=\"text-align: right;\">\n",
              "      <th></th>\n",
              "      <th>date</th>\n",
              "      <th>item</th>\n",
              "      <th>0</th>\n",
              "    </tr>\n",
              "  </thead>\n",
              "  <tbody>\n",
              "    <tr>\n",
              "      <th>0</th>\n",
              "      <td>1959-03-31 23:59:59.999999999</td>\n",
              "      <td>realgdp</td>\n",
              "      <td>2710.349</td>\n",
              "    </tr>\n",
              "    <tr>\n",
              "      <th>1</th>\n",
              "      <td>1959-03-31 23:59:59.999999999</td>\n",
              "      <td>infl</td>\n",
              "      <td>0.000</td>\n",
              "    </tr>\n",
              "    <tr>\n",
              "      <th>2</th>\n",
              "      <td>1959-03-31 23:59:59.999999999</td>\n",
              "      <td>unemp</td>\n",
              "      <td>5.800</td>\n",
              "    </tr>\n",
              "    <tr>\n",
              "      <th>3</th>\n",
              "      <td>1959-06-30 23:59:59.999999999</td>\n",
              "      <td>realgdp</td>\n",
              "      <td>2778.801</td>\n",
              "    </tr>\n",
              "    <tr>\n",
              "      <th>4</th>\n",
              "      <td>1959-06-30 23:59:59.999999999</td>\n",
              "      <td>infl</td>\n",
              "      <td>2.340</td>\n",
              "    </tr>\n",
              "  </tbody>\n",
              "</table>\n",
              "</div>"
            ],
            "text/plain": [
              "                           date     item         0\n",
              "0 1959-03-31 23:59:59.999999999  realgdp  2710.349\n",
              "1 1959-03-31 23:59:59.999999999     infl     0.000\n",
              "2 1959-03-31 23:59:59.999999999    unemp     5.800\n",
              "3 1959-06-30 23:59:59.999999999  realgdp  2778.801\n",
              "4 1959-06-30 23:59:59.999999999     infl     2.340"
            ]
          },
          "metadata": {
            "tags": []
          },
          "execution_count": 28
        }
      ]
    },
    {
      "cell_type": "code",
      "metadata": {
        "id": "kD9CrwGQgkse",
        "colab_type": "code",
        "colab": {
          "base_uri": "https://localhost:8080/",
          "height": 195
        },
        "outputId": "727a3b67-36e2-4847-f6a2-753b58468164"
      },
      "source": [
        "ldata = ldata.rename(columns={0:'value'})\n",
        "ldata.head()"
      ],
      "execution_count": 29,
      "outputs": [
        {
          "output_type": "execute_result",
          "data": {
            "text/html": [
              "<div>\n",
              "<style scoped>\n",
              "    .dataframe tbody tr th:only-of-type {\n",
              "        vertical-align: middle;\n",
              "    }\n",
              "\n",
              "    .dataframe tbody tr th {\n",
              "        vertical-align: top;\n",
              "    }\n",
              "\n",
              "    .dataframe thead th {\n",
              "        text-align: right;\n",
              "    }\n",
              "</style>\n",
              "<table border=\"1\" class=\"dataframe\">\n",
              "  <thead>\n",
              "    <tr style=\"text-align: right;\">\n",
              "      <th></th>\n",
              "      <th>date</th>\n",
              "      <th>item</th>\n",
              "      <th>value</th>\n",
              "    </tr>\n",
              "  </thead>\n",
              "  <tbody>\n",
              "    <tr>\n",
              "      <th>0</th>\n",
              "      <td>1959-03-31 23:59:59.999999999</td>\n",
              "      <td>realgdp</td>\n",
              "      <td>2710.349</td>\n",
              "    </tr>\n",
              "    <tr>\n",
              "      <th>1</th>\n",
              "      <td>1959-03-31 23:59:59.999999999</td>\n",
              "      <td>infl</td>\n",
              "      <td>0.000</td>\n",
              "    </tr>\n",
              "    <tr>\n",
              "      <th>2</th>\n",
              "      <td>1959-03-31 23:59:59.999999999</td>\n",
              "      <td>unemp</td>\n",
              "      <td>5.800</td>\n",
              "    </tr>\n",
              "    <tr>\n",
              "      <th>3</th>\n",
              "      <td>1959-06-30 23:59:59.999999999</td>\n",
              "      <td>realgdp</td>\n",
              "      <td>2778.801</td>\n",
              "    </tr>\n",
              "    <tr>\n",
              "      <th>4</th>\n",
              "      <td>1959-06-30 23:59:59.999999999</td>\n",
              "      <td>infl</td>\n",
              "      <td>2.340</td>\n",
              "    </tr>\n",
              "  </tbody>\n",
              "</table>\n",
              "</div>"
            ],
            "text/plain": [
              "                           date     item     value\n",
              "0 1959-03-31 23:59:59.999999999  realgdp  2710.349\n",
              "1 1959-03-31 23:59:59.999999999     infl     0.000\n",
              "2 1959-03-31 23:59:59.999999999    unemp     5.800\n",
              "3 1959-06-30 23:59:59.999999999  realgdp  2778.801\n",
              "4 1959-06-30 23:59:59.999999999     infl     2.340"
            ]
          },
          "metadata": {
            "tags": []
          },
          "execution_count": 29
        }
      ]
    },
    {
      "cell_type": "markdown",
      "metadata": {
        "id": "4FGZ0P1wn2Hn",
        "colab_type": "text"
      },
      "source": [
        "这种格式是MySQL的经典格式，在于两个关键信息，date和item是关键信息，只要有这两个信息，value自然而然就可以得出。\n",
        "\n",
        "那么如果你习惯dataframe格式的话，就可以用pivot来实现"
      ]
    },
    {
      "cell_type": "code",
      "metadata": {
        "id": "62Cxobtjgxrn",
        "colab_type": "code",
        "colab": {
          "base_uri": "https://localhost:8080/",
          "height": 431
        },
        "outputId": "e55eca22-a554-433e-b35c-9c7e0c449706"
      },
      "source": [
        "pivoted = ldata.pivot('date', 'item', 'value') #把它从long format变成wide format\n",
        "pivoted"
      ],
      "execution_count": 31,
      "outputs": [
        {
          "output_type": "execute_result",
          "data": {
            "text/html": [
              "<div>\n",
              "<style scoped>\n",
              "    .dataframe tbody tr th:only-of-type {\n",
              "        vertical-align: middle;\n",
              "    }\n",
              "\n",
              "    .dataframe tbody tr th {\n",
              "        vertical-align: top;\n",
              "    }\n",
              "\n",
              "    .dataframe thead th {\n",
              "        text-align: right;\n",
              "    }\n",
              "</style>\n",
              "<table border=\"1\" class=\"dataframe\">\n",
              "  <thead>\n",
              "    <tr style=\"text-align: right;\">\n",
              "      <th>item</th>\n",
              "      <th>infl</th>\n",
              "      <th>realgdp</th>\n",
              "      <th>unemp</th>\n",
              "    </tr>\n",
              "    <tr>\n",
              "      <th>date</th>\n",
              "      <th></th>\n",
              "      <th></th>\n",
              "      <th></th>\n",
              "    </tr>\n",
              "  </thead>\n",
              "  <tbody>\n",
              "    <tr>\n",
              "      <th>1959-03-31 23:59:59.999999999</th>\n",
              "      <td>0.00</td>\n",
              "      <td>2710.349</td>\n",
              "      <td>5.8</td>\n",
              "    </tr>\n",
              "    <tr>\n",
              "      <th>1959-06-30 23:59:59.999999999</th>\n",
              "      <td>2.34</td>\n",
              "      <td>2778.801</td>\n",
              "      <td>5.1</td>\n",
              "    </tr>\n",
              "    <tr>\n",
              "      <th>1959-09-30 23:59:59.999999999</th>\n",
              "      <td>2.74</td>\n",
              "      <td>2775.488</td>\n",
              "      <td>5.3</td>\n",
              "    </tr>\n",
              "    <tr>\n",
              "      <th>1959-12-31 23:59:59.999999999</th>\n",
              "      <td>0.27</td>\n",
              "      <td>2785.204</td>\n",
              "      <td>5.6</td>\n",
              "    </tr>\n",
              "    <tr>\n",
              "      <th>1960-03-31 23:59:59.999999999</th>\n",
              "      <td>2.31</td>\n",
              "      <td>2847.699</td>\n",
              "      <td>5.2</td>\n",
              "    </tr>\n",
              "    <tr>\n",
              "      <th>...</th>\n",
              "      <td>...</td>\n",
              "      <td>...</td>\n",
              "      <td>...</td>\n",
              "    </tr>\n",
              "    <tr>\n",
              "      <th>2008-09-30 23:59:59.999999999</th>\n",
              "      <td>-3.16</td>\n",
              "      <td>13324.600</td>\n",
              "      <td>6.0</td>\n",
              "    </tr>\n",
              "    <tr>\n",
              "      <th>2008-12-31 23:59:59.999999999</th>\n",
              "      <td>-8.79</td>\n",
              "      <td>13141.920</td>\n",
              "      <td>6.9</td>\n",
              "    </tr>\n",
              "    <tr>\n",
              "      <th>2009-03-31 23:59:59.999999999</th>\n",
              "      <td>0.94</td>\n",
              "      <td>12925.410</td>\n",
              "      <td>8.1</td>\n",
              "    </tr>\n",
              "    <tr>\n",
              "      <th>2009-06-30 23:59:59.999999999</th>\n",
              "      <td>3.37</td>\n",
              "      <td>12901.504</td>\n",
              "      <td>9.2</td>\n",
              "    </tr>\n",
              "    <tr>\n",
              "      <th>2009-09-30 23:59:59.999999999</th>\n",
              "      <td>3.56</td>\n",
              "      <td>12990.341</td>\n",
              "      <td>9.6</td>\n",
              "    </tr>\n",
              "  </tbody>\n",
              "</table>\n",
              "<p>203 rows × 3 columns</p>\n",
              "</div>"
            ],
            "text/plain": [
              "item                           infl    realgdp  unemp\n",
              "date                                                 \n",
              "1959-03-31 23:59:59.999999999  0.00   2710.349    5.8\n",
              "1959-06-30 23:59:59.999999999  2.34   2778.801    5.1\n",
              "1959-09-30 23:59:59.999999999  2.74   2775.488    5.3\n",
              "1959-12-31 23:59:59.999999999  0.27   2785.204    5.6\n",
              "1960-03-31 23:59:59.999999999  2.31   2847.699    5.2\n",
              "...                             ...        ...    ...\n",
              "2008-09-30 23:59:59.999999999 -3.16  13324.600    6.0\n",
              "2008-12-31 23:59:59.999999999 -8.79  13141.920    6.9\n",
              "2009-03-31 23:59:59.999999999  0.94  12925.410    8.1\n",
              "2009-06-30 23:59:59.999999999  3.37  12901.504    9.2\n",
              "2009-09-30 23:59:59.999999999  3.56  12990.341    9.6\n",
              "\n",
              "[203 rows x 3 columns]"
            ]
          },
          "metadata": {
            "tags": []
          },
          "execution_count": 31
        }
      ]
    },
    {
      "cell_type": "markdown",
      "metadata": {
        "id": "ZnHlSZLFpcl2",
        "colab_type": "text"
      },
      "source": [
        "上面只有一个value，那假如有两个value呢？"
      ]
    },
    {
      "cell_type": "code",
      "metadata": {
        "id": "3O05wyBqoPvK",
        "colab_type": "code",
        "colab": {
          "base_uri": "https://localhost:8080/",
          "height": 195
        },
        "outputId": "e48fb6be-3ba7-44f7-fa56-53db4b37b56a"
      },
      "source": [
        "ldata['value2'] = np.random.randn(len(ldata))\n",
        "ldata.head()"
      ],
      "execution_count": 33,
      "outputs": [
        {
          "output_type": "execute_result",
          "data": {
            "text/html": [
              "<div>\n",
              "<style scoped>\n",
              "    .dataframe tbody tr th:only-of-type {\n",
              "        vertical-align: middle;\n",
              "    }\n",
              "\n",
              "    .dataframe tbody tr th {\n",
              "        vertical-align: top;\n",
              "    }\n",
              "\n",
              "    .dataframe thead th {\n",
              "        text-align: right;\n",
              "    }\n",
              "</style>\n",
              "<table border=\"1\" class=\"dataframe\">\n",
              "  <thead>\n",
              "    <tr style=\"text-align: right;\">\n",
              "      <th></th>\n",
              "      <th>date</th>\n",
              "      <th>item</th>\n",
              "      <th>value</th>\n",
              "      <th>value2</th>\n",
              "    </tr>\n",
              "  </thead>\n",
              "  <tbody>\n",
              "    <tr>\n",
              "      <th>0</th>\n",
              "      <td>1959-03-31 23:59:59.999999999</td>\n",
              "      <td>realgdp</td>\n",
              "      <td>2710.349</td>\n",
              "      <td>-1.188260</td>\n",
              "    </tr>\n",
              "    <tr>\n",
              "      <th>1</th>\n",
              "      <td>1959-03-31 23:59:59.999999999</td>\n",
              "      <td>infl</td>\n",
              "      <td>0.000</td>\n",
              "      <td>-0.142315</td>\n",
              "    </tr>\n",
              "    <tr>\n",
              "      <th>2</th>\n",
              "      <td>1959-03-31 23:59:59.999999999</td>\n",
              "      <td>unemp</td>\n",
              "      <td>5.800</td>\n",
              "      <td>0.335999</td>\n",
              "    </tr>\n",
              "    <tr>\n",
              "      <th>3</th>\n",
              "      <td>1959-06-30 23:59:59.999999999</td>\n",
              "      <td>realgdp</td>\n",
              "      <td>2778.801</td>\n",
              "      <td>1.924186</td>\n",
              "    </tr>\n",
              "    <tr>\n",
              "      <th>4</th>\n",
              "      <td>1959-06-30 23:59:59.999999999</td>\n",
              "      <td>infl</td>\n",
              "      <td>2.340</td>\n",
              "      <td>-0.118000</td>\n",
              "    </tr>\n",
              "  </tbody>\n",
              "</table>\n",
              "</div>"
            ],
            "text/plain": [
              "                           date     item     value    value2\n",
              "0 1959-03-31 23:59:59.999999999  realgdp  2710.349 -1.188260\n",
              "1 1959-03-31 23:59:59.999999999     infl     0.000 -0.142315\n",
              "2 1959-03-31 23:59:59.999999999    unemp     5.800  0.335999\n",
              "3 1959-06-30 23:59:59.999999999  realgdp  2778.801  1.924186\n",
              "4 1959-06-30 23:59:59.999999999     infl     2.340 -0.118000"
            ]
          },
          "metadata": {
            "tags": []
          },
          "execution_count": 33
        }
      ]
    },
    {
      "cell_type": "code",
      "metadata": {
        "id": "5yptVs_UpZd3",
        "colab_type": "code",
        "colab": {
          "base_uri": "https://localhost:8080/",
          "height": 461
        },
        "outputId": "865c666d-9905-42fa-ad5a-b2451d77b1f4"
      },
      "source": [
        "pivoted = ldata.pivot('date', 'item')\n",
        "pivoted\n",
        "#那么拆出来的值就会变成hierarchical 了"
      ],
      "execution_count": 35,
      "outputs": [
        {
          "output_type": "execute_result",
          "data": {
            "text/html": [
              "<div>\n",
              "<style scoped>\n",
              "    .dataframe tbody tr th:only-of-type {\n",
              "        vertical-align: middle;\n",
              "    }\n",
              "\n",
              "    .dataframe tbody tr th {\n",
              "        vertical-align: top;\n",
              "    }\n",
              "\n",
              "    .dataframe thead tr th {\n",
              "        text-align: left;\n",
              "    }\n",
              "\n",
              "    .dataframe thead tr:last-of-type th {\n",
              "        text-align: right;\n",
              "    }\n",
              "</style>\n",
              "<table border=\"1\" class=\"dataframe\">\n",
              "  <thead>\n",
              "    <tr>\n",
              "      <th></th>\n",
              "      <th colspan=\"3\" halign=\"left\">value</th>\n",
              "      <th colspan=\"3\" halign=\"left\">value2</th>\n",
              "    </tr>\n",
              "    <tr>\n",
              "      <th>item</th>\n",
              "      <th>infl</th>\n",
              "      <th>realgdp</th>\n",
              "      <th>unemp</th>\n",
              "      <th>infl</th>\n",
              "      <th>realgdp</th>\n",
              "      <th>unemp</th>\n",
              "    </tr>\n",
              "    <tr>\n",
              "      <th>date</th>\n",
              "      <th></th>\n",
              "      <th></th>\n",
              "      <th></th>\n",
              "      <th></th>\n",
              "      <th></th>\n",
              "      <th></th>\n",
              "    </tr>\n",
              "  </thead>\n",
              "  <tbody>\n",
              "    <tr>\n",
              "      <th>1959-03-31 23:59:59.999999999</th>\n",
              "      <td>0.00</td>\n",
              "      <td>2710.349</td>\n",
              "      <td>5.8</td>\n",
              "      <td>-0.142315</td>\n",
              "      <td>-1.188260</td>\n",
              "      <td>0.335999</td>\n",
              "    </tr>\n",
              "    <tr>\n",
              "      <th>1959-06-30 23:59:59.999999999</th>\n",
              "      <td>2.34</td>\n",
              "      <td>2778.801</td>\n",
              "      <td>5.1</td>\n",
              "      <td>-0.118000</td>\n",
              "      <td>1.924186</td>\n",
              "      <td>-0.220719</td>\n",
              "    </tr>\n",
              "    <tr>\n",
              "      <th>1959-09-30 23:59:59.999999999</th>\n",
              "      <td>2.74</td>\n",
              "      <td>2775.488</td>\n",
              "      <td>5.3</td>\n",
              "      <td>-1.172303</td>\n",
              "      <td>0.506217</td>\n",
              "      <td>3.351093</td>\n",
              "    </tr>\n",
              "    <tr>\n",
              "      <th>1959-12-31 23:59:59.999999999</th>\n",
              "      <td>0.27</td>\n",
              "      <td>2785.204</td>\n",
              "      <td>5.6</td>\n",
              "      <td>0.665970</td>\n",
              "      <td>-0.853514</td>\n",
              "      <td>0.383990</td>\n",
              "    </tr>\n",
              "    <tr>\n",
              "      <th>1960-03-31 23:59:59.999999999</th>\n",
              "      <td>2.31</td>\n",
              "      <td>2847.699</td>\n",
              "      <td>5.2</td>\n",
              "      <td>0.935009</td>\n",
              "      <td>0.383475</td>\n",
              "      <td>0.960597</td>\n",
              "    </tr>\n",
              "    <tr>\n",
              "      <th>...</th>\n",
              "      <td>...</td>\n",
              "      <td>...</td>\n",
              "      <td>...</td>\n",
              "      <td>...</td>\n",
              "      <td>...</td>\n",
              "      <td>...</td>\n",
              "    </tr>\n",
              "    <tr>\n",
              "      <th>2008-09-30 23:59:59.999999999</th>\n",
              "      <td>-3.16</td>\n",
              "      <td>13324.600</td>\n",
              "      <td>6.0</td>\n",
              "      <td>-0.766938</td>\n",
              "      <td>-2.590649</td>\n",
              "      <td>-1.297989</td>\n",
              "    </tr>\n",
              "    <tr>\n",
              "      <th>2008-12-31 23:59:59.999999999</th>\n",
              "      <td>-8.79</td>\n",
              "      <td>13141.920</td>\n",
              "      <td>6.9</td>\n",
              "      <td>0.774819</td>\n",
              "      <td>-0.716232</td>\n",
              "      <td>2.218971</td>\n",
              "    </tr>\n",
              "    <tr>\n",
              "      <th>2009-03-31 23:59:59.999999999</th>\n",
              "      <td>0.94</td>\n",
              "      <td>12925.410</td>\n",
              "      <td>8.1</td>\n",
              "      <td>-0.240743</td>\n",
              "      <td>-0.699466</td>\n",
              "      <td>-0.833255</td>\n",
              "    </tr>\n",
              "    <tr>\n",
              "      <th>2009-06-30 23:59:59.999999999</th>\n",
              "      <td>3.37</td>\n",
              "      <td>12901.504</td>\n",
              "      <td>9.2</td>\n",
              "      <td>2.498334</td>\n",
              "      <td>0.142441</td>\n",
              "      <td>0.980879</td>\n",
              "    </tr>\n",
              "    <tr>\n",
              "      <th>2009-09-30 23:59:59.999999999</th>\n",
              "      <td>3.56</td>\n",
              "      <td>12990.341</td>\n",
              "      <td>9.6</td>\n",
              "      <td>0.703601</td>\n",
              "      <td>1.055907</td>\n",
              "      <td>-0.883785</td>\n",
              "    </tr>\n",
              "  </tbody>\n",
              "</table>\n",
              "<p>203 rows × 6 columns</p>\n",
              "</div>"
            ],
            "text/plain": [
              "                              value             ...    value2          \n",
              "item                           infl    realgdp  ...   realgdp     unemp\n",
              "date                                            ...                    \n",
              "1959-03-31 23:59:59.999999999  0.00   2710.349  ... -1.188260  0.335999\n",
              "1959-06-30 23:59:59.999999999  2.34   2778.801  ...  1.924186 -0.220719\n",
              "1959-09-30 23:59:59.999999999  2.74   2775.488  ...  0.506217  3.351093\n",
              "1959-12-31 23:59:59.999999999  0.27   2785.204  ... -0.853514  0.383990\n",
              "1960-03-31 23:59:59.999999999  2.31   2847.699  ...  0.383475  0.960597\n",
              "...                             ...        ...  ...       ...       ...\n",
              "2008-09-30 23:59:59.999999999 -3.16  13324.600  ... -2.590649 -1.297989\n",
              "2008-12-31 23:59:59.999999999 -8.79  13141.920  ... -0.716232  2.218971\n",
              "2009-03-31 23:59:59.999999999  0.94  12925.410  ... -0.699466 -0.833255\n",
              "2009-06-30 23:59:59.999999999  3.37  12901.504  ...  0.142441  0.980879\n",
              "2009-09-30 23:59:59.999999999  3.56  12990.341  ...  1.055907 -0.883785\n",
              "\n",
              "[203 rows x 6 columns]"
            ]
          },
          "metadata": {
            "tags": []
          },
          "execution_count": 35
        }
      ]
    },
    {
      "cell_type": "code",
      "metadata": {
        "id": "jyPoD8YDpoeT",
        "colab_type": "code",
        "colab": {
          "base_uri": "https://localhost:8080/",
          "height": 225
        },
        "outputId": "1b20d63e-c246-4b1c-bcb5-26b875da5a40"
      },
      "source": [
        "pivoted['value'][:5] #用这种方法可以只选其中一个value"
      ],
      "execution_count": 36,
      "outputs": [
        {
          "output_type": "execute_result",
          "data": {
            "text/html": [
              "<div>\n",
              "<style scoped>\n",
              "    .dataframe tbody tr th:only-of-type {\n",
              "        vertical-align: middle;\n",
              "    }\n",
              "\n",
              "    .dataframe tbody tr th {\n",
              "        vertical-align: top;\n",
              "    }\n",
              "\n",
              "    .dataframe thead th {\n",
              "        text-align: right;\n",
              "    }\n",
              "</style>\n",
              "<table border=\"1\" class=\"dataframe\">\n",
              "  <thead>\n",
              "    <tr style=\"text-align: right;\">\n",
              "      <th>item</th>\n",
              "      <th>infl</th>\n",
              "      <th>realgdp</th>\n",
              "      <th>unemp</th>\n",
              "    </tr>\n",
              "    <tr>\n",
              "      <th>date</th>\n",
              "      <th></th>\n",
              "      <th></th>\n",
              "      <th></th>\n",
              "    </tr>\n",
              "  </thead>\n",
              "  <tbody>\n",
              "    <tr>\n",
              "      <th>1959-03-31 23:59:59.999999999</th>\n",
              "      <td>0.00</td>\n",
              "      <td>2710.349</td>\n",
              "      <td>5.8</td>\n",
              "    </tr>\n",
              "    <tr>\n",
              "      <th>1959-06-30 23:59:59.999999999</th>\n",
              "      <td>2.34</td>\n",
              "      <td>2778.801</td>\n",
              "      <td>5.1</td>\n",
              "    </tr>\n",
              "    <tr>\n",
              "      <th>1959-09-30 23:59:59.999999999</th>\n",
              "      <td>2.74</td>\n",
              "      <td>2775.488</td>\n",
              "      <td>5.3</td>\n",
              "    </tr>\n",
              "    <tr>\n",
              "      <th>1959-12-31 23:59:59.999999999</th>\n",
              "      <td>0.27</td>\n",
              "      <td>2785.204</td>\n",
              "      <td>5.6</td>\n",
              "    </tr>\n",
              "    <tr>\n",
              "      <th>1960-03-31 23:59:59.999999999</th>\n",
              "      <td>2.31</td>\n",
              "      <td>2847.699</td>\n",
              "      <td>5.2</td>\n",
              "    </tr>\n",
              "  </tbody>\n",
              "</table>\n",
              "</div>"
            ],
            "text/plain": [
              "item                           infl   realgdp  unemp\n",
              "date                                                \n",
              "1959-03-31 23:59:59.999999999  0.00  2710.349    5.8\n",
              "1959-06-30 23:59:59.999999999  2.34  2778.801    5.1\n",
              "1959-09-30 23:59:59.999999999  2.74  2775.488    5.3\n",
              "1959-12-31 23:59:59.999999999  0.27  2785.204    5.6\n",
              "1960-03-31 23:59:59.999999999  2.31  2847.699    5.2"
            ]
          },
          "metadata": {
            "tags": []
          },
          "execution_count": 36
        }
      ]
    },
    {
      "cell_type": "markdown",
      "metadata": {
        "id": "dpvzYqDwqoUU",
        "colab_type": "text"
      },
      "source": [
        "pivot等效于啥？pivot = set_index+unstack"
      ]
    },
    {
      "cell_type": "code",
      "metadata": {
        "id": "8cyrBIXwqBLM",
        "colab_type": "code",
        "colab": {
          "base_uri": "https://localhost:8080/",
          "height": 225
        },
        "outputId": "5d8e88fd-6d1d-416a-a7e7-f355f1e0e43f"
      },
      "source": [
        "unstacked = ldata.set_index(['date', 'item'])\n",
        "unstacked.head()"
      ],
      "execution_count": 37,
      "outputs": [
        {
          "output_type": "execute_result",
          "data": {
            "text/html": [
              "<div>\n",
              "<style scoped>\n",
              "    .dataframe tbody tr th:only-of-type {\n",
              "        vertical-align: middle;\n",
              "    }\n",
              "\n",
              "    .dataframe tbody tr th {\n",
              "        vertical-align: top;\n",
              "    }\n",
              "\n",
              "    .dataframe thead th {\n",
              "        text-align: right;\n",
              "    }\n",
              "</style>\n",
              "<table border=\"1\" class=\"dataframe\">\n",
              "  <thead>\n",
              "    <tr style=\"text-align: right;\">\n",
              "      <th></th>\n",
              "      <th></th>\n",
              "      <th>value</th>\n",
              "      <th>value2</th>\n",
              "    </tr>\n",
              "    <tr>\n",
              "      <th>date</th>\n",
              "      <th>item</th>\n",
              "      <th></th>\n",
              "      <th></th>\n",
              "    </tr>\n",
              "  </thead>\n",
              "  <tbody>\n",
              "    <tr>\n",
              "      <th rowspan=\"3\" valign=\"top\">1959-03-31 23:59:59.999999999</th>\n",
              "      <th>realgdp</th>\n",
              "      <td>2710.349</td>\n",
              "      <td>-1.188260</td>\n",
              "    </tr>\n",
              "    <tr>\n",
              "      <th>infl</th>\n",
              "      <td>0.000</td>\n",
              "      <td>-0.142315</td>\n",
              "    </tr>\n",
              "    <tr>\n",
              "      <th>unemp</th>\n",
              "      <td>5.800</td>\n",
              "      <td>0.335999</td>\n",
              "    </tr>\n",
              "    <tr>\n",
              "      <th rowspan=\"2\" valign=\"top\">1959-06-30 23:59:59.999999999</th>\n",
              "      <th>realgdp</th>\n",
              "      <td>2778.801</td>\n",
              "      <td>1.924186</td>\n",
              "    </tr>\n",
              "    <tr>\n",
              "      <th>infl</th>\n",
              "      <td>2.340</td>\n",
              "      <td>-0.118000</td>\n",
              "    </tr>\n",
              "  </tbody>\n",
              "</table>\n",
              "</div>"
            ],
            "text/plain": [
              "                                          value    value2\n",
              "date                          item                       \n",
              "1959-03-31 23:59:59.999999999 realgdp  2710.349 -1.188260\n",
              "                              infl        0.000 -0.142315\n",
              "                              unemp       5.800  0.335999\n",
              "1959-06-30 23:59:59.999999999 realgdp  2778.801  1.924186\n",
              "                              infl        2.340 -0.118000"
            ]
          },
          "metadata": {
            "tags": []
          },
          "execution_count": 37
        }
      ]
    },
    {
      "cell_type": "code",
      "metadata": {
        "id": "rcss2UJUqyhW",
        "colab_type": "code",
        "colab": {
          "base_uri": "https://localhost:8080/",
          "height": 254
        },
        "outputId": "3a332062-7c6c-4c2f-8bc3-9153fabc4c55"
      },
      "source": [
        "unstacked = unstacked.unstack('item')\n",
        "unstacked.head()"
      ],
      "execution_count": 38,
      "outputs": [
        {
          "output_type": "execute_result",
          "data": {
            "text/html": [
              "<div>\n",
              "<style scoped>\n",
              "    .dataframe tbody tr th:only-of-type {\n",
              "        vertical-align: middle;\n",
              "    }\n",
              "\n",
              "    .dataframe tbody tr th {\n",
              "        vertical-align: top;\n",
              "    }\n",
              "\n",
              "    .dataframe thead tr th {\n",
              "        text-align: left;\n",
              "    }\n",
              "\n",
              "    .dataframe thead tr:last-of-type th {\n",
              "        text-align: right;\n",
              "    }\n",
              "</style>\n",
              "<table border=\"1\" class=\"dataframe\">\n",
              "  <thead>\n",
              "    <tr>\n",
              "      <th></th>\n",
              "      <th colspan=\"3\" halign=\"left\">value</th>\n",
              "      <th colspan=\"3\" halign=\"left\">value2</th>\n",
              "    </tr>\n",
              "    <tr>\n",
              "      <th>item</th>\n",
              "      <th>infl</th>\n",
              "      <th>realgdp</th>\n",
              "      <th>unemp</th>\n",
              "      <th>infl</th>\n",
              "      <th>realgdp</th>\n",
              "      <th>unemp</th>\n",
              "    </tr>\n",
              "    <tr>\n",
              "      <th>date</th>\n",
              "      <th></th>\n",
              "      <th></th>\n",
              "      <th></th>\n",
              "      <th></th>\n",
              "      <th></th>\n",
              "      <th></th>\n",
              "    </tr>\n",
              "  </thead>\n",
              "  <tbody>\n",
              "    <tr>\n",
              "      <th>1959-03-31 23:59:59.999999999</th>\n",
              "      <td>0.00</td>\n",
              "      <td>2710.349</td>\n",
              "      <td>5.8</td>\n",
              "      <td>-0.142315</td>\n",
              "      <td>-1.188260</td>\n",
              "      <td>0.335999</td>\n",
              "    </tr>\n",
              "    <tr>\n",
              "      <th>1959-06-30 23:59:59.999999999</th>\n",
              "      <td>2.34</td>\n",
              "      <td>2778.801</td>\n",
              "      <td>5.1</td>\n",
              "      <td>-0.118000</td>\n",
              "      <td>1.924186</td>\n",
              "      <td>-0.220719</td>\n",
              "    </tr>\n",
              "    <tr>\n",
              "      <th>1959-09-30 23:59:59.999999999</th>\n",
              "      <td>2.74</td>\n",
              "      <td>2775.488</td>\n",
              "      <td>5.3</td>\n",
              "      <td>-1.172303</td>\n",
              "      <td>0.506217</td>\n",
              "      <td>3.351093</td>\n",
              "    </tr>\n",
              "    <tr>\n",
              "      <th>1959-12-31 23:59:59.999999999</th>\n",
              "      <td>0.27</td>\n",
              "      <td>2785.204</td>\n",
              "      <td>5.6</td>\n",
              "      <td>0.665970</td>\n",
              "      <td>-0.853514</td>\n",
              "      <td>0.383990</td>\n",
              "    </tr>\n",
              "    <tr>\n",
              "      <th>1960-03-31 23:59:59.999999999</th>\n",
              "      <td>2.31</td>\n",
              "      <td>2847.699</td>\n",
              "      <td>5.2</td>\n",
              "      <td>0.935009</td>\n",
              "      <td>0.383475</td>\n",
              "      <td>0.960597</td>\n",
              "    </tr>\n",
              "  </tbody>\n",
              "</table>\n",
              "</div>"
            ],
            "text/plain": [
              "                              value            ...    value2          \n",
              "item                           infl   realgdp  ...   realgdp     unemp\n",
              "date                                           ...                    \n",
              "1959-03-31 23:59:59.999999999  0.00  2710.349  ... -1.188260  0.335999\n",
              "1959-06-30 23:59:59.999999999  2.34  2778.801  ...  1.924186 -0.220719\n",
              "1959-09-30 23:59:59.999999999  2.74  2775.488  ...  0.506217  3.351093\n",
              "1959-12-31 23:59:59.999999999  0.27  2785.204  ... -0.853514  0.383990\n",
              "1960-03-31 23:59:59.999999999  2.31  2847.699  ...  0.383475  0.960597\n",
              "\n",
              "[5 rows x 6 columns]"
            ]
          },
          "metadata": {
            "tags": []
          },
          "execution_count": 38
        }
      ]
    },
    {
      "cell_type": "code",
      "metadata": {
        "id": "0kEmlLSrq40s",
        "colab_type": "code",
        "colab": {}
      },
      "source": [
        ""
      ],
      "execution_count": null,
      "outputs": []
    }
  ]
}