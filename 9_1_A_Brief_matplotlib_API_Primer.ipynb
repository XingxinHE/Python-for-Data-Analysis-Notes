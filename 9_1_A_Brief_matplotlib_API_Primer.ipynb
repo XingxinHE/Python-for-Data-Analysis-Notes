{
  "nbformat": 4,
  "nbformat_minor": 0,
  "metadata": {
    "colab": {
      "name": "9.1 A Brief matplotlib API Primer",
      "provenance": [],
      "collapsed_sections": [],
      "authorship_tag": "ABX9TyOAXs/PgpiFTmW84nvq8sFz",
      "include_colab_link": true
    },
    "kernelspec": {
      "name": "python3",
      "display_name": "Python 3"
    }
  },
  "cells": [
    {
      "cell_type": "markdown",
      "metadata": {
        "id": "view-in-github",
        "colab_type": "text"
      },
      "source": [
        "<a href=\"https://colab.research.google.com/github/XingxinHE/Python-for-Data-Analysis-Notes/blob/master/9_1_A_Brief_matplotlib_API_Primer.ipynb\" target=\"_parent\"><img src=\"https://colab.research.google.com/assets/colab-badge.svg\" alt=\"Open In Colab\"/></a>"
      ]
    },
    {
      "cell_type": "code",
      "metadata": {
        "id": "r_KRdQPJy1lP",
        "colab_type": "code",
        "colab": {}
      },
      "source": [
        "import pandas as pd\n",
        "import numpy as np\n",
        "import seaborn as sns"
      ],
      "execution_count": 20,
      "outputs": []
    },
    {
      "cell_type": "code",
      "metadata": {
        "id": "-ddWJlfNzXVl",
        "colab_type": "code",
        "colab": {}
      },
      "source": [
        "%matplotlib inline\n",
        "#Google colab不支持 %matplotlib notebook 或者 %matplotlib  这些interactive的plotting，\n",
        "#inline是static的"
      ],
      "execution_count": 21,
      "outputs": []
    },
    {
      "cell_type": "code",
      "metadata": {
        "id": "ibeNPKegzgOa",
        "colab_type": "code",
        "colab": {}
      },
      "source": [
        "import matplotlib.pyplot as plt"
      ],
      "execution_count": 22,
      "outputs": []
    },
    {
      "cell_type": "code",
      "metadata": {
        "id": "uGmq457Bzvjy",
        "colab_type": "code",
        "colab": {
          "base_uri": "https://localhost:8080/",
          "height": 34
        },
        "outputId": "aa812286-dcae-4c45-fd92-f9061d0c56c6"
      },
      "source": [
        "data = np.arange(10)\n",
        "data"
      ],
      "execution_count": 23,
      "outputs": [
        {
          "output_type": "execute_result",
          "data": {
            "text/plain": [
              "array([0, 1, 2, 3, 4, 5, 6, 7, 8, 9])"
            ]
          },
          "metadata": {
            "tags": []
          },
          "execution_count": 23
        }
      ]
    },
    {
      "cell_type": "code",
      "metadata": {
        "id": "z3lmlx9-0ody",
        "colab_type": "code",
        "colab": {
          "base_uri": "https://localhost:8080/",
          "height": 282
        },
        "outputId": "9293c4ad-2f5a-45d8-c223-939b9a801b79"
      },
      "source": [
        "plt.plot(data)\n",
        "#一个简单的可视化"
      ],
      "execution_count": 24,
      "outputs": [
        {
          "output_type": "execute_result",
          "data": {
            "text/plain": [
              "[<matplotlib.lines.Line2D at 0x7f0c886b7588>]"
            ]
          },
          "metadata": {
            "tags": []
          },
          "execution_count": 24
        },
        {
          "output_type": "display_data",
          "data": {
            "image/png": "[encoded data removed]",
            "text/plain": [
              "<Figure size 432x288 with 1 Axes>"
            ]
          },
          "metadata": {
            "tags": [],
            "needs_background": "light"
          }
        }
      ]
    },
    {
      "cell_type": "markdown",
      "metadata": {
        "id": "Ew0jwM6W1t8d",
        "colab_type": "text"
      },
      "source": [
        "## Figure and Subplots"
      ]
    },
    {
      "cell_type": "code",
      "metadata": {
        "id": "s6i_Zv6l0qfb",
        "colab_type": "code",
        "colab": {
          "base_uri": "https://localhost:8080/",
          "height": 34
        },
        "outputId": "08747dd3-4cae-4e93-cab6-3054090d5432"
      },
      "source": [
        "#matplotlib的图像都位于Figure对象中。你可以用plt.figure创建一个新的Figure：\n",
        "fig = plt.figure()"
      ],
      "execution_count": 25,
      "outputs": [
        {
          "output_type": "display_data",
          "data": {
            "text/plain": [
              "<Figure size 432x288 with 0 Axes>"
            ]
          },
          "metadata": {
            "tags": []
          }
        }
      ]
    },
    {
      "cell_type": "markdown",
      "metadata": {
        "id": "rLU9g8TG2ptq",
        "colab_type": "text"
      },
      "source": [
        "怎么理解这个figure呢？就好比我们AI或者ID，我们新建了一个图框，但是这个图框还没有内容"
      ]
    },
    {
      "cell_type": "code",
      "metadata": {
        "id": "i0xwmjp52oj_",
        "colab_type": "code",
        "colab": {}
      },
      "source": [
        "#所以以下是加内容\n",
        "ax1 = fig.add_subplot(2, 2, 1) #add_subplot的输入是（row, column, index)\n",
        "#所以以上的意思是，一个图框（figure）有2*2个图，该ax1图是index为1的图（在matplotlib里面，index为1是起始位）\n",
        "ax2 = fig.add_subplot(2, 2, 2)\n",
        "ax3 = fig.add_subplot(2, 2, 3)"
      ],
      "execution_count": 26,
      "outputs": []
    },
    {
      "cell_type": "code",
      "metadata": {
        "id": "PfN6kDf_3b6F",
        "colab_type": "code",
        "colab": {
          "base_uri": "https://localhost:8080/",
          "height": 269
        },
        "outputId": "a9fe04e3-ec3c-49c1-fe30-c7640f7ba74d"
      },
      "source": [
        "fig #所以你会看到这个图框多了三个图"
      ],
      "execution_count": 27,
      "outputs": [
        {
          "output_type": "execute_result",
          "data": {
            "image/png": "[encoded data removed]",
            "text/plain": [
              "<Figure size 432x288 with 3 Axes>"
            ]
          },
          "metadata": {
            "tags": []
          },
          "execution_count": 27
        }
      ]
    },
    {
      "cell_type": "markdown",
      "metadata": {
        "id": "vc4Kra404B8G",
        "colab_type": "text"
      },
      "source": [
        "使用 Jupyter 笔记本的一个细微差别是，在每个单元格被评估后，绘图会被重置，所以对于更复杂的绘图，**你必须把所有的绘图命令放在一个笔记本单元格中**。"
      ]
    },
    {
      "cell_type": "code",
      "metadata": {
        "id": "FxZUaxWD3eMe",
        "colab_type": "code",
        "colab": {
          "base_uri": "https://localhost:8080/",
          "height": 269
        },
        "outputId": "bf726896-b257-4ce7-fe57-e35de9e7d870"
      },
      "source": [
        "#如果把所有绘图命令弄一起，就会自动弹出来那个fig\n",
        "fig = plt.figure()\n",
        "ax1 = fig.add_subplot(2, 2, 1)\n",
        "ax2 = fig.add_subplot(2, 2, 2)\n",
        "ax3 = fig.add_subplot(2, 2, 3)"
      ],
      "execution_count": 28,
      "outputs": [
        {
          "output_type": "display_data",
          "data": {
            "image/png": "[encoded data removed]",
            "text/plain": [
              "<Figure size 432x288 with 3 Axes>"
            ]
          },
          "metadata": {
            "tags": [],
            "needs_background": "light"
          }
        }
      ]
    },
    {
      "cell_type": "code",
      "metadata": {
        "id": "Y05Jp8cP4X88",
        "colab_type": "code",
        "colab": {
          "base_uri": "https://localhost:8080/",
          "height": 282
        },
        "outputId": "3e924ab4-c851-4493-b8b3-df7295c9e3c7"
      },
      "source": [
        "plt.plot([1.5, 3.5, -2, 1.6])\n",
        "# 如果单独得在cell外执行这个plot画图命令，则结果和上面的figure无关，都是临时创建出来的"
      ],
      "execution_count": 29,
      "outputs": [
        {
          "output_type": "execute_result",
          "data": {
            "text/plain": [
              "[<matplotlib.lines.Line2D at 0x7f0c883c2eb8>]"
            ]
          },
          "metadata": {
            "tags": []
          },
          "execution_count": 29
        },
        {
          "output_type": "display_data",
          "data": {
            "image/png": "[encoded data removed]",
            "text/plain": [
              "<Figure size 432x288 with 1 Axes>"
            ]
          },
          "metadata": {
            "tags": [],
            "needs_background": "light"
          }
        }
      ]
    },
    {
      "cell_type": "code",
      "metadata": {
        "id": "sKhZAgii4nG5",
        "colab_type": "code",
        "colab": {
          "base_uri": "https://localhost:8080/",
          "height": 286
        },
        "outputId": "94dfec4e-9e56-4a88-a87a-bd0e7479358c"
      },
      "source": [
        "fig = plt.figure()\n",
        "ax1 = fig.add_subplot(2, 2, 1)\n",
        "ax2 = fig.add_subplot(2, 2, 2)\n",
        "ax3 = fig.add_subplot(2, 2, 3)\n",
        "\n",
        "#把绘图命令放到同一个cell，那么所有图会同时出\n",
        "#另外，plot的这个function会直接在最后一个图上绘制（为何如此？因为没有最下面那个代码没有规定plot是在哪儿plot，\n",
        "#所以自动选择最后一个ax3\n",
        "plt.plot(np.random.randn(50).cumsum(), 'k--') #k代表black， --代表dashed line，所以k--是黑色的dashed line"
      ],
      "execution_count": 31,
      "outputs": [
        {
          "output_type": "execute_result",
          "data": {
            "text/plain": [
              "[<matplotlib.lines.Line2D at 0x7f0c8833ebe0>]"
            ]
          },
          "metadata": {
            "tags": []
          },
          "execution_count": 31
        },
        {
          "output_type": "display_data",
          "data": {
            "image/png": "[encoded data removed]",
            "text/plain": [
              "<Figure size 432x288 with 3 Axes>"
            ]
          },
          "metadata": {
            "tags": [],
            "needs_background": "light"
          }
        }
      ]
    },
    {
      "cell_type": "code",
      "metadata": {
        "id": "57XK8ou_4ox7",
        "colab_type": "code",
        "colab": {}
      },
      "source": [
        "_ = ax1.hist(np.random.randn(100), bins=20, color='k', alpha=0.3) #因为指定了是ax1"
      ],
      "execution_count": 32,
      "outputs": []
    },
    {
      "cell_type": "code",
      "metadata": {
        "id": "KHgOgRgF53II",
        "colab_type": "code",
        "colab": {
          "base_uri": "https://localhost:8080/",
          "height": 34
        },
        "outputId": "edd9e540-204f-4927-8c0d-1ec07cee940e"
      },
      "source": [
        "ax2.scatter(np.arange(30), np.arange(30) + 3*np.random.randn(30)) #因为指定了是ax2"
      ],
      "execution_count": 33,
      "outputs": [
        {
          "output_type": "execute_result",
          "data": {
            "text/plain": [
              "<matplotlib.collections.PathCollection at 0x7f0c881f6668>"
            ]
          },
          "metadata": {
            "tags": []
          },
          "execution_count": 33
        }
      ]
    },
    {
      "cell_type": "code",
      "metadata": {
        "id": "HxCgbDRk6BW-",
        "colab_type": "code",
        "colab": {
          "base_uri": "https://localhost:8080/",
          "height": 267
        },
        "outputId": "0ffdd2b4-5f7f-4675-d89c-7d82833fa122"
      },
      "source": [
        "fig"
      ],
      "execution_count": 34,
      "outputs": [
        {
          "output_type": "execute_result",
          "data": {
            "image/png": "[encoded data removed]",
            "text/plain": [
              "<Figure size 432x288 with 3 Axes>"
            ]
          },
          "metadata": {
            "tags": []
          },
          "execution_count": 34
        }
      ]
    },
    {
      "cell_type": "markdown",
      "metadata": {
        "id": "ChKqgRIf62wl",
        "colab_type": "text"
      },
      "source": [
        "上文提及创建subplot到figure（图框）的方法都是\n",
        "\n",
        "1#先命名创建一个图框figure\n",
        "\n",
        "2#然后往图框里面加图（ax）\n",
        "\n",
        "\n",
        "那么有没有更方便的方法创建这种矩阵的plot呢？\n"
      ]
    },
    {
      "cell_type": "code",
      "metadata": {
        "id": "9VvmLz6p6CQM",
        "colab_type": "code",
        "colab": {
          "base_uri": "https://localhost:8080/",
          "height": 269
        },
        "outputId": "50221221-98f8-45d0-a7fd-f54f82803023"
      },
      "source": [
        "#matplotlib为我们创建了这种快速简洁的方法\n",
        "fig, axes = plt.subplots(2, 3) #2 rows, 3 columns"
      ],
      "execution_count": 36,
      "outputs": [
        {
          "output_type": "display_data",
          "data": {
            "image/png": "[encoded data removed]",
            "text/plain": [
              "<Figure size 432x288 with 6 Axes>"
            ]
          },
          "metadata": {
            "tags": [],
            "needs_background": "light"
          }
        }
      ]
    },
    {
      "cell_type": "code",
      "metadata": {
        "id": "z8DmnKX_7YGI",
        "colab_type": "code",
        "colab": {
          "base_uri": "https://localhost:8080/",
          "height": 34
        },
        "outputId": "18165a8b-c0dc-4336-ff33-c64b7194da88"
      },
      "source": [
        "#可以像np或者pd一样调用哪个plot了\n",
        "#例如\n",
        "axes[0, 2] #第0排，第2column"
      ],
      "execution_count": 38,
      "outputs": [
        {
          "output_type": "execute_result",
          "data": {
            "text/plain": [
              "<matplotlib.axes._subplots.AxesSubplot at 0x7f0c8811ceb8>"
            ]
          },
          "metadata": {
            "tags": []
          },
          "execution_count": 38
        }
      ]
    },
    {
      "cell_type": "code",
      "metadata": {
        "id": "hDXWeiot7mIH",
        "colab_type": "code",
        "colab": {}
      },
      "source": [
        ""
      ],
      "execution_count": null,
      "outputs": []
    }
  ]
}