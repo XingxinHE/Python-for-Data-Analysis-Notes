{
  "nbformat": 4,
  "nbformat_minor": 0,
  "metadata": {
    "colab": {
      "name": "9.2 Plotting with pandas and seaborn",
      "provenance": [],
      "collapsed_sections": [],
      "authorship_tag": "ABX9TyM4y6Va8a1hHv588OEuegld",
      "include_colab_link": true
    },
    "kernelspec": {
      "name": "python3",
      "display_name": "Python 3"
    }
  },
  "cells": [
    {
      "cell_type": "markdown",
      "metadata": {
        "id": "view-in-github",
        "colab_type": "text"
      },
      "source": [
        "<a href=\"https://colab.research.google.com/github/XingxinHE/Python-for-Data-Analysis-Notes/blob/master/9_2_Plotting_with_pandas_and_seaborn.ipynb\" target=\"_parent\"><img src=\"https://colab.research.google.com/assets/colab-badge.svg\" alt=\"Open In Colab\"/></a>"
      ]
    },
    {
      "cell_type": "markdown",
      "metadata": {
        "id": "SwGOCSIuH0eW",
        "colab_type": "text"
      },
      "source": [
        "Importing seaborn modifies the default matplotlib color schemes and plot styles to improve readability and aesthetics. Even if you do not use the seaborn API, you may prefer to import seaborn as a simple way to improve the visual aesthetics of general matplotlib plots."
      ]
    },
    {
      "cell_type": "markdown",
      "metadata": {
        "id": "AYrZeelqH-ua",
        "colab_type": "text"
      },
      "source": [
        "也就是说，再import seaborn之后，matplotlib的色彩和blabla之类的都会改变，变得更加好看"
      ]
    },
    {
      "cell_type": "code",
      "metadata": {
        "id": "d5VSqUCSG1mp",
        "colab_type": "code",
        "colab": {
          "base_uri": "https://localhost:8080/",
          "height": 50
        },
        "outputId": "d368c454-ffa0-4dc5-a573-6530cc5df47f"
      },
      "source": [
        "# 另外一个很有用的可视化library是seaborn\n",
        "import seaborn as sns\n",
        "import pandas as pd\n",
        "import numpy as np\n",
        "import matplotlib\n",
        "%matplotlib inline"
      ],
      "execution_count": 1,
      "outputs": [
        {
          "output_type": "stream",
          "text": [
            "/usr/local/lib/python3.6/dist-packages/statsmodels/tools/_testing.py:19: FutureWarning: pandas.util.testing is deprecated. Use the functions in the public API at pandas.testing instead.\n",
            "  import pandas.util.testing as tm\n"
          ],
          "name": "stderr"
        }
      ]
    },
    {
      "cell_type": "markdown",
      "metadata": {
        "id": "0mGY777UJUKo",
        "colab_type": "text"
      },
      "source": [
        "## Line Plots"
      ]
    },
    {
      "cell_type": "code",
      "metadata": {
        "id": "YLemuBd6IWRT",
        "colab_type": "code",
        "colab": {
          "base_uri": "https://localhost:8080/",
          "height": 202
        },
        "outputId": "7c212e37-5d15-424a-c44a-6bfea475b16e"
      },
      "source": [
        "s = pd.Series(np.random.randn(10).cumsum(), index=np.arange(0, 100, 10))\n",
        "s"
      ],
      "execution_count": 2,
      "outputs": [
        {
          "output_type": "execute_result",
          "data": {
            "text/plain": [
              "0    -0.826229\n",
              "10   -1.732535\n",
              "20   -1.789438\n",
              "30   -1.541461\n",
              "40   -2.710067\n",
              "50   -2.411998\n",
              "60   -1.580294\n",
              "70   -0.895327\n",
              "80   -1.673117\n",
              "90   -1.900427\n",
              "dtype: float64"
            ]
          },
          "metadata": {
            "tags": []
          },
          "execution_count": 2
        }
      ]
    },
    {
      "cell_type": "code",
      "metadata": {
        "id": "4pJmeKZuJgAX",
        "colab_type": "code",
        "colab": {
          "base_uri": "https://localhost:8080/",
          "height": 284
        },
        "outputId": "20f7f539-9d96-497b-cbff-9fd9666f6f28"
      },
      "source": [
        "s.plot()"
      ],
      "execution_count": 3,
      "outputs": [
        {
          "output_type": "execute_result",
          "data": {
            "text/plain": [
              "<matplotlib.axes._subplots.AxesSubplot at 0x7f02aa2ed198>"
            ]
          },
          "metadata": {
            "tags": []
          },
          "execution_count": 3
        },
        {
          "output_type": "display_data",
          "data": {
            "image/png": "[encoded data removed]",
            "text/plain": [
              "<Figure size 432x288 with 1 Axes>"
            ]
          },
          "metadata": {
            "tags": [],
            "needs_background": "light"
          }
        }
      ]
    },
    {
      "cell_type": "code",
      "metadata": {
        "id": "F-fUz9rdJjw-",
        "colab_type": "code",
        "colab": {}
      },
      "source": [
        ""
      ],
      "execution_count": null,
      "outputs": []
    }
  ]
}